{
 "cells": [
  {
   "cell_type": "markdown",
   "id": "aaeb9e3c",
   "metadata": {},
   "source": [
    "### Citibike Analysis"
   ]
  },
  {
   "cell_type": "code",
   "execution_count": 1,
   "id": "07da2132",
   "metadata": {},
   "outputs": [],
   "source": [
    "import os\n",
    "from dotenv import load_dotenv\n",
    "from google.cloud import bigquery\n"
   ]
  },
  {
   "cell_type": "code",
   "execution_count": 2,
   "id": "67dccb9f",
   "metadata": {},
   "outputs": [
    {
     "data": {
      "text/plain": [
       "True"
      ]
     },
     "execution_count": 2,
     "metadata": {},
     "output_type": "execute_result"
    }
   ],
   "source": [
    "load_dotenv()"
   ]
  },
  {
   "cell_type": "code",
   "execution_count": 3,
   "id": "85b375d4",
   "metadata": {},
   "outputs": [],
   "source": [
    "client = bigquery.Client()\n",
    "\n",
    "bq_project_id = os.getenv('GCP_PROJECT_ID')\n",
    "bq_dataset_name = os.getenv('BQ_DATASET')\n",
    "bq_table_name = os.getenv('BQ_TABLE')"
   ]
  },
  {
   "cell_type": "code",
   "execution_count": 4,
   "id": "e3d53ec0",
   "metadata": {},
   "outputs": [
    {
     "name": "stderr",
     "output_type": "stream",
     "text": [
      "/home/olshe/pers/eu-climate-economic-resilience/.venv/lib/python3.12/site-packages/google/cloud/bigquery/table.py:1957: UserWarning: BigQuery Storage module not found, fetch data with the REST endpoint instead.\n",
      "  warnings.warn(\n"
     ]
    },
    {
     "data": {
      "text/html": [
       "<div>\n",
       "<style scoped>\n",
       "    .dataframe tbody tr th:only-of-type {\n",
       "        vertical-align: middle;\n",
       "    }\n",
       "\n",
       "    .dataframe tbody tr th {\n",
       "        vertical-align: top;\n",
       "    }\n",
       "\n",
       "    .dataframe thead th {\n",
       "        text-align: right;\n",
       "    }\n",
       "</style>\n",
       "<table border=\"1\" class=\"dataframe\">\n",
       "  <thead>\n",
       "    <tr style=\"text-align: right;\">\n",
       "      <th></th>\n",
       "      <th>ride_id</th>\n",
       "      <th>rideable_type</th>\n",
       "      <th>started_at</th>\n",
       "      <th>ended_at</th>\n",
       "      <th>start_station_name</th>\n",
       "      <th>start_station_id</th>\n",
       "      <th>end_station_name</th>\n",
       "      <th>end_station_id</th>\n",
       "      <th>start_lat</th>\n",
       "      <th>start_lng</th>\n",
       "      <th>end_lat</th>\n",
       "      <th>end_lng</th>\n",
       "      <th>member_casual</th>\n",
       "    </tr>\n",
       "  </thead>\n",
       "  <tbody>\n",
       "    <tr>\n",
       "      <th>0</th>\n",
       "      <td>03DF018B20ED02D9</td>\n",
       "      <td>classic_bike</td>\n",
       "      <td>2024-01-13 14:51:04.773</td>\n",
       "      <td>2024-01-14 15:50:59.897</td>\n",
       "      <td>Columbia St &amp; Kane St</td>\n",
       "      <td>4422.05</td>\n",
       "      <td>None</td>\n",
       "      <td>nan</td>\n",
       "      <td>40.687632</td>\n",
       "      <td>-74.001626</td>\n",
       "      <td>NaN</td>\n",
       "      <td>NaN</td>\n",
       "      <td>casual</td>\n",
       "    </tr>\n",
       "    <tr>\n",
       "      <th>1</th>\n",
       "      <td>3E194E3EE8189D43</td>\n",
       "      <td>classic_bike</td>\n",
       "      <td>2024-01-03 16:09:56.876</td>\n",
       "      <td>2024-01-03 16:17:52.884</td>\n",
       "      <td>E 72 St &amp; York Ave</td>\n",
       "      <td>6889.12</td>\n",
       "      <td>E 74 St &amp; 1 Ave</td>\n",
       "      <td>6953.08</td>\n",
       "      <td>40.766638</td>\n",
       "      <td>-73.953483</td>\n",
       "      <td>40.768974</td>\n",
       "      <td>-73.954823</td>\n",
       "      <td>casual</td>\n",
       "    </tr>\n",
       "    <tr>\n",
       "      <th>2</th>\n",
       "      <td>33658F1AE88A8D58</td>\n",
       "      <td>classic_bike</td>\n",
       "      <td>2024-01-24 08:14:57.910</td>\n",
       "      <td>2024-01-24 08:31:02.612</td>\n",
       "      <td>8 Ave &amp; W 27 St</td>\n",
       "      <td>6297.07</td>\n",
       "      <td>W 10 St &amp; Washington St</td>\n",
       "      <td>5847.06</td>\n",
       "      <td>40.747968</td>\n",
       "      <td>-73.996637</td>\n",
       "      <td>40.733424</td>\n",
       "      <td>-74.008515</td>\n",
       "      <td>casual</td>\n",
       "    </tr>\n",
       "    <tr>\n",
       "      <th>3</th>\n",
       "      <td>49D93C7E1ED3CEB6</td>\n",
       "      <td>classic_bike</td>\n",
       "      <td>2024-01-08 14:59:44.611</td>\n",
       "      <td>2024-01-09 15:59:36.472</td>\n",
       "      <td>Parkside Ave &amp; Ocean Ave</td>\n",
       "      <td>3448.02</td>\n",
       "      <td>None</td>\n",
       "      <td>nan</td>\n",
       "      <td>40.654850</td>\n",
       "      <td>-73.962170</td>\n",
       "      <td>NaN</td>\n",
       "      <td>NaN</td>\n",
       "      <td>casual</td>\n",
       "    </tr>\n",
       "    <tr>\n",
       "      <th>4</th>\n",
       "      <td>6462D9ABC53AA8BE</td>\n",
       "      <td>classic_bike</td>\n",
       "      <td>2023-12-31 16:28:05.221</td>\n",
       "      <td>2024-01-01 17:27:58.513</td>\n",
       "      <td>Catalpa Ave &amp; Woodward Ave</td>\n",
       "      <td>4912.10</td>\n",
       "      <td>None</td>\n",
       "      <td>nan</td>\n",
       "      <td>40.702290</td>\n",
       "      <td>-73.901450</td>\n",
       "      <td>NaN</td>\n",
       "      <td>NaN</td>\n",
       "      <td>casual</td>\n",
       "    </tr>\n",
       "  </tbody>\n",
       "</table>\n",
       "</div>"
      ],
      "text/plain": [
       "            ride_id rideable_type               started_at  \\\n",
       "0  03DF018B20ED02D9  classic_bike  2024-01-13 14:51:04.773   \n",
       "1  3E194E3EE8189D43  classic_bike  2024-01-03 16:09:56.876   \n",
       "2  33658F1AE88A8D58  classic_bike  2024-01-24 08:14:57.910   \n",
       "3  49D93C7E1ED3CEB6  classic_bike  2024-01-08 14:59:44.611   \n",
       "4  6462D9ABC53AA8BE  classic_bike  2023-12-31 16:28:05.221   \n",
       "\n",
       "                  ended_at          start_station_name start_station_id  \\\n",
       "0  2024-01-14 15:50:59.897       Columbia St & Kane St          4422.05   \n",
       "1  2024-01-03 16:17:52.884          E 72 St & York Ave          6889.12   \n",
       "2  2024-01-24 08:31:02.612             8 Ave & W 27 St          6297.07   \n",
       "3  2024-01-09 15:59:36.472    Parkside Ave & Ocean Ave          3448.02   \n",
       "4  2024-01-01 17:27:58.513  Catalpa Ave & Woodward Ave          4912.10   \n",
       "\n",
       "          end_station_name end_station_id  start_lat  start_lng    end_lat  \\\n",
       "0                     None            nan  40.687632 -74.001626        NaN   \n",
       "1          E 74 St & 1 Ave        6953.08  40.766638 -73.953483  40.768974   \n",
       "2  W 10 St & Washington St        5847.06  40.747968 -73.996637  40.733424   \n",
       "3                     None            nan  40.654850 -73.962170        NaN   \n",
       "4                     None            nan  40.702290 -73.901450        NaN   \n",
       "\n",
       "     end_lng member_casual  \n",
       "0        NaN        casual  \n",
       "1 -73.954823        casual  \n",
       "2 -74.008515        casual  \n",
       "3        NaN        casual  \n",
       "4        NaN        casual  "
      ]
     },
     "execution_count": 4,
     "metadata": {},
     "output_type": "execute_result"
    }
   ],
   "source": [
    "query = f\"\"\"\n",
    "    SELECT *\n",
    "    FROM `{bq_project_id}.{bq_dataset_name}.202401-{bq_table_name}`\n",
    "    LIMIT 10\n",
    "\"\"\"\n",
    "\n",
    "df = client.query(query).to_dataframe()\n",
    "df.head()"
   ]
  },
  {
   "cell_type": "code",
   "execution_count": null,
   "id": "95a0292a",
   "metadata": {},
   "outputs": [],
   "source": []
  }
 ],
 "metadata": {
  "kernelspec": {
   "display_name": ".venv",
   "language": "python",
   "name": "python3"
  },
  "language_info": {
   "codemirror_mode": {
    "name": "ipython",
    "version": 3
   },
   "file_extension": ".py",
   "mimetype": "text/x-python",
   "name": "python",
   "nbconvert_exporter": "python",
   "pygments_lexer": "ipython3",
   "version": "3.12.3"
  }
 },
 "nbformat": 4,
 "nbformat_minor": 5
}
