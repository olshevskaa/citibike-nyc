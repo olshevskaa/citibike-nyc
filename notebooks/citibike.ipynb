{
 "cells": [
  {
   "cell_type": "markdown",
   "id": "aaeb9e3c",
   "metadata": {},
   "source": [
    "### Citibike Analysis"
   ]
  },
  {
   "cell_type": "code",
   "execution_count": null,
   "id": "07da2132",
   "metadata": {},
   "outputs": [],
   "source": [
    "import os\n",
    "from dotenv import load_dotenv\n",
    "\n",
    "from google.cloud import bigquery\n",
    "\n",
    "import pandas as pd\n",
    "import numpy as np\n",
    "\n",
    "import matplotlib.pyplot as plt\n",
    "import seaborn as sns\n",
    "\n",
    "from scipy.stats import f_oneway\n",
    "\n",
    "import statsmodels.api as sm\n",
    "from statsmodels.formula.api import ols"
   ]
  },
  {
   "cell_type": "code",
   "execution_count": 2,
   "id": "67dccb9f",
   "metadata": {},
   "outputs": [
    {
     "data": {
      "text/plain": [
       "True"
      ]
     },
     "execution_count": 2,
     "metadata": {},
     "output_type": "execute_result"
    }
   ],
   "source": [
    "load_dotenv()"
   ]
  },
  {
   "cell_type": "code",
   "execution_count": 3,
   "id": "85b375d4",
   "metadata": {},
   "outputs": [],
   "source": [
    "client = bigquery.Client()\n",
    "\n",
    "bq_project_id = os.getenv('GCP_PROJECT_ID')\n",
    "bq_dataset_name = os.getenv('BQ_DATASET')\n",
    "bq_table_name = os.getenv('BQ_TABLE')\n",
    "\n",
    "table_red = f'{bq_project_id}.{bq_dataset_name}.{bq_table_name}'\n",
    "cleaned_table_ref = f'{bq_project_id}.{bq_dataset_name}.{bq_table_name}_cleaned'"
   ]
  },
  {
   "cell_type": "code",
   "execution_count": 5,
   "id": "e3d53ec0",
   "metadata": {},
   "outputs": [
    {
     "name": "stderr",
     "output_type": "stream",
     "text": [
      "/home/olshe/pers/eu-climate-economic-resilience/.venv/lib/python3.12/site-packages/google/cloud/bigquery/table.py:1957: UserWarning: BigQuery Storage module not found, fetch data with the REST endpoint instead.\n",
      "  warnings.warn(\n"
     ]
    },
    {
     "data": {
      "text/html": [
       "<div>\n",
       "<style scoped>\n",
       "    .dataframe tbody tr th:only-of-type {\n",
       "        vertical-align: middle;\n",
       "    }\n",
       "\n",
       "    .dataframe tbody tr th {\n",
       "        vertical-align: top;\n",
       "    }\n",
       "\n",
       "    .dataframe thead th {\n",
       "        text-align: right;\n",
       "    }\n",
       "</style>\n",
       "<table border=\"1\" class=\"dataframe\">\n",
       "  <thead>\n",
       "    <tr style=\"text-align: right;\">\n",
       "      <th></th>\n",
       "      <th>ride_id</th>\n",
       "      <th>rideable_type</th>\n",
       "      <th>started_at</th>\n",
       "      <th>ended_at</th>\n",
       "      <th>start_station_name</th>\n",
       "      <th>start_station_id</th>\n",
       "      <th>end_station_name</th>\n",
       "      <th>end_station_id</th>\n",
       "      <th>start_lat</th>\n",
       "      <th>start_lng</th>\n",
       "      <th>end_lat</th>\n",
       "      <th>end_lng</th>\n",
       "      <th>member_casual</th>\n",
       "      <th>cleaned_start_station_id</th>\n",
       "      <th>cleaned_start_station_name</th>\n",
       "    </tr>\n",
       "  </thead>\n",
       "  <tbody>\n",
       "    <tr>\n",
       "      <th>0</th>\n",
       "      <td>29B167D55DA816D0</td>\n",
       "      <td>classic_bike</td>\n",
       "      <td>2025-01-23 07:53:07.936000+00:00</td>\n",
       "      <td>2025-01-23 07:55:05.935000+00:00</td>\n",
       "      <td>67 St &amp; Erik Pl</td>\n",
       "      <td>2733.03</td>\n",
       "      <td>5 Ave &amp; 67 St</td>\n",
       "      <td>2782.02</td>\n",
       "      <td>40.633385</td>\n",
       "      <td>-74.016562</td>\n",
       "      <td>40.635679</td>\n",
       "      <td>-74.020005</td>\n",
       "      <td>member</td>\n",
       "      <td>None</td>\n",
       "      <td>None</td>\n",
       "    </tr>\n",
       "    <tr>\n",
       "      <th>1</th>\n",
       "      <td>86CF142F4EAF9128</td>\n",
       "      <td>classic_bike</td>\n",
       "      <td>2025-01-26 07:43:56.280000+00:00</td>\n",
       "      <td>2025-01-26 07:45:39.826000+00:00</td>\n",
       "      <td>67 St &amp; Erik Pl</td>\n",
       "      <td>2733.03</td>\n",
       "      <td>5 Ave &amp; 67 St</td>\n",
       "      <td>2782.02</td>\n",
       "      <td>40.633385</td>\n",
       "      <td>-74.016562</td>\n",
       "      <td>40.635679</td>\n",
       "      <td>-74.020005</td>\n",
       "      <td>member</td>\n",
       "      <td>None</td>\n",
       "      <td>None</td>\n",
       "    </tr>\n",
       "    <tr>\n",
       "      <th>2</th>\n",
       "      <td>7135F4F5DDBCB628</td>\n",
       "      <td>classic_bike</td>\n",
       "      <td>2025-01-28 16:15:19.573000+00:00</td>\n",
       "      <td>2025-01-28 16:34:58.434000+00:00</td>\n",
       "      <td>67 St &amp; Erik Pl</td>\n",
       "      <td>2733.03</td>\n",
       "      <td>21 St &amp; 4 Ave</td>\n",
       "      <td>3668.04</td>\n",
       "      <td>40.633385</td>\n",
       "      <td>-74.016562</td>\n",
       "      <td>40.662584</td>\n",
       "      <td>-73.995554</td>\n",
       "      <td>member</td>\n",
       "      <td>None</td>\n",
       "      <td>None</td>\n",
       "    </tr>\n",
       "    <tr>\n",
       "      <th>3</th>\n",
       "      <td>5FA3747FA7463A94</td>\n",
       "      <td>classic_bike</td>\n",
       "      <td>2025-01-05 11:40:42.639000+00:00</td>\n",
       "      <td>2025-01-05 11:45:31.807000+00:00</td>\n",
       "      <td>5 Ave &amp; 67 St</td>\n",
       "      <td>2782.02</td>\n",
       "      <td>7 Ave &amp; 62 St</td>\n",
       "      <td>2821.05</td>\n",
       "      <td>40.635679</td>\n",
       "      <td>-74.020005</td>\n",
       "      <td>40.635560</td>\n",
       "      <td>-74.012980</td>\n",
       "      <td>member</td>\n",
       "      <td>None</td>\n",
       "      <td>None</td>\n",
       "    </tr>\n",
       "    <tr>\n",
       "      <th>4</th>\n",
       "      <td>DD340554B831BB57</td>\n",
       "      <td>classic_bike</td>\n",
       "      <td>2025-01-14 08:53:24.040000+00:00</td>\n",
       "      <td>2025-01-14 08:58:17.076000+00:00</td>\n",
       "      <td>5 Ave &amp; 67 St</td>\n",
       "      <td>2782.02</td>\n",
       "      <td>7 Ave &amp; 62 St</td>\n",
       "      <td>2821.05</td>\n",
       "      <td>40.635679</td>\n",
       "      <td>-74.020005</td>\n",
       "      <td>40.635560</td>\n",
       "      <td>-74.012980</td>\n",
       "      <td>member</td>\n",
       "      <td>None</td>\n",
       "      <td>None</td>\n",
       "    </tr>\n",
       "  </tbody>\n",
       "</table>\n",
       "</div>"
      ],
      "text/plain": [
       "            ride_id rideable_type                       started_at  \\\n",
       "0  29B167D55DA816D0  classic_bike 2025-01-23 07:53:07.936000+00:00   \n",
       "1  86CF142F4EAF9128  classic_bike 2025-01-26 07:43:56.280000+00:00   \n",
       "2  7135F4F5DDBCB628  classic_bike 2025-01-28 16:15:19.573000+00:00   \n",
       "3  5FA3747FA7463A94  classic_bike 2025-01-05 11:40:42.639000+00:00   \n",
       "4  DD340554B831BB57  classic_bike 2025-01-14 08:53:24.040000+00:00   \n",
       "\n",
       "                          ended_at start_station_name start_station_id  \\\n",
       "0 2025-01-23 07:55:05.935000+00:00    67 St & Erik Pl          2733.03   \n",
       "1 2025-01-26 07:45:39.826000+00:00    67 St & Erik Pl          2733.03   \n",
       "2 2025-01-28 16:34:58.434000+00:00    67 St & Erik Pl          2733.03   \n",
       "3 2025-01-05 11:45:31.807000+00:00      5 Ave & 67 St          2782.02   \n",
       "4 2025-01-14 08:58:17.076000+00:00      5 Ave & 67 St          2782.02   \n",
       "\n",
       "  end_station_name end_station_id  start_lat  start_lng    end_lat    end_lng  \\\n",
       "0    5 Ave & 67 St        2782.02  40.633385 -74.016562  40.635679 -74.020005   \n",
       "1    5 Ave & 67 St        2782.02  40.633385 -74.016562  40.635679 -74.020005   \n",
       "2    21 St & 4 Ave        3668.04  40.633385 -74.016562  40.662584 -73.995554   \n",
       "3    7 Ave & 62 St        2821.05  40.635679 -74.020005  40.635560 -74.012980   \n",
       "4    7 Ave & 62 St        2821.05  40.635679 -74.020005  40.635560 -74.012980   \n",
       "\n",
       "  member_casual cleaned_start_station_id cleaned_start_station_name  \n",
       "0        member                     None                       None  \n",
       "1        member                     None                       None  \n",
       "2        member                     None                       None  \n",
       "3        member                     None                       None  \n",
       "4        member                     None                       None  "
      ]
     },
     "execution_count": 5,
     "metadata": {},
     "output_type": "execute_result"
    }
   ],
   "source": [
    "query = f\"\"\"\n",
    "    SELECT *\n",
    "    FROM `{bq_dataset_name}.{bq_table_name}`\n",
    "    LIMIT 5\n",
    "\"\"\"\n",
    "\n",
    "df = client.query(query).to_dataframe()\n",
    "df"
   ]
  },
  {
   "cell_type": "code",
   "execution_count": 6,
   "id": "e98fa03b",
   "metadata": {},
   "outputs": [
    {
     "data": {
      "text/plain": [
       "Index(['ride_id', 'rideable_type', 'started_at', 'ended_at',\n",
       "       'start_station_name', 'start_station_id', 'end_station_name',\n",
       "       'end_station_id', 'start_lat', 'start_lng', 'end_lat', 'end_lng',\n",
       "       'member_casual', 'cleaned_start_station_id',\n",
       "       'cleaned_start_station_name'],\n",
       "      dtype='object')"
      ]
     },
     "execution_count": 6,
     "metadata": {},
     "output_type": "execute_result"
    }
   ],
   "source": [
    "df.columns"
   ]
  },
  {
   "cell_type": "code",
   "execution_count": 7,
   "id": "1ae1655d",
   "metadata": {},
   "outputs": [
    {
     "data": {
      "text/plain": [
       "ride_id                                    object\n",
       "rideable_type                              object\n",
       "started_at                    datetime64[us, UTC]\n",
       "ended_at                      datetime64[us, UTC]\n",
       "start_station_name                         object\n",
       "start_station_id                           object\n",
       "end_station_name                           object\n",
       "end_station_id                             object\n",
       "start_lat                                 float64\n",
       "start_lng                                 float64\n",
       "end_lat                                   float64\n",
       "end_lng                                   float64\n",
       "member_casual                              object\n",
       "cleaned_start_station_id                   object\n",
       "cleaned_start_station_name                 object\n",
       "dtype: object"
      ]
     },
     "execution_count": 7,
     "metadata": {},
     "output_type": "execute_result"
    }
   ],
   "source": [
    "df.dtypes"
   ]
  },
  {
   "cell_type": "code",
   "execution_count": 8,
   "id": "95a0292a",
   "metadata": {},
   "outputs": [
    {
     "name": "stderr",
     "output_type": "stream",
     "text": [
      "/home/olshe/pers/eu-climate-economic-resilience/.venv/lib/python3.12/site-packages/google/cloud/bigquery/table.py:1957: UserWarning: BigQuery Storage module not found, fetch data with the REST endpoint instead.\n",
      "  warnings.warn(\n"
     ]
    },
    {
     "data": {
      "text/html": [
       "<div>\n",
       "<style scoped>\n",
       "    .dataframe tbody tr th:only-of-type {\n",
       "        vertical-align: middle;\n",
       "    }\n",
       "\n",
       "    .dataframe tbody tr th {\n",
       "        vertical-align: top;\n",
       "    }\n",
       "\n",
       "    .dataframe thead th {\n",
       "        text-align: right;\n",
       "    }\n",
       "</style>\n",
       "<table border=\"1\" class=\"dataframe\">\n",
       "  <thead>\n",
       "    <tr style=\"text-align: right;\">\n",
       "      <th></th>\n",
       "      <th>ride_id_null</th>\n",
       "      <th>rideable_type_null</th>\n",
       "      <th>started_at_null</th>\n",
       "      <th>ended_at_null</th>\n",
       "      <th>start_station_name_null</th>\n",
       "      <th>start_station_idnull</th>\n",
       "      <th>end_station_name_null</th>\n",
       "      <th>end_station_id_null</th>\n",
       "      <th>start_lat_null</th>\n",
       "      <th>start_lng_null</th>\n",
       "      <th>end_lat_null</th>\n",
       "      <th>end_lng_null</th>\n",
       "      <th>member_casual_null</th>\n",
       "    </tr>\n",
       "  </thead>\n",
       "  <tbody>\n",
       "    <tr>\n",
       "      <th>0</th>\n",
       "      <td>0</td>\n",
       "      <td>0</td>\n",
       "      <td>0</td>\n",
       "      <td>0</td>\n",
       "      <td>35253</td>\n",
       "      <td>0</td>\n",
       "      <td>152745</td>\n",
       "      <td>0</td>\n",
       "      <td>0</td>\n",
       "      <td>0</td>\n",
       "      <td>12784</td>\n",
       "      <td>12784</td>\n",
       "      <td>0</td>\n",
       "    </tr>\n",
       "  </tbody>\n",
       "</table>\n",
       "</div>"
      ],
      "text/plain": [
       "   ride_id_null  rideable_type_null  started_at_null  ended_at_null  \\\n",
       "0             0                   0                0              0   \n",
       "\n",
       "   start_station_name_null  start_station_idnull  end_station_name_null  \\\n",
       "0                    35253                     0                 152745   \n",
       "\n",
       "   end_station_id_null  start_lat_null  start_lng_null  end_lat_null  \\\n",
       "0                    0               0               0         12784   \n",
       "\n",
       "   end_lng_null  member_casual_null  \n",
       "0         12784                   0  "
      ]
     },
     "execution_count": 8,
     "metadata": {},
     "output_type": "execute_result"
    }
   ],
   "source": [
    "query = f\"\"\"\n",
    "    SELECT \n",
    "        COUNT(*) - COUNT(ride_id) as ride_id_null,\n",
    "        COUNT(*) - COUNT(rideable_type) as rideable_type_null,\n",
    "        COUNT(*) - COUNT(started_at) as started_at_null,\n",
    "        COUNT(*) - COUNT(ended_at) as ended_at_null,\n",
    "        COUNT(*) - COUNT(start_station_name) as start_station_name_null,\n",
    "        COUNT(*) - COUNT(start_station_id) as start_station_idnull,\n",
    "        COUNT(*) - COUNT(end_station_name) as end_station_name_null,\n",
    "        COUNT(*) - COUNT(end_station_id) as end_station_id_null,\n",
    "        COUNT(*) - COUNT(start_lat) as start_lat_null,\n",
    "        COUNT(*) - COUNT(start_lng) as start_lng_null,\n",
    "        COUNT(*) - COUNT(end_lat) as end_lat_null,\n",
    "        COUNT(*) - COUNT(end_lng) as end_lng_null,\n",
    "        COUNT(*) - COUNT(member_casual) as member_casual_null\n",
    "    FROM `{bq_dataset_name}.{bq_table_name}`\n",
    "\"\"\"\n",
    "\n",
    "df = client.query(query).to_dataframe()\n",
    "df"
   ]
  },
  {
   "cell_type": "code",
   "execution_count": 9,
   "id": "60ed3a01",
   "metadata": {},
   "outputs": [
    {
     "name": "stderr",
     "output_type": "stream",
     "text": [
      "/home/olshe/pers/eu-climate-economic-resilience/.venv/lib/python3.12/site-packages/google/cloud/bigquery/table.py:1957: UserWarning: BigQuery Storage module not found, fetch data with the REST endpoint instead.\n",
      "  warnings.warn(\n"
     ]
    },
    {
     "data": {
      "text/html": [
       "<div>\n",
       "<style scoped>\n",
       "    .dataframe tbody tr th:only-of-type {\n",
       "        vertical-align: middle;\n",
       "    }\n",
       "\n",
       "    .dataframe tbody tr th {\n",
       "        vertical-align: top;\n",
       "    }\n",
       "\n",
       "    .dataframe thead th {\n",
       "        text-align: right;\n",
       "    }\n",
       "</style>\n",
       "<table border=\"1\" class=\"dataframe\">\n",
       "  <thead>\n",
       "    <tr style=\"text-align: right;\">\n",
       "      <th></th>\n",
       "      <th>ride_id</th>\n",
       "      <th>rideable_type</th>\n",
       "      <th>started_at</th>\n",
       "      <th>ended_at</th>\n",
       "      <th>start_station_name</th>\n",
       "      <th>start_station_id</th>\n",
       "      <th>end_station_name</th>\n",
       "      <th>end_station_id</th>\n",
       "      <th>start_lat</th>\n",
       "      <th>start_lng</th>\n",
       "      <th>end_lat</th>\n",
       "      <th>end_lng</th>\n",
       "      <th>member_casual</th>\n",
       "      <th>cleaned_start_station_id</th>\n",
       "      <th>cleaned_start_station_name</th>\n",
       "    </tr>\n",
       "  </thead>\n",
       "  <tbody>\n",
       "    <tr>\n",
       "      <th>0</th>\n",
       "      <td>16A4ED1505A13D3F</td>\n",
       "      <td>electric_bike</td>\n",
       "      <td>2024-11-14 17:08:17.899000+00:00</td>\n",
       "      <td>2024-11-14 17:25:05.339000+00:00</td>\n",
       "      <td>None</td>\n",
       "      <td>nan</td>\n",
       "      <td>Cortelyou Rd &amp; Argyle Rd</td>\n",
       "      <td>2984.04</td>\n",
       "      <td>40.65</td>\n",
       "      <td>-74.00</td>\n",
       "      <td>40.640340</td>\n",
       "      <td>-73.966030</td>\n",
       "      <td>casual</td>\n",
       "      <td>None</td>\n",
       "      <td>None</td>\n",
       "    </tr>\n",
       "    <tr>\n",
       "      <th>1</th>\n",
       "      <td>22C85C606F5AB7D9</td>\n",
       "      <td>electric_bike</td>\n",
       "      <td>2024-11-22 15:32:45.958000+00:00</td>\n",
       "      <td>2024-11-22 16:38:04.567000+00:00</td>\n",
       "      <td>None</td>\n",
       "      <td>nan</td>\n",
       "      <td>6 Ave &amp; 55 St</td>\n",
       "      <td>3000.08</td>\n",
       "      <td>40.65</td>\n",
       "      <td>-74.00</td>\n",
       "      <td>40.640831</td>\n",
       "      <td>-74.010996</td>\n",
       "      <td>casual</td>\n",
       "      <td>None</td>\n",
       "      <td>None</td>\n",
       "    </tr>\n",
       "    <tr>\n",
       "      <th>2</th>\n",
       "      <td>45EA3047CCF80C62</td>\n",
       "      <td>electric_bike</td>\n",
       "      <td>2024-11-01 15:34:43.628000+00:00</td>\n",
       "      <td>2024-11-01 15:37:25.117000+00:00</td>\n",
       "      <td>None</td>\n",
       "      <td>nan</td>\n",
       "      <td>52 St &amp; 1 Ave</td>\n",
       "      <td>3253.01</td>\n",
       "      <td>40.64</td>\n",
       "      <td>-74.01</td>\n",
       "      <td>40.649292</td>\n",
       "      <td>-74.020105</td>\n",
       "      <td>casual</td>\n",
       "      <td>None</td>\n",
       "      <td>None</td>\n",
       "    </tr>\n",
       "    <tr>\n",
       "      <th>3</th>\n",
       "      <td>53B34B319E2D816E</td>\n",
       "      <td>electric_bike</td>\n",
       "      <td>2024-11-14 17:11:04.328000+00:00</td>\n",
       "      <td>2024-11-14 17:42:04.710000+00:00</td>\n",
       "      <td>None</td>\n",
       "      <td>nan</td>\n",
       "      <td>Rutland Rd &amp; E 45 St</td>\n",
       "      <td>3567.05</td>\n",
       "      <td>40.71</td>\n",
       "      <td>-73.99</td>\n",
       "      <td>40.660340</td>\n",
       "      <td>-73.936180</td>\n",
       "      <td>casual</td>\n",
       "      <td>None</td>\n",
       "      <td>None</td>\n",
       "    </tr>\n",
       "    <tr>\n",
       "      <th>4</th>\n",
       "      <td>276E868605E242F1</td>\n",
       "      <td>electric_bike</td>\n",
       "      <td>2024-11-18 15:18:59.364000+00:00</td>\n",
       "      <td>2024-11-18 16:00:02.779000+00:00</td>\n",
       "      <td>None</td>\n",
       "      <td>nan</td>\n",
       "      <td>Maple St &amp; Albany Ave</td>\n",
       "      <td>3608.06</td>\n",
       "      <td>40.66</td>\n",
       "      <td>-73.94</td>\n",
       "      <td>40.661550</td>\n",
       "      <td>-73.939740</td>\n",
       "      <td>casual</td>\n",
       "      <td>None</td>\n",
       "      <td>None</td>\n",
       "    </tr>\n",
       "  </tbody>\n",
       "</table>\n",
       "</div>"
      ],
      "text/plain": [
       "            ride_id  rideable_type                       started_at  \\\n",
       "0  16A4ED1505A13D3F  electric_bike 2024-11-14 17:08:17.899000+00:00   \n",
       "1  22C85C606F5AB7D9  electric_bike 2024-11-22 15:32:45.958000+00:00   \n",
       "2  45EA3047CCF80C62  electric_bike 2024-11-01 15:34:43.628000+00:00   \n",
       "3  53B34B319E2D816E  electric_bike 2024-11-14 17:11:04.328000+00:00   \n",
       "4  276E868605E242F1  electric_bike 2024-11-18 15:18:59.364000+00:00   \n",
       "\n",
       "                          ended_at start_station_name start_station_id  \\\n",
       "0 2024-11-14 17:25:05.339000+00:00               None              nan   \n",
       "1 2024-11-22 16:38:04.567000+00:00               None              nan   \n",
       "2 2024-11-01 15:37:25.117000+00:00               None              nan   \n",
       "3 2024-11-14 17:42:04.710000+00:00               None              nan   \n",
       "4 2024-11-18 16:00:02.779000+00:00               None              nan   \n",
       "\n",
       "           end_station_name end_station_id  start_lat  start_lng    end_lat  \\\n",
       "0  Cortelyou Rd & Argyle Rd        2984.04      40.65     -74.00  40.640340   \n",
       "1             6 Ave & 55 St        3000.08      40.65     -74.00  40.640831   \n",
       "2             52 St & 1 Ave        3253.01      40.64     -74.01  40.649292   \n",
       "3      Rutland Rd & E 45 St        3567.05      40.71     -73.99  40.660340   \n",
       "4     Maple St & Albany Ave        3608.06      40.66     -73.94  40.661550   \n",
       "\n",
       "     end_lng member_casual cleaned_start_station_id cleaned_start_station_name  \n",
       "0 -73.966030        casual                     None                       None  \n",
       "1 -74.010996        casual                     None                       None  \n",
       "2 -74.020105        casual                     None                       None  \n",
       "3 -73.936180        casual                     None                       None  \n",
       "4 -73.939740        casual                     None                       None  "
      ]
     },
     "execution_count": 9,
     "metadata": {},
     "output_type": "execute_result"
    }
   ],
   "source": [
    "query = f\"\"\"\n",
    "    SELECT *\n",
    "    FROM `{bq_dataset_name}.{bq_table_name}`\n",
    "    WHERE start_station_name IS NULL\n",
    "    LIMIT 5\n",
    "\"\"\"\n",
    "\n",
    "df = client.query(query).to_dataframe()\n",
    "df"
   ]
  },
  {
   "cell_type": "code",
   "execution_count": 10,
   "id": "779d2fbc",
   "metadata": {},
   "outputs": [
    {
     "name": "stderr",
     "output_type": "stream",
     "text": [
      "/home/olshe/pers/eu-climate-economic-resilience/.venv/lib/python3.12/site-packages/google/cloud/bigquery/table.py:1957: UserWarning: BigQuery Storage module not found, fetch data with the REST endpoint instead.\n",
      "  warnings.warn(\n"
     ]
    },
    {
     "data": {
      "text/html": [
       "<div>\n",
       "<style scoped>\n",
       "    .dataframe tbody tr th:only-of-type {\n",
       "        vertical-align: middle;\n",
       "    }\n",
       "\n",
       "    .dataframe tbody tr th {\n",
       "        vertical-align: top;\n",
       "    }\n",
       "\n",
       "    .dataframe thead th {\n",
       "        text-align: right;\n",
       "    }\n",
       "</style>\n",
       "<table border=\"1\" class=\"dataframe\">\n",
       "  <thead>\n",
       "    <tr style=\"text-align: right;\">\n",
       "      <th></th>\n",
       "      <th>ride_id</th>\n",
       "      <th>rideable_type</th>\n",
       "      <th>started_at</th>\n",
       "      <th>ended_at</th>\n",
       "      <th>start_station_name</th>\n",
       "      <th>start_station_id</th>\n",
       "      <th>end_station_name</th>\n",
       "      <th>end_station_id</th>\n",
       "      <th>start_lat</th>\n",
       "      <th>start_lng</th>\n",
       "      <th>end_lat</th>\n",
       "      <th>end_lng</th>\n",
       "      <th>member_casual</th>\n",
       "      <th>cleaned_start_station_id</th>\n",
       "      <th>cleaned_start_station_name</th>\n",
       "    </tr>\n",
       "  </thead>\n",
       "  <tbody>\n",
       "    <tr>\n",
       "      <th>0</th>\n",
       "      <td>CBCD3C72559F2B35</td>\n",
       "      <td>classic_bike</td>\n",
       "      <td>2024-10-31 20:44:44.600000+00:00</td>\n",
       "      <td>2024-11-01 21:44:40.324000+00:00</td>\n",
       "      <td>Cortelyou Rd &amp; Stratford Rd</td>\n",
       "      <td>2898.01</td>\n",
       "      <td>None</td>\n",
       "      <td>nan</td>\n",
       "      <td>40.639660</td>\n",
       "      <td>-73.968070</td>\n",
       "      <td>NaN</td>\n",
       "      <td>NaN</td>\n",
       "      <td>casual</td>\n",
       "      <td>None</td>\n",
       "      <td>None</td>\n",
       "    </tr>\n",
       "    <tr>\n",
       "      <th>1</th>\n",
       "      <td>96FBB4087820A30D</td>\n",
       "      <td>classic_bike</td>\n",
       "      <td>2024-10-01 21:40:32.149000+00:00</td>\n",
       "      <td>2024-10-02 22:40:27.657000+00:00</td>\n",
       "      <td>Cortelyou Rd &amp; Argyle Rd</td>\n",
       "      <td>2984.04</td>\n",
       "      <td>None</td>\n",
       "      <td>nan</td>\n",
       "      <td>40.640340</td>\n",
       "      <td>-73.966030</td>\n",
       "      <td>NaN</td>\n",
       "      <td>NaN</td>\n",
       "      <td>casual</td>\n",
       "      <td>None</td>\n",
       "      <td>None</td>\n",
       "    </tr>\n",
       "    <tr>\n",
       "      <th>2</th>\n",
       "      <td>0F53580F22942FDD</td>\n",
       "      <td>classic_bike</td>\n",
       "      <td>2024-10-19 23:10:16.652000+00:00</td>\n",
       "      <td>2024-10-21 00:10:12.738000+00:00</td>\n",
       "      <td>Cortelyou Rd &amp; E 19 St</td>\n",
       "      <td>3022.01</td>\n",
       "      <td>None</td>\n",
       "      <td>nan</td>\n",
       "      <td>40.642690</td>\n",
       "      <td>-73.960990</td>\n",
       "      <td>NaN</td>\n",
       "      <td>NaN</td>\n",
       "      <td>casual</td>\n",
       "      <td>None</td>\n",
       "      <td>None</td>\n",
       "    </tr>\n",
       "    <tr>\n",
       "      <th>3</th>\n",
       "      <td>99F43D2EEB247081</td>\n",
       "      <td>classic_bike</td>\n",
       "      <td>2024-10-07 08:48:29.391000+00:00</td>\n",
       "      <td>2024-10-08 09:48:26.494000+00:00</td>\n",
       "      <td>12 Ave &amp; 36 St</td>\n",
       "      <td>3056.05</td>\n",
       "      <td>None</td>\n",
       "      <td>nan</td>\n",
       "      <td>40.643546</td>\n",
       "      <td>-73.986418</td>\n",
       "      <td>NaN</td>\n",
       "      <td>NaN</td>\n",
       "      <td>casual</td>\n",
       "      <td>None</td>\n",
       "      <td>None</td>\n",
       "    </tr>\n",
       "    <tr>\n",
       "      <th>4</th>\n",
       "      <td>FDDFF503BA08BEAF</td>\n",
       "      <td>classic_bike</td>\n",
       "      <td>2024-10-15 16:42:28.311000+00:00</td>\n",
       "      <td>2024-10-16 17:42:22.984000+00:00</td>\n",
       "      <td>Beverley Rd &amp; Flatbush Ave</td>\n",
       "      <td>3180.02</td>\n",
       "      <td>None</td>\n",
       "      <td>nan</td>\n",
       "      <td>40.644990</td>\n",
       "      <td>-73.958180</td>\n",
       "      <td>NaN</td>\n",
       "      <td>NaN</td>\n",
       "      <td>casual</td>\n",
       "      <td>None</td>\n",
       "      <td>None</td>\n",
       "    </tr>\n",
       "  </tbody>\n",
       "</table>\n",
       "</div>"
      ],
      "text/plain": [
       "            ride_id rideable_type                       started_at  \\\n",
       "0  CBCD3C72559F2B35  classic_bike 2024-10-31 20:44:44.600000+00:00   \n",
       "1  96FBB4087820A30D  classic_bike 2024-10-01 21:40:32.149000+00:00   \n",
       "2  0F53580F22942FDD  classic_bike 2024-10-19 23:10:16.652000+00:00   \n",
       "3  99F43D2EEB247081  classic_bike 2024-10-07 08:48:29.391000+00:00   \n",
       "4  FDDFF503BA08BEAF  classic_bike 2024-10-15 16:42:28.311000+00:00   \n",
       "\n",
       "                          ended_at           start_station_name  \\\n",
       "0 2024-11-01 21:44:40.324000+00:00  Cortelyou Rd & Stratford Rd   \n",
       "1 2024-10-02 22:40:27.657000+00:00     Cortelyou Rd & Argyle Rd   \n",
       "2 2024-10-21 00:10:12.738000+00:00       Cortelyou Rd & E 19 St   \n",
       "3 2024-10-08 09:48:26.494000+00:00               12 Ave & 36 St   \n",
       "4 2024-10-16 17:42:22.984000+00:00   Beverley Rd & Flatbush Ave   \n",
       "\n",
       "  start_station_id end_station_name end_station_id  start_lat  start_lng  \\\n",
       "0          2898.01             None            nan  40.639660 -73.968070   \n",
       "1          2984.04             None            nan  40.640340 -73.966030   \n",
       "2          3022.01             None            nan  40.642690 -73.960990   \n",
       "3          3056.05             None            nan  40.643546 -73.986418   \n",
       "4          3180.02             None            nan  40.644990 -73.958180   \n",
       "\n",
       "   end_lat  end_lng member_casual cleaned_start_station_id  \\\n",
       "0      NaN      NaN        casual                     None   \n",
       "1      NaN      NaN        casual                     None   \n",
       "2      NaN      NaN        casual                     None   \n",
       "3      NaN      NaN        casual                     None   \n",
       "4      NaN      NaN        casual                     None   \n",
       "\n",
       "  cleaned_start_station_name  \n",
       "0                       None  \n",
       "1                       None  \n",
       "2                       None  \n",
       "3                       None  \n",
       "4                       None  "
      ]
     },
     "execution_count": 10,
     "metadata": {},
     "output_type": "execute_result"
    }
   ],
   "source": [
    "query = f\"\"\"\n",
    "    SELECT *\n",
    "    FROM `{bq_dataset_name}.{bq_table_name}`\n",
    "    WHERE end_station_name IS NULL\n",
    "    LIMIT 5\n",
    "\"\"\"\n",
    "\n",
    "df = client.query(query).to_dataframe()\n",
    "df"
   ]
  },
  {
   "cell_type": "code",
   "execution_count": 11,
   "id": "6715d000",
   "metadata": {},
   "outputs": [
    {
     "name": "stderr",
     "output_type": "stream",
     "text": [
      "/home/olshe/pers/eu-climate-economic-resilience/.venv/lib/python3.12/site-packages/google/cloud/bigquery/table.py:1957: UserWarning: BigQuery Storage module not found, fetch data with the REST endpoint instead.\n",
      "  warnings.warn(\n"
     ]
    },
    {
     "data": {
      "text/plain": [
       "np.int64(182206)"
      ]
     },
     "execution_count": 11,
     "metadata": {},
     "output_type": "execute_result"
    }
   ],
   "source": [
    "query = f\"\"\"\n",
    "    SELECT COUNT(*) as cnt\n",
    "    FROM `{bq_dataset_name}.{bq_table_name}`\n",
    "    WHERE start_station_id = 'nan' OR end_station_id = 'nan'\n",
    "\"\"\"\n",
    "\n",
    "nan_cnt = client.query(query).to_dataframe()['cnt'][0]\n",
    "nan_cnt"
   ]
  },
  {
   "cell_type": "code",
   "execution_count": 12,
   "id": "24ad2008",
   "metadata": {},
   "outputs": [
    {
     "data": {
      "text/plain": [
       "<google.cloud.bigquery.table._EmptyRowIterator at 0x7d992ab05160>"
      ]
     },
     "execution_count": 12,
     "metadata": {},
     "output_type": "execute_result"
    }
   ],
   "source": [
    "query = f\"\"\"\n",
    "    CREATE OR REPLACE TABLE {cleaned_table_ref}\n",
    "    PARTITION BY DATE_TRUNC(started_at, MONTH)\n",
    "    CLUSTER BY member_casual, rideable_type \n",
    "        AS\n",
    "            SELECT * FROM `{bq_dataset_name}.{bq_table_name}`\n",
    "            WHERE start_station_id != 'nan' AND end_station_id != 'nan'\n",
    "\"\"\"\n",
    "\n",
    "job = client.query(query)\n",
    "job.result()\n"
   ]
  },
  {
   "cell_type": "code",
   "execution_count": 13,
   "id": "a3c9f10d",
   "metadata": {},
   "outputs": [
    {
     "data": {
      "text/plain": [
       "np.int64(0)"
      ]
     },
     "execution_count": 13,
     "metadata": {},
     "output_type": "execute_result"
    }
   ],
   "source": [
    "query = f\"\"\"\n",
    "    SELECT COUNT(*) as cnt\n",
    "    FROM {cleaned_table_ref}\n",
    "    WHERE start_station_id = 'nan' OR end_station_id = 'nan'\n",
    "\"\"\"\n",
    "\n",
    "nan_cnt = client.query(query).to_dataframe()['cnt'][0]\n",
    "nan_cnt"
   ]
  },
  {
   "cell_type": "code",
   "execution_count": null,
   "id": "0f3a41d9",
   "metadata": {},
   "outputs": [
    {
     "name": "stderr",
     "output_type": "stream",
     "text": [
      "/home/olshe/pers/eu-climate-economic-resilience/.venv/lib/python3.12/site-packages/google/cloud/bigquery/table.py:1957: UserWarning: BigQuery Storage module not found, fetch data with the REST endpoint instead.\n",
      "  warnings.warn(\n"
     ]
    },
    {
     "data": {
      "text/html": [
       "<div>\n",
       "<style scoped>\n",
       "    .dataframe tbody tr th:only-of-type {\n",
       "        vertical-align: middle;\n",
       "    }\n",
       "\n",
       "    .dataframe tbody tr th {\n",
       "        vertical-align: top;\n",
       "    }\n",
       "\n",
       "    .dataframe thead th {\n",
       "        text-align: right;\n",
       "    }\n",
       "</style>\n",
       "<table border=\"1\" class=\"dataframe\">\n",
       "  <thead>\n",
       "    <tr style=\"text-align: right;\">\n",
       "      <th></th>\n",
       "      <th>ride_id</th>\n",
       "      <th>rideable_type</th>\n",
       "      <th>started_at</th>\n",
       "      <th>ended_at</th>\n",
       "      <th>start_station_name</th>\n",
       "      <th>start_station_id</th>\n",
       "      <th>end_station_name</th>\n",
       "      <th>end_station_id</th>\n",
       "      <th>start_lat</th>\n",
       "      <th>start_lng</th>\n",
       "      <th>end_lat</th>\n",
       "      <th>end_lng</th>\n",
       "      <th>member_casual</th>\n",
       "      <th>cleaned_start_station_id</th>\n",
       "      <th>cleaned_start_station_name</th>\n",
       "    </tr>\n",
       "  </thead>\n",
       "  <tbody>\n",
       "  </tbody>\n",
       "</table>\n",
       "</div>"
      ],
      "text/plain": [
       "Empty DataFrame\n",
       "Columns: [ride_id, rideable_type, started_at, ended_at, start_station_name, start_station_id, end_station_name, end_station_id, start_lat, start_lng, end_lat, end_lng, member_casual, cleaned_start_station_id, cleaned_start_station_name]\n",
       "Index: []"
      ]
     },
     "execution_count": 104,
     "metadata": {},
     "output_type": "execute_result"
    }
   ],
   "source": [
    "query = f\"\"\"\n",
    "    SELECT *\n",
    "    FROM {cleaned_table_ref}\n",
    "    WHERE TIMESTAMP_DIFF(ended_at, started_at, MINUTE) <= 0\n",
    "    LIMIT 5\n",
    "\"\"\"\n",
    "\n",
    "df = client.query(query).to_dataframe()\n",
    "df"
   ]
  },
  {
   "cell_type": "code",
   "execution_count": 105,
   "id": "a4e596c8",
   "metadata": {},
   "outputs": [
    {
     "name": "stderr",
     "output_type": "stream",
     "text": [
      "/home/olshe/pers/eu-climate-economic-resilience/.venv/lib/python3.12/site-packages/google/cloud/bigquery/table.py:1957: UserWarning: BigQuery Storage module not found, fetch data with the REST endpoint instead.\n",
      "  warnings.warn(\n"
     ]
    },
    {
     "data": {
      "text/html": [
       "<div>\n",
       "<style scoped>\n",
       "    .dataframe tbody tr th:only-of-type {\n",
       "        vertical-align: middle;\n",
       "    }\n",
       "\n",
       "    .dataframe tbody tr th {\n",
       "        vertical-align: top;\n",
       "    }\n",
       "\n",
       "    .dataframe thead th {\n",
       "        text-align: right;\n",
       "    }\n",
       "</style>\n",
       "<table border=\"1\" class=\"dataframe\">\n",
       "  <thead>\n",
       "    <tr style=\"text-align: right;\">\n",
       "      <th></th>\n",
       "      <th>total_trips</th>\n",
       "      <th>avg_ride_time</th>\n",
       "      <th>median_ride_time</th>\n",
       "      <th>trips_over_45_min</th>\n",
       "      <th>trips_over_2_hours</th>\n",
       "      <th>pct_over_45_min</th>\n",
       "      <th>pct_over_2_hours</th>\n",
       "    </tr>\n",
       "  </thead>\n",
       "  <tbody>\n",
       "    <tr>\n",
       "      <th>0</th>\n",
       "      <td>59483258</td>\n",
       "      <td>12.045067</td>\n",
       "      <td>8</td>\n",
       "      <td>1127097</td>\n",
       "      <td>101822</td>\n",
       "      <td>1.89</td>\n",
       "      <td>0.17</td>\n",
       "    </tr>\n",
       "  </tbody>\n",
       "</table>\n",
       "</div>"
      ],
      "text/plain": [
       "   total_trips  avg_ride_time  median_ride_time  trips_over_45_min  \\\n",
       "0     59483258      12.045067                 8            1127097   \n",
       "\n",
       "   trips_over_2_hours  pct_over_45_min  pct_over_2_hours  \n",
       "0              101822             1.89              0.17  "
      ]
     },
     "execution_count": 105,
     "metadata": {},
     "output_type": "execute_result"
    }
   ],
   "source": [
    "query = f\"\"\"\n",
    " SELECT\n",
    "  COUNT(*) AS total_trips,\n",
    "  AVG(TIMESTAMP_DIFF(ended_at, started_at, MINUTE)) AS avg_ride_time,\n",
    "  -- approximate median as 50th percentile\n",
    "  APPROX_QUANTILES(TIMESTAMP_DIFF(ended_at, started_at, MINUTE), 100)[OFFSET(50)] AS median_ride_time,\n",
    "  COUNTIF(TIMESTAMP_DIFF(ended_at, started_at, MINUTE) > 45) AS trips_over_45_min,\n",
    "  COUNTIF(TIMESTAMP_DIFF(ended_at, started_at, MINUTE) > 120) AS trips_over_2_hours,\n",
    "  ROUND(100 * COUNTIF(TIMESTAMP_DIFF(ended_at, started_at, MINUTE) > 45) / COUNT(*), 2) AS pct_over_45_min,\n",
    "  ROUND(100 * COUNTIF(TIMESTAMP_DIFF(ended_at, started_at, MINUTE) > 120) / COUNT(*), 2) AS pct_over_2_hours\n",
    "FROM\n",
    "  {cleaned_table_ref}\n",
    "WHERE\n",
    "  ended_at IS NOT NULL\n",
    "  AND started_at IS NOT NULL\n",
    "\"\"\"\n",
    "\n",
    "df =  client.query(query).to_dataframe()\n",
    "df"
   ]
  },
  {
   "cell_type": "code",
   "execution_count": 177,
   "id": "330d538d",
   "metadata": {},
   "outputs": [
    {
     "data": {
      "text/plain": [
       "<google.cloud.bigquery.table._EmptyRowIterator at 0x7d98b6fa56a0>"
      ]
     },
     "execution_count": 177,
     "metadata": {},
     "output_type": "execute_result"
    }
   ],
   "source": [
    "query = f\"\"\"\n",
    "    DELETE\n",
    "    FROM {cleaned_table_ref}\n",
    "    WHERE \n",
    "        TIMESTAMP_DIFF(ended_at, started_at, MINUTE) < 2 \n",
    "    OR \n",
    "        TIMESTAMP_DIFF(ended_at, started_at, MINUTE) > 120\n",
    "\"\"\"\n",
    "\n",
    "job = client.query(query)\n",
    "job.result()"
   ]
  },
  {
   "cell_type": "code",
   "execution_count": 14,
   "id": "79f0152c",
   "metadata": {},
   "outputs": [
    {
     "data": {
      "text/html": [
       "<div>\n",
       "<style scoped>\n",
       "    .dataframe tbody tr th:only-of-type {\n",
       "        vertical-align: middle;\n",
       "    }\n",
       "\n",
       "    .dataframe tbody tr th {\n",
       "        vertical-align: top;\n",
       "    }\n",
       "\n",
       "    .dataframe thead th {\n",
       "        text-align: right;\n",
       "    }\n",
       "</style>\n",
       "<table border=\"1\" class=\"dataframe\">\n",
       "  <thead>\n",
       "    <tr style=\"text-align: right;\">\n",
       "      <th></th>\n",
       "      <th>start_station_id</th>\n",
       "      <th>f0_</th>\n",
       "    </tr>\n",
       "  </thead>\n",
       "  <tbody>\n",
       "    <tr>\n",
       "      <th>0</th>\n",
       "      <td>JC104</td>\n",
       "      <td>4</td>\n",
       "    </tr>\n",
       "    <tr>\n",
       "      <th>1</th>\n",
       "      <td>HB602</td>\n",
       "      <td>6</td>\n",
       "    </tr>\n",
       "    <tr>\n",
       "      <th>2</th>\n",
       "      <td>JC018</td>\n",
       "      <td>1</td>\n",
       "    </tr>\n",
       "    <tr>\n",
       "      <th>3</th>\n",
       "      <td>JC102</td>\n",
       "      <td>1</td>\n",
       "    </tr>\n",
       "    <tr>\n",
       "      <th>4</th>\n",
       "      <td>JC080</td>\n",
       "      <td>4</td>\n",
       "    </tr>\n",
       "    <tr>\n",
       "      <th>...</th>\n",
       "      <td>...</td>\n",
       "      <td>...</td>\n",
       "    </tr>\n",
       "    <tr>\n",
       "      <th>72</th>\n",
       "      <td>HB202</td>\n",
       "      <td>3</td>\n",
       "    </tr>\n",
       "    <tr>\n",
       "      <th>73</th>\n",
       "      <td>JC098</td>\n",
       "      <td>1</td>\n",
       "    </tr>\n",
       "    <tr>\n",
       "      <th>74</th>\n",
       "      <td>JC105</td>\n",
       "      <td>4</td>\n",
       "    </tr>\n",
       "    <tr>\n",
       "      <th>75</th>\n",
       "      <td>JC022</td>\n",
       "      <td>2</td>\n",
       "    </tr>\n",
       "    <tr>\n",
       "      <th>76</th>\n",
       "      <td>HB103</td>\n",
       "      <td>3</td>\n",
       "    </tr>\n",
       "  </tbody>\n",
       "</table>\n",
       "<p>77 rows × 2 columns</p>\n",
       "</div>"
      ],
      "text/plain": [
       "   start_station_id  f0_\n",
       "0             JC104    4\n",
       "1             HB602    6\n",
       "2             JC018    1\n",
       "3             JC102    1\n",
       "4             JC080    4\n",
       "..              ...  ...\n",
       "72            HB202    3\n",
       "73            JC098    1\n",
       "74            JC105    4\n",
       "75            JC022    2\n",
       "76            HB103    3\n",
       "\n",
       "[77 rows x 2 columns]"
      ]
     },
     "execution_count": 14,
     "metadata": {},
     "output_type": "execute_result"
    }
   ],
   "source": [
    "query = f\"\"\"\n",
    "    SELECT start_station_id, COUNT(*)\n",
    "    FROM {cleaned_table_ref}\n",
    "    WHERE start_station_id IS NULL OR SAFE_CAST(start_station_id AS FLOAT64) IS NULL\n",
    "    GROUP BY start_station_id;\n",
    "\"\"\"\n",
    "\n",
    "df = client.query(query).to_dataframe()\n",
    "df"
   ]
  },
  {
   "cell_type": "code",
   "execution_count": 15,
   "id": "36775b82",
   "metadata": {},
   "outputs": [
    {
     "data": {
      "text/plain": [
       "<google.cloud.bigquery.table._EmptyRowIterator at 0x7d992a9c8e60>"
      ]
     },
     "execution_count": 15,
     "metadata": {},
     "output_type": "execute_result"
    }
   ],
   "source": [
    "regex = r'^[A-Za-z]{2}\\d{3}$'\n",
    "\n",
    "query = f\"\"\"\n",
    "    DELETE \n",
    "    FROM {cleaned_table_ref}\n",
    "    WHERE REGEXP_CONTAINS(start_station_id, r'{regex}') OR REGEXP_CONTAINS(end_station_id, r'{regex}')\n",
    "\"\"\"\n",
    "\n",
    "job = client.query(query)\n",
    "job.result()"
   ]
  },
  {
   "cell_type": "code",
   "execution_count": 16,
   "id": "eb1d89fc",
   "metadata": {},
   "outputs": [
    {
     "name": "stderr",
     "output_type": "stream",
     "text": [
      "/home/olshe/pers/eu-climate-economic-resilience/.venv/lib/python3.12/site-packages/google/cloud/bigquery/table.py:1957: UserWarning: BigQuery Storage module not found, fetch data with the REST endpoint instead.\n",
      "  warnings.warn(\n"
     ]
    },
    {
     "data": {
      "text/html": [
       "<div>\n",
       "<style scoped>\n",
       "    .dataframe tbody tr th:only-of-type {\n",
       "        vertical-align: middle;\n",
       "    }\n",
       "\n",
       "    .dataframe tbody tr th {\n",
       "        vertical-align: top;\n",
       "    }\n",
       "\n",
       "    .dataframe thead th {\n",
       "        text-align: right;\n",
       "    }\n",
       "</style>\n",
       "<table border=\"1\" class=\"dataframe\">\n",
       "  <thead>\n",
       "    <tr style=\"text-align: right;\">\n",
       "      <th></th>\n",
       "      <th>start_station_id</th>\n",
       "      <th>f0_</th>\n",
       "    </tr>\n",
       "  </thead>\n",
       "  <tbody>\n",
       "    <tr>\n",
       "      <th>0</th>\n",
       "      <td>6247.06_Pillar</td>\n",
       "      <td>70</td>\n",
       "    </tr>\n",
       "    <tr>\n",
       "      <th>1</th>\n",
       "      <td>LA Metro Demo 2</td>\n",
       "      <td>12</td>\n",
       "    </tr>\n",
       "    <tr>\n",
       "      <th>2</th>\n",
       "      <td>SYS038</td>\n",
       "      <td>1219</td>\n",
       "    </tr>\n",
       "    <tr>\n",
       "      <th>3</th>\n",
       "      <td>Lab - NYC</td>\n",
       "      <td>6</td>\n",
       "    </tr>\n",
       "    <tr>\n",
       "      <th>4</th>\n",
       "      <td>5308.04_</td>\n",
       "      <td>44</td>\n",
       "    </tr>\n",
       "    <tr>\n",
       "      <th>5</th>\n",
       "      <td>LA Metro Demo 1</td>\n",
       "      <td>4</td>\n",
       "    </tr>\n",
       "    <tr>\n",
       "      <th>6</th>\n",
       "      <td>190 Morgan</td>\n",
       "      <td>5</td>\n",
       "    </tr>\n",
       "    <tr>\n",
       "      <th>7</th>\n",
       "      <td>Shop Morgan</td>\n",
       "      <td>1023</td>\n",
       "    </tr>\n",
       "    <tr>\n",
       "      <th>8</th>\n",
       "      <td>Lab - NYC - Monolith</td>\n",
       "      <td>8</td>\n",
       "    </tr>\n",
       "    <tr>\n",
       "      <th>9</th>\n",
       "      <td>SYS033</td>\n",
       "      <td>156</td>\n",
       "    </tr>\n",
       "    <tr>\n",
       "      <th>10</th>\n",
       "      <td>6569.09_</td>\n",
       "      <td>783</td>\n",
       "    </tr>\n",
       "    <tr>\n",
       "      <th>11</th>\n",
       "      <td>SYS025</td>\n",
       "      <td>1</td>\n",
       "    </tr>\n",
       "    <tr>\n",
       "      <th>12</th>\n",
       "      <td>SYS016</td>\n",
       "      <td>2352</td>\n",
       "    </tr>\n",
       "    <tr>\n",
       "      <th>13</th>\n",
       "      <td>6173.08_Pillar</td>\n",
       "      <td>2</td>\n",
       "    </tr>\n",
       "  </tbody>\n",
       "</table>\n",
       "</div>"
      ],
      "text/plain": [
       "        start_station_id   f0_\n",
       "0         6247.06_Pillar    70\n",
       "1        LA Metro Demo 2    12\n",
       "2                 SYS038  1219\n",
       "3              Lab - NYC     6\n",
       "4               5308.04_    44\n",
       "5        LA Metro Demo 1     4\n",
       "6             190 Morgan     5\n",
       "7           Shop Morgan   1023\n",
       "8   Lab - NYC - Monolith     8\n",
       "9                 SYS033   156\n",
       "10              6569.09_   783\n",
       "11                SYS025     1\n",
       "12                SYS016  2352\n",
       "13        6173.08_Pillar     2"
      ]
     },
     "execution_count": 16,
     "metadata": {},
     "output_type": "execute_result"
    }
   ],
   "source": [
    "query = f\"\"\"\n",
    "    SELECT start_station_id, COUNT(*)\n",
    "    FROM {cleaned_table_ref}\n",
    "    WHERE start_station_id IS NULL OR SAFE_CAST(start_station_id AS FLOAT64) IS NULL\n",
    "    GROUP BY start_station_id;\n",
    "\"\"\"\n",
    "\n",
    "df = client.query(query).to_dataframe()\n",
    "df"
   ]
  },
  {
   "cell_type": "code",
   "execution_count": 17,
   "id": "dc139feb",
   "metadata": {},
   "outputs": [
    {
     "data": {
      "text/plain": [
       "<google.cloud.bigquery.table._EmptyRowIterator at 0x7d992a92a390>"
      ]
     },
     "execution_count": 17,
     "metadata": {},
     "output_type": "execute_result"
    }
   ],
   "source": [
    "regex_patterns = [\n",
    "    r'^SYS\\d{3}$',          # SYS + 3 digits\n",
    "    r'(?i)Demo',            # Contains \"Demo\"\n",
    "    r'(?i)Lab - NYC',       # Contains \"Lab - NYC\"\n",
    "    r'(?i)Morgan'           # Contains \"Morgan\"\n",
    "]\n",
    "\n",
    "combined_pattern = '|'.join(regex_patterns)\n",
    "\n",
    "query = f\"\"\"\n",
    "    DELETE FROM {cleaned_table_ref}\n",
    "    WHERE REGEXP_CONTAINS(start_station_id, r'{combined_pattern}') OR REGEXP_CONTAINS(end_station_id, r'{combined_pattern}')\n",
    "\"\"\"\n",
    "\n",
    "job = client.query(query)\n",
    "job.result()"
   ]
  },
  {
   "cell_type": "code",
   "execution_count": 18,
   "id": "2c3b4920",
   "metadata": {},
   "outputs": [
    {
     "data": {
      "text/plain": [
       "<google.cloud.bigquery.table._EmptyRowIterator at 0x7d992a977da0>"
      ]
     },
     "execution_count": 18,
     "metadata": {},
     "output_type": "execute_result"
    }
   ],
   "source": [
    "regex = r'^\\d+\\.\\d+_$'\n",
    "\n",
    "query = f\"\"\"\n",
    "    UPDATE {cleaned_table_ref}\n",
    "    SET \n",
    "        start_station_id = CASE \n",
    "            WHEN REGEXP_CONTAINS(start_station_id, r'{regex}') THEN REPLACE(start_station_id, '_', '')\n",
    "            ELSE start_station_id\n",
    "        END,\n",
    "        end_station_id = CASE \n",
    "            WHEN REGEXP_CONTAINS(end_station_id, r'{regex}') THEN REPLACE(end_station_id, '_', '')\n",
    "            ELSE end_station_id\n",
    "        END\n",
    "    WHERE \n",
    "        REGEXP_CONTAINS(start_station_id, r'{regex}') OR\n",
    "        REGEXP_CONTAINS(end_station_id, r'{regex}')\n",
    "\"\"\"\n",
    "\n",
    "job = client.query(query)\n",
    "job.result()"
   ]
  },
  {
   "cell_type": "code",
   "execution_count": 19,
   "id": "91b6861f",
   "metadata": {},
   "outputs": [
    {
     "data": {
      "text/plain": [
       "<google.cloud.bigquery.table._EmptyRowIterator at 0x7d992a95a4b0>"
      ]
     },
     "execution_count": 19,
     "metadata": {},
     "output_type": "execute_result"
    }
   ],
   "source": [
    "regex_id = r'_Pillar$'\n",
    "regex_name = r'(?i)\\s*Pillar\\s*'\n",
    "\n",
    "query = f\"\"\"\n",
    "    UPDATE {cleaned_table_ref}\n",
    "    SET \n",
    "        start_station_id = CASE \n",
    "            WHEN REGEXP_CONTAINS(start_station_id, r'Pillar') THEN REGEXP_REPLACE(start_station_id, r'{regex_id}', '') \n",
    "            ELSE start_station_id END,\n",
    "        start_station_name = CASE \n",
    "            WHEN REGEXP_CONTAINS(start_station_name, r'Pillar') THEN TRIM(REGEXP_REPLACE(start_station_name, r'{regex_name}', ' ')) \n",
    "            ELSE start_station_name END,\n",
    "        end_station_id = CASE \n",
    "            WHEN REGEXP_CONTAINS(end_station_id, r'Pillar') THEN REGEXP_REPLACE(end_station_id, r'{regex_id}', '') \n",
    "            ELSE end_station_id END,\n",
    "        end_station_name = CASE \n",
    "            WHEN REGEXP_CONTAINS(end_station_name, r'Pillar') THEN TRIM(REGEXP_REPLACE(end_station_name, r'{regex_name}', ' ')) \n",
    "            ELSE end_station_name END\n",
    "        WHERE \n",
    "            REGEXP_CONTAINS(start_station_id, r'Pillar') OR\n",
    "            REGEXP_CONTAINS(start_station_name, r'Pillar') OR\n",
    "            REGEXP_CONTAINS(end_station_id, r'Pillar') OR\n",
    "            REGEXP_CONTAINS(end_station_name, r'Pillar')\n",
    "\"\"\"\n",
    "\n",
    "job = client.query(query)\n",
    "job.result()\n"
   ]
  },
  {
   "cell_type": "code",
   "execution_count": 20,
   "id": "91d22488",
   "metadata": {},
   "outputs": [
    {
     "name": "stderr",
     "output_type": "stream",
     "text": [
      "/home/olshe/pers/eu-climate-economic-resilience/.venv/lib/python3.12/site-packages/google/cloud/bigquery/table.py:1957: UserWarning: BigQuery Storage module not found, fetch data with the REST endpoint instead.\n",
      "  warnings.warn(\n"
     ]
    },
    {
     "data": {
      "text/html": [
       "<div>\n",
       "<style scoped>\n",
       "    .dataframe tbody tr th:only-of-type {\n",
       "        vertical-align: middle;\n",
       "    }\n",
       "\n",
       "    .dataframe tbody tr th {\n",
       "        vertical-align: top;\n",
       "    }\n",
       "\n",
       "    .dataframe thead th {\n",
       "        text-align: right;\n",
       "    }\n",
       "</style>\n",
       "<table border=\"1\" class=\"dataframe\">\n",
       "  <thead>\n",
       "    <tr style=\"text-align: right;\">\n",
       "      <th></th>\n",
       "      <th>start_station_name</th>\n",
       "      <th>start_station_id</th>\n",
       "      <th>f0_</th>\n",
       "    </tr>\n",
       "  </thead>\n",
       "  <tbody>\n",
       "  </tbody>\n",
       "</table>\n",
       "</div>"
      ],
      "text/plain": [
       "Empty DataFrame\n",
       "Columns: [start_station_name, start_station_id, f0_]\n",
       "Index: []"
      ]
     },
     "execution_count": 20,
     "metadata": {},
     "output_type": "execute_result"
    }
   ],
   "source": [
    "query = f\"\"\"\n",
    "    SELECT start_station_name, start_station_id, COUNT(*)\n",
    "    FROM `{cleaned_table_ref}`\n",
    "    WHERE start_station_id IS NULL OR SAFE_CAST(start_station_id AS FLOAT64) IS NULL\n",
    "    GROUP BY start_station_name, start_station_id;\n",
    "\"\"\"\n",
    "\n",
    "df = client.query(query).to_dataframe()\n",
    "df"
   ]
  },
  {
   "cell_type": "code",
   "execution_count": 21,
   "id": "55ed64b6",
   "metadata": {},
   "outputs": [
    {
     "name": "stderr",
     "output_type": "stream",
     "text": [
      "/home/olshe/pers/eu-climate-economic-resilience/.venv/lib/python3.12/site-packages/google/cloud/bigquery/table.py:1957: UserWarning: BigQuery Storage module not found, fetch data with the REST endpoint instead.\n",
      "  warnings.warn(\n"
     ]
    },
    {
     "data": {
      "text/html": [
       "<div>\n",
       "<style scoped>\n",
       "    .dataframe tbody tr th:only-of-type {\n",
       "        vertical-align: middle;\n",
       "    }\n",
       "\n",
       "    .dataframe tbody tr th {\n",
       "        vertical-align: top;\n",
       "    }\n",
       "\n",
       "    .dataframe thead th {\n",
       "        text-align: right;\n",
       "    }\n",
       "</style>\n",
       "<table border=\"1\" class=\"dataframe\">\n",
       "  <thead>\n",
       "    <tr style=\"text-align: right;\">\n",
       "      <th></th>\n",
       "      <th>end_station_name</th>\n",
       "      <th>end_station_id</th>\n",
       "      <th>f0_</th>\n",
       "    </tr>\n",
       "  </thead>\n",
       "  <tbody>\n",
       "  </tbody>\n",
       "</table>\n",
       "</div>"
      ],
      "text/plain": [
       "Empty DataFrame\n",
       "Columns: [end_station_name, end_station_id, f0_]\n",
       "Index: []"
      ]
     },
     "execution_count": 21,
     "metadata": {},
     "output_type": "execute_result"
    }
   ],
   "source": [
    "query = f\"\"\"\n",
    "    SELECT end_station_name, end_station_id, COUNT(*)\n",
    "    FROM `{cleaned_table_ref}`\n",
    "    WHERE end_station_id IS NULL OR SAFE_CAST(end_station_id AS FLOAT64) IS NULL\n",
    "    GROUP BY end_station_name, end_station_id;\n",
    "\"\"\"\n",
    "\n",
    "df = client.query(query).to_dataframe()\n",
    "df"
   ]
  },
  {
   "cell_type": "code",
   "execution_count": 22,
   "id": "f430f6a8",
   "metadata": {},
   "outputs": [
    {
     "name": "stderr",
     "output_type": "stream",
     "text": [
      "/home/olshe/pers/eu-climate-economic-resilience/.venv/lib/python3.12/site-packages/google/cloud/bigquery/table.py:1957: UserWarning: BigQuery Storage module not found, fetch data with the REST endpoint instead.\n",
      "  warnings.warn(\n"
     ]
    },
    {
     "data": {
      "text/html": [
       "<div>\n",
       "<style scoped>\n",
       "    .dataframe tbody tr th:only-of-type {\n",
       "        vertical-align: middle;\n",
       "    }\n",
       "\n",
       "    .dataframe tbody tr th {\n",
       "        vertical-align: top;\n",
       "    }\n",
       "\n",
       "    .dataframe thead th {\n",
       "        text-align: right;\n",
       "    }\n",
       "</style>\n",
       "<table border=\"1\" class=\"dataframe\">\n",
       "  <thead>\n",
       "    <tr style=\"text-align: right;\">\n",
       "      <th></th>\n",
       "      <th>start_station_name</th>\n",
       "      <th>start_station_id</th>\n",
       "    </tr>\n",
       "  </thead>\n",
       "  <tbody>\n",
       "    <tr>\n",
       "      <th>194</th>\n",
       "      <td>Eastern Pkwy\\t&amp; St Marks Ave</td>\n",
       "      <td>3982.01</td>\n",
       "    </tr>\n",
       "    <tr>\n",
       "      <th>675</th>\n",
       "      <td>Eastern Pkwy &amp; St Marks Ave</td>\n",
       "      <td>3982.01</td>\n",
       "    </tr>\n",
       "    <tr>\n",
       "      <th>1562</th>\n",
       "      <td>Bridge St &amp; Water St</td>\n",
       "      <td>4968.03</td>\n",
       "    </tr>\n",
       "    <tr>\n",
       "      <th>421</th>\n",
       "      <td>Bridge St &amp; Front St</td>\n",
       "      <td>4968.03</td>\n",
       "    </tr>\n",
       "    <tr>\n",
       "      <th>2327</th>\n",
       "      <td>Metropolitan Ave &amp; Bedford Ave</td>\n",
       "      <td>5308.04</td>\n",
       "    </tr>\n",
       "    <tr>\n",
       "      <th>1948</th>\n",
       "      <td>Metropolitan Ave &amp; Bedford Ave</td>\n",
       "      <td>5308.04</td>\n",
       "    </tr>\n",
       "    <tr>\n",
       "      <th>280</th>\n",
       "      <td>Morton St &amp; Greenwich St</td>\n",
       "      <td>5772.05</td>\n",
       "    </tr>\n",
       "    <tr>\n",
       "      <th>470</th>\n",
       "      <td>Morton St &amp; Washington St</td>\n",
       "      <td>5772.05</td>\n",
       "    </tr>\n",
       "    <tr>\n",
       "      <th>1876</th>\n",
       "      <td>34th Ave &amp; Vernon Blvd</td>\n",
       "      <td>6873.01</td>\n",
       "    </tr>\n",
       "    <tr>\n",
       "      <th>1227</th>\n",
       "      <td>34 Ave &amp; Vernon Blvd</td>\n",
       "      <td>6873.01</td>\n",
       "    </tr>\n",
       "    <tr>\n",
       "      <th>424</th>\n",
       "      <td>Central Park W &amp; W 68 St</td>\n",
       "      <td>7079.06</td>\n",
       "    </tr>\n",
       "    <tr>\n",
       "      <th>497</th>\n",
       "      <td>Central Park West &amp; W 68 St</td>\n",
       "      <td>7079.06</td>\n",
       "    </tr>\n",
       "    <tr>\n",
       "      <th>1328</th>\n",
       "      <td>Central Park West &amp; W 72 St</td>\n",
       "      <td>7141.07</td>\n",
       "    </tr>\n",
       "    <tr>\n",
       "      <th>949</th>\n",
       "      <td>Central Park W &amp; W 72 St</td>\n",
       "      <td>7141.07</td>\n",
       "    </tr>\n",
       "    <tr>\n",
       "      <th>1780</th>\n",
       "      <td>3 Ave &amp; E 82 St</td>\n",
       "      <td>7154.1</td>\n",
       "    </tr>\n",
       "    <tr>\n",
       "      <th>87</th>\n",
       "      <td>3 Ave &amp; E 81 St</td>\n",
       "      <td>7154.1</td>\n",
       "    </tr>\n",
       "    <tr>\n",
       "      <th>1136</th>\n",
       "      <td>3 Ave &amp; E 81 St</td>\n",
       "      <td>7154.10</td>\n",
       "    </tr>\n",
       "    <tr>\n",
       "      <th>141</th>\n",
       "      <td>3 Ave &amp; E 82 St</td>\n",
       "      <td>7154.10</td>\n",
       "    </tr>\n",
       "    <tr>\n",
       "      <th>950</th>\n",
       "      <td>Central Park W &amp; W 76 St</td>\n",
       "      <td>7253.04</td>\n",
       "    </tr>\n",
       "    <tr>\n",
       "      <th>242</th>\n",
       "      <td>Central Park West &amp; W 76 St</td>\n",
       "      <td>7253.04</td>\n",
       "    </tr>\n",
       "    <tr>\n",
       "      <th>1510</th>\n",
       "      <td>W 82 St &amp; Central Park W</td>\n",
       "      <td>7304.08</td>\n",
       "    </tr>\n",
       "    <tr>\n",
       "      <th>1718</th>\n",
       "      <td>W 82 St &amp; Central Park West</td>\n",
       "      <td>7304.08</td>\n",
       "    </tr>\n",
       "    <tr>\n",
       "      <th>1602</th>\n",
       "      <td>Central Park West &amp; W 85 St</td>\n",
       "      <td>7354.01</td>\n",
       "    </tr>\n",
       "    <tr>\n",
       "      <th>2062</th>\n",
       "      <td>Central Park W &amp; W 85 St</td>\n",
       "      <td>7354.01</td>\n",
       "    </tr>\n",
       "    <tr>\n",
       "      <th>2193</th>\n",
       "      <td>Ichan Stadium Plaza</td>\n",
       "      <td>7514.06</td>\n",
       "    </tr>\n",
       "    <tr>\n",
       "      <th>250</th>\n",
       "      <td>Icahn Stadium Plaza</td>\n",
       "      <td>7514.06</td>\n",
       "    </tr>\n",
       "    <tr>\n",
       "      <th>1577</th>\n",
       "      <td>W 106 St &amp; Central Park West</td>\n",
       "      <td>7606.01</td>\n",
       "    </tr>\n",
       "    <tr>\n",
       "      <th>142</th>\n",
       "      <td>W 106 St &amp; Central Park W</td>\n",
       "      <td>7606.01</td>\n",
       "    </tr>\n",
       "    <tr>\n",
       "      <th>2302</th>\n",
       "      <td>5 Av &amp; W 139 St</td>\n",
       "      <td>7851.04</td>\n",
       "    </tr>\n",
       "    <tr>\n",
       "      <th>1079</th>\n",
       "      <td>5 Ave &amp; W 139 St</td>\n",
       "      <td>7851.04</td>\n",
       "    </tr>\n",
       "    <tr>\n",
       "      <th>951</th>\n",
       "      <td>W 168 St &amp; Fort Washington Ave</td>\n",
       "      <td>8226.07</td>\n",
       "    </tr>\n",
       "    <tr>\n",
       "      <th>1046</th>\n",
       "      <td>W 168 St &amp; Ft Washington Ave</td>\n",
       "      <td>8226.07</td>\n",
       "    </tr>\n",
       "    <tr>\n",
       "      <th>2189</th>\n",
       "      <td>W 180 St &amp; Fort Washington Ave</td>\n",
       "      <td>8358.03</td>\n",
       "    </tr>\n",
       "    <tr>\n",
       "      <th>97</th>\n",
       "      <td>W 180 St &amp; Ft Washington Ave</td>\n",
       "      <td>8358.03</td>\n",
       "    </tr>\n",
       "  </tbody>\n",
       "</table>\n",
       "</div>"
      ],
      "text/plain": [
       "                   start_station_name start_station_id\n",
       "194      Eastern Pkwy\\t& St Marks Ave          3982.01\n",
       "675       Eastern Pkwy & St Marks Ave          3982.01\n",
       "1562             Bridge St & Water St          4968.03\n",
       "421              Bridge St & Front St          4968.03\n",
       "2327  Metropolitan Ave & Bedford Ave           5308.04\n",
       "1948   Metropolitan Ave & Bedford Ave          5308.04\n",
       "280          Morton St & Greenwich St          5772.05\n",
       "470         Morton St & Washington St          5772.05\n",
       "1876           34th Ave & Vernon Blvd          6873.01\n",
       "1227             34 Ave & Vernon Blvd          6873.01\n",
       "424          Central Park W & W 68 St          7079.06\n",
       "497       Central Park West & W 68 St          7079.06\n",
       "1328      Central Park West & W 72 St          7141.07\n",
       "949          Central Park W & W 72 St          7141.07\n",
       "1780                  3 Ave & E 82 St           7154.1\n",
       "87                    3 Ave & E 81 St           7154.1\n",
       "1136                  3 Ave & E 81 St          7154.10\n",
       "141                   3 Ave & E 82 St          7154.10\n",
       "950          Central Park W & W 76 St          7253.04\n",
       "242       Central Park West & W 76 St          7253.04\n",
       "1510         W 82 St & Central Park W          7304.08\n",
       "1718      W 82 St & Central Park West          7304.08\n",
       "1602      Central Park West & W 85 St          7354.01\n",
       "2062         Central Park W & W 85 St          7354.01\n",
       "2193              Ichan Stadium Plaza          7514.06\n",
       "250               Icahn Stadium Plaza          7514.06\n",
       "1577     W 106 St & Central Park West          7606.01\n",
       "142         W 106 St & Central Park W          7606.01\n",
       "2302                  5 Av & W 139 St          7851.04\n",
       "1079                 5 Ave & W 139 St          7851.04\n",
       "951    W 168 St & Fort Washington Ave          8226.07\n",
       "1046     W 168 St & Ft Washington Ave          8226.07\n",
       "2189   W 180 St & Fort Washington Ave          8358.03\n",
       "97       W 180 St & Ft Washington Ave          8358.03"
      ]
     },
     "execution_count": 22,
     "metadata": {},
     "output_type": "execute_result"
    }
   ],
   "source": [
    "query = f\"\"\"\n",
    "    SELECT start_station_name, start_station_id\n",
    "    FROM {cleaned_table_ref}\n",
    "    GROUP BY start_station_name, start_station_id\n",
    "\"\"\"\n",
    "\n",
    "df = client.query(query).to_dataframe()\n",
    "df[df['start_station_id'].duplicated(keep=False)].sort_values(by='start_station_id')"
   ]
  },
  {
   "cell_type": "code",
   "execution_count": 23,
   "id": "1238e98c",
   "metadata": {},
   "outputs": [
    {
     "data": {
      "text/plain": [
       "<google.cloud.bigquery.table._EmptyRowIterator at 0x7d992a991790>"
      ]
     },
     "execution_count": 23,
     "metadata": {},
     "output_type": "execute_result"
    }
   ],
   "source": [
    "regex = r'^\\d+\\.\\d{2}$'\n",
    "\n",
    "query = f\"\"\"\n",
    "    UPDATE {cleaned_table_ref}\n",
    "    SET start_station_id = CAST(FORMAT('%.2f', CAST(start_station_id AS FLOAT64)) AS STRING),\n",
    "        end_station_id = CAST(FORMAT('%.2f', CAST(end_station_id AS FLOAT64)) AS STRING)\n",
    "    WHERE NOT REGEXP_CONTAINS(start_station_id, r'{regex}') OR NOT REGEXP_CONTAINS(end_station_id, r'{regex}')\n",
    "\"\"\"\n",
    "job = client.query(query)\n",
    "job.result()"
   ]
  },
  {
   "cell_type": "code",
   "execution_count": 24,
   "id": "273723ec",
   "metadata": {},
   "outputs": [
    {
     "data": {
      "text/plain": [
       "<google.cloud.bigquery.table._EmptyRowIterator at 0x7d992aa973b0>"
      ]
     },
     "execution_count": 24,
     "metadata": {},
     "output_type": "execute_result"
    }
   ],
   "source": [
    "convert_names = {\n",
    "    'West': 'W',\n",
    "    'Fort': 'Ft',\n",
    "    'Av': 'Ave',\n",
    "    'Ichan Stadium': 'Icahn Stadium'\n",
    "}\n",
    "\n",
    "sql_expr_start = \"start_station_name\"\n",
    "for old, new in convert_names.items():\n",
    "    sql_expr_start = f\"REGEXP_REPLACE({sql_expr_start}, r'\\\\b{old}\\\\b', '{new}')\"\n",
    "\n",
    "sql_expr_end = \"end_station_name\"\n",
    "for old, new in convert_names.items():\n",
    "    sql_expr_end = f\"REGEXP_REPLACE({sql_expr_end}, r'\\\\b{old}\\\\b', '{new}')\"\n",
    "\n",
    "conditions = []\n",
    "for old, new in convert_names.items():\n",
    "    conditions.append(f\"start_station_name LIKE '%{old}%' OR end_station_name LIKE '%{old}%'\")\n",
    "clause = ' OR '.join(conditions)\n",
    "\n",
    "query = f\"\"\"\n",
    "    UPDATE {cleaned_table_ref}\n",
    "    SET start_station_name = {sql_expr_start},\n",
    "        end_station_name = {sql_expr_end}\n",
    "    WHERE {clause}\n",
    "\"\"\"\n",
    "\n",
    "job = client.query(query)\n",
    "job.result()"
   ]
  },
  {
   "cell_type": "code",
   "execution_count": 25,
   "id": "ca210e4b",
   "metadata": {},
   "outputs": [
    {
     "data": {
      "text/plain": [
       "<google.cloud.bigquery.table._EmptyRowIterator at 0x7d992ab071d0>"
      ]
     },
     "execution_count": 25,
     "metadata": {},
     "output_type": "execute_result"
    }
   ],
   "source": [
    "pattern = r'\\\\t'\n",
    "\n",
    "query = f\"\"\"\n",
    "    UPDATE {cleaned_table_ref}\n",
    "    SET start_station_name = REGEXP_REPLACE(start_station_name, r'{pattern}', ' '),\n",
    "        end_station_name = REGEXP_REPLACE(end_station_name, r'{pattern}', ' ')\n",
    "    WHERE REGEXP_CONTAINS(start_station_name, r'{pattern}') OR REGEXP_CONTAINS(end_station_name, r'{pattern}')\n",
    "\"\"\"\n",
    "\n",
    "job = client.query(query)\n",
    "job.result()"
   ]
  },
  {
   "cell_type": "code",
   "execution_count": 26,
   "id": "c941f485",
   "metadata": {},
   "outputs": [
    {
     "data": {
      "text/plain": [
       "<google.cloud.bigquery.table._EmptyRowIterator at 0x7d992a9581d0>"
      ]
     },
     "execution_count": 26,
     "metadata": {},
     "output_type": "execute_result"
    }
   ],
   "source": [
    "pattern = r'(\\d+)(st|nd|rd|th)\\b'\n",
    "replace = r'\\1'\n",
    "\n",
    "query = f\"\"\"\n",
    "    UPDATE {cleaned_table_ref}\n",
    "    SET start_station_id = REGEXP_REPLACE(start_station_name, r'{pattern}', r'{replace}'),\n",
    "        end_station_name = REGEXP_REPLACE(end_station_name, r'{pattern}', r'{replace}')\n",
    "    WHERE REGEXP_CONTAINS(start_station_name, r'{pattern}') OR REGEXP_CONTAINS(end_station_name, r'{pattern}')\n",
    "\"\"\"\n",
    "\n",
    "job = client.query(query)\n",
    "job.result()"
   ]
  },
  {
   "cell_type": "code",
   "execution_count": 27,
   "id": "08317b12",
   "metadata": {},
   "outputs": [
    {
     "name": "stderr",
     "output_type": "stream",
     "text": [
      "/home/olshe/pers/eu-climate-economic-resilience/.venv/lib/python3.12/site-packages/google/cloud/bigquery/table.py:1957: UserWarning: BigQuery Storage module not found, fetch data with the REST endpoint instead.\n",
      "  warnings.warn(\n"
     ]
    },
    {
     "data": {
      "text/html": [
       "<div>\n",
       "<style scoped>\n",
       "    .dataframe tbody tr th:only-of-type {\n",
       "        vertical-align: middle;\n",
       "    }\n",
       "\n",
       "    .dataframe tbody tr th {\n",
       "        vertical-align: top;\n",
       "    }\n",
       "\n",
       "    .dataframe thead th {\n",
       "        text-align: right;\n",
       "    }\n",
       "</style>\n",
       "<table border=\"1\" class=\"dataframe\">\n",
       "  <thead>\n",
       "    <tr style=\"text-align: right;\">\n",
       "      <th></th>\n",
       "      <th>end_station_name</th>\n",
       "      <th>end_station_id</th>\n",
       "      <th>f0_</th>\n",
       "    </tr>\n",
       "  </thead>\n",
       "  <tbody>\n",
       "    <tr>\n",
       "      <th>1336</th>\n",
       "      <td>Bridge St &amp; Water St</td>\n",
       "      <td>4968.03</td>\n",
       "      <td>27593</td>\n",
       "    </tr>\n",
       "    <tr>\n",
       "      <th>1953</th>\n",
       "      <td>Bridge St &amp; Front St</td>\n",
       "      <td>4968.03</td>\n",
       "      <td>19473</td>\n",
       "    </tr>\n",
       "    <tr>\n",
       "      <th>163</th>\n",
       "      <td>Metropolitan Ave &amp; Bedford Ave</td>\n",
       "      <td>5308.04</td>\n",
       "      <td>135516</td>\n",
       "    </tr>\n",
       "    <tr>\n",
       "      <th>2085</th>\n",
       "      <td>Metropolitan Ave &amp; Bedford Ave</td>\n",
       "      <td>5308.04</td>\n",
       "      <td>45</td>\n",
       "    </tr>\n",
       "    <tr>\n",
       "      <th>1038</th>\n",
       "      <td>Morton St &amp; Greenwich St</td>\n",
       "      <td>5772.05</td>\n",
       "      <td>39385</td>\n",
       "    </tr>\n",
       "    <tr>\n",
       "      <th>1741</th>\n",
       "      <td>Morton St &amp; Washington St</td>\n",
       "      <td>5772.05</td>\n",
       "      <td>31182</td>\n",
       "    </tr>\n",
       "    <tr>\n",
       "      <th>863</th>\n",
       "      <td>3 Ave &amp; E 81 St</td>\n",
       "      <td>7154.10</td>\n",
       "      <td>21866</td>\n",
       "    </tr>\n",
       "    <tr>\n",
       "      <th>1170</th>\n",
       "      <td>3 Ave &amp; E 82 St</td>\n",
       "      <td>7154.10</td>\n",
       "      <td>41780</td>\n",
       "    </tr>\n",
       "  </tbody>\n",
       "</table>\n",
       "</div>"
      ],
      "text/plain": [
       "                     end_station_name end_station_id     f0_\n",
       "1336             Bridge St & Water St        4968.03   27593\n",
       "1953             Bridge St & Front St        4968.03   19473\n",
       "163    Metropolitan Ave & Bedford Ave        5308.04  135516\n",
       "2085  Metropolitan Ave & Bedford Ave         5308.04      45\n",
       "1038         Morton St & Greenwich St        5772.05   39385\n",
       "1741        Morton St & Washington St        5772.05   31182\n",
       "863                   3 Ave & E 81 St        7154.10   21866\n",
       "1170                  3 Ave & E 82 St        7154.10   41780"
      ]
     },
     "execution_count": 27,
     "metadata": {},
     "output_type": "execute_result"
    }
   ],
   "source": [
    "query = f\"\"\"\n",
    "    SELECT end_station_name, end_station_id, COUNT(*)\n",
    "    FROM {cleaned_table_ref}\n",
    "    GROUP BY end_station_name, end_station_id\n",
    "\"\"\"\n",
    "\n",
    "df = client.query(query).to_dataframe()\n",
    "df[df['end_station_id'].duplicated(keep=False)].sort_values(by='end_station_id')"
   ]
  },
  {
   "cell_type": "code",
   "execution_count": 28,
   "id": "bbd694b3",
   "metadata": {},
   "outputs": [
    {
     "data": {
      "text/plain": [
       "<google.cloud.bigquery.table._EmptyRowIterator at 0x7d9918745eb0>"
      ]
     },
     "execution_count": 28,
     "metadata": {},
     "output_type": "execute_result"
    }
   ],
   "source": [
    "convert_names = {\n",
    "    'Bridge St & Water St': 'Bridge St & Front St',\n",
    "    'Morton St & Washington St': 'Morton St & Greenwich St',\n",
    "    '3 Ave & E 81 St': '3 Ave & E 82 St'\n",
    "}\n",
    "\n",
    "case_statements_start = []\n",
    "for old, new in convert_names.items():\n",
    "    case_statements_start.append(f\"WHEN start_station_name = '{old}' THEN '{new}'\")\n",
    "\n",
    "case_statements_end = []\n",
    "for old, new in convert_names.items():\n",
    "    case_statements_end.append(f\"WHEN end_station_name = '{old}' THEN '{new}'\")\n",
    "\n",
    "query = f\"\"\"\n",
    "    UPDATE {cleaned_table_ref}\n",
    "    SET start_station_name = CASE {' '.join(case_statements_start)} ELSE start_station_name END,\n",
    "        end_station_name = CASE {' '.join(case_statements_end)} ELSE end_station_name END\n",
    "    WHERE start_station_name IN ({', '.join(f\"'{old}'\" for old in convert_names.keys())}) OR end_station_name IN ({', '.join(f\"'{old}'\" for old in convert_names.keys())})\n",
    "\"\"\"\n",
    "\n",
    "job = client.query(query)\n",
    "job.result()"
   ]
  },
  {
   "cell_type": "code",
   "execution_count": 29,
   "id": "aaa38a2c",
   "metadata": {},
   "outputs": [
    {
     "name": "stderr",
     "output_type": "stream",
     "text": [
      "/home/olshe/pers/eu-climate-economic-resilience/.venv/lib/python3.12/site-packages/google/cloud/bigquery/table.py:1957: UserWarning: BigQuery Storage module not found, fetch data with the REST endpoint instead.\n",
      "  warnings.warn(\n"
     ]
    },
    {
     "data": {
      "text/html": [
       "<div>\n",
       "<style scoped>\n",
       "    .dataframe tbody tr th:only-of-type {\n",
       "        vertical-align: middle;\n",
       "    }\n",
       "\n",
       "    .dataframe tbody tr th {\n",
       "        vertical-align: top;\n",
       "    }\n",
       "\n",
       "    .dataframe thead th {\n",
       "        text-align: right;\n",
       "    }\n",
       "</style>\n",
       "<table border=\"1\" class=\"dataframe\">\n",
       "  <thead>\n",
       "    <tr style=\"text-align: right;\">\n",
       "      <th></th>\n",
       "      <th>start_station_name</th>\n",
       "      <th>start_station_id</th>\n",
       "      <th>f0_</th>\n",
       "    </tr>\n",
       "  </thead>\n",
       "  <tbody>\n",
       "    <tr>\n",
       "      <th>1502</th>\n",
       "      <td>Metropolitan Ave &amp; Bedford Ave</td>\n",
       "      <td>5308.04</td>\n",
       "      <td>44</td>\n",
       "    </tr>\n",
       "    <tr>\n",
       "      <th>2391</th>\n",
       "      <td>Metropolitan Ave &amp; Bedford Ave</td>\n",
       "      <td>5308.04</td>\n",
       "      <td>134469</td>\n",
       "    </tr>\n",
       "  </tbody>\n",
       "</table>\n",
       "</div>"
      ],
      "text/plain": [
       "                   start_station_name start_station_id     f0_\n",
       "1502  Metropolitan Ave & Bedford Ave           5308.04      44\n",
       "2391   Metropolitan Ave & Bedford Ave          5308.04  134469"
      ]
     },
     "execution_count": 29,
     "metadata": {},
     "output_type": "execute_result"
    }
   ],
   "source": [
    "query = f\"\"\"\n",
    "    SELECT start_station_name, start_station_id, COUNT(*)\n",
    "    FROM {cleaned_table_ref}\n",
    "    GROUP BY start_station_name, start_station_id\n",
    "\"\"\"\n",
    "\n",
    "df = client.query(query).to_dataframe()\n",
    "df[df['start_station_id'].duplicated(keep=False)].sort_values(by='start_station_id')"
   ]
  },
  {
   "cell_type": "code",
   "execution_count": 30,
   "id": "1b9a29b2",
   "metadata": {},
   "outputs": [
    {
     "name": "stderr",
     "output_type": "stream",
     "text": [
      "<>:8: SyntaxWarning: invalid escape sequence '\\s'\n",
      "<>:8: SyntaxWarning: invalid escape sequence '\\s'\n",
      "/tmp/ipykernel_25653/1715883286.py:8: SyntaxWarning: invalid escape sequence '\\s'\n",
      "  \"\"\"\n"
     ]
    },
    {
     "data": {
      "text/plain": [
       "<google.cloud.bigquery.table._EmptyRowIterator at 0x7d992ac789e0>"
      ]
     },
     "execution_count": 30,
     "metadata": {},
     "output_type": "execute_result"
    }
   ],
   "source": [
    "regex = r'^\\s+|\\s+$|\\s{2,}'\n",
    "\n",
    "query = f\"\"\"\n",
    "    UPDATE {cleaned_table_ref}\n",
    "    SET start_station_name = REGEXP_REPLACE(TRIM(start_station_name), r'\\s+', ' '),\n",
    "        end_station_name = REGEXP_REPLACE(TRIM(end_station_name), r'\\s+', ' ')\n",
    "    WHERE REGEXP_CONTAINS(start_station_name, r'{regex}') OR REGEXP_CONTAINS(end_station_name, r'{regex}')\n",
    "\"\"\"\n",
    "\n",
    "job = client.query(query)\n",
    "job.result()"
   ]
  },
  {
   "cell_type": "code",
   "execution_count": 31,
   "id": "10de6459",
   "metadata": {},
   "outputs": [
    {
     "name": "stderr",
     "output_type": "stream",
     "text": [
      "/home/olshe/pers/eu-climate-economic-resilience/.venv/lib/python3.12/site-packages/google/cloud/bigquery/table.py:1957: UserWarning: BigQuery Storage module not found, fetch data with the REST endpoint instead.\n",
      "  warnings.warn(\n"
     ]
    },
    {
     "data": {
      "text/html": [
       "<div>\n",
       "<style scoped>\n",
       "    .dataframe tbody tr th:only-of-type {\n",
       "        vertical-align: middle;\n",
       "    }\n",
       "\n",
       "    .dataframe tbody tr th {\n",
       "        vertical-align: top;\n",
       "    }\n",
       "\n",
       "    .dataframe thead th {\n",
       "        text-align: right;\n",
       "    }\n",
       "</style>\n",
       "<table border=\"1\" class=\"dataframe\">\n",
       "  <thead>\n",
       "    <tr style=\"text-align: right;\">\n",
       "      <th></th>\n",
       "      <th>end_station_name</th>\n",
       "      <th>end_station_id</th>\n",
       "      <th>f0_</th>\n",
       "    </tr>\n",
       "  </thead>\n",
       "  <tbody>\n",
       "  </tbody>\n",
       "</table>\n",
       "</div>"
      ],
      "text/plain": [
       "Empty DataFrame\n",
       "Columns: [end_station_name, end_station_id, f0_]\n",
       "Index: []"
      ]
     },
     "execution_count": 31,
     "metadata": {},
     "output_type": "execute_result"
    }
   ],
   "source": [
    "query = f\"\"\"\n",
    "    SELECT end_station_name, end_station_id, COUNT(*)\n",
    "    FROM {cleaned_table_ref}\n",
    "    GROUP BY end_station_name, end_station_id\n",
    "\"\"\"\n",
    "\n",
    "df = client.query(query).to_dataframe()\n",
    "df[df['end_station_id'].duplicated(keep=False)].sort_values(by='end_station_id')"
   ]
  },
  {
   "cell_type": "code",
   "execution_count": null,
   "id": "92544a6e",
   "metadata": {},
   "outputs": [],
   "source": [
    "table = client.get_table(cleaned_table_ref)\n",
    "schema = table.schema\n",
    "new_columns = [\n",
    "    bigquery.SchemaField(\"day_of_week\", \"STRING\", mode=\"NULLABLE\"),\n",
    "    bigquery.SchemaField(\"ride_time\", \"FLOAT\", mode=\"NULLABLE\")\n",
    "]\n",
    "\n",
    "new_schema = schema[:] + new_columns\n",
    "table.schema = new_schema\n",
    "\n",
    "job = client.update_table(table, ['schema'])\n",
    "job.result()"
   ]
  },
  {
   "cell_type": "code",
   "execution_count": 187,
   "id": "814c1353",
   "metadata": {},
   "outputs": [
    {
     "data": {
      "text/plain": [
       "<google.cloud.bigquery.table._EmptyRowIterator at 0x7d98be157260>"
      ]
     },
     "execution_count": 187,
     "metadata": {},
     "output_type": "execute_result"
    }
   ],
   "source": [
    "query = f\"\"\"\n",
    "    UPDATE {cleaned_table_ref}\n",
    "    SET day_of_week = \n",
    "        CASE EXTRACT(DAYOFWEEK FROM started_at) \n",
    "            WHEN 1 THEN 'Sunday'\n",
    "            WHEN 2 THEN 'Monday' \n",
    "            WHEN 3 THEN 'Tuesday'\n",
    "            WHEN 4 THEN 'Wednesday'\n",
    "            WHEN 5 THEN 'Thursday'\n",
    "            WHEN 6 THEN 'Friday'\n",
    "            WHEN 7 THEN 'Saturday'\n",
    "        END,\n",
    "        ride_time = TIMESTAMP_DIFF(ended_at, started_at, MINUTE)\n",
    "    WHERE TRUE\n",
    "\"\"\"\n",
    "\n",
    "job = client.query(query)\n",
    "job.result()"
   ]
  },
  {
   "cell_type": "markdown",
   "id": "23aa3c54",
   "metadata": {},
   "source": [
    "# Main Part"
   ]
  },
  {
   "cell_type": "code",
   "execution_count": 69,
   "id": "93f5fe33",
   "metadata": {},
   "outputs": [
    {
     "name": "stderr",
     "output_type": "stream",
     "text": [
      "/home/olshe/pers/eu-climate-economic-resilience/.venv/lib/python3.12/site-packages/google/cloud/bigquery/table.py:1957: UserWarning: BigQuery Storage module not found, fetch data with the REST endpoint instead.\n",
      "  warnings.warn(\n"
     ]
    },
    {
     "data": {
      "text/html": [
       "<div>\n",
       "<style scoped>\n",
       "    .dataframe tbody tr th:only-of-type {\n",
       "        vertical-align: middle;\n",
       "    }\n",
       "\n",
       "    .dataframe tbody tr th {\n",
       "        vertical-align: top;\n",
       "    }\n",
       "\n",
       "    .dataframe thead th {\n",
       "        text-align: right;\n",
       "    }\n",
       "</style>\n",
       "<table border=\"1\" class=\"dataframe\">\n",
       "  <thead>\n",
       "    <tr style=\"text-align: right;\">\n",
       "      <th></th>\n",
       "      <th>member_casual</th>\n",
       "    </tr>\n",
       "  </thead>\n",
       "  <tbody>\n",
       "    <tr>\n",
       "      <th>0</th>\n",
       "      <td>member</td>\n",
       "    </tr>\n",
       "    <tr>\n",
       "      <th>1</th>\n",
       "      <td>casual</td>\n",
       "    </tr>\n",
       "  </tbody>\n",
       "</table>\n",
       "</div>"
      ],
      "text/plain": [
       "  member_casual\n",
       "0        member\n",
       "1        casual"
      ]
     },
     "execution_count": 69,
     "metadata": {},
     "output_type": "execute_result"
    }
   ],
   "source": [
    "query = f\"\"\"\n",
    "    SELECT DISTINCT member_casual\n",
    "    FROM {cleaned_table_ref}\n",
    "\"\"\"\n",
    "\n",
    "df = client.query(query).to_dataframe()\n",
    "df"
   ]
  },
  {
   "cell_type": "code",
   "execution_count": 70,
   "id": "e360c1fa",
   "metadata": {},
   "outputs": [
    {
     "name": "stderr",
     "output_type": "stream",
     "text": [
      "/home/olshe/pers/eu-climate-economic-resilience/.venv/lib/python3.12/site-packages/google/cloud/bigquery/table.py:1957: UserWarning: BigQuery Storage module not found, fetch data with the REST endpoint instead.\n",
      "  warnings.warn(\n"
     ]
    },
    {
     "data": {
      "text/html": [
       "<div>\n",
       "<style scoped>\n",
       "    .dataframe tbody tr th:only-of-type {\n",
       "        vertical-align: middle;\n",
       "    }\n",
       "\n",
       "    .dataframe tbody tr th {\n",
       "        vertical-align: top;\n",
       "    }\n",
       "\n",
       "    .dataframe thead th {\n",
       "        text-align: right;\n",
       "    }\n",
       "</style>\n",
       "<table border=\"1\" class=\"dataframe\">\n",
       "  <thead>\n",
       "    <tr style=\"text-align: right;\">\n",
       "      <th></th>\n",
       "      <th>rideable_type</th>\n",
       "    </tr>\n",
       "  </thead>\n",
       "  <tbody>\n",
       "    <tr>\n",
       "      <th>0</th>\n",
       "      <td>electric_bike</td>\n",
       "    </tr>\n",
       "    <tr>\n",
       "      <th>1</th>\n",
       "      <td>classic_bike</td>\n",
       "    </tr>\n",
       "  </tbody>\n",
       "</table>\n",
       "</div>"
      ],
      "text/plain": [
       "   rideable_type\n",
       "0  electric_bike\n",
       "1   classic_bike"
      ]
     },
     "execution_count": 70,
     "metadata": {},
     "output_type": "execute_result"
    }
   ],
   "source": [
    "query = f\"\"\"\n",
    "    SELECT DISTINCT rideable_type\n",
    "    FROM {cleaned_table_ref}\n",
    "\"\"\"\n",
    "\n",
    "df = client.query(query).to_dataframe()\n",
    "df"
   ]
  },
  {
   "cell_type": "code",
   "execution_count": 38,
   "id": "fe3a2c46",
   "metadata": {},
   "outputs": [
    {
     "name": "stdout",
     "output_type": "stream",
     "text": [
      "Average ridetime for members is 10.75 minutes.\n",
      "Average ridetime for casual users is 17.12 minutes.\n",
      "\n",
      "Difference is 6.37 minutes.\n"
     ]
    }
   ],
   "source": [
    "query = f\"\"\"\n",
    "    SELECT member_casual, AVG(ride_time) AS avg_time\n",
    "    FROM {cleaned_table_ref}\n",
    "    GROUP BY member_casual\n",
    "\"\"\"\n",
    "\n",
    "df = client.query(query).to_dataframe()\n",
    "\n",
    "member_avg_time = df[df['member_casual'] == 'member']['avg_time'].iloc[0]\n",
    "casual_avg_time = df[df['member_casual'] == 'casual']['avg_time'].iloc[0]\n",
    "\n",
    "print(f'Average ridetime for members is {np.round(member_avg_time, 2)} minutes.')\n",
    "print(f'Average ridetime for casual users is {np.round(casual_avg_time, 2)} minutes.')\n",
    "print()\n",
    "print(f'Difference is {np.round(np.abs(member_avg_time - casual_avg_time), 2)} minutes.')"
   ]
  },
  {
   "cell_type": "code",
   "execution_count": 47,
   "id": "c17f2bc8",
   "metadata": {},
   "outputs": [
    {
     "name": "stderr",
     "output_type": "stream",
     "text": [
      "/home/olshe/pers/eu-climate-economic-resilience/.venv/lib/python3.12/site-packages/google/cloud/bigquery/table.py:1957: UserWarning: BigQuery Storage module not found, fetch data with the REST endpoint instead.\n",
      "  warnings.warn(\n"
     ]
    },
    {
     "name": "stdout",
     "output_type": "stream",
     "text": [
      "Average ridetime for members on classic bike is 10.69 and on electric bike is 10.78.\n",
      "Average ridetime for casuals on classic bike is 19.41 and on electric bike is 16.26.\n"
     ]
    }
   ],
   "source": [
    "query = f\"\"\"\n",
    "    SELECT member_casual, rideable_type, AVG(ride_time) AS avg_time\n",
    "    FROM {cleaned_table_ref}\n",
    "    GROUP BY member_casual, rideable_type\n",
    "\"\"\"\n",
    "\n",
    "df = client.query(query).to_dataframe()\n",
    "\n",
    "member_classic_time = df[(df['member_casual'] == 'member') & (df['rideable_type'] == 'classic_bike')]['avg_time'].iloc[0]\n",
    "member_electric_time = df[(df['member_casual'] == 'member') & (df['rideable_type'] == 'electric_bike')]['avg_time'].iloc[0]\n",
    "\n",
    "casual_classic_time = df[(df['member_casual'] == 'casual') & (df['rideable_type'] == 'classic_bike')]['avg_time'].iloc[0]\n",
    "casual_electric_time = df[(df['member_casual'] == 'casual') & (df['rideable_type'] == 'electric_bike')]['avg_time'].iloc[0]\n",
    "\n",
    "print(f'Average ridetime for members on classic bike is {np.round(member_classic_time, 2)} and on electric bike is {np.round(member_electric_time, 2)}.')\n",
    "print(f'Average ridetime for casuals on classic bike is {np.round(casual_classic_time, 2)} and on electric bike is {np.round(casual_electric_time, 2)}.')"
   ]
  },
  {
   "cell_type": "code",
   "execution_count": 15,
   "id": "1dbe2bcb",
   "metadata": {},
   "outputs": [
    {
     "name": "stderr",
     "output_type": "stream",
     "text": [
      "/home/olshe/pers/eu-climate-economic-resilience/.venv/lib/python3.12/site-packages/google/cloud/bigquery/table.py:1957: UserWarning: BigQuery Storage module not found, fetch data with the REST endpoint instead.\n",
      "  warnings.warn(\n"
     ]
    },
    {
     "data": {
      "text/plain": [
       "<matplotlib.legend.Legend at 0x7099dc1dc110>"
      ]
     },
     "execution_count": 15,
     "metadata": {},
     "output_type": "execute_result"
    },
    {
     "data": {
      "image/png": "[encoded data removed]",
      "text/plain": [
       "<Figure size 1400x600 with 2 Axes>"
      ]
     },
     "metadata": {},
     "output_type": "display_data"
    }
   ],
   "source": [
    "query = f\"\"\"\n",
    "    SELECT \n",
    "        member_casual,\n",
    "        rideable_type,\n",
    "        day_of_week, \n",
    "        AVG(ride_time) as avg_time\n",
    "        FROM {cleaned_table_ref}\n",
    "    GROUP BY member_casual, rideable_type, day_of_week\n",
    "\"\"\"\n",
    "\n",
    "df = client.query(query).to_dataframe()\n",
    "\n",
    "custom_dict = {'Sunday': 0, 'Monday': 1, 'Tuesday': 2, 'Wednesday': 3, 'Thursday': 4, 'Friday': 5, 'Saturday': 6} \n",
    "df = df.sort_values(by='day_of_week', key=lambda x: x.map(custom_dict))\n",
    "\n",
    "member_df = df[df['member_casual'] == 'member']\n",
    "casual_df = df[df['member_casual'] == 'casual']\n",
    "\n",
    "fig, ax = plt.subplots(1,2, figsize=(14, 6))\n",
    "\n",
    "sns.barplot(data=member_df, x='day_of_week', y='avg_time', hue='rideable_type', ax=ax[0])\n",
    "sns.barplot(data=casual_df, x='day_of_week', y='avg_time', hue='rideable_type', ax=ax[1])\n",
    "\n",
    "ax[0].tick_params(labelrotation=45)\n",
    "ax[0].legend(loc='lower right')\n",
    "\n",
    "ax[1].tick_params(labelrotation=45)\n",
    "ax[1].legend(loc='lower right')"
   ]
  },
  {
   "cell_type": "code",
   "execution_count": 13,
   "id": "d31b957d",
   "metadata": {},
   "outputs": [
    {
     "name": "stderr",
     "output_type": "stream",
     "text": [
      "/home/olshe/pers/eu-climate-economic-resilience/.venv/lib/python3.12/site-packages/google/cloud/bigquery/table.py:1957: UserWarning: BigQuery Storage module not found, fetch data with the REST endpoint instead.\n",
      "  warnings.warn(\n"
     ]
    },
    {
     "data": {
      "image/png": "[encoded data removed]",
      "text/plain": [
       "<Figure size 1400x600 with 2 Axes>"
      ]
     },
     "metadata": {},
     "output_type": "display_data"
    }
   ],
   "source": [
    "query = f\"\"\"\n",
    "    SELECT \n",
    "        member_casual,\n",
    "        rideable_type,\n",
    "        EXTRACT(HOUR FROM started_at) as hour, \n",
    "        AVG(ride_time) as avg_time\n",
    "        FROM {cleaned_table_ref}\n",
    "    GROUP BY member_casual, rideable_type, hour\n",
    "\"\"\"\n",
    "\n",
    "df = client.query(query).to_dataframe()\n",
    "df = df.sort_values(by='hour')\n",
    "\n",
    "member_df = df[df['member_casual'] == 'member']\n",
    "casual_df = df[df['member_casual'] == 'casual']\n",
    "\n",
    "fig, ax = plt.subplots(1,2, figsize=(14, 6))\n",
    "\n",
    "sns.lineplot(data=member_df, x='hour', y='avg_time', hue='rideable_type', ax=ax[0])\n",
    "sns.lineplot(data=casual_df, x='hour', y='avg_time', hue='rideable_type', ax=ax[1])\n",
    "\n",
    "ax[0].tick_params(labelrotation=45)\n",
    "ax[0].legend(loc='lower right')\n",
    "\n",
    "ax[1].tick_params(labelrotation=45)\n",
    "ax[1].legend(loc='lower right')\n",
    "\n",
    "plt.suptitle('Average Ride Time by Hour and Bike Type for Different User Groups')\n",
    "plt.show()"
   ]
  },
  {
   "cell_type": "code",
   "execution_count": 64,
   "id": "c29ef32f",
   "metadata": {},
   "outputs": [
    {
     "name": "stderr",
     "output_type": "stream",
     "text": [
      "/home/olshe/pers/eu-climate-economic-resilience/.venv/lib/python3.12/site-packages/google/cloud/bigquery/table.py:1957: UserWarning: BigQuery Storage module not found, fetch data with the REST endpoint instead.\n",
      "  warnings.warn(\n"
     ]
    },
    {
     "data": {
      "text/html": [
       "<div>\n",
       "<style scoped>\n",
       "    .dataframe tbody tr th:only-of-type {\n",
       "        vertical-align: middle;\n",
       "    }\n",
       "\n",
       "    .dataframe tbody tr th {\n",
       "        vertical-align: top;\n",
       "    }\n",
       "\n",
       "    .dataframe thead th {\n",
       "        text-align: right;\n",
       "    }\n",
       "</style>\n",
       "<table border=\"1\" class=\"dataframe\">\n",
       "  <thead>\n",
       "    <tr style=\"text-align: right;\">\n",
       "      <th></th>\n",
       "      <th>count</th>\n",
       "      <th>mean</th>\n",
       "      <th>std</th>\n",
       "      <th>min</th>\n",
       "      <th>25%</th>\n",
       "      <th>50%</th>\n",
       "      <th>75%</th>\n",
       "      <th>max</th>\n",
       "    </tr>\n",
       "  </thead>\n",
       "  <tbody>\n",
       "    <tr>\n",
       "      <th>avg_ride</th>\n",
       "      <td>30.0</td>\n",
       "      <td>10.15359</td>\n",
       "      <td>1.826929</td>\n",
       "      <td>6.749079</td>\n",
       "      <td>8.95196</td>\n",
       "      <td>9.840749</td>\n",
       "      <td>11.056347</td>\n",
       "      <td>16.022707</td>\n",
       "    </tr>\n",
       "  </tbody>\n",
       "</table>\n",
       "</div>"
      ],
      "text/plain": [
       "          count      mean       std       min      25%       50%        75%  \\\n",
       "avg_ride   30.0  10.15359  1.826929  6.749079  8.95196  9.840749  11.056347   \n",
       "\n",
       "                max  \n",
       "avg_ride  16.022707  "
      ]
     },
     "execution_count": 64,
     "metadata": {},
     "output_type": "execute_result"
    }
   ],
   "source": [
    "query = f\"\"\"\n",
    "    SELECT start_station_name, AVG(ride_time) as avg_ride\n",
    "    FROM {cleaned_table_ref}\n",
    "    WHERE member_casual = 'member' AND rideable_type = 'classic_bike'\n",
    "    GROUP BY start_station_name\n",
    "    ORDER BY COUNT(*) DESC\n",
    "    LIMIT 30\n",
    "\"\"\"\n",
    "\n",
    "df = client.query(query).to_dataframe()\n",
    "df.describe().T"
   ]
  },
  {
   "cell_type": "code",
   "execution_count": 65,
   "id": "e459b513",
   "metadata": {},
   "outputs": [
    {
     "name": "stderr",
     "output_type": "stream",
     "text": [
      "/home/olshe/pers/eu-climate-economic-resilience/.venv/lib/python3.12/site-packages/google/cloud/bigquery/table.py:1957: UserWarning: BigQuery Storage module not found, fetch data with the REST endpoint instead.\n",
      "  warnings.warn(\n"
     ]
    },
    {
     "data": {
      "text/html": [
       "<div>\n",
       "<style scoped>\n",
       "    .dataframe tbody tr th:only-of-type {\n",
       "        vertical-align: middle;\n",
       "    }\n",
       "\n",
       "    .dataframe tbody tr th {\n",
       "        vertical-align: top;\n",
       "    }\n",
       "\n",
       "    .dataframe thead th {\n",
       "        text-align: right;\n",
       "    }\n",
       "</style>\n",
       "<table border=\"1\" class=\"dataframe\">\n",
       "  <thead>\n",
       "    <tr style=\"text-align: right;\">\n",
       "      <th></th>\n",
       "      <th>count</th>\n",
       "      <th>mean</th>\n",
       "      <th>std</th>\n",
       "      <th>min</th>\n",
       "      <th>25%</th>\n",
       "      <th>50%</th>\n",
       "      <th>75%</th>\n",
       "      <th>max</th>\n",
       "    </tr>\n",
       "  </thead>\n",
       "  <tbody>\n",
       "    <tr>\n",
       "      <th>avg_ride</th>\n",
       "      <td>30.0</td>\n",
       "      <td>10.18919</td>\n",
       "      <td>0.935718</td>\n",
       "      <td>8.602719</td>\n",
       "      <td>9.460114</td>\n",
       "      <td>10.175118</td>\n",
       "      <td>10.665352</td>\n",
       "      <td>12.348579</td>\n",
       "    </tr>\n",
       "  </tbody>\n",
       "</table>\n",
       "</div>"
      ],
      "text/plain": [
       "          count      mean       std       min       25%        50%        75%  \\\n",
       "avg_ride   30.0  10.18919  0.935718  8.602719  9.460114  10.175118  10.665352   \n",
       "\n",
       "                max  \n",
       "avg_ride  12.348579  "
      ]
     },
     "execution_count": 65,
     "metadata": {},
     "output_type": "execute_result"
    }
   ],
   "source": [
    "query = f\"\"\"\n",
    "    SELECT start_station_name, AVG(ride_time) as avg_ride\n",
    "    FROM {cleaned_table_ref}\n",
    "    WHERE member_casual = 'member' AND rideable_type = 'electric_bike'\n",
    "    GROUP BY start_station_name\n",
    "    ORDER BY COUNT(*) DESC\n",
    "    LIMIT 30\n",
    "\"\"\"\n",
    "\n",
    "df = client.query(query).to_dataframe()\n",
    "df.describe().T"
   ]
  },
  {
   "cell_type": "code",
   "execution_count": 66,
   "id": "38540f6f",
   "metadata": {},
   "outputs": [
    {
     "name": "stderr",
     "output_type": "stream",
     "text": [
      "/home/olshe/pers/eu-climate-economic-resilience/.venv/lib/python3.12/site-packages/google/cloud/bigquery/table.py:1957: UserWarning: BigQuery Storage module not found, fetch data with the REST endpoint instead.\n",
      "  warnings.warn(\n"
     ]
    },
    {
     "data": {
      "text/html": [
       "<div>\n",
       "<style scoped>\n",
       "    .dataframe tbody tr th:only-of-type {\n",
       "        vertical-align: middle;\n",
       "    }\n",
       "\n",
       "    .dataframe tbody tr th {\n",
       "        vertical-align: top;\n",
       "    }\n",
       "\n",
       "    .dataframe thead th {\n",
       "        text-align: right;\n",
       "    }\n",
       "</style>\n",
       "<table border=\"1\" class=\"dataframe\">\n",
       "  <thead>\n",
       "    <tr style=\"text-align: right;\">\n",
       "      <th></th>\n",
       "      <th>count</th>\n",
       "      <th>mean</th>\n",
       "      <th>std</th>\n",
       "      <th>min</th>\n",
       "      <th>25%</th>\n",
       "      <th>50%</th>\n",
       "      <th>75%</th>\n",
       "      <th>max</th>\n",
       "    </tr>\n",
       "  </thead>\n",
       "  <tbody>\n",
       "    <tr>\n",
       "      <th>avg_ride</th>\n",
       "      <td>30.0</td>\n",
       "      <td>25.201538</td>\n",
       "      <td>5.790258</td>\n",
       "      <td>15.86233</td>\n",
       "      <td>20.678327</td>\n",
       "      <td>23.946339</td>\n",
       "      <td>28.727772</td>\n",
       "      <td>37.169646</td>\n",
       "    </tr>\n",
       "  </tbody>\n",
       "</table>\n",
       "</div>"
      ],
      "text/plain": [
       "          count       mean       std       min        25%        50%  \\\n",
       "avg_ride   30.0  25.201538  5.790258  15.86233  20.678327  23.946339   \n",
       "\n",
       "                75%        max  \n",
       "avg_ride  28.727772  37.169646  "
      ]
     },
     "execution_count": 66,
     "metadata": {},
     "output_type": "execute_result"
    }
   ],
   "source": [
    "query = f\"\"\"\n",
    "    SELECT start_station_name, AVG(ride_time) as avg_ride\n",
    "    FROM {cleaned_table_ref}\n",
    "    WHERE member_casual = 'casual' AND rideable_type = 'classic_bike'\n",
    "    GROUP BY start_station_name\n",
    "    ORDER BY COUNT(*) DESC\n",
    "    LIMIT 30\n",
    "\"\"\"\n",
    "\n",
    "df = client.query(query).to_dataframe()\n",
    "df.describe().T"
   ]
  },
  {
   "cell_type": "code",
   "execution_count": 67,
   "id": "66b9f3f5",
   "metadata": {},
   "outputs": [
    {
     "name": "stderr",
     "output_type": "stream",
     "text": [
      "/home/olshe/pers/eu-climate-economic-resilience/.venv/lib/python3.12/site-packages/google/cloud/bigquery/table.py:1957: UserWarning: BigQuery Storage module not found, fetch data with the REST endpoint instead.\n",
      "  warnings.warn(\n"
     ]
    },
    {
     "data": {
      "text/html": [
       "<div>\n",
       "<style scoped>\n",
       "    .dataframe tbody tr th:only-of-type {\n",
       "        vertical-align: middle;\n",
       "    }\n",
       "\n",
       "    .dataframe tbody tr th {\n",
       "        vertical-align: top;\n",
       "    }\n",
       "\n",
       "    .dataframe thead th {\n",
       "        text-align: right;\n",
       "    }\n",
       "</style>\n",
       "<table border=\"1\" class=\"dataframe\">\n",
       "  <thead>\n",
       "    <tr style=\"text-align: right;\">\n",
       "      <th></th>\n",
       "      <th>count</th>\n",
       "      <th>mean</th>\n",
       "      <th>std</th>\n",
       "      <th>min</th>\n",
       "      <th>25%</th>\n",
       "      <th>50%</th>\n",
       "      <th>75%</th>\n",
       "      <th>max</th>\n",
       "    </tr>\n",
       "  </thead>\n",
       "  <tbody>\n",
       "    <tr>\n",
       "      <th>avg_ride</th>\n",
       "      <td>30.0</td>\n",
       "      <td>21.156136</td>\n",
       "      <td>7.073381</td>\n",
       "      <td>12.638243</td>\n",
       "      <td>15.888681</td>\n",
       "      <td>17.58485</td>\n",
       "      <td>27.241334</td>\n",
       "      <td>35.524039</td>\n",
       "    </tr>\n",
       "  </tbody>\n",
       "</table>\n",
       "</div>"
      ],
      "text/plain": [
       "          count       mean       std        min        25%       50%  \\\n",
       "avg_ride   30.0  21.156136  7.073381  12.638243  15.888681  17.58485   \n",
       "\n",
       "                75%        max  \n",
       "avg_ride  27.241334  35.524039  "
      ]
     },
     "execution_count": 67,
     "metadata": {},
     "output_type": "execute_result"
    }
   ],
   "source": [
    "query = f\"\"\"\n",
    "    SELECT start_station_name, AVG(ride_time) as avg_ride\n",
    "    FROM {cleaned_table_ref}\n",
    "    WHERE member_casual = 'casual' AND rideable_type = 'electric_bike'\n",
    "    GROUP BY start_station_name\n",
    "    ORDER BY COUNT(*) DESC\n",
    "    LIMIT 30\n",
    "\"\"\"\n",
    "\n",
    "df = client.query(query).to_dataframe()\n",
    "df.describe().T"
   ]
  },
  {
   "cell_type": "code",
   "execution_count": 13,
   "id": "545cf754",
   "metadata": {},
   "outputs": [
    {
     "name": "stderr",
     "output_type": "stream",
     "text": [
      "/home/olshe/pers/eu-climate-economic-resilience/.venv/lib/python3.12/site-packages/google/cloud/bigquery/table.py:1957: UserWarning: BigQuery Storage module not found, fetch data with the REST endpoint instead.\n",
      "  warnings.warn(\n"
     ]
    },
    {
     "data": {
      "text/html": [
       "<div>\n",
       "<style scoped>\n",
       "    .dataframe tbody tr th:only-of-type {\n",
       "        vertical-align: middle;\n",
       "    }\n",
       "\n",
       "    .dataframe tbody tr th {\n",
       "        vertical-align: top;\n",
       "    }\n",
       "\n",
       "    .dataframe thead th {\n",
       "        text-align: right;\n",
       "    }\n",
       "</style>\n",
       "<table border=\"1\" class=\"dataframe\">\n",
       "  <thead>\n",
       "    <tr style=\"text-align: right;\">\n",
       "      <th></th>\n",
       "      <th>trip_type</th>\n",
       "      <th>avg_time</th>\n",
       "      <th>cnt</th>\n",
       "    </tr>\n",
       "  </thead>\n",
       "  <tbody>\n",
       "    <tr>\n",
       "      <th>0</th>\n",
       "      <td>one-way</td>\n",
       "      <td>11.724088</td>\n",
       "      <td>56357076</td>\n",
       "    </tr>\n",
       "    <tr>\n",
       "      <th>1</th>\n",
       "      <td>round</td>\n",
       "      <td>22.614918</td>\n",
       "      <td>1084249</td>\n",
       "    </tr>\n",
       "  </tbody>\n",
       "</table>\n",
       "</div>"
      ],
      "text/plain": [
       "  trip_type   avg_time       cnt\n",
       "0   one-way  11.724088  56357076\n",
       "1     round  22.614918   1084249"
      ]
     },
     "execution_count": 13,
     "metadata": {},
     "output_type": "execute_result"
    }
   ],
   "source": [
    "query = f\"\"\"\n",
    "    SELECT \n",
    "        CASE WHEN start_station_name = end_station_name THEN 'round' ELSE 'one-way' END AS trip_type,\n",
    "        AVG(ride_time) as avg_time,\n",
    "        COUNT(*) as cnt\n",
    "    FROM {cleaned_table_ref}\n",
    "    GROUP BY trip_type\n",
    "\"\"\"\n",
    "\n",
    "df = client.query(query).to_dataframe()\n",
    "df"
   ]
  },
  {
   "cell_type": "code",
   "execution_count": 5,
   "id": "66df9545",
   "metadata": {},
   "outputs": [
    {
     "name": "stderr",
     "output_type": "stream",
     "text": [
      "/home/olshe/pers/eu-climate-economic-resilience/.venv/lib/python3.12/site-packages/google/cloud/bigquery/table.py:1957: UserWarning: BigQuery Storage module not found, fetch data with the REST endpoint instead.\n",
      "  warnings.warn(\n"
     ]
    }
   ],
   "source": [
    "query = f\"\"\"\n",
    "    WITH ranked AS (\n",
    "        SELECT *, ROW_NUMBER() OVER (PARTITION BY member_casual, rideable_type ORDER BY ride_id) AS rn\n",
    "        FROM {cleaned_table_ref}\n",
    "    )\n",
    "\n",
    "    SELECT * \n",
    "    FROM ranked\n",
    "    WHERE rn <= 5000\n",
    "\"\"\"\n",
    "\n",
    "df = client.query(query).to_dataframe()"
   ]
  },
  {
   "cell_type": "code",
   "execution_count": 6,
   "id": "688228d8",
   "metadata": {},
   "outputs": [
    {
     "data": {
      "text/html": [
       "<div>\n",
       "<style scoped>\n",
       "    .dataframe tbody tr th:only-of-type {\n",
       "        vertical-align: middle;\n",
       "    }\n",
       "\n",
       "    .dataframe tbody tr th {\n",
       "        vertical-align: top;\n",
       "    }\n",
       "\n",
       "    .dataframe thead th {\n",
       "        text-align: right;\n",
       "    }\n",
       "</style>\n",
       "<table border=\"1\" class=\"dataframe\">\n",
       "  <thead>\n",
       "    <tr style=\"text-align: right;\">\n",
       "      <th></th>\n",
       "      <th>df</th>\n",
       "      <th>sum_sq</th>\n",
       "      <th>mean_sq</th>\n",
       "      <th>F</th>\n",
       "      <th>PR(&gt;F)</th>\n",
       "    </tr>\n",
       "  </thead>\n",
       "  <tbody>\n",
       "    <tr>\n",
       "      <th>C(member_casual)</th>\n",
       "      <td>1.0</td>\n",
       "      <td>2.660924e+05</td>\n",
       "      <td>266092.42005</td>\n",
       "      <td>1594.752542</td>\n",
       "      <td>0.000000e+00</td>\n",
       "    </tr>\n",
       "    <tr>\n",
       "      <th>C(rideable_type)</th>\n",
       "      <td>1.0</td>\n",
       "      <td>8.490348e+03</td>\n",
       "      <td>8490.34805</td>\n",
       "      <td>50.884592</td>\n",
       "      <td>1.013046e-12</td>\n",
       "    </tr>\n",
       "    <tr>\n",
       "      <th>C(member_casual):C(rideable_type)</th>\n",
       "      <td>1.0</td>\n",
       "      <td>1.273448e+04</td>\n",
       "      <td>12734.48405</td>\n",
       "      <td>76.320666</td>\n",
       "      <td>2.598074e-18</td>\n",
       "    </tr>\n",
       "    <tr>\n",
       "      <th>Residual</th>\n",
       "      <td>19996.0</td>\n",
       "      <td>3.336432e+06</td>\n",
       "      <td>166.85499</td>\n",
       "      <td>NaN</td>\n",
       "      <td>NaN</td>\n",
       "    </tr>\n",
       "  </tbody>\n",
       "</table>\n",
       "</div>"
      ],
      "text/plain": [
       "                                        df        sum_sq       mean_sq  \\\n",
       "C(member_casual)                       1.0  2.660924e+05  266092.42005   \n",
       "C(rideable_type)                       1.0  8.490348e+03    8490.34805   \n",
       "C(member_casual):C(rideable_type)      1.0  1.273448e+04   12734.48405   \n",
       "Residual                           19996.0  3.336432e+06     166.85499   \n",
       "\n",
       "                                             F        PR(>F)  \n",
       "C(member_casual)                   1594.752542  0.000000e+00  \n",
       "C(rideable_type)                     50.884592  1.013046e-12  \n",
       "C(member_casual):C(rideable_type)    76.320666  2.598074e-18  \n",
       "Residual                                   NaN           NaN  "
      ]
     },
     "execution_count": 6,
     "metadata": {},
     "output_type": "execute_result"
    }
   ],
   "source": [
    "formula = 'ride_time ~ C(member_casual) + C(rideable_type) + C(member_casual):C(rideable_type)'\n",
    "model = ols(formula, df).fit()\n",
    "results = sm.stats.anova_lm(model, type=2)\n",
    "results"
   ]
  },
  {
   "cell_type": "code",
   "execution_count": null,
   "id": "44e66a69",
   "metadata": {},
   "outputs": [
    {
     "name": "stderr",
     "output_type": "stream",
     "text": [
      "/home/olshe/pers/eu-climate-economic-resilience/.venv/lib/python3.12/site-packages/google/cloud/bigquery/table.py:1957: UserWarning: BigQuery Storage module not found, fetch data with the REST endpoint instead.\n",
      "  warnings.warn(\n"
     ]
    }
   ],
   "source": [
    "query = f\"\"\"\n",
    "    WITH ranked AS (\n",
    "        SELECT *, ROW_NUMBER() OVER (PARTITION BY day_of_week ORDER BY ride_id) AS rn\n",
    "        FROM {cleaned_table_ref}\n",
    "    )\n",
    "\n",
    "    SELECT * \n",
    "    FROM ranked\n",
    "    WHERE rn <= 15000\n",
    "\"\"\"\n",
    "\n",
    "df = client.query(query).to_dataframe()"
   ]
  },
  {
   "cell_type": "code",
   "execution_count": null,
   "id": "9bd43877",
   "metadata": {},
   "outputs": [
    {
     "name": "stdout",
     "output_type": "stream",
     "text": [
      "Member users: F = 100.66783836554634 , p = 7.486481436879072e-127\n"
     ]
    }
   ],
   "source": [
    "day_groups = [group['ride_time'].values for _, group in df.groupby('day_of_week')]\n",
    "\n",
    "f_stat, p_val = f_oneway(*day_groups)\n",
    "\n",
    "print(\"F =\", f_stat, \", p =\", p_val)"
   ]
  },
  {
   "cell_type": "code",
   "execution_count": 77,
   "id": "46705986",
   "metadata": {},
   "outputs": [
    {
     "name": "stderr",
     "output_type": "stream",
     "text": [
      "/home/olshe/pers/eu-climate-economic-resilience/.venv/lib/python3.12/site-packages/google/cloud/bigquery/table.py:1957: UserWarning: BigQuery Storage module not found, fetch data with the REST endpoint instead.\n",
      "  warnings.warn(\n"
     ]
    }
   ],
   "source": [
    "query = f\"\"\"\n",
    "    WITH ranked AS (\n",
    "        SELECT *, \n",
    "            ROW_NUMBER() OVER (PARTITION BY EXTRACT(HOUR FROM started_at) ORDER BY RAND()) as rn,\n",
    "            EXTRACT(HOUR FROM started_at) AS hour\n",
    "        FROM {cleaned_table_ref}\n",
    "    )\n",
    "\n",
    "    SELECT *\n",
    "    FROM ranked\n",
    "    WHERE rn <= 500\n",
    "\"\"\"\n",
    "\n",
    "df = client.query(query).to_dataframe()"
   ]
  },
  {
   "cell_type": "code",
   "execution_count": 78,
   "id": "92e19bc9",
   "metadata": {},
   "outputs": [
    {
     "name": "stdout",
     "output_type": "stream",
     "text": [
      "F = 4.695992477183007 , p = 6.629793025812667e-13\n"
     ]
    }
   ],
   "source": [
    "day_groups = [group['ride_time'].values for _, group in df.groupby('hour')]\n",
    "\n",
    "f_stat, p_val = f_oneway(*day_groups)\n",
    "\n",
    "print(\"F =\", f_stat, \", p =\", p_val)"
   ]
  },
  {
   "cell_type": "code",
   "execution_count": 79,
   "id": "d3034019",
   "metadata": {},
   "outputs": [
    {
     "name": "stderr",
     "output_type": "stream",
     "text": [
      "/home/olshe/pers/eu-climate-economic-resilience/.venv/lib/python3.12/site-packages/google/cloud/bigquery/table.py:1957: UserWarning: BigQuery Storage module not found, fetch data with the REST endpoint instead.\n",
      "  warnings.warn(\n"
     ]
    }
   ],
   "source": [
    "query = f\"\"\"\n",
    "    WITH top_30_stations AS (\n",
    "        SELECT start_station_name\n",
    "        FROM {cleaned_table_ref}\n",
    "        GROUP BY start_station_name\n",
    "        ORDER BY COUNT(*) DESC\n",
    "        LIMIT 30\n",
    "    ),\n",
    "\n",
    "    ranked AS (\n",
    "        SELECT *,\n",
    "            ROW_NUMBER() OVER (PARTITION BY c.start_station_name ORDER BY RAND()) as rn\n",
    "        FROM {cleaned_table_ref} c\n",
    "        WHERE c.start_station_name IN (SELECT start_station_name FROM top_30_stations)\n",
    "    )\n",
    "\n",
    "    SELECT * \n",
    "    FROM ranked\n",
    "    WHERE rn <= 500\n",
    "\"\"\"\n",
    "\n",
    "df = client.query(query).to_dataframe()"
   ]
  },
  {
   "cell_type": "code",
   "execution_count": 82,
   "id": "b0aa48cd",
   "metadata": {},
   "outputs": [
    {
     "name": "stdout",
     "output_type": "stream",
     "text": [
      "F = 59.43272973021563 , p = 0.0\n"
     ]
    }
   ],
   "source": [
    "day_groups = [group['ride_time'].values for _, group in df.groupby('start_station_name')]\n",
    "\n",
    "f_stat, p_val = f_oneway(*day_groups)\n",
    "\n",
    "print(\"F =\", f_stat, \", p =\", p_val)"
   ]
  },
  {
   "cell_type": "code",
   "execution_count": null,
   "id": "c11d6bc1",
   "metadata": {},
   "outputs": [
    {
     "name": "stderr",
     "output_type": "stream",
     "text": [
      "/home/olshe/pers/eu-climate-economic-resilience/.venv/lib/python3.12/site-packages/google/cloud/bigquery/table.py:1957: UserWarning: BigQuery Storage module not found, fetch data with the REST endpoint instead.\n",
      "  warnings.warn(\n"
     ]
    }
   ],
   "source": []
  },
  {
   "cell_type": "code",
   "execution_count": null,
   "id": "095de092",
   "metadata": {},
   "outputs": [
    {
     "name": "stdout",
     "output_type": "stream",
     "text": [
      "RMSE: 139.59 seconds\n",
      "R² Score: 0.03\n"
     ]
    }
   ],
   "source": []
  }
 ],
 "metadata": {
  "kernelspec": {
   "display_name": ".venv",
   "language": "python",
   "name": "python3"
  },
  "language_info": {
   "codemirror_mode": {
    "name": "ipython",
    "version": 3
   },
   "file_extension": ".py",
   "mimetype": "text/x-python",
   "name": "python",
   "nbconvert_exporter": "python",
   "pygments_lexer": "ipython3",
   "version": "3.12.3"
  }
 },
 "nbformat": 4,
 "nbformat_minor": 5
}
