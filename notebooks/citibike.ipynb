{
 "cells": [
  {
   "cell_type": "markdown",
   "id": "aaeb9e3c",
   "metadata": {},
   "source": [
    "### Citibike Analysis"
   ]
  },
  {
   "cell_type": "code",
   "execution_count": 34,
   "id": "07da2132",
   "metadata": {},
   "outputs": [],
   "source": [
    "import os\n",
    "from dotenv import load_dotenv\n",
    "\n",
    "from google.cloud import bigquery\n",
    "from google.api_core.exceptions import NotFound, BadRequest\n",
    "\n",
    "\n",
    "import numpy as np\n"
   ]
  },
  {
   "cell_type": "code",
   "execution_count": 4,
   "id": "67dccb9f",
   "metadata": {},
   "outputs": [
    {
     "data": {
      "text/plain": [
       "True"
      ]
     },
     "execution_count": 4,
     "metadata": {},
     "output_type": "execute_result"
    }
   ],
   "source": [
    "load_dotenv()"
   ]
  },
  {
   "cell_type": "code",
   "execution_count": 59,
   "id": "85b375d4",
   "metadata": {},
   "outputs": [],
   "source": [
    "client = bigquery.Client()\n",
    "\n",
    "bq_project_id = os.getenv('GCP_PROJECT_ID')\n",
    "bq_dataset_name = os.getenv('BQ_DATASET')\n",
    "bq_table_name = os.getenv('BQ_TABLE')\n",
    "\n",
    "table_red = f'{bq_project_id}.{bq_dataset_name}.{bq_table_name}'\n",
    "cleaned_table_ref = f'{bq_project_id}.{bq_dataset_name}.{bq_table_name}_cleaned'"
   ]
  },
  {
   "cell_type": "code",
   "execution_count": 6,
   "id": "e3d53ec0",
   "metadata": {},
   "outputs": [
    {
     "name": "stderr",
     "output_type": "stream",
     "text": [
      "/home/olshe/pers/eu-climate-economic-resilience/.venv/lib/python3.12/site-packages/google/cloud/bigquery/table.py:1957: UserWarning: BigQuery Storage module not found, fetch data with the REST endpoint instead.\n",
      "  warnings.warn(\n"
     ]
    },
    {
     "data": {
      "text/html": [
       "<div>\n",
       "<style scoped>\n",
       "    .dataframe tbody tr th:only-of-type {\n",
       "        vertical-align: middle;\n",
       "    }\n",
       "\n",
       "    .dataframe tbody tr th {\n",
       "        vertical-align: top;\n",
       "    }\n",
       "\n",
       "    .dataframe thead th {\n",
       "        text-align: right;\n",
       "    }\n",
       "</style>\n",
       "<table border=\"1\" class=\"dataframe\">\n",
       "  <thead>\n",
       "    <tr style=\"text-align: right;\">\n",
       "      <th></th>\n",
       "      <th>ride_id</th>\n",
       "      <th>rideable_type</th>\n",
       "      <th>started_at</th>\n",
       "      <th>ended_at</th>\n",
       "      <th>start_station_name</th>\n",
       "      <th>start_station_id</th>\n",
       "      <th>end_station_name</th>\n",
       "      <th>end_station_id</th>\n",
       "      <th>start_lat</th>\n",
       "      <th>start_lng</th>\n",
       "      <th>end_lat</th>\n",
       "      <th>end_lng</th>\n",
       "      <th>member_casual</th>\n",
       "    </tr>\n",
       "  </thead>\n",
       "  <tbody>\n",
       "    <tr>\n",
       "      <th>0</th>\n",
       "      <td>58CE55A3C9A28B75</td>\n",
       "      <td>classic_bike</td>\n",
       "      <td>2024-10-22 17:18:00.335000+00:00</td>\n",
       "      <td>2024-10-22 18:01:11.625000+00:00</td>\n",
       "      <td>67 St &amp; Erik Pl</td>\n",
       "      <td>2733.03</td>\n",
       "      <td>67 St &amp; Erik Pl</td>\n",
       "      <td>2733.03</td>\n",
       "      <td>40.633385</td>\n",
       "      <td>-74.016562</td>\n",
       "      <td>40.633385</td>\n",
       "      <td>-74.016562</td>\n",
       "      <td>casual</td>\n",
       "    </tr>\n",
       "    <tr>\n",
       "      <th>1</th>\n",
       "      <td>8606F29B790582C7</td>\n",
       "      <td>classic_bike</td>\n",
       "      <td>2024-10-22 17:17:25.659000+00:00</td>\n",
       "      <td>2024-10-22 18:04:03.953000+00:00</td>\n",
       "      <td>67 St &amp; Erik Pl</td>\n",
       "      <td>2733.03</td>\n",
       "      <td>67 St &amp; Erik Pl</td>\n",
       "      <td>2733.03</td>\n",
       "      <td>40.633385</td>\n",
       "      <td>-74.016562</td>\n",
       "      <td>40.633385</td>\n",
       "      <td>-74.016562</td>\n",
       "      <td>casual</td>\n",
       "    </tr>\n",
       "    <tr>\n",
       "      <th>2</th>\n",
       "      <td>9AF9C60E85C9B090</td>\n",
       "      <td>classic_bike</td>\n",
       "      <td>2024-10-05 17:34:37.733000+00:00</td>\n",
       "      <td>2024-10-05 17:46:19.378000+00:00</td>\n",
       "      <td>67 St &amp; Erik Pl</td>\n",
       "      <td>2733.03</td>\n",
       "      <td>67 St &amp; Erik Pl</td>\n",
       "      <td>2733.03</td>\n",
       "      <td>40.633385</td>\n",
       "      <td>-74.016562</td>\n",
       "      <td>40.633385</td>\n",
       "      <td>-74.016562</td>\n",
       "      <td>casual</td>\n",
       "    </tr>\n",
       "    <tr>\n",
       "      <th>3</th>\n",
       "      <td>94258E9E69D20F70</td>\n",
       "      <td>classic_bike</td>\n",
       "      <td>2024-10-22 17:20:53.652000+00:00</td>\n",
       "      <td>2024-10-22 18:02:19.586000+00:00</td>\n",
       "      <td>67 St &amp; Erik Pl</td>\n",
       "      <td>2733.03</td>\n",
       "      <td>67 St &amp; Erik Pl</td>\n",
       "      <td>2733.03</td>\n",
       "      <td>40.633385</td>\n",
       "      <td>-74.016562</td>\n",
       "      <td>40.633385</td>\n",
       "      <td>-74.016562</td>\n",
       "      <td>casual</td>\n",
       "    </tr>\n",
       "    <tr>\n",
       "      <th>4</th>\n",
       "      <td>17A62298CA22EFBA</td>\n",
       "      <td>classic_bike</td>\n",
       "      <td>2024-10-22 17:12:37.859000+00:00</td>\n",
       "      <td>2024-10-22 18:00:59.733000+00:00</td>\n",
       "      <td>67 St &amp; Erik Pl</td>\n",
       "      <td>2733.03</td>\n",
       "      <td>67 St &amp; Erik Pl</td>\n",
       "      <td>2733.03</td>\n",
       "      <td>40.633385</td>\n",
       "      <td>-74.016562</td>\n",
       "      <td>40.633385</td>\n",
       "      <td>-74.016562</td>\n",
       "      <td>casual</td>\n",
       "    </tr>\n",
       "  </tbody>\n",
       "</table>\n",
       "</div>"
      ],
      "text/plain": [
       "            ride_id rideable_type                       started_at  \\\n",
       "0  58CE55A3C9A28B75  classic_bike 2024-10-22 17:18:00.335000+00:00   \n",
       "1  8606F29B790582C7  classic_bike 2024-10-22 17:17:25.659000+00:00   \n",
       "2  9AF9C60E85C9B090  classic_bike 2024-10-05 17:34:37.733000+00:00   \n",
       "3  94258E9E69D20F70  classic_bike 2024-10-22 17:20:53.652000+00:00   \n",
       "4  17A62298CA22EFBA  classic_bike 2024-10-22 17:12:37.859000+00:00   \n",
       "\n",
       "                          ended_at start_station_name start_station_id  \\\n",
       "0 2024-10-22 18:01:11.625000+00:00    67 St & Erik Pl          2733.03   \n",
       "1 2024-10-22 18:04:03.953000+00:00    67 St & Erik Pl          2733.03   \n",
       "2 2024-10-05 17:46:19.378000+00:00    67 St & Erik Pl          2733.03   \n",
       "3 2024-10-22 18:02:19.586000+00:00    67 St & Erik Pl          2733.03   \n",
       "4 2024-10-22 18:00:59.733000+00:00    67 St & Erik Pl          2733.03   \n",
       "\n",
       "  end_station_name end_station_id  start_lat  start_lng    end_lat    end_lng  \\\n",
       "0  67 St & Erik Pl        2733.03  40.633385 -74.016562  40.633385 -74.016562   \n",
       "1  67 St & Erik Pl        2733.03  40.633385 -74.016562  40.633385 -74.016562   \n",
       "2  67 St & Erik Pl        2733.03  40.633385 -74.016562  40.633385 -74.016562   \n",
       "3  67 St & Erik Pl        2733.03  40.633385 -74.016562  40.633385 -74.016562   \n",
       "4  67 St & Erik Pl        2733.03  40.633385 -74.016562  40.633385 -74.016562   \n",
       "\n",
       "  member_casual  \n",
       "0        casual  \n",
       "1        casual  \n",
       "2        casual  \n",
       "3        casual  \n",
       "4        casual  "
      ]
     },
     "execution_count": 6,
     "metadata": {},
     "output_type": "execute_result"
    }
   ],
   "source": [
    "query = f\"\"\"\n",
    "    SELECT *\n",
    "    FROM `{bq_dataset_name}.{bq_table_name}`\n",
    "    LIMIT 10\n",
    "\"\"\"\n",
    "\n",
    "df = client.query(query).to_dataframe()\n",
    "df.head()"
   ]
  },
  {
   "cell_type": "code",
   "execution_count": 40,
   "id": "e98fa03b",
   "metadata": {},
   "outputs": [
    {
     "data": {
      "text/plain": [
       "Index(['ride_id', 'rideable_type', 'started_at', 'ended_at',\n",
       "       'start_station_name', 'start_station_id', 'end_station_name',\n",
       "       'end_station_id', 'start_lat', 'start_lng', 'end_lat', 'end_lng',\n",
       "       'member_casual'],\n",
       "      dtype='object')"
      ]
     },
     "execution_count": 40,
     "metadata": {},
     "output_type": "execute_result"
    }
   ],
   "source": [
    "df.columns"
   ]
  },
  {
   "cell_type": "code",
   "execution_count": 41,
   "id": "1ae1655d",
   "metadata": {},
   "outputs": [
    {
     "data": {
      "text/plain": [
       "ride_id                            object\n",
       "rideable_type                      object\n",
       "started_at            datetime64[us, UTC]\n",
       "ended_at              datetime64[us, UTC]\n",
       "start_station_name                 object\n",
       "start_station_id                   object\n",
       "end_station_name                   object\n",
       "end_station_id                     object\n",
       "start_lat                         float64\n",
       "start_lng                         float64\n",
       "end_lat                           float64\n",
       "end_lng                           float64\n",
       "member_casual                      object\n",
       "dtype: object"
      ]
     },
     "execution_count": 41,
     "metadata": {},
     "output_type": "execute_result"
    }
   ],
   "source": [
    "df.dtypes"
   ]
  },
  {
   "cell_type": "code",
   "execution_count": 48,
   "id": "95a0292a",
   "metadata": {},
   "outputs": [
    {
     "name": "stderr",
     "output_type": "stream",
     "text": [
      "/home/olshe/pers/eu-climate-economic-resilience/.venv/lib/python3.12/site-packages/google/cloud/bigquery/table.py:1957: UserWarning: BigQuery Storage module not found, fetch data with the REST endpoint instead.\n",
      "  warnings.warn(\n"
     ]
    },
    {
     "data": {
      "text/html": [
       "<div>\n",
       "<style scoped>\n",
       "    .dataframe tbody tr th:only-of-type {\n",
       "        vertical-align: middle;\n",
       "    }\n",
       "\n",
       "    .dataframe tbody tr th {\n",
       "        vertical-align: top;\n",
       "    }\n",
       "\n",
       "    .dataframe thead th {\n",
       "        text-align: right;\n",
       "    }\n",
       "</style>\n",
       "<table border=\"1\" class=\"dataframe\">\n",
       "  <thead>\n",
       "    <tr style=\"text-align: right;\">\n",
       "      <th></th>\n",
       "      <th>0</th>\n",
       "    </tr>\n",
       "  </thead>\n",
       "  <tbody>\n",
       "    <tr>\n",
       "      <th>ride_id_null</th>\n",
       "      <td>0</td>\n",
       "    </tr>\n",
       "    <tr>\n",
       "      <th>rideable_type_null</th>\n",
       "      <td>0</td>\n",
       "    </tr>\n",
       "    <tr>\n",
       "      <th>started_at_null</th>\n",
       "      <td>0</td>\n",
       "    </tr>\n",
       "    <tr>\n",
       "      <th>ended_at_null</th>\n",
       "      <td>0</td>\n",
       "    </tr>\n",
       "    <tr>\n",
       "      <th>start_station_name_null</th>\n",
       "      <td>35253</td>\n",
       "    </tr>\n",
       "    <tr>\n",
       "      <th>start_station_idnull</th>\n",
       "      <td>0</td>\n",
       "    </tr>\n",
       "    <tr>\n",
       "      <th>end_station_name_null</th>\n",
       "      <td>152745</td>\n",
       "    </tr>\n",
       "    <tr>\n",
       "      <th>end_station_id_null</th>\n",
       "      <td>0</td>\n",
       "    </tr>\n",
       "    <tr>\n",
       "      <th>start_lat_null</th>\n",
       "      <td>0</td>\n",
       "    </tr>\n",
       "    <tr>\n",
       "      <th>start_lng_null</th>\n",
       "      <td>0</td>\n",
       "    </tr>\n",
       "    <tr>\n",
       "      <th>end_lat_null</th>\n",
       "      <td>12784</td>\n",
       "    </tr>\n",
       "    <tr>\n",
       "      <th>end_lng_null</th>\n",
       "      <td>12784</td>\n",
       "    </tr>\n",
       "    <tr>\n",
       "      <th>member_casual_null</th>\n",
       "      <td>0</td>\n",
       "    </tr>\n",
       "  </tbody>\n",
       "</table>\n",
       "</div>"
      ],
      "text/plain": [
       "                              0\n",
       "ride_id_null                  0\n",
       "rideable_type_null            0\n",
       "started_at_null               0\n",
       "ended_at_null                 0\n",
       "start_station_name_null   35253\n",
       "start_station_idnull          0\n",
       "end_station_name_null    152745\n",
       "end_station_id_null           0\n",
       "start_lat_null                0\n",
       "start_lng_null                0\n",
       "end_lat_null              12784\n",
       "end_lng_null              12784\n",
       "member_casual_null            0"
      ]
     },
     "execution_count": 48,
     "metadata": {},
     "output_type": "execute_result"
    }
   ],
   "source": [
    "query = f\"\"\"\n",
    "    SELECT \n",
    "        COUNT(*) - COUNT(ride_id) as ride_id_null,\n",
    "        COUNT(*) - COUNT(rideable_type) as rideable_type_null,\n",
    "        COUNT(*) - COUNT(started_at) as started_at_null,\n",
    "        COUNT(*) - COUNT(ended_at) as ended_at_null,\n",
    "        COUNT(*) - COUNT(start_station_name) as start_station_name_null,\n",
    "        COUNT(*) - COUNT(start_station_id) as start_station_idnull,\n",
    "        COUNT(*) - COUNT(end_station_name) as end_station_name_null,\n",
    "        COUNT(*) - COUNT(end_station_id) as end_station_id_null,\n",
    "        COUNT(*) - COUNT(start_lat) as start_lat_null,\n",
    "        COUNT(*) - COUNT(start_lng) as start_lng_null,\n",
    "        COUNT(*) - COUNT(end_lat) as end_lat_null,\n",
    "        COUNT(*) - COUNT(end_lng) as end_lng_null,\n",
    "        COUNT(*) - COUNT(member_casual) as member_casual_null\n",
    "    FROM `{bq_dataset_name}.{bq_table_name}`\n",
    "\"\"\"\n",
    "\n",
    "df = client.query(query).to_dataframe()\n",
    "df.T"
   ]
  },
  {
   "cell_type": "code",
   "execution_count": 164,
   "id": "79f0152c",
   "metadata": {},
   "outputs": [
    {
     "name": "stderr",
     "output_type": "stream",
     "text": [
      "/home/olshe/pers/eu-climate-economic-resilience/.venv/lib/python3.12/site-packages/google/cloud/bigquery/table.py:1957: UserWarning: BigQuery Storage module not found, fetch data with the REST endpoint instead.\n",
      "  warnings.warn(\n"
     ]
    },
    {
     "name": "stdout",
     "output_type": "stream",
     "text": [
      "['JC009', 'JC055', 'HB611', 'JC075', 'JC105', 'JC008', 'HB305', '6173.08_Pillar', 'JC038', 'JC027', 'JC081', 'JC019', 'HB105', 'JC023', 'JC102', 'HB503', 'HB602', 'HB404', 'HB603', 'HB103', 'JC076', 'JC003', 'HB301', 'HB302', 'JC109', 'JC103', 'JC078', 'JC080', 'JC093', 'JC094', 'JC013', 'HB408', 'HB506', 'HB202', 'HB304', '190 Morgan', 'HB102', 'HB203', 'SYS016', '6247.06_Pillar', 'HB601', 'LA Metro Demo 2', 'JC084', 'HB201', 'HB609', 'HB303', 'JC098', 'Lab - NYC', 'HB101', 'JC032', 'JC014', 'SYS038', 'HB407', 'JC024', 'JC020', 'JC116', 'JC018', '6569.09_', 'SYS033', 'JC052', 'JC022', 'JC066', 'HB505', 'Shop Morgan ', 'JC104', 'JC072', 'JC074', '5308.04_', 'HB502', 'HB501', 'JC115', 'HB401', 'LA Metro Demo 1', 'JC099', 'Lab - NYC - Monolith', 'SYS025', 'JC002']\n"
     ]
    }
   ],
   "source": [
    "query = f\"\"\"\n",
    "    SELECT start_station_id, COUNT(*)\n",
    "    FROM `{bq_dataset_name}.{bq_table_name}`\n",
    "    WHERE start_station_id IS NULL OR SAFE_CAST(start_station_id AS FLOAT64) IS NULL\n",
    "    GROUP BY start_station_id;\n",
    "\"\"\"\n",
    "\n",
    "df = client.query(query).to_dataframe()\n",
    "print(df['start_station_id'].astype(str).tolist())"
   ]
  },
  {
   "cell_type": "code",
   "execution_count": 55,
   "id": "d32ee62c",
   "metadata": {},
   "outputs": [
    {
     "data": {
      "text/plain": [
       "<google.cloud.bigquery.table._EmptyRowIterator at 0x7d2632d22e70>"
      ]
     },
     "execution_count": 55,
     "metadata": {},
     "output_type": "execute_result"
    }
   ],
   "source": [
    "# Regex patterns to exclude\n",
    "regex_patterns = [\n",
    "    r'^[A-Za-z]{2}\\d{3}$',  # Two letters + 3 digits\n",
    "    r'^SYS\\d{3}$',          # SYS + 3 digits\n",
    "    r'(?i)Demo',            # Contains \"Demo\"\n",
    "    r'(?i)Lab - NYC',       # Contains \"Lab - NYC\"\n",
    "    r'(?i)Morgan'           # Contains \"Morgan\"\n",
    "]\n",
    "\n",
    "# Combine patterns using alternation (OR)\n",
    "combined_pattern = '|'.join(regex_patterns)\n",
    "\n",
    "# Create the query excluding the combined regex patterns\n",
    "query = f\"\"\"\n",
    "CREATE OR REPLACE TABLE `{bq_dataset_name}.{bq_table_name}_cleaned`\n",
    "PARTITION BY DATE_TRUNC(started_at, MONTH)\n",
    "CLUSTER BY member_casual, rideable_type\n",
    "\n",
    " AS\n",
    "\n",
    "  SELECT * EXCEPT(start_station_id, start_station_name),\n",
    "  -- Clean start_station_id\n",
    "  CASE\n",
    "    WHEN REGEXP_CONTAINS(start_station_id, r'^\\\\d+\\\\.\\\\d+_$') THEN REPLACE(start_station_id, '_', '')\n",
    "    WHEN CONTAINS_SUBSTR(start_station_id, 'Pillar') THEN REGEXP_REPLACE(start_station_id, r'_Pillar$', '')\n",
    "    ELSE start_station_id\n",
    "  END AS start_station_id,\n",
    "\n",
    "  -- Clean start_station_name only if ID contains 'Pillar'\n",
    "  CASE\n",
    "    WHEN CONTAINS_SUBSTR(start_station_id, 'Pillar') THEN REGEXP_REPLACE(start_station_name, r'(?i)Pillar', '')\n",
    "    ELSE start_station_name\n",
    "  END AS start_station_name\n",
    "\n",
    "FROM `{bq_dataset_name}.{bq_table_name}`\n",
    "WHERE NOT REGEXP_CONTAINS(start_station_id, r\"{combined_pattern}\")\n",
    "\"\"\"\n",
    "\n",
    "job = client.query(query)\n",
    "job.result()\n"
   ]
  },
  {
   "cell_type": "code",
   "execution_count": 60,
   "id": "91d22488",
   "metadata": {},
   "outputs": [
    {
     "name": "stderr",
     "output_type": "stream",
     "text": [
      "/home/olshe/pers/eu-climate-economic-resilience/.venv/lib/python3.12/site-packages/google/cloud/bigquery/table.py:1957: UserWarning: BigQuery Storage module not found, fetch data with the REST endpoint instead.\n",
      "  warnings.warn(\n"
     ]
    },
    {
     "data": {
      "text/html": [
       "<div>\n",
       "<style scoped>\n",
       "    .dataframe tbody tr th:only-of-type {\n",
       "        vertical-align: middle;\n",
       "    }\n",
       "\n",
       "    .dataframe tbody tr th {\n",
       "        vertical-align: top;\n",
       "    }\n",
       "\n",
       "    .dataframe thead th {\n",
       "        text-align: right;\n",
       "    }\n",
       "</style>\n",
       "<table border=\"1\" class=\"dataframe\">\n",
       "  <thead>\n",
       "    <tr style=\"text-align: right;\">\n",
       "      <th></th>\n",
       "      <th>start_station_name</th>\n",
       "      <th>start_station_id</th>\n",
       "      <th>f0_</th>\n",
       "    </tr>\n",
       "  </thead>\n",
       "  <tbody>\n",
       "  </tbody>\n",
       "</table>\n",
       "</div>"
      ],
      "text/plain": [
       "Empty DataFrame\n",
       "Columns: [start_station_name, start_station_id, f0_]\n",
       "Index: []"
      ]
     },
     "execution_count": 60,
     "metadata": {},
     "output_type": "execute_result"
    }
   ],
   "source": [
    "query = f\"\"\"\n",
    "    SELECT start_station_name, start_station_id, COUNT(*)\n",
    "    FROM `{cleaned_table_ref}`\n",
    "    WHERE start_station_id IS NULL OR SAFE_CAST(start_station_id AS FLOAT64) IS NULL\n",
    "    GROUP BY start_station_name, start_station_id;\n",
    "\"\"\"\n",
    "\n",
    "df = client.query(query).to_dataframe()\n",
    "df"
   ]
  }
 ],
 "metadata": {
  "kernelspec": {
   "display_name": ".venv",
   "language": "python",
   "name": "python3"
  },
  "language_info": {
   "codemirror_mode": {
    "name": "ipython",
    "version": 3
   },
   "file_extension": ".py",
   "mimetype": "text/x-python",
   "name": "python",
   "nbconvert_exporter": "python",
   "pygments_lexer": "ipython3",
   "version": "3.12.3"
  }
 },
 "nbformat": 4,
 "nbformat_minor": 5
}
