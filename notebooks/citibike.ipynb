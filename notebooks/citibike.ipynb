{
 "cells": [
  {
   "cell_type": "markdown",
   "id": "aaeb9e3c",
   "metadata": {},
   "source": [
    "# Citi Bike NYC Ridetime Analysis: Exploring patterns and building prediction"
   ]
  },
  {
   "cell_type": "markdown",
   "id": "5f614c53",
   "metadata": {},
   "source": [
    "## Introduction"
   ]
  },
  {
   "cell_type": "markdown",
   "id": "97b51b2a",
   "metadata": {},
   "source": []
  },
  {
   "cell_type": "markdown",
   "id": "9bce4b3a",
   "metadata": {},
   "source": [
    "## Data Sources"
   ]
  },
  {
   "cell_type": "markdown",
   "id": "5cb4f364",
   "metadata": {},
   "source": [
    "- **Citi Bike Trip Data**: Publicly available from official Citi Bike system data portal: https://citibikenyc.com/system-data. Extracted data covers period from 2024-01-01 to 2025-06-01.\n",
    "- **Weather Data**: Historical data for NYC was obtained from https://openweathermap.org/history-bulk. This dataset was purchased to supplement trips data and covers period from 2024-01-01 to 2025-06-01.\n",
    "\n"
   ]
  },
  {
   "cell_type": "markdown",
   "id": "76222d54",
   "metadata": {},
   "source": [
    "## Data Loading & Cleaning"
   ]
  },
  {
   "cell_type": "code",
   "execution_count": 1,
   "id": "07da2132",
   "metadata": {},
   "outputs": [],
   "source": [
    "import os\n",
    "from dotenv import load_dotenv\n",
    "\n",
    "from google.cloud import bigquery\n",
    "\n",
    "import pandas as pd\n",
    "import numpy as np\n",
    "\n",
    "import matplotlib.pyplot as plt\n",
    "import seaborn as sns\n",
    "\n",
    "from scipy.stats import f_oneway\n",
    "\n",
    "import statsmodels.api as sm\n",
    "from statsmodels.formula.api import ols\n",
    "\n",
    "from sklearn.preprocessing import LabelEncoder\n",
    "from sklearn.ensemble import RandomForestRegressor\n",
    "\n",
    "from sklearn.metrics import mean_squared_error, r2_score\n",
    "from sklearn.model_selection import train_test_split"
   ]
  },
  {
   "cell_type": "code",
   "execution_count": 2,
   "id": "67dccb9f",
   "metadata": {},
   "outputs": [
    {
     "data": {
      "text/plain": [
       "True"
      ]
     },
     "execution_count": 2,
     "metadata": {},
     "output_type": "execute_result"
    }
   ],
   "source": [
    "load_dotenv()"
   ]
  },
  {
   "cell_type": "code",
   "execution_count": 3,
   "id": "85b375d4",
   "metadata": {},
   "outputs": [],
   "source": [
    "client = bigquery.Client()\n",
    "\n",
    "bq_project_id = os.getenv('GCP_PROJECT_ID')\n",
    "bq_dataset_name = os.getenv('BQ_DATASET')\n",
    "bq_trips_table_name = os.getenv('BQ_TABLE_TRIPS')\n",
    "bq_weather_table_name = os.getenv('BQ_TABLE_WEATHER')\n",
    "\n",
    "table_ref = f'{bq_project_id}.{bq_dataset_name}.{bq_trips_table_name}'\n",
    "cleaned_table_ref = f'{bq_project_id}.{bq_dataset_name}.{bq_trips_table_name}_cleaned'\n",
    "weather_table_ref = f'{bq_project_id}.{bq_dataset_name}.{bq_weather_table_name}'\n",
    "cleaned_weather_table_ref = f'{bq_project_id}.{bq_dataset_name}.{bq_weather_table_name}_cleaned'"
   ]
  },
  {
   "cell_type": "markdown",
   "id": "83076416",
   "metadata": {},
   "source": [
    "Fisrt step is to understand how data looks like, what columns and types it has."
   ]
  },
  {
   "cell_type": "code",
   "execution_count": 4,
   "id": "e3d53ec0",
   "metadata": {},
   "outputs": [
    {
     "name": "stderr",
     "output_type": "stream",
     "text": [
      "/home/olshe/pers/eu-climate-economic-resilience/.venv/lib/python3.12/site-packages/google/cloud/bigquery/table.py:1957: UserWarning: BigQuery Storage module not found, fetch data with the REST endpoint instead.\n",
      "  warnings.warn(\n"
     ]
    },
    {
     "data": {
      "text/html": [
       "<div>\n",
       "<style scoped>\n",
       "    .dataframe tbody tr th:only-of-type {\n",
       "        vertical-align: middle;\n",
       "    }\n",
       "\n",
       "    .dataframe tbody tr th {\n",
       "        vertical-align: top;\n",
       "    }\n",
       "\n",
       "    .dataframe thead th {\n",
       "        text-align: right;\n",
       "    }\n",
       "</style>\n",
       "<table border=\"1\" class=\"dataframe\">\n",
       "  <thead>\n",
       "    <tr style=\"text-align: right;\">\n",
       "      <th></th>\n",
       "      <th>ride_id</th>\n",
       "      <th>rideable_type</th>\n",
       "      <th>started_at</th>\n",
       "      <th>ended_at</th>\n",
       "      <th>start_station_name</th>\n",
       "      <th>start_station_id</th>\n",
       "      <th>end_station_name</th>\n",
       "      <th>end_station_id</th>\n",
       "      <th>start_lat</th>\n",
       "      <th>start_lng</th>\n",
       "      <th>end_lat</th>\n",
       "      <th>end_lng</th>\n",
       "      <th>member_casual</th>\n",
       "    </tr>\n",
       "  </thead>\n",
       "  <tbody>\n",
       "    <tr>\n",
       "      <th>0</th>\n",
       "      <td>F9CCEBF8D94C0A16</td>\n",
       "      <td>classic_bike</td>\n",
       "      <td>2024-06-12 17:51:15.505000+00:00</td>\n",
       "      <td>2024-06-12 18:02:43.774000+00:00</td>\n",
       "      <td>58 St &amp; Pier 4</td>\n",
       "      <td>3220.01</td>\n",
       "      <td>67 St &amp; Erik Pl</td>\n",
       "      <td>2733.03</td>\n",
       "      <td>40.646475</td>\n",
       "      <td>-74.026081</td>\n",
       "      <td>40.633385</td>\n",
       "      <td>-74.016562</td>\n",
       "      <td>member</td>\n",
       "    </tr>\n",
       "    <tr>\n",
       "      <th>1</th>\n",
       "      <td>8AA50A79D71A04B8</td>\n",
       "      <td>classic_bike</td>\n",
       "      <td>2024-06-12 17:24:07.743000+00:00</td>\n",
       "      <td>2024-06-12 17:53:20.167000+00:00</td>\n",
       "      <td>Prospect Ave &amp; Vanderbilt St</td>\n",
       "      <td>3426.02</td>\n",
       "      <td>67 St &amp; Erik Pl</td>\n",
       "      <td>2733.03</td>\n",
       "      <td>40.653368</td>\n",
       "      <td>-73.976291</td>\n",
       "      <td>40.633385</td>\n",
       "      <td>-74.016562</td>\n",
       "      <td>member</td>\n",
       "    </tr>\n",
       "    <tr>\n",
       "      <th>2</th>\n",
       "      <td>4D68C6542D0D10BB</td>\n",
       "      <td>classic_bike</td>\n",
       "      <td>2024-06-12 16:29:21.789000+00:00</td>\n",
       "      <td>2024-06-12 17:01:18.472000+00:00</td>\n",
       "      <td>Underhill Ave &amp; Pacific St</td>\n",
       "      <td>4231.04</td>\n",
       "      <td>67 St &amp; Erik Pl</td>\n",
       "      <td>2733.03</td>\n",
       "      <td>40.680484</td>\n",
       "      <td>-73.964680</td>\n",
       "      <td>40.633385</td>\n",
       "      <td>-74.016562</td>\n",
       "      <td>member</td>\n",
       "    </tr>\n",
       "    <tr>\n",
       "      <th>3</th>\n",
       "      <td>0FFB2DFEFA82A1E7</td>\n",
       "      <td>classic_bike</td>\n",
       "      <td>2024-06-12 12:08:36.965000+00:00</td>\n",
       "      <td>2024-06-12 12:20:47.097000+00:00</td>\n",
       "      <td>7 Ave &amp; 41 St</td>\n",
       "      <td>3192.05</td>\n",
       "      <td>67 St &amp; Erik Pl</td>\n",
       "      <td>2733.03</td>\n",
       "      <td>40.647379</td>\n",
       "      <td>-74.000911</td>\n",
       "      <td>40.633385</td>\n",
       "      <td>-74.016562</td>\n",
       "      <td>member</td>\n",
       "    </tr>\n",
       "    <tr>\n",
       "      <th>4</th>\n",
       "      <td>C93D8F20267F9638</td>\n",
       "      <td>classic_bike</td>\n",
       "      <td>2024-06-12 06:56:00.436000+00:00</td>\n",
       "      <td>2024-06-12 07:12:01.481000+00:00</td>\n",
       "      <td>17 St &amp; 5 Ave</td>\n",
       "      <td>3699.07</td>\n",
       "      <td>5 Ave &amp; 67 St</td>\n",
       "      <td>2782.02</td>\n",
       "      <td>40.663493</td>\n",
       "      <td>-73.991007</td>\n",
       "      <td>40.635679</td>\n",
       "      <td>-74.020005</td>\n",
       "      <td>member</td>\n",
       "    </tr>\n",
       "  </tbody>\n",
       "</table>\n",
       "</div>"
      ],
      "text/plain": [
       "            ride_id rideable_type                       started_at  \\\n",
       "0  F9CCEBF8D94C0A16  classic_bike 2024-06-12 17:51:15.505000+00:00   \n",
       "1  8AA50A79D71A04B8  classic_bike 2024-06-12 17:24:07.743000+00:00   \n",
       "2  4D68C6542D0D10BB  classic_bike 2024-06-12 16:29:21.789000+00:00   \n",
       "3  0FFB2DFEFA82A1E7  classic_bike 2024-06-12 12:08:36.965000+00:00   \n",
       "4  C93D8F20267F9638  classic_bike 2024-06-12 06:56:00.436000+00:00   \n",
       "\n",
       "                          ended_at            start_station_name  \\\n",
       "0 2024-06-12 18:02:43.774000+00:00                58 St & Pier 4   \n",
       "1 2024-06-12 17:53:20.167000+00:00  Prospect Ave & Vanderbilt St   \n",
       "2 2024-06-12 17:01:18.472000+00:00    Underhill Ave & Pacific St   \n",
       "3 2024-06-12 12:20:47.097000+00:00                 7 Ave & 41 St   \n",
       "4 2024-06-12 07:12:01.481000+00:00                 17 St & 5 Ave   \n",
       "\n",
       "  start_station_id end_station_name end_station_id  start_lat  start_lng  \\\n",
       "0          3220.01  67 St & Erik Pl        2733.03  40.646475 -74.026081   \n",
       "1          3426.02  67 St & Erik Pl        2733.03  40.653368 -73.976291   \n",
       "2          4231.04  67 St & Erik Pl        2733.03  40.680484 -73.964680   \n",
       "3          3192.05  67 St & Erik Pl        2733.03  40.647379 -74.000911   \n",
       "4          3699.07    5 Ave & 67 St        2782.02  40.663493 -73.991007   \n",
       "\n",
       "     end_lat    end_lng member_casual  \n",
       "0  40.633385 -74.016562        member  \n",
       "1  40.633385 -74.016562        member  \n",
       "2  40.633385 -74.016562        member  \n",
       "3  40.633385 -74.016562        member  \n",
       "4  40.635679 -74.020005        member  "
      ]
     },
     "execution_count": 4,
     "metadata": {},
     "output_type": "execute_result"
    }
   ],
   "source": [
    "query = f\"\"\"\n",
    "    SELECT *\n",
    "    FROM `{table_ref}`\n",
    "    LIMIT 5\n",
    "\"\"\"\n",
    "\n",
    "df = client.query(query).to_dataframe()\n",
    "df"
   ]
  },
  {
   "cell_type": "code",
   "execution_count": 5,
   "id": "e98fa03b",
   "metadata": {},
   "outputs": [
    {
     "name": "stdout",
     "output_type": "stream",
     "text": [
      "['ride_id' 'rideable_type' 'started_at' 'ended_at' 'start_station_name'\n",
      " 'start_station_id' 'end_station_name' 'end_station_id' 'start_lat'\n",
      " 'start_lng' 'end_lat' 'end_lng' 'member_casual']\n"
     ]
    }
   ],
   "source": [
    "print(df.columns.values)"
   ]
  },
  {
   "cell_type": "code",
   "execution_count": 6,
   "id": "1ae1655d",
   "metadata": {},
   "outputs": [
    {
     "data": {
      "text/plain": [
       "ride_id                            object\n",
       "rideable_type                      object\n",
       "started_at            datetime64[us, UTC]\n",
       "ended_at              datetime64[us, UTC]\n",
       "start_station_name                 object\n",
       "start_station_id                   object\n",
       "end_station_name                   object\n",
       "end_station_id                     object\n",
       "start_lat                         float64\n",
       "start_lng                         float64\n",
       "end_lat                           float64\n",
       "end_lng                           float64\n",
       "member_casual                      object\n",
       "dtype: object"
      ]
     },
     "execution_count": 6,
     "metadata": {},
     "output_type": "execute_result"
    }
   ],
   "source": [
    "df.dtypes"
   ]
  },
  {
   "cell_type": "markdown",
   "id": "b62c62f6",
   "metadata": {},
   "source": [
    "Next is dealing with missing values to ensure accurate analysis."
   ]
  },
  {
   "cell_type": "code",
   "execution_count": 7,
   "id": "95a0292a",
   "metadata": {},
   "outputs": [
    {
     "name": "stderr",
     "output_type": "stream",
     "text": [
      "/home/olshe/pers/eu-climate-economic-resilience/.venv/lib/python3.12/site-packages/google/cloud/bigquery/table.py:1957: UserWarning: BigQuery Storage module not found, fetch data with the REST endpoint instead.\n",
      "  warnings.warn(\n"
     ]
    },
    {
     "data": {
      "text/html": [
       "<div>\n",
       "<style scoped>\n",
       "    .dataframe tbody tr th:only-of-type {\n",
       "        vertical-align: middle;\n",
       "    }\n",
       "\n",
       "    .dataframe tbody tr th {\n",
       "        vertical-align: top;\n",
       "    }\n",
       "\n",
       "    .dataframe thead th {\n",
       "        text-align: right;\n",
       "    }\n",
       "</style>\n",
       "<table border=\"1\" class=\"dataframe\">\n",
       "  <thead>\n",
       "    <tr style=\"text-align: right;\">\n",
       "      <th></th>\n",
       "      <th>ride_id_null</th>\n",
       "      <th>rideable_type_null</th>\n",
       "      <th>started_at_null</th>\n",
       "      <th>ended_at_null</th>\n",
       "      <th>start_station_name_null</th>\n",
       "      <th>start_station_idnull</th>\n",
       "      <th>end_station_name_null</th>\n",
       "      <th>end_station_id_null</th>\n",
       "      <th>start_lat_null</th>\n",
       "      <th>start_lng_null</th>\n",
       "      <th>end_lat_null</th>\n",
       "      <th>end_lng_null</th>\n",
       "      <th>member_casual_null</th>\n",
       "    </tr>\n",
       "  </thead>\n",
       "  <tbody>\n",
       "    <tr>\n",
       "      <th>0</th>\n",
       "      <td>0</td>\n",
       "      <td>0</td>\n",
       "      <td>0</td>\n",
       "      <td>0</td>\n",
       "      <td>35253</td>\n",
       "      <td>0</td>\n",
       "      <td>152745</td>\n",
       "      <td>0</td>\n",
       "      <td>0</td>\n",
       "      <td>0</td>\n",
       "      <td>12784</td>\n",
       "      <td>12784</td>\n",
       "      <td>0</td>\n",
       "    </tr>\n",
       "  </tbody>\n",
       "</table>\n",
       "</div>"
      ],
      "text/plain": [
       "   ride_id_null  rideable_type_null  started_at_null  ended_at_null  \\\n",
       "0             0                   0                0              0   \n",
       "\n",
       "   start_station_name_null  start_station_idnull  end_station_name_null  \\\n",
       "0                    35253                     0                 152745   \n",
       "\n",
       "   end_station_id_null  start_lat_null  start_lng_null  end_lat_null  \\\n",
       "0                    0               0               0         12784   \n",
       "\n",
       "   end_lng_null  member_casual_null  \n",
       "0         12784                   0  "
      ]
     },
     "execution_count": 7,
     "metadata": {},
     "output_type": "execute_result"
    }
   ],
   "source": [
    "query = f\"\"\"\n",
    "    SELECT \n",
    "        COUNT(*) - COUNT(ride_id) as ride_id_null,\n",
    "        COUNT(*) - COUNT(rideable_type) as rideable_type_null,\n",
    "        COUNT(*) - COUNT(started_at) as started_at_null,\n",
    "        COUNT(*) - COUNT(ended_at) as ended_at_null,\n",
    "        COUNT(*) - COUNT(start_station_name) as start_station_name_null,\n",
    "        COUNT(*) - COUNT(start_station_id) as start_station_idnull,\n",
    "        COUNT(*) - COUNT(end_station_name) as end_station_name_null,\n",
    "        COUNT(*) - COUNT(end_station_id) as end_station_id_null,\n",
    "        COUNT(*) - COUNT(start_lat) as start_lat_null,\n",
    "        COUNT(*) - COUNT(start_lng) as start_lng_null,\n",
    "        COUNT(*) - COUNT(end_lat) as end_lat_null,\n",
    "        COUNT(*) - COUNT(end_lng) as end_lng_null,\n",
    "        COUNT(*) - COUNT(member_casual) as member_casual_null\n",
    "    FROM `{table_ref}`\n",
    "\"\"\"\n",
    "\n",
    "df = client.query(query).to_dataframe()\n",
    "df"
   ]
  },
  {
   "cell_type": "markdown",
   "id": "81b47c77",
   "metadata": {},
   "source": [
    "Work goal is predicting ride time on a start data, so *start_station_name* can be important feature. As for *end_station_name*, *end_lat* and *end_lng* they will not be used and can be not considered. \n",
    "<br> \n",
    "<br>\n",
    "Lets check for any *start_station_name* missing values pattern."
   ]
  },
  {
   "cell_type": "code",
   "execution_count": 8,
   "id": "60ed3a01",
   "metadata": {},
   "outputs": [
    {
     "name": "stderr",
     "output_type": "stream",
     "text": [
      "/home/olshe/pers/eu-climate-economic-resilience/.venv/lib/python3.12/site-packages/google/cloud/bigquery/table.py:1957: UserWarning: BigQuery Storage module not found, fetch data with the REST endpoint instead.\n",
      "  warnings.warn(\n"
     ]
    },
    {
     "data": {
      "text/html": [
       "<div>\n",
       "<style scoped>\n",
       "    .dataframe tbody tr th:only-of-type {\n",
       "        vertical-align: middle;\n",
       "    }\n",
       "\n",
       "    .dataframe tbody tr th {\n",
       "        vertical-align: top;\n",
       "    }\n",
       "\n",
       "    .dataframe thead th {\n",
       "        text-align: right;\n",
       "    }\n",
       "</style>\n",
       "<table border=\"1\" class=\"dataframe\">\n",
       "  <thead>\n",
       "    <tr style=\"text-align: right;\">\n",
       "      <th></th>\n",
       "      <th>ride_id</th>\n",
       "      <th>rideable_type</th>\n",
       "      <th>started_at</th>\n",
       "      <th>ended_at</th>\n",
       "      <th>start_station_name</th>\n",
       "      <th>start_station_id</th>\n",
       "      <th>end_station_name</th>\n",
       "      <th>end_station_id</th>\n",
       "      <th>start_lat</th>\n",
       "      <th>start_lng</th>\n",
       "      <th>end_lat</th>\n",
       "      <th>end_lng</th>\n",
       "      <th>member_casual</th>\n",
       "    </tr>\n",
       "  </thead>\n",
       "  <tbody>\n",
       "    <tr>\n",
       "      <th>0</th>\n",
       "      <td>49BDE0642F7E38BC</td>\n",
       "      <td>electric_bike</td>\n",
       "      <td>2024-08-05 09:42:16.884000+00:00</td>\n",
       "      <td>2024-08-05 09:49:14.244000+00:00</td>\n",
       "      <td>None</td>\n",
       "      <td>nan</td>\n",
       "      <td>55 St &amp; 5 Ave</td>\n",
       "      <td>3050.03</td>\n",
       "      <td>40.64</td>\n",
       "      <td>-74.01</td>\n",
       "      <td>40.642408</td>\n",
       "      <td>-74.013318</td>\n",
       "      <td>member</td>\n",
       "    </tr>\n",
       "    <tr>\n",
       "      <th>1</th>\n",
       "      <td>50E7368DB8165036</td>\n",
       "      <td>electric_bike</td>\n",
       "      <td>2024-08-05 17:46:56.976000+00:00</td>\n",
       "      <td>2024-08-05 17:49:12.491000+00:00</td>\n",
       "      <td>None</td>\n",
       "      <td>nan</td>\n",
       "      <td>Parkside Ave &amp; Parade Pl</td>\n",
       "      <td>3376.04</td>\n",
       "      <td>40.65</td>\n",
       "      <td>-73.97</td>\n",
       "      <td>40.653200</td>\n",
       "      <td>-73.966390</td>\n",
       "      <td>member</td>\n",
       "    </tr>\n",
       "    <tr>\n",
       "      <th>2</th>\n",
       "      <td>65A6D4004D9EDDE5</td>\n",
       "      <td>electric_bike</td>\n",
       "      <td>2024-08-05 18:39:38.364000+00:00</td>\n",
       "      <td>2024-08-05 18:45:13.619000+00:00</td>\n",
       "      <td>None</td>\n",
       "      <td>nan</td>\n",
       "      <td>Clarkson Ave &amp; Utica Ave</td>\n",
       "      <td>3486.02</td>\n",
       "      <td>40.67</td>\n",
       "      <td>-73.93</td>\n",
       "      <td>40.656660</td>\n",
       "      <td>-73.931090</td>\n",
       "      <td>casual</td>\n",
       "    </tr>\n",
       "    <tr>\n",
       "      <th>3</th>\n",
       "      <td>B50A8CE2E0D2CC0E</td>\n",
       "      <td>electric_bike</td>\n",
       "      <td>2024-08-05 20:42:57.586000+00:00</td>\n",
       "      <td>2024-08-05 21:07:57.293000+00:00</td>\n",
       "      <td>None</td>\n",
       "      <td>nan</td>\n",
       "      <td>Lincoln Rd &amp; Ocean Ave</td>\n",
       "      <td>3633.08</td>\n",
       "      <td>40.67</td>\n",
       "      <td>-73.97</td>\n",
       "      <td>40.660500</td>\n",
       "      <td>-73.962600</td>\n",
       "      <td>member</td>\n",
       "    </tr>\n",
       "    <tr>\n",
       "      <th>4</th>\n",
       "      <td>A3DDF0A5F964D02A</td>\n",
       "      <td>electric_bike</td>\n",
       "      <td>2024-08-05 22:25:59.593000+00:00</td>\n",
       "      <td>2024-08-06 01:48:49.353000+00:00</td>\n",
       "      <td>None</td>\n",
       "      <td>nan</td>\n",
       "      <td>Sterling St &amp; Nostrand Ave</td>\n",
       "      <td>3657.06</td>\n",
       "      <td>40.67</td>\n",
       "      <td>-73.96</td>\n",
       "      <td>40.663180</td>\n",
       "      <td>-73.950760</td>\n",
       "      <td>casual</td>\n",
       "    </tr>\n",
       "  </tbody>\n",
       "</table>\n",
       "</div>"
      ],
      "text/plain": [
       "            ride_id  rideable_type                       started_at  \\\n",
       "0  49BDE0642F7E38BC  electric_bike 2024-08-05 09:42:16.884000+00:00   \n",
       "1  50E7368DB8165036  electric_bike 2024-08-05 17:46:56.976000+00:00   \n",
       "2  65A6D4004D9EDDE5  electric_bike 2024-08-05 18:39:38.364000+00:00   \n",
       "3  B50A8CE2E0D2CC0E  electric_bike 2024-08-05 20:42:57.586000+00:00   \n",
       "4  A3DDF0A5F964D02A  electric_bike 2024-08-05 22:25:59.593000+00:00   \n",
       "\n",
       "                          ended_at start_station_name start_station_id  \\\n",
       "0 2024-08-05 09:49:14.244000+00:00               None              nan   \n",
       "1 2024-08-05 17:49:12.491000+00:00               None              nan   \n",
       "2 2024-08-05 18:45:13.619000+00:00               None              nan   \n",
       "3 2024-08-05 21:07:57.293000+00:00               None              nan   \n",
       "4 2024-08-06 01:48:49.353000+00:00               None              nan   \n",
       "\n",
       "             end_station_name end_station_id  start_lat  start_lng    end_lat  \\\n",
       "0               55 St & 5 Ave        3050.03      40.64     -74.01  40.642408   \n",
       "1    Parkside Ave & Parade Pl        3376.04      40.65     -73.97  40.653200   \n",
       "2    Clarkson Ave & Utica Ave        3486.02      40.67     -73.93  40.656660   \n",
       "3      Lincoln Rd & Ocean Ave        3633.08      40.67     -73.97  40.660500   \n",
       "4  Sterling St & Nostrand Ave        3657.06      40.67     -73.96  40.663180   \n",
       "\n",
       "     end_lng member_casual  \n",
       "0 -74.013318        member  \n",
       "1 -73.966390        member  \n",
       "2 -73.931090        casual  \n",
       "3 -73.962600        member  \n",
       "4 -73.950760        casual  "
      ]
     },
     "execution_count": 8,
     "metadata": {},
     "output_type": "execute_result"
    }
   ],
   "source": [
    "query = f\"\"\"\n",
    "    SELECT *\n",
    "    FROM `{table_ref}`\n",
    "    WHERE start_station_name IS NULL\n",
    "    LIMIT 5\n",
    "\"\"\"\n",
    "\n",
    "df = client.query(query).to_dataframe()\n",
    "df"
   ]
  },
  {
   "cell_type": "markdown",
   "id": "09a6a0ff",
   "metadata": {},
   "source": [
    "For null *start_station_name* feature *start_station_id* has string value 'nan'. Is it case for all rows?"
   ]
  },
  {
   "cell_type": "code",
   "execution_count": 9,
   "id": "e46f1d0c",
   "metadata": {},
   "outputs": [
    {
     "name": "stderr",
     "output_type": "stream",
     "text": [
      "/home/olshe/pers/eu-climate-economic-resilience/.venv/lib/python3.12/site-packages/google/cloud/bigquery/table.py:1957: UserWarning: BigQuery Storage module not found, fetch data with the REST endpoint instead.\n",
      "  warnings.warn(\n"
     ]
    },
    {
     "data": {
      "text/html": [
       "<div>\n",
       "<style scoped>\n",
       "    .dataframe tbody tr th:only-of-type {\n",
       "        vertical-align: middle;\n",
       "    }\n",
       "\n",
       "    .dataframe tbody tr th {\n",
       "        vertical-align: top;\n",
       "    }\n",
       "\n",
       "    .dataframe thead th {\n",
       "        text-align: right;\n",
       "    }\n",
       "</style>\n",
       "<table border=\"1\" class=\"dataframe\">\n",
       "  <thead>\n",
       "    <tr style=\"text-align: right;\">\n",
       "      <th></th>\n",
       "      <th>cnt</th>\n",
       "    </tr>\n",
       "  </thead>\n",
       "  <tbody>\n",
       "    <tr>\n",
       "      <th>0</th>\n",
       "      <td>0</td>\n",
       "    </tr>\n",
       "  </tbody>\n",
       "</table>\n",
       "</div>"
      ],
      "text/plain": [
       "   cnt\n",
       "0    0"
      ]
     },
     "execution_count": 9,
     "metadata": {},
     "output_type": "execute_result"
    }
   ],
   "source": [
    "query = f\"\"\"\n",
    "    SELECT COUNT(*) as cnt\n",
    "    FROM `{table_ref}`\n",
    "    WHERE start_station_name IS NULL AND start_station_id != 'nan'\n",
    "\"\"\"\n",
    "\n",
    "df = client.query(query).to_dataframe()\n",
    "df"
   ]
  },
  {
   "cell_type": "markdown",
   "id": "1f962f9a",
   "metadata": {},
   "source": [
    "Any rows where *start_station_id* is 'nan' but *start_station_name* is not null?"
   ]
  },
  {
   "cell_type": "code",
   "execution_count": 10,
   "id": "6715d000",
   "metadata": {},
   "outputs": [
    {
     "name": "stderr",
     "output_type": "stream",
     "text": [
      "/home/olshe/pers/eu-climate-economic-resilience/.venv/lib/python3.12/site-packages/google/cloud/bigquery/table.py:1957: UserWarning: BigQuery Storage module not found, fetch data with the REST endpoint instead.\n",
      "  warnings.warn(\n"
     ]
    },
    {
     "data": {
      "text/html": [
       "<div>\n",
       "<style scoped>\n",
       "    .dataframe tbody tr th:only-of-type {\n",
       "        vertical-align: middle;\n",
       "    }\n",
       "\n",
       "    .dataframe tbody tr th {\n",
       "        vertical-align: top;\n",
       "    }\n",
       "\n",
       "    .dataframe thead th {\n",
       "        text-align: right;\n",
       "    }\n",
       "</style>\n",
       "<table border=\"1\" class=\"dataframe\">\n",
       "  <thead>\n",
       "    <tr style=\"text-align: right;\">\n",
       "      <th></th>\n",
       "      <th>cnt</th>\n",
       "    </tr>\n",
       "  </thead>\n",
       "  <tbody>\n",
       "    <tr>\n",
       "      <th>0</th>\n",
       "      <td>0</td>\n",
       "    </tr>\n",
       "  </tbody>\n",
       "</table>\n",
       "</div>"
      ],
      "text/plain": [
       "   cnt\n",
       "0    0"
      ]
     },
     "execution_count": 10,
     "metadata": {},
     "output_type": "execute_result"
    }
   ],
   "source": [
    "query = f\"\"\"\n",
    "    SELECT COUNT(*) as cnt\n",
    "    FROM `{table_ref}`\n",
    "    WHERE start_station_name IS NOT NULL AND start_station_id = 'nan'\n",
    "\"\"\"\n",
    "\n",
    "df = client.query(query).to_dataframe()\n",
    "df"
   ]
  },
  {
   "cell_type": "markdown",
   "id": "223f9543",
   "metadata": {},
   "source": [
    "As it is same for all missing values and 30k is relatively small to 60m, entries with null *start_station_name* can be safely removed to ensure accuracy."
   ]
  },
  {
   "cell_type": "code",
   "execution_count": 76,
   "id": "24ad2008",
   "metadata": {},
   "outputs": [
    {
     "data": {
      "text/plain": [
       "<google.cloud.bigquery.table._EmptyRowIterator at 0x7f365c2a4650>"
      ]
     },
     "execution_count": 76,
     "metadata": {},
     "output_type": "execute_result"
    }
   ],
   "source": [
    "query = f\"\"\"\n",
    "    CREATE OR REPLACE TABLE {cleaned_table_ref}\n",
    "    PARTITION BY DATE_TRUNC(started_at, MONTH)\n",
    "    CLUSTER BY member_casual, rideable_type \n",
    "        AS\n",
    "            SELECT * FROM `{table_ref}`\n",
    "            WHERE start_station_id != 'nan'\n",
    "\"\"\"\n",
    "\n",
    "job = client.query(query)\n",
    "job.result()\n"
   ]
  },
  {
   "cell_type": "markdown",
   "id": "7aa5931f",
   "metadata": {},
   "source": [
    "Next step is to check for ride time invlaid values like negative duration or too long ride."
   ]
  },
  {
   "cell_type": "code",
   "execution_count": 84,
   "id": "0f3a41d9",
   "metadata": {},
   "outputs": [
    {
     "name": "stderr",
     "output_type": "stream",
     "text": [
      "/home/olshe/pers/eu-climate-economic-resilience/.venv/lib/python3.12/site-packages/google/cloud/bigquery/table.py:1957: UserWarning: BigQuery Storage module not found, fetch data with the REST endpoint instead.\n",
      "  warnings.warn(\n"
     ]
    },
    {
     "name": "stdout",
     "output_type": "stream",
     "text": [
      "Minimum time is -57 minutes and maximum time is 1559 minutes.\n"
     ]
    }
   ],
   "source": [
    "query = f\"\"\"\n",
    "    SELECT \n",
    "        MIN(TIMESTAMP_DIFF(ended_at, started_at, MINUTE)) as min_ride_time,\n",
    "        MAX(TIMESTAMP_DIFF(ended_at, started_at, MINUTE)) as max_ride_time\n",
    "    FROM {cleaned_table_ref}\n",
    "\"\"\"\n",
    "\n",
    "df = client.query(query).to_dataframe()\n",
    "print(f'Minimum time is {df['min_ride_time'].iloc[0]} minutes and maximum time is {df['max_ride_time'].iloc[0]} minutes.')"
   ]
  },
  {
   "cell_type": "markdown",
   "id": "a9eba4ea",
   "metadata": {},
   "source": [
    "Minimum ride time is -57 minutes, which, of course, cannot be true."
   ]
  },
  {
   "cell_type": "markdown",
   "id": "5eab2e50",
   "metadata": {},
   "source": [
    "For one-time ride and Day Pass Citi Bike provides 30 minutes, after which user will be additionally charged $0.38/min. For users, who have year subscription ride is 45 minutes and after that $0.25/min: https://citibikenyc.com/pricing.\n"
   ]
  },
  {
   "cell_type": "markdown",
   "id": "d648ace1",
   "metadata": {},
   "source": [
    "It is highly unlikely, that user will drive 1559 minutes. For casual users it will be additional cost of $581.02 and for members $378.5."
   ]
  },
  {
   "cell_type": "markdown",
   "id": "4c9bb5e7",
   "metadata": {},
   "source": [
    "Let's see the proportions of rides less than 2 minutes, more than 45 minutes and more than 2 hours."
   ]
  },
  {
   "cell_type": "code",
   "execution_count": 85,
   "id": "a4e596c8",
   "metadata": {},
   "outputs": [
    {
     "data": {
      "text/html": [
       "<div>\n",
       "<style scoped>\n",
       "    .dataframe tbody tr th:only-of-type {\n",
       "        vertical-align: middle;\n",
       "    }\n",
       "\n",
       "    .dataframe tbody tr th {\n",
       "        vertical-align: top;\n",
       "    }\n",
       "\n",
       "    .dataframe thead th {\n",
       "        text-align: right;\n",
       "    }\n",
       "</style>\n",
       "<table border=\"1\" class=\"dataframe\">\n",
       "  <thead>\n",
       "    <tr style=\"text-align: right;\">\n",
       "      <th></th>\n",
       "      <th>total_trips</th>\n",
       "      <th>avg_time</th>\n",
       "      <th>pct_less_2_min</th>\n",
       "      <th>pct_over_45_min</th>\n",
       "      <th>pct_over_2_hours</th>\n",
       "    </tr>\n",
       "  </thead>\n",
       "  <tbody>\n",
       "    <tr>\n",
       "      <th>0</th>\n",
       "      <td>59738507</td>\n",
       "      <td>12.582068</td>\n",
       "      <td>3.41</td>\n",
       "      <td>2.03</td>\n",
       "      <td>0.24</td>\n",
       "    </tr>\n",
       "  </tbody>\n",
       "</table>\n",
       "</div>"
      ],
      "text/plain": [
       "   total_trips   avg_time  pct_less_2_min  pct_over_45_min  pct_over_2_hours\n",
       "0     59738507  12.582068            3.41             2.03              0.24"
      ]
     },
     "execution_count": 85,
     "metadata": {},
     "output_type": "execute_result"
    }
   ],
   "source": [
    "query = f\"\"\"\n",
    " SELECT\n",
    "  COUNT(*) AS total_trips,\n",
    "  AVG(TIMESTAMP_DIFF(ended_at, started_at, MINUTE)) as avg_time,\n",
    "  ROUND(100 * COUNTIF(TIMESTAMP_DIFF(ended_at, started_at, MINUTE) < 2) / COUNT(*), 2) AS pct_less_2_min,\n",
    "  ROUND(100 * COUNTIF(TIMESTAMP_DIFF(ended_at, started_at, MINUTE) > 45) / COUNT(*), 2) AS pct_over_45_min,\n",
    "  ROUND(100 * COUNTIF(TIMESTAMP_DIFF(ended_at, started_at, MINUTE) > 120) / COUNT(*), 2) AS pct_over_2_hours\n",
    "FROM\n",
    "  {cleaned_table_ref}\n",
    "WHERE\n",
    "  ended_at IS NOT NULL\n",
    "  AND started_at IS NOT NULL\n",
    "\"\"\"\n",
    "\n",
    "df =  client.query(query).to_dataframe()\n",
    "df"
   ]
  },
  {
   "cell_type": "markdown",
   "id": "77afe2fd",
   "metadata": {},
   "source": [
    "Rides with duration less than 2 minutes are most likely test rides and do not show usual user behaviour.\n",
    "\n",
    "Rides slighly over 45 minutes are highly possible as users can miss moment when they need to change bike to reset time.\n",
    "\n",
    "But rides over 2 hours are unlikely as they have great additional cost. \n",
    "\n",
    "Time that is less than 2 minutes and more than 2 hours will be filtered out."
   ]
  },
  {
   "cell_type": "code",
   "execution_count": 86,
   "id": "330d538d",
   "metadata": {},
   "outputs": [
    {
     "data": {
      "text/plain": [
       "<google.cloud.bigquery.table._EmptyRowIterator at 0x7f365c210530>"
      ]
     },
     "execution_count": 86,
     "metadata": {},
     "output_type": "execute_result"
    }
   ],
   "source": [
    "query = f\"\"\"\n",
    "    DELETE\n",
    "    FROM {cleaned_table_ref}\n",
    "    WHERE \n",
    "        TIMESTAMP_DIFF(ended_at, started_at, MINUTE) < 2 \n",
    "    OR \n",
    "        TIMESTAMP_DIFF(ended_at, started_at, MINUTE) > 120\n",
    "\"\"\"\n",
    "\n",
    "job = client.query(query)\n",
    "job.result()"
   ]
  },
  {
   "cell_type": "markdown",
   "id": "91184ace",
   "metadata": {},
   "source": [
    "Proper *start_station_id* has 4 digits before point and 2 digits after point (e.g. 4074.17)"
   ]
  },
  {
   "cell_type": "code",
   "execution_count": 87,
   "id": "79f0152c",
   "metadata": {},
   "outputs": [
    {
     "name": "stderr",
     "output_type": "stream",
     "text": [
      "/home/olshe/pers/eu-climate-economic-resilience/.venv/lib/python3.12/site-packages/google/cloud/bigquery/table.py:1957: UserWarning: BigQuery Storage module not found, fetch data with the REST endpoint instead.\n",
      "  warnings.warn(\n"
     ]
    },
    {
     "data": {
      "text/html": [
       "<div>\n",
       "<style scoped>\n",
       "    .dataframe tbody tr th:only-of-type {\n",
       "        vertical-align: middle;\n",
       "    }\n",
       "\n",
       "    .dataframe tbody tr th {\n",
       "        vertical-align: top;\n",
       "    }\n",
       "\n",
       "    .dataframe thead th {\n",
       "        text-align: right;\n",
       "    }\n",
       "</style>\n",
       "<table border=\"1\" class=\"dataframe\">\n",
       "  <thead>\n",
       "    <tr style=\"text-align: right;\">\n",
       "      <th></th>\n",
       "      <th>start_station_id</th>\n",
       "    </tr>\n",
       "  </thead>\n",
       "  <tbody>\n",
       "    <tr>\n",
       "      <th>0</th>\n",
       "      <td>6893.1</td>\n",
       "    </tr>\n",
       "    <tr>\n",
       "      <th>1</th>\n",
       "      <td>7835.1</td>\n",
       "    </tr>\n",
       "    <tr>\n",
       "      <th>2</th>\n",
       "      <td>JC081</td>\n",
       "    </tr>\n",
       "    <tr>\n",
       "      <th>3</th>\n",
       "      <td>LA Metro Demo 2</td>\n",
       "    </tr>\n",
       "    <tr>\n",
       "      <th>4</th>\n",
       "      <td>6247.06_Pillar</td>\n",
       "    </tr>\n",
       "    <tr>\n",
       "      <th>...</th>\n",
       "      <td>...</td>\n",
       "    </tr>\n",
       "    <tr>\n",
       "      <th>174</th>\n",
       "      <td>JC105</td>\n",
       "    </tr>\n",
       "    <tr>\n",
       "      <th>175</th>\n",
       "      <td>JC019</td>\n",
       "    </tr>\n",
       "    <tr>\n",
       "      <th>176</th>\n",
       "      <td>HB301</td>\n",
       "    </tr>\n",
       "    <tr>\n",
       "      <th>177</th>\n",
       "      <td>JC098</td>\n",
       "    </tr>\n",
       "    <tr>\n",
       "      <th>178</th>\n",
       "      <td>HB304</td>\n",
       "    </tr>\n",
       "  </tbody>\n",
       "</table>\n",
       "<p>179 rows × 1 columns</p>\n",
       "</div>"
      ],
      "text/plain": [
       "    start_station_id\n",
       "0             6893.1\n",
       "1             7835.1\n",
       "2              JC081\n",
       "3    LA Metro Demo 2\n",
       "4     6247.06_Pillar\n",
       "..               ...\n",
       "174            JC105\n",
       "175            JC019\n",
       "176            HB301\n",
       "177            JC098\n",
       "178            HB304\n",
       "\n",
       "[179 rows x 1 columns]"
      ]
     },
     "execution_count": 87,
     "metadata": {},
     "output_type": "execute_result"
    }
   ],
   "source": [
    "regex = r'^\\d{4}\\.\\d{2}$'\n",
    "\n",
    "query = f\"\"\"\n",
    "    SELECT start_station_id\n",
    "    FROM {cleaned_table_ref}\n",
    "    WHERE NOT REGEXP_CONTAINS(start_station_id, r'{regex}')\n",
    "    GROUP BY start_station_id;\n",
    "\"\"\"\n",
    "\n",
    "df = client.query(query).to_dataframe()\n",
    "df"
   ]
  },
  {
   "cell_type": "markdown",
   "id": "8239afe2",
   "metadata": {},
   "source": [
    "IDs like JC075 correspond to New Jersey stations. As analysis and presiction focuses on rides only inside NYC, such entries can be removed."
   ]
  },
  {
   "cell_type": "code",
   "execution_count": 88,
   "id": "36775b82",
   "metadata": {},
   "outputs": [
    {
     "data": {
      "text/plain": [
       "<google.cloud.bigquery.table._EmptyRowIterator at 0x7f365c212c60>"
      ]
     },
     "execution_count": 88,
     "metadata": {},
     "output_type": "execute_result"
    }
   ],
   "source": [
    "regex = r'^[A-Za-z]{2}\\d{3}$'\n",
    "\n",
    "query = f\"\"\"\n",
    "    DELETE \n",
    "    FROM {cleaned_table_ref}\n",
    "    WHERE REGEXP_CONTAINS(start_station_id, r'{regex}') OR REGEXP_CONTAINS(end_station_id, r'{regex}')\n",
    "\"\"\"\n",
    "\n",
    "job = client.query(query)\n",
    "job.result()"
   ]
  },
  {
   "cell_type": "markdown",
   "id": "dadfba35",
   "metadata": {},
   "source": [
    "Now let's see remaining IDs."
   ]
  },
  {
   "cell_type": "code",
   "execution_count": 89,
   "id": "eb1d89fc",
   "metadata": {},
   "outputs": [
    {
     "name": "stderr",
     "output_type": "stream",
     "text": [
      "/home/olshe/pers/eu-climate-economic-resilience/.venv/lib/python3.12/site-packages/google/cloud/bigquery/table.py:1957: UserWarning: BigQuery Storage module not found, fetch data with the REST endpoint instead.\n",
      "  warnings.warn(\n"
     ]
    },
    {
     "data": {
      "text/html": [
       "<div>\n",
       "<style scoped>\n",
       "    .dataframe tbody tr th:only-of-type {\n",
       "        vertical-align: middle;\n",
       "    }\n",
       "\n",
       "    .dataframe tbody tr th {\n",
       "        vertical-align: top;\n",
       "    }\n",
       "\n",
       "    .dataframe thead th {\n",
       "        text-align: right;\n",
       "    }\n",
       "</style>\n",
       "<table border=\"1\" class=\"dataframe\">\n",
       "  <thead>\n",
       "    <tr style=\"text-align: right;\">\n",
       "      <th></th>\n",
       "      <th>start_station_id</th>\n",
       "      <th>f0_</th>\n",
       "    </tr>\n",
       "  </thead>\n",
       "  <tbody>\n",
       "    <tr>\n",
       "      <th>0</th>\n",
       "      <td>4432.1</td>\n",
       "      <td>935</td>\n",
       "    </tr>\n",
       "    <tr>\n",
       "      <th>1</th>\n",
       "      <td>4137.1</td>\n",
       "      <td>1566</td>\n",
       "    </tr>\n",
       "    <tr>\n",
       "      <th>2</th>\n",
       "      <td>6242.1</td>\n",
       "      <td>1444</td>\n",
       "    </tr>\n",
       "    <tr>\n",
       "      <th>3</th>\n",
       "      <td>7154.1</td>\n",
       "      <td>7338</td>\n",
       "    </tr>\n",
       "    <tr>\n",
       "      <th>4</th>\n",
       "      <td>4994.1</td>\n",
       "      <td>1111</td>\n",
       "    </tr>\n",
       "    <tr>\n",
       "      <th>...</th>\n",
       "      <td>...</td>\n",
       "      <td>...</td>\n",
       "    </tr>\n",
       "    <tr>\n",
       "      <th>112</th>\n",
       "      <td>8104.1</td>\n",
       "      <td>945</td>\n",
       "    </tr>\n",
       "    <tr>\n",
       "      <th>113</th>\n",
       "      <td>7849.1</td>\n",
       "      <td>664</td>\n",
       "    </tr>\n",
       "    <tr>\n",
       "      <th>114</th>\n",
       "      <td>Shop Morgan</td>\n",
       "      <td>1037</td>\n",
       "    </tr>\n",
       "    <tr>\n",
       "      <th>115</th>\n",
       "      <td>7596.1</td>\n",
       "      <td>154</td>\n",
       "    </tr>\n",
       "    <tr>\n",
       "      <th>116</th>\n",
       "      <td>Lab - NYC - Monolith</td>\n",
       "      <td>7</td>\n",
       "    </tr>\n",
       "  </tbody>\n",
       "</table>\n",
       "<p>117 rows × 2 columns</p>\n",
       "</div>"
      ],
      "text/plain": [
       "         start_station_id   f0_\n",
       "0                  4432.1   935\n",
       "1                  4137.1  1566\n",
       "2                  6242.1  1444\n",
       "3                  7154.1  7338\n",
       "4                  4994.1  1111\n",
       "..                    ...   ...\n",
       "112                8104.1   945\n",
       "113                7849.1   664\n",
       "114          Shop Morgan   1037\n",
       "115                7596.1   154\n",
       "116  Lab - NYC - Monolith     7\n",
       "\n",
       "[117 rows x 2 columns]"
      ]
     },
     "execution_count": 89,
     "metadata": {},
     "output_type": "execute_result"
    }
   ],
   "source": [
    "regex = r'^\\d{4}\\.\\d{2}$'\n",
    "\n",
    "query = f\"\"\"\n",
    "    SELECT start_station_id, COUNT(*)\n",
    "    FROM {cleaned_table_ref}\n",
    "    WHERE NOT REGEXP_CONTAINS(start_station_id, r'{regex}')\n",
    "    GROUP BY start_station_id;\n",
    "\"\"\"\n",
    "\n",
    "df = client.query(query).to_dataframe()\n",
    "df"
   ]
  },
  {
   "cell_type": "markdown",
   "id": "90cc9dd2",
   "metadata": {},
   "source": [
    "IDs like 4366.1 seem to miss 0 at the end. But at first check it."
   ]
  },
  {
   "cell_type": "code",
   "execution_count": 90,
   "id": "7a7ec7de",
   "metadata": {},
   "outputs": [],
   "source": [
    "def find_corresponding_station(regex_invalid_id, regex_valid_id, replace_id_query):\n",
    "    query = f\"\"\"\n",
    "        WITH invalid AS ( \n",
    "            SELECT start_station_id, start_station_name\n",
    "            FROM {cleaned_table_ref}\n",
    "            WHERE REGEXP_CONTAINS(start_station_id, r'{regex_invalid_id}')\n",
    "            GROUP BY start_station_id, start_station_name\n",
    "        ), \n",
    "        valid AS (\n",
    "            SELECT start_station_id, start_station_name\n",
    "            FROM {cleaned_table_ref}\n",
    "            WHERE REGEXP_CONTAINS(start_station_id, r'{regex_valid_id}')\n",
    "            GROUP BY start_station_id, start_station_name\n",
    "        )\n",
    "        SELECT * \n",
    "        FROM invalid\n",
    "        LEFT JOIN valid \n",
    "            ON {replace_id_query} = valid.start_station_id\n",
    "    \"\"\"\n",
    "\n",
    "    df = client.query(query).to_dataframe()\n",
    "    return df"
   ]
  },
  {
   "cell_type": "code",
   "execution_count": 91,
   "id": "d2ac5381",
   "metadata": {},
   "outputs": [
    {
     "name": "stderr",
     "output_type": "stream",
     "text": [
      "/home/olshe/pers/eu-climate-economic-resilience/.venv/lib/python3.12/site-packages/google/cloud/bigquery/table.py:1957: UserWarning: BigQuery Storage module not found, fetch data with the REST endpoint instead.\n",
      "  warnings.warn(\n"
     ]
    },
    {
     "data": {
      "text/html": [
       "<div>\n",
       "<style scoped>\n",
       "    .dataframe tbody tr th:only-of-type {\n",
       "        vertical-align: middle;\n",
       "    }\n",
       "\n",
       "    .dataframe tbody tr th {\n",
       "        vertical-align: top;\n",
       "    }\n",
       "\n",
       "    .dataframe thead th {\n",
       "        text-align: right;\n",
       "    }\n",
       "</style>\n",
       "<table border=\"1\" class=\"dataframe\">\n",
       "  <thead>\n",
       "    <tr style=\"text-align: right;\">\n",
       "      <th></th>\n",
       "      <th>start_station_id</th>\n",
       "      <th>start_station_name</th>\n",
       "      <th>start_station_id_1</th>\n",
       "      <th>start_station_name_1</th>\n",
       "    </tr>\n",
       "  </thead>\n",
       "  <tbody>\n",
       "    <tr>\n",
       "      <th>0</th>\n",
       "      <td>4110.1</td>\n",
       "      <td>3 St &amp; Hoyt St</td>\n",
       "      <td>4110.10</td>\n",
       "      <td>3 St &amp; Hoyt St</td>\n",
       "    </tr>\n",
       "    <tr>\n",
       "      <th>1</th>\n",
       "      <td>3776.1</td>\n",
       "      <td>McKeever Pl &amp; Sullivan Pl</td>\n",
       "      <td>3776.10</td>\n",
       "      <td>McKeever Pl &amp; Sullivan Pl</td>\n",
       "    </tr>\n",
       "    <tr>\n",
       "      <th>2</th>\n",
       "      <td>5785.1</td>\n",
       "      <td>Kent St &amp; McGuinness Blvd</td>\n",
       "      <td>5785.10</td>\n",
       "      <td>Kent St &amp; McGuinness Blvd</td>\n",
       "    </tr>\n",
       "    <tr>\n",
       "      <th>3</th>\n",
       "      <td>6242.1</td>\n",
       "      <td>51 St &amp; 43 Ave</td>\n",
       "      <td>6242.10</td>\n",
       "      <td>51 St &amp; 43 Ave</td>\n",
       "    </tr>\n",
       "    <tr>\n",
       "      <th>4</th>\n",
       "      <td>6365.1</td>\n",
       "      <td>79 St &amp; 37 Ave</td>\n",
       "      <td>6365.10</td>\n",
       "      <td>79 St &amp; 37 Ave</td>\n",
       "    </tr>\n",
       "    <tr>\n",
       "      <th>...</th>\n",
       "      <td>...</td>\n",
       "      <td>...</td>\n",
       "      <td>...</td>\n",
       "      <td>...</td>\n",
       "    </tr>\n",
       "    <tr>\n",
       "      <th>101</th>\n",
       "      <td>5332.1</td>\n",
       "      <td>Jackson St &amp; Leonard St</td>\n",
       "      <td>5332.10</td>\n",
       "      <td>Jackson St &amp; Leonard St</td>\n",
       "    </tr>\n",
       "    <tr>\n",
       "      <th>102</th>\n",
       "      <td>4798.1</td>\n",
       "      <td>Stephen St &amp; Seneca Ave</td>\n",
       "      <td>4798.10</td>\n",
       "      <td>Stephen St &amp; Seneca Ave</td>\n",
       "    </tr>\n",
       "    <tr>\n",
       "      <th>103</th>\n",
       "      <td>5854.1</td>\n",
       "      <td>Stuyvesant Walk &amp; 1 Ave Loop</td>\n",
       "      <td>5854.10</td>\n",
       "      <td>Stuyvesant Walk &amp; 1 Ave Loop</td>\n",
       "    </tr>\n",
       "    <tr>\n",
       "      <th>104</th>\n",
       "      <td>7386.1</td>\n",
       "      <td>2 Ave &amp; E 99 St</td>\n",
       "      <td>7386.10</td>\n",
       "      <td>2 Ave &amp; E 99 St</td>\n",
       "    </tr>\n",
       "    <tr>\n",
       "      <th>105</th>\n",
       "      <td>7849.1</td>\n",
       "      <td>Longwood Ave &amp; Southern Blvd</td>\n",
       "      <td>7849.10</td>\n",
       "      <td>Longwood Ave &amp; Southern Blvd</td>\n",
       "    </tr>\n",
       "  </tbody>\n",
       "</table>\n",
       "<p>106 rows × 4 columns</p>\n",
       "</div>"
      ],
      "text/plain": [
       "    start_station_id            start_station_name start_station_id_1  \\\n",
       "0             4110.1                3 St & Hoyt St            4110.10   \n",
       "1             3776.1     McKeever Pl & Sullivan Pl            3776.10   \n",
       "2             5785.1     Kent St & McGuinness Blvd            5785.10   \n",
       "3             6242.1                51 St & 43 Ave            6242.10   \n",
       "4             6365.1                79 St & 37 Ave            6365.10   \n",
       "..               ...                           ...                ...   \n",
       "101           5332.1       Jackson St & Leonard St            5332.10   \n",
       "102           4798.1       Stephen St & Seneca Ave            4798.10   \n",
       "103           5854.1  Stuyvesant Walk & 1 Ave Loop            5854.10   \n",
       "104           7386.1               2 Ave & E 99 St            7386.10   \n",
       "105           7849.1  Longwood Ave & Southern Blvd            7849.10   \n",
       "\n",
       "             start_station_name_1  \n",
       "0                  3 St & Hoyt St  \n",
       "1       McKeever Pl & Sullivan Pl  \n",
       "2       Kent St & McGuinness Blvd  \n",
       "3                  51 St & 43 Ave  \n",
       "4                  79 St & 37 Ave  \n",
       "..                            ...  \n",
       "101       Jackson St & Leonard St  \n",
       "102       Stephen St & Seneca Ave  \n",
       "103  Stuyvesant Walk & 1 Ave Loop  \n",
       "104               2 Ave & E 99 St  \n",
       "105  Longwood Ave & Southern Blvd  \n",
       "\n",
       "[106 rows x 4 columns]"
      ]
     },
     "execution_count": 91,
     "metadata": {},
     "output_type": "execute_result"
    }
   ],
   "source": [
    "regex_invalid_id = r'^\\d{4}\\.\\d{1}$'\n",
    "regex_valid_id = r'^\\d{4}\\.\\d{2}$'\n",
    "\n",
    "replace_id_query = \"CAST(FORMAT('%.2f', CAST(invalid.start_station_id AS FLOAT64)) AS STRING)\"\n",
    "\n",
    "df = find_corresponding_station(regex_invalid_id, regex_valid_id, replace_id_query)\n",
    "df"
   ]
  },
  {
   "cell_type": "markdown",
   "id": "ff7aa8f8",
   "metadata": {},
   "source": [
    "Stations with missing 0 in the end correspond to stations with proper IDs. Now it can be fixed with adding 0 to the end."
   ]
  },
  {
   "cell_type": "code",
   "execution_count": 92,
   "id": "94cb6b7e",
   "metadata": {},
   "outputs": [
    {
     "data": {
      "text/plain": [
       "<google.cloud.bigquery.table._EmptyRowIterator at 0x7f3636d4da30>"
      ]
     },
     "execution_count": 92,
     "metadata": {},
     "output_type": "execute_result"
    }
   ],
   "source": [
    "regex = r'^\\d{4}\\.\\d{1}$'\n",
    "\n",
    "query = f\"\"\"\n",
    "    UPDATE {cleaned_table_ref}\n",
    "    SET start_station_id = CAST(FORMAT('%.2f', CAST(start_station_id AS FLOAT64)) AS STRING)\n",
    "    WHERE REGEXP_CONTAINS(start_station_id, r'{regex}')\n",
    "\"\"\"\n",
    "job = client.query(query)\n",
    "job.result()"
   ]
  },
  {
   "cell_type": "markdown",
   "id": "e67063c1",
   "metadata": {},
   "source": [
    "Again see remaining IDs."
   ]
  },
  {
   "cell_type": "code",
   "execution_count": 93,
   "id": "b890f181",
   "metadata": {},
   "outputs": [
    {
     "name": "stderr",
     "output_type": "stream",
     "text": [
      "/home/olshe/pers/eu-climate-economic-resilience/.venv/lib/python3.12/site-packages/google/cloud/bigquery/table.py:1957: UserWarning: BigQuery Storage module not found, fetch data with the REST endpoint instead.\n",
      "  warnings.warn(\n"
     ]
    },
    {
     "data": {
      "text/html": [
       "<div>\n",
       "<style scoped>\n",
       "    .dataframe tbody tr th:only-of-type {\n",
       "        vertical-align: middle;\n",
       "    }\n",
       "\n",
       "    .dataframe tbody tr th {\n",
       "        vertical-align: top;\n",
       "    }\n",
       "\n",
       "    .dataframe thead th {\n",
       "        text-align: right;\n",
       "    }\n",
       "</style>\n",
       "<table border=\"1\" class=\"dataframe\">\n",
       "  <thead>\n",
       "    <tr style=\"text-align: right;\">\n",
       "      <th></th>\n",
       "      <th>start_station_id</th>\n",
       "      <th>f0_</th>\n",
       "    </tr>\n",
       "  </thead>\n",
       "  <tbody>\n",
       "    <tr>\n",
       "      <th>0</th>\n",
       "      <td>6247.06_Pillar</td>\n",
       "      <td>61</td>\n",
       "    </tr>\n",
       "    <tr>\n",
       "      <th>1</th>\n",
       "      <td>LA Metro Demo 2</td>\n",
       "      <td>8</td>\n",
       "    </tr>\n",
       "    <tr>\n",
       "      <th>2</th>\n",
       "      <td>Lab - NYC</td>\n",
       "      <td>4</td>\n",
       "    </tr>\n",
       "    <tr>\n",
       "      <th>3</th>\n",
       "      <td>5308.04_</td>\n",
       "      <td>44</td>\n",
       "    </tr>\n",
       "    <tr>\n",
       "      <th>4</th>\n",
       "      <td>Shop Morgan</td>\n",
       "      <td>1037</td>\n",
       "    </tr>\n",
       "    <tr>\n",
       "      <th>5</th>\n",
       "      <td>Lab - NYC - Monolith</td>\n",
       "      <td>7</td>\n",
       "    </tr>\n",
       "    <tr>\n",
       "      <th>6</th>\n",
       "      <td>190 Morgan</td>\n",
       "      <td>5</td>\n",
       "    </tr>\n",
       "    <tr>\n",
       "      <th>7</th>\n",
       "      <td>SYS033</td>\n",
       "      <td>155</td>\n",
       "    </tr>\n",
       "    <tr>\n",
       "      <th>8</th>\n",
       "      <td>SYS025</td>\n",
       "      <td>1</td>\n",
       "    </tr>\n",
       "    <tr>\n",
       "      <th>9</th>\n",
       "      <td>6569.09_</td>\n",
       "      <td>721</td>\n",
       "    </tr>\n",
       "    <tr>\n",
       "      <th>10</th>\n",
       "      <td>LA Metro Demo 1</td>\n",
       "      <td>2</td>\n",
       "    </tr>\n",
       "    <tr>\n",
       "      <th>11</th>\n",
       "      <td>SYS038</td>\n",
       "      <td>1239</td>\n",
       "    </tr>\n",
       "    <tr>\n",
       "      <th>12</th>\n",
       "      <td>SYS016</td>\n",
       "      <td>2334</td>\n",
       "    </tr>\n",
       "    <tr>\n",
       "      <th>13</th>\n",
       "      <td>6173.08_Pillar</td>\n",
       "      <td>2</td>\n",
       "    </tr>\n",
       "  </tbody>\n",
       "</table>\n",
       "</div>"
      ],
      "text/plain": [
       "        start_station_id   f0_\n",
       "0         6247.06_Pillar    61\n",
       "1        LA Metro Demo 2     8\n",
       "2              Lab - NYC     4\n",
       "3               5308.04_    44\n",
       "4           Shop Morgan   1037\n",
       "5   Lab - NYC - Monolith     7\n",
       "6             190 Morgan     5\n",
       "7                 SYS033   155\n",
       "8                 SYS025     1\n",
       "9               6569.09_   721\n",
       "10       LA Metro Demo 1     2\n",
       "11                SYS038  1239\n",
       "12                SYS016  2334\n",
       "13        6173.08_Pillar     2"
      ]
     },
     "execution_count": 93,
     "metadata": {},
     "output_type": "execute_result"
    }
   ],
   "source": [
    "regex = r'^\\d{4}\\.\\d{2}$'\n",
    "\n",
    "query = f\"\"\"\n",
    "    SELECT start_station_id, COUNT(*)\n",
    "    FROM {cleaned_table_ref}\n",
    "    WHERE NOT REGEXP_CONTAINS(start_station_id, r'{regex}')\n",
    "    GROUP BY start_station_id;\n",
    "\"\"\"\n",
    "\n",
    "df = client.query(query).to_dataframe()\n",
    "df"
   ]
  },
  {
   "cell_type": "markdown",
   "id": "4e3ff6f6",
   "metadata": {},
   "source": [
    "IDs which look like SYS + 3 digits or contain words like 'Demo', 'Lab - NYC' and 'Morgan' will be removed as a potential stations for system purposes (testing, repairs) not for regular riders use."
   ]
  },
  {
   "cell_type": "code",
   "execution_count": 94,
   "id": "dc139feb",
   "metadata": {},
   "outputs": [
    {
     "data": {
      "text/plain": [
       "<google.cloud.bigquery.table._EmptyRowIterator at 0x7f365c20a930>"
      ]
     },
     "execution_count": 94,
     "metadata": {},
     "output_type": "execute_result"
    }
   ],
   "source": [
    "regex_patterns = [\n",
    "    r'^SYS\\d{3}$',          # SYS + 3 digits\n",
    "    r'(?i)Demo',            # Contains \"Demo\"\n",
    "    r'(?i)Lab - NYC',       # Contains \"Lab - NYC\"\n",
    "    r'(?i)Morgan'           # Contains \"Morgan\"\n",
    "]\n",
    "\n",
    "combined_pattern = '|'.join(regex_patterns)\n",
    "\n",
    "query = f\"\"\"\n",
    "    DELETE FROM {cleaned_table_ref}\n",
    "    WHERE REGEXP_CONTAINS(start_station_id, r'{combined_pattern}')\n",
    "\"\"\"\n",
    "\n",
    "job = client.query(query)\n",
    "job.result()"
   ]
  },
  {
   "cell_type": "markdown",
   "id": "544f202c",
   "metadata": {},
   "source": [
    "For IDs with underscore at the end (6569.09_) condact same check to see if they correspond to stations IDs with no underscore."
   ]
  },
  {
   "cell_type": "code",
   "execution_count": 95,
   "id": "bde434fc",
   "metadata": {},
   "outputs": [
    {
     "name": "stderr",
     "output_type": "stream",
     "text": [
      "/home/olshe/pers/eu-climate-economic-resilience/.venv/lib/python3.12/site-packages/google/cloud/bigquery/table.py:1957: UserWarning: BigQuery Storage module not found, fetch data with the REST endpoint instead.\n",
      "  warnings.warn(\n"
     ]
    },
    {
     "data": {
      "text/html": [
       "<div>\n",
       "<style scoped>\n",
       "    .dataframe tbody tr th:only-of-type {\n",
       "        vertical-align: middle;\n",
       "    }\n",
       "\n",
       "    .dataframe tbody tr th {\n",
       "        vertical-align: top;\n",
       "    }\n",
       "\n",
       "    .dataframe thead th {\n",
       "        text-align: right;\n",
       "    }\n",
       "</style>\n",
       "<table border=\"1\" class=\"dataframe\">\n",
       "  <thead>\n",
       "    <tr style=\"text-align: right;\">\n",
       "      <th></th>\n",
       "      <th>start_station_id</th>\n",
       "      <th>start_station_name</th>\n",
       "      <th>start_station_id_1</th>\n",
       "      <th>start_station_name_1</th>\n",
       "    </tr>\n",
       "  </thead>\n",
       "  <tbody>\n",
       "    <tr>\n",
       "      <th>0</th>\n",
       "      <td>5308.04_</td>\n",
       "      <td>Metropolitan Ave &amp; Bedford Ave</td>\n",
       "      <td>5308.04</td>\n",
       "      <td>Metropolitan Ave &amp; Bedford Ave</td>\n",
       "    </tr>\n",
       "    <tr>\n",
       "      <th>1</th>\n",
       "      <td>6569.09_</td>\n",
       "      <td>W 35 St &amp; 9 Ave</td>\n",
       "      <td>6569.09</td>\n",
       "      <td>W 35 St &amp; 9 Ave</td>\n",
       "    </tr>\n",
       "  </tbody>\n",
       "</table>\n",
       "</div>"
      ],
      "text/plain": [
       "  start_station_id               start_station_name start_station_id_1  \\\n",
       "0         5308.04_  Metropolitan Ave & Bedford Ave             5308.04   \n",
       "1         6569.09_                  W 35 St & 9 Ave            6569.09   \n",
       "\n",
       "             start_station_name_1  \n",
       "0  Metropolitan Ave & Bedford Ave  \n",
       "1                 W 35 St & 9 Ave  "
      ]
     },
     "execution_count": 95,
     "metadata": {},
     "output_type": "execute_result"
    }
   ],
   "source": [
    "regex_invalid_id = r'^\\d{4}\\.\\d{2}_$'\n",
    "regex_valid_id = r'^\\d{4}\\.\\d{2}$'\n",
    "\n",
    "replace_id_query = \"REPLACE(invalid.start_station_id, '_', '')\"\n",
    "\n",
    "df = find_corresponding_station(regex_invalid_id, regex_valid_id, replace_id_query)\n",
    "df"
   ]
  },
  {
   "cell_type": "markdown",
   "id": "319d0ad8",
   "metadata": {},
   "source": [
    "We can know remove underscore."
   ]
  },
  {
   "cell_type": "code",
   "execution_count": 96,
   "id": "2c3b4920",
   "metadata": {},
   "outputs": [
    {
     "data": {
      "text/plain": [
       "<google.cloud.bigquery.table._EmptyRowIterator at 0x7f365c27c980>"
      ]
     },
     "execution_count": 96,
     "metadata": {},
     "output_type": "execute_result"
    }
   ],
   "source": [
    "regex = r'^\\d+\\.\\d+_$'\n",
    "\n",
    "query = f\"\"\"\n",
    "    UPDATE {cleaned_table_ref}\n",
    "    SET \n",
    "        start_station_id = \n",
    "        CASE \n",
    "            WHEN REGEXP_CONTAINS(start_station_id, r'{regex}')\n",
    "                THEN REPLACE(start_station_id, '_', '')\n",
    "            ELSE start_station_id\n",
    "        END\n",
    "    WHERE \n",
    "        REGEXP_CONTAINS(start_station_id, r'{regex}')\n",
    "\"\"\"\n",
    "\n",
    "job = client.query(query)\n",
    "job.result()"
   ]
  },
  {
   "cell_type": "markdown",
   "id": "ae02a44e",
   "metadata": {},
   "source": [
    "Same chech for IDs with _Pillar"
   ]
  },
  {
   "cell_type": "code",
   "execution_count": 97,
   "id": "4564190a",
   "metadata": {},
   "outputs": [
    {
     "name": "stderr",
     "output_type": "stream",
     "text": [
      "/home/olshe/pers/eu-climate-economic-resilience/.venv/lib/python3.12/site-packages/google/cloud/bigquery/table.py:1957: UserWarning: BigQuery Storage module not found, fetch data with the REST endpoint instead.\n",
      "  warnings.warn(\n"
     ]
    },
    {
     "data": {
      "text/html": [
       "<div>\n",
       "<style scoped>\n",
       "    .dataframe tbody tr th:only-of-type {\n",
       "        vertical-align: middle;\n",
       "    }\n",
       "\n",
       "    .dataframe tbody tr th {\n",
       "        vertical-align: top;\n",
       "    }\n",
       "\n",
       "    .dataframe thead th {\n",
       "        text-align: right;\n",
       "    }\n",
       "</style>\n",
       "<table border=\"1\" class=\"dataframe\">\n",
       "  <thead>\n",
       "    <tr style=\"text-align: right;\">\n",
       "      <th></th>\n",
       "      <th>start_station_id</th>\n",
       "      <th>start_station_name</th>\n",
       "      <th>start_station_id_1</th>\n",
       "      <th>start_station_name_1</th>\n",
       "    </tr>\n",
       "  </thead>\n",
       "  <tbody>\n",
       "    <tr>\n",
       "      <th>0</th>\n",
       "      <td>6173.08_Pillar</td>\n",
       "      <td>Pillar Broadway &amp; W 25 St</td>\n",
       "      <td>6173.08</td>\n",
       "      <td>Broadway &amp; W 25 St</td>\n",
       "    </tr>\n",
       "    <tr>\n",
       "      <th>1</th>\n",
       "      <td>6247.06_Pillar</td>\n",
       "      <td>Pillar W 27 St &amp; 7 Ave</td>\n",
       "      <td>6247.06</td>\n",
       "      <td>W 27 St &amp; 7 Ave</td>\n",
       "    </tr>\n",
       "  </tbody>\n",
       "</table>\n",
       "</div>"
      ],
      "text/plain": [
       "  start_station_id         start_station_name start_station_id_1  \\\n",
       "0   6173.08_Pillar  Pillar Broadway & W 25 St            6173.08   \n",
       "1   6247.06_Pillar     Pillar W 27 St & 7 Ave            6247.06   \n",
       "\n",
       "  start_station_name_1  \n",
       "0   Broadway & W 25 St  \n",
       "1      W 27 St & 7 Ave  "
      ]
     },
     "execution_count": 97,
     "metadata": {},
     "output_type": "execute_result"
    }
   ],
   "source": [
    "regex_invalid_id = r'^\\d{4}\\.\\d{2}_Pillar$'\n",
    "regex_valid_id = r'^\\d{4}\\.\\d{2}$'\n",
    "\n",
    "replace_id_query = \"REPLACE(invalid.start_station_id, '_Pillar', '')\"\n",
    "\n",
    "df = find_corresponding_station(regex_invalid_id, regex_valid_id, replace_id_query)\n",
    "df"
   ]
  },
  {
   "cell_type": "markdown",
   "id": "9a4c2452",
   "metadata": {},
   "source": [
    "Unlike other IDs, they also have Pillar in the name. It also should be removed."
   ]
  },
  {
   "cell_type": "code",
   "execution_count": 98,
   "id": "91b6861f",
   "metadata": {},
   "outputs": [
    {
     "data": {
      "text/plain": [
       "<google.cloud.bigquery.table._EmptyRowIterator at 0x7f3636d3ecf0>"
      ]
     },
     "execution_count": 98,
     "metadata": {},
     "output_type": "execute_result"
    }
   ],
   "source": [
    "regex_id = r'_Pillar$'\n",
    "regex_name = r'(?i)\\s*Pillar\\s*'\n",
    "\n",
    "query = f\"\"\"\n",
    "    UPDATE {cleaned_table_ref}\n",
    "    SET \n",
    "        start_station_id = CASE \n",
    "            WHEN REGEXP_CONTAINS(start_station_id, r'Pillar') THEN REGEXP_REPLACE(start_station_id, r'{regex_id}', '') \n",
    "            ELSE start_station_id END,\n",
    "        start_station_name = CASE \n",
    "            WHEN REGEXP_CONTAINS(start_station_name, r'Pillar') THEN TRIM(REGEXP_REPLACE(start_station_name, r'{regex_name}', ' ')) \n",
    "            ELSE start_station_name END\n",
    "        WHERE \n",
    "            REGEXP_CONTAINS(start_station_id, r'Pillar') OR\n",
    "            REGEXP_CONTAINS(start_station_name, r'Pillar')\n",
    "\"\"\"\n",
    "\n",
    "job = client.query(query)\n",
    "job.result()\n"
   ]
  },
  {
   "cell_type": "code",
   "execution_count": 99,
   "id": "91d22488",
   "metadata": {},
   "outputs": [
    {
     "name": "stderr",
     "output_type": "stream",
     "text": [
      "/home/olshe/pers/eu-climate-economic-resilience/.venv/lib/python3.12/site-packages/google/cloud/bigquery/table.py:1957: UserWarning: BigQuery Storage module not found, fetch data with the REST endpoint instead.\n",
      "  warnings.warn(\n"
     ]
    },
    {
     "data": {
      "text/html": [
       "<div>\n",
       "<style scoped>\n",
       "    .dataframe tbody tr th:only-of-type {\n",
       "        vertical-align: middle;\n",
       "    }\n",
       "\n",
       "    .dataframe tbody tr th {\n",
       "        vertical-align: top;\n",
       "    }\n",
       "\n",
       "    .dataframe thead th {\n",
       "        text-align: right;\n",
       "    }\n",
       "</style>\n",
       "<table border=\"1\" class=\"dataframe\">\n",
       "  <thead>\n",
       "    <tr style=\"text-align: right;\">\n",
       "      <th></th>\n",
       "      <th>start_station_name</th>\n",
       "      <th>start_station_id</th>\n",
       "      <th>f0_</th>\n",
       "    </tr>\n",
       "  </thead>\n",
       "  <tbody>\n",
       "  </tbody>\n",
       "</table>\n",
       "</div>"
      ],
      "text/plain": [
       "Empty DataFrame\n",
       "Columns: [start_station_name, start_station_id, f0_]\n",
       "Index: []"
      ]
     },
     "execution_count": 99,
     "metadata": {},
     "output_type": "execute_result"
    }
   ],
   "source": [
    "query = f\"\"\"\n",
    "    SELECT start_station_name, start_station_id, COUNT(*)\n",
    "    FROM `{cleaned_table_ref}`\n",
    "    WHERE start_station_id IS NULL OR SAFE_CAST(start_station_id AS FLOAT64) IS NULL\n",
    "    GROUP BY start_station_name, start_station_id;\n",
    "\"\"\"\n",
    "\n",
    "df = client.query(query).to_dataframe()\n",
    "df"
   ]
  },
  {
   "cell_type": "markdown",
   "id": "8b58fcfe",
   "metadata": {},
   "source": [
    "As all IDs are clean, we can now move on to check if there any duplicate values for them."
   ]
  },
  {
   "cell_type": "code",
   "execution_count": 100,
   "id": "f430f6a8",
   "metadata": {},
   "outputs": [
    {
     "name": "stderr",
     "output_type": "stream",
     "text": [
      "/home/olshe/pers/eu-climate-economic-resilience/.venv/lib/python3.12/site-packages/google/cloud/bigquery/table.py:1957: UserWarning: BigQuery Storage module not found, fetch data with the REST endpoint instead.\n",
      "  warnings.warn(\n"
     ]
    },
    {
     "data": {
      "text/html": [
       "<div>\n",
       "<style scoped>\n",
       "    .dataframe tbody tr th:only-of-type {\n",
       "        vertical-align: middle;\n",
       "    }\n",
       "\n",
       "    .dataframe tbody tr th {\n",
       "        vertical-align: top;\n",
       "    }\n",
       "\n",
       "    .dataframe thead th {\n",
       "        text-align: right;\n",
       "    }\n",
       "</style>\n",
       "<table border=\"1\" class=\"dataframe\">\n",
       "  <thead>\n",
       "    <tr style=\"text-align: right;\">\n",
       "      <th></th>\n",
       "      <th>start_station_name</th>\n",
       "      <th>start_station_id</th>\n",
       "    </tr>\n",
       "  </thead>\n",
       "  <tbody>\n",
       "    <tr>\n",
       "      <th>112</th>\n",
       "      <td>Eastern Pkwy\\t&amp; St Marks Ave</td>\n",
       "      <td>3982.01</td>\n",
       "    </tr>\n",
       "    <tr>\n",
       "      <th>1286</th>\n",
       "      <td>Eastern Pkwy &amp; St Marks Ave</td>\n",
       "      <td>3982.01</td>\n",
       "    </tr>\n",
       "    <tr>\n",
       "      <th>2115</th>\n",
       "      <td>Bridge St &amp; Water St</td>\n",
       "      <td>4968.03</td>\n",
       "    </tr>\n",
       "    <tr>\n",
       "      <th>1832</th>\n",
       "      <td>Bridge St &amp; Front St</td>\n",
       "      <td>4968.03</td>\n",
       "    </tr>\n",
       "    <tr>\n",
       "      <th>1338</th>\n",
       "      <td>Metropolitan Ave &amp; Bedford Ave</td>\n",
       "      <td>5308.04</td>\n",
       "    </tr>\n",
       "    <tr>\n",
       "      <th>648</th>\n",
       "      <td>Metropolitan Ave &amp; Bedford Ave</td>\n",
       "      <td>5308.04</td>\n",
       "    </tr>\n",
       "    <tr>\n",
       "      <th>134</th>\n",
       "      <td>Morton St &amp; Greenwich St</td>\n",
       "      <td>5772.05</td>\n",
       "    </tr>\n",
       "    <tr>\n",
       "      <th>660</th>\n",
       "      <td>Morton St &amp; Washington St</td>\n",
       "      <td>5772.05</td>\n",
       "    </tr>\n",
       "    <tr>\n",
       "      <th>984</th>\n",
       "      <td>34th Ave &amp; Vernon Blvd</td>\n",
       "      <td>6873.01</td>\n",
       "    </tr>\n",
       "    <tr>\n",
       "      <th>1169</th>\n",
       "      <td>34 Ave &amp; Vernon Blvd</td>\n",
       "      <td>6873.01</td>\n",
       "    </tr>\n",
       "    <tr>\n",
       "      <th>1834</th>\n",
       "      <td>Central Park W &amp; W 68 St</td>\n",
       "      <td>7079.06</td>\n",
       "    </tr>\n",
       "    <tr>\n",
       "      <th>676</th>\n",
       "      <td>Central Park West &amp; W 68 St</td>\n",
       "      <td>7079.06</td>\n",
       "    </tr>\n",
       "    <tr>\n",
       "      <th>1895</th>\n",
       "      <td>Central Park West &amp; W 72 St</td>\n",
       "      <td>7141.07</td>\n",
       "    </tr>\n",
       "    <tr>\n",
       "      <th>516</th>\n",
       "      <td>Central Park W &amp; W 72 St</td>\n",
       "      <td>7141.07</td>\n",
       "    </tr>\n",
       "    <tr>\n",
       "      <th>1101</th>\n",
       "      <td>3 Ave &amp; E 81 St</td>\n",
       "      <td>7154.10</td>\n",
       "    </tr>\n",
       "    <tr>\n",
       "      <th>1617</th>\n",
       "      <td>3 Ave &amp; E 82 St</td>\n",
       "      <td>7154.10</td>\n",
       "    </tr>\n",
       "    <tr>\n",
       "      <th>35</th>\n",
       "      <td>Central Park West &amp; W 76 St</td>\n",
       "      <td>7253.04</td>\n",
       "    </tr>\n",
       "    <tr>\n",
       "      <th>517</th>\n",
       "      <td>Central Park W &amp; W 76 St</td>\n",
       "      <td>7253.04</td>\n",
       "    </tr>\n",
       "    <tr>\n",
       "      <th>1560</th>\n",
       "      <td>W 82 St &amp; Central Park W</td>\n",
       "      <td>7304.08</td>\n",
       "    </tr>\n",
       "    <tr>\n",
       "      <th>168</th>\n",
       "      <td>W 82 St &amp; Central Park West</td>\n",
       "      <td>7304.08</td>\n",
       "    </tr>\n",
       "    <tr>\n",
       "      <th>1426</th>\n",
       "      <td>Central Park W &amp; W 85 St</td>\n",
       "      <td>7354.01</td>\n",
       "    </tr>\n",
       "    <tr>\n",
       "      <th>2136</th>\n",
       "      <td>Central Park West &amp; W 85 St</td>\n",
       "      <td>7354.01</td>\n",
       "    </tr>\n",
       "    <tr>\n",
       "      <th>2093</th>\n",
       "      <td>Ichan Stadium Plaza</td>\n",
       "      <td>7514.06</td>\n",
       "    </tr>\n",
       "    <tr>\n",
       "      <th>100</th>\n",
       "      <td>Icahn Stadium Plaza</td>\n",
       "      <td>7514.06</td>\n",
       "    </tr>\n",
       "    <tr>\n",
       "      <th>1698</th>\n",
       "      <td>W 106 St &amp; Central Park W</td>\n",
       "      <td>7606.01</td>\n",
       "    </tr>\n",
       "    <tr>\n",
       "      <th>2150</th>\n",
       "      <td>W 106 St &amp; Central Park West</td>\n",
       "      <td>7606.01</td>\n",
       "    </tr>\n",
       "    <tr>\n",
       "      <th>584</th>\n",
       "      <td>5 Av &amp; W 139 St</td>\n",
       "      <td>7851.04</td>\n",
       "    </tr>\n",
       "    <tr>\n",
       "      <th>382</th>\n",
       "      <td>5 Ave &amp; W 139 St</td>\n",
       "      <td>7851.04</td>\n",
       "    </tr>\n",
       "    <tr>\n",
       "      <th>518</th>\n",
       "      <td>W 168 St &amp; Fort Washington Ave</td>\n",
       "      <td>8226.07</td>\n",
       "    </tr>\n",
       "    <tr>\n",
       "      <th>313</th>\n",
       "      <td>W 168 St &amp; Ft Washington Ave</td>\n",
       "      <td>8226.07</td>\n",
       "    </tr>\n",
       "    <tr>\n",
       "      <th>1631</th>\n",
       "      <td>W 180 St &amp; Ft Washington Ave</td>\n",
       "      <td>8358.03</td>\n",
       "    </tr>\n",
       "    <tr>\n",
       "      <th>2091</th>\n",
       "      <td>W 180 St &amp; Fort Washington Ave</td>\n",
       "      <td>8358.03</td>\n",
       "    </tr>\n",
       "  </tbody>\n",
       "</table>\n",
       "</div>"
      ],
      "text/plain": [
       "                   start_station_name start_station_id\n",
       "112      Eastern Pkwy\\t& St Marks Ave          3982.01\n",
       "1286      Eastern Pkwy & St Marks Ave          3982.01\n",
       "2115             Bridge St & Water St          4968.03\n",
       "1832             Bridge St & Front St          4968.03\n",
       "1338   Metropolitan Ave & Bedford Ave          5308.04\n",
       "648   Metropolitan Ave & Bedford Ave           5308.04\n",
       "134          Morton St & Greenwich St          5772.05\n",
       "660         Morton St & Washington St          5772.05\n",
       "984            34th Ave & Vernon Blvd          6873.01\n",
       "1169             34 Ave & Vernon Blvd          6873.01\n",
       "1834         Central Park W & W 68 St          7079.06\n",
       "676       Central Park West & W 68 St          7079.06\n",
       "1895      Central Park West & W 72 St          7141.07\n",
       "516          Central Park W & W 72 St          7141.07\n",
       "1101                  3 Ave & E 81 St          7154.10\n",
       "1617                  3 Ave & E 82 St          7154.10\n",
       "35        Central Park West & W 76 St          7253.04\n",
       "517          Central Park W & W 76 St          7253.04\n",
       "1560         W 82 St & Central Park W          7304.08\n",
       "168       W 82 St & Central Park West          7304.08\n",
       "1426         Central Park W & W 85 St          7354.01\n",
       "2136      Central Park West & W 85 St          7354.01\n",
       "2093              Ichan Stadium Plaza          7514.06\n",
       "100               Icahn Stadium Plaza          7514.06\n",
       "1698        W 106 St & Central Park W          7606.01\n",
       "2150     W 106 St & Central Park West          7606.01\n",
       "584                   5 Av & W 139 St          7851.04\n",
       "382                  5 Ave & W 139 St          7851.04\n",
       "518    W 168 St & Fort Washington Ave          8226.07\n",
       "313      W 168 St & Ft Washington Ave          8226.07\n",
       "1631     W 180 St & Ft Washington Ave          8358.03\n",
       "2091   W 180 St & Fort Washington Ave          8358.03"
      ]
     },
     "execution_count": 100,
     "metadata": {},
     "output_type": "execute_result"
    }
   ],
   "source": [
    "query = f\"\"\"\n",
    "    SELECT start_station_name, start_station_id\n",
    "    FROM {cleaned_table_ref}\n",
    "    GROUP BY start_station_name, start_station_id\n",
    "\"\"\"\n",
    "\n",
    "df = client.query(query).to_dataframe()\n",
    "df[df['start_station_id'].duplicated(keep=False)].sort_values(by='start_station_id')"
   ]
  },
  {
   "cell_type": "markdown",
   "id": "c7dfe7b4",
   "metadata": {},
   "source": [
    "Some stations are identified as duplicates because of different name formatting. Also, **Ichan Stadium Plaza** station contains typo and should be **Icahn Stadium Plaza**."
   ]
  },
  {
   "cell_type": "code",
   "execution_count": 101,
   "id": "273723ec",
   "metadata": {},
   "outputs": [
    {
     "data": {
      "text/plain": [
       "<google.cloud.bigquery.table._EmptyRowIterator at 0x7f365e68d940>"
      ]
     },
     "execution_count": 101,
     "metadata": {},
     "output_type": "execute_result"
    }
   ],
   "source": [
    "convert_names = {\n",
    "    'West': 'W',\n",
    "    'Fort': 'Ft',\n",
    "    'Av': 'Ave',\n",
    "    'Ichan Stadium': 'Icahn Stadium'\n",
    "}\n",
    "\n",
    "sql_expr = \"start_station_name\"\n",
    "for old, new in convert_names.items():\n",
    "    sql_expr = f\"REGEXP_REPLACE({sql_expr}, r'\\\\b{old}\\\\b', '{new}')\"\n",
    "\n",
    "conditions = []\n",
    "for old, new in convert_names.items():\n",
    "    conditions.append(f\"start_station_name LIKE '%{old}%'\")\n",
    "clause = ' OR '.join(conditions)\n",
    "\n",
    "query = f\"\"\"\n",
    "    UPDATE {cleaned_table_ref}\n",
    "    SET start_station_name = {sql_expr}\n",
    "    WHERE {clause}\n",
    "\"\"\"\n",
    "\n",
    "job = client.query(query)\n",
    "job.result()"
   ]
  },
  {
   "cell_type": "markdown",
   "id": "0237ac41",
   "metadata": {},
   "source": [
    "Station **Eastern Pkwy\\t& St Marks Ave** contains **\\t** which should be removed."
   ]
  },
  {
   "cell_type": "code",
   "execution_count": 106,
   "id": "ca210e4b",
   "metadata": {},
   "outputs": [
    {
     "data": {
      "text/plain": [
       "<google.cloud.bigquery.table._EmptyRowIterator at 0x7f365c293ce0>"
      ]
     },
     "execution_count": 106,
     "metadata": {},
     "output_type": "execute_result"
    }
   ],
   "source": [
    "pattern = r'\\\\t'\n",
    "\n",
    "query = f\"\"\"\n",
    "    UPDATE {cleaned_table_ref}\n",
    "    SET start_station_name = REGEXP_REPLACE(start_station_name, r'{pattern}', ' ')\n",
    "    WHERE REGEXP_CONTAINS(start_station_name, r'{pattern}')\n",
    "\"\"\"\n",
    "\n",
    "job = client.query(query)\n",
    "job.result()"
   ]
  },
  {
   "cell_type": "markdown",
   "id": "d149112f",
   "metadata": {},
   "source": [
    "From search by station name using https://citibikenyc.com/homepage on 2025-07-02, there is no **Bridge St & Water St** station but **Bridge St & Front St**, no **Morton St & Washington St**, but **Morton St & Greenwich St**, no **3 Ave & E 81 St**, but **3 Ave & E 82 St**"
   ]
  },
  {
   "cell_type": "code",
   "execution_count": 102,
   "id": "bbd694b3",
   "metadata": {},
   "outputs": [
    {
     "data": {
      "text/plain": [
       "<google.cloud.bigquery.table._EmptyRowIterator at 0x7f365c2a4da0>"
      ]
     },
     "execution_count": 102,
     "metadata": {},
     "output_type": "execute_result"
    }
   ],
   "source": [
    "convert_names = {\n",
    "    'Bridge St & Water St': 'Bridge St & Front St',\n",
    "    'Morton St & Washington St': 'Morton St & Greenwich St',\n",
    "    '3 Ave & E 81 St': '3 Ave & E 82 St'\n",
    "}\n",
    "\n",
    "case_statements_start = []\n",
    "for old, new in convert_names.items():\n",
    "    case_statements_start.append(f\"WHEN start_station_name = '{old}' THEN '{new}'\")\n",
    "\n",
    "query = f\"\"\"\n",
    "    UPDATE {cleaned_table_ref}\n",
    "    SET start_station_name = CASE {' '.join(case_statements_start)} ELSE start_station_name END\n",
    "    WHERE start_station_name IN ({', '.join(f\"'{old}'\" for old in convert_names.keys())})\n",
    "\"\"\"\n",
    "\n",
    "job = client.query(query)\n",
    "job.result()"
   ]
  },
  {
   "cell_type": "markdown",
   "id": "8311ec7d",
   "metadata": {},
   "source": [
    "**34th Ave & Vernon Blvd** contains ordinal suffix. It should be removed."
   ]
  },
  {
   "cell_type": "code",
   "execution_count": 103,
   "id": "c941f485",
   "metadata": {},
   "outputs": [
    {
     "data": {
      "text/plain": [
       "<google.cloud.bigquery.table._EmptyRowIterator at 0x7f3636d6cd10>"
      ]
     },
     "execution_count": 103,
     "metadata": {},
     "output_type": "execute_result"
    }
   ],
   "source": [
    "pattern = r'(\\d+)(st|nd|rd|th)\\b'\n",
    "replace = r'\\1'\n",
    "\n",
    "query = f\"\"\"\n",
    "    UPDATE {cleaned_table_ref}\n",
    "    SET start_station_name = REGEXP_REPLACE(start_station_name, r'{pattern}', r'{replace}')\n",
    "    WHERE REGEXP_CONTAINS(start_station_name, r'{pattern}')\n",
    "\"\"\"\n",
    "\n",
    "job = client.query(query)\n",
    "job.result()"
   ]
  },
  {
   "cell_type": "markdown",
   "id": "98e626e3",
   "metadata": {},
   "source": [
    "Remove any leading and trailing whitespaces and replace multiple spaces with a single space."
   ]
  },
  {
   "cell_type": "code",
   "execution_count": 104,
   "id": "1b9a29b2",
   "metadata": {},
   "outputs": [
    {
     "name": "stderr",
     "output_type": "stream",
     "text": [
      "<>:7: SyntaxWarning: invalid escape sequence '\\s'\n",
      "<>:7: SyntaxWarning: invalid escape sequence '\\s'\n",
      "/tmp/ipykernel_58111/1832362109.py:7: SyntaxWarning: invalid escape sequence '\\s'\n",
      "  \"\"\"\n"
     ]
    },
    {
     "data": {
      "text/plain": [
       "<google.cloud.bigquery.table._EmptyRowIterator at 0x7f365c293650>"
      ]
     },
     "execution_count": 104,
     "metadata": {},
     "output_type": "execute_result"
    }
   ],
   "source": [
    "regex = r'^\\s+|\\s+$|\\s{2,}'\n",
    "\n",
    "query = f\"\"\"\n",
    "    UPDATE {cleaned_table_ref}\n",
    "    SET start_station_name = REGEXP_REPLACE(TRIM(start_station_name), r'\\s+', ' ')\n",
    "    WHERE REGEXP_CONTAINS(start_station_name, r'{regex}')\n",
    "\"\"\"\n",
    "\n",
    "job = client.query(query)\n",
    "job.result()"
   ]
  },
  {
   "cell_type": "markdown",
   "id": "ede3be27",
   "metadata": {},
   "source": [
    "Check for any duplicates after cleaning."
   ]
  },
  {
   "cell_type": "code",
   "execution_count": 107,
   "id": "aaa38a2c",
   "metadata": {},
   "outputs": [
    {
     "name": "stderr",
     "output_type": "stream",
     "text": [
      "/home/olshe/pers/eu-climate-economic-resilience/.venv/lib/python3.12/site-packages/google/cloud/bigquery/table.py:1957: UserWarning: BigQuery Storage module not found, fetch data with the REST endpoint instead.\n",
      "  warnings.warn(\n"
     ]
    },
    {
     "data": {
      "text/html": [
       "<div>\n",
       "<style scoped>\n",
       "    .dataframe tbody tr th:only-of-type {\n",
       "        vertical-align: middle;\n",
       "    }\n",
       "\n",
       "    .dataframe tbody tr th {\n",
       "        vertical-align: top;\n",
       "    }\n",
       "\n",
       "    .dataframe thead th {\n",
       "        text-align: right;\n",
       "    }\n",
       "</style>\n",
       "<table border=\"1\" class=\"dataframe\">\n",
       "  <thead>\n",
       "    <tr style=\"text-align: right;\">\n",
       "      <th></th>\n",
       "      <th>start_station_name</th>\n",
       "      <th>start_station_id</th>\n",
       "      <th>f0_</th>\n",
       "    </tr>\n",
       "  </thead>\n",
       "  <tbody>\n",
       "  </tbody>\n",
       "</table>\n",
       "</div>"
      ],
      "text/plain": [
       "Empty DataFrame\n",
       "Columns: [start_station_name, start_station_id, f0_]\n",
       "Index: []"
      ]
     },
     "execution_count": 107,
     "metadata": {},
     "output_type": "execute_result"
    }
   ],
   "source": [
    "query = f\"\"\"\n",
    "    SELECT start_station_name, start_station_id, COUNT(*)\n",
    "    FROM {cleaned_table_ref}\n",
    "    GROUP BY start_station_name, start_station_id\n",
    "\"\"\"\n",
    "\n",
    "df = client.query(query).to_dataframe()\n",
    "df[df['start_station_id'].duplicated(keep=False)].sort_values(by='start_station_id')"
   ]
  },
  {
   "cell_type": "markdown",
   "id": "f73c1364",
   "metadata": {},
   "source": [
    "Create new columns for further easier work with query, such as *day_of_week* and *ride_time*."
   ]
  },
  {
   "cell_type": "code",
   "execution_count": 109,
   "id": "92544a6e",
   "metadata": {},
   "outputs": [
    {
     "ename": "BadRequest",
     "evalue": "400 PATCH https://bigquery.googleapis.com/bigquery/v2/projects/nyc-transportation-462009/datasets/city_mobility_data/tables/citibike_nyc_trips_cleaned?prettyPrint=false: Field day_of_week already exists in schema",
     "output_type": "error",
     "traceback": [
      "\u001b[31m---------------------------------------------------------------------------\u001b[39m",
      "\u001b[31mBadRequest\u001b[39m                                Traceback (most recent call last)",
      "\u001b[36mCell\u001b[39m\u001b[36m \u001b[39m\u001b[32mIn[109]\u001b[39m\u001b[32m, line 11\u001b[39m\n\u001b[32m      8\u001b[39m new_schema = schema[:] + new_columns\n\u001b[32m      9\u001b[39m table.schema = new_schema\n\u001b[32m---> \u001b[39m\u001b[32m11\u001b[39m \u001b[43mclient\u001b[49m\u001b[43m.\u001b[49m\u001b[43mupdate_table\u001b[49m\u001b[43m(\u001b[49m\u001b[43mtable\u001b[49m\u001b[43m,\u001b[49m\u001b[43m \u001b[49m\u001b[43m[\u001b[49m\u001b[33;43m'\u001b[39;49m\u001b[33;43mschema\u001b[39;49m\u001b[33;43m'\u001b[39;49m\u001b[43m]\u001b[49m\u001b[43m)\u001b[49m\n",
      "\u001b[36mFile \u001b[39m\u001b[32m~/pers/eu-climate-economic-resilience/.venv/lib/python3.12/site-packages/google/cloud/bigquery/client.py:1466\u001b[39m, in \u001b[36mClient.update_table\u001b[39m\u001b[34m(self, table, fields, autodetect_schema, retry, timeout)\u001b[39m\n\u001b[32m   1463\u001b[39m \u001b[38;5;28;01melse\u001b[39;00m:\n\u001b[32m   1464\u001b[39m     query_params = {}\n\u001b[32m-> \u001b[39m\u001b[32m1466\u001b[39m api_response = \u001b[38;5;28;43mself\u001b[39;49m\u001b[43m.\u001b[49m\u001b[43m_call_api\u001b[49m\u001b[43m(\u001b[49m\n\u001b[32m   1467\u001b[39m \u001b[43m    \u001b[49m\u001b[43mretry\u001b[49m\u001b[43m,\u001b[49m\n\u001b[32m   1468\u001b[39m \u001b[43m    \u001b[49m\u001b[43mspan_name\u001b[49m\u001b[43m=\u001b[49m\u001b[33;43m\"\u001b[39;49m\u001b[33;43mBigQuery.updateTable\u001b[39;49m\u001b[33;43m\"\u001b[39;49m\u001b[43m,\u001b[49m\n\u001b[32m   1469\u001b[39m \u001b[43m    \u001b[49m\u001b[43mspan_attributes\u001b[49m\u001b[43m=\u001b[49m\u001b[43mspan_attributes\u001b[49m\u001b[43m,\u001b[49m\n\u001b[32m   1470\u001b[39m \u001b[43m    \u001b[49m\u001b[43mmethod\u001b[49m\u001b[43m=\u001b[49m\u001b[33;43m\"\u001b[39;49m\u001b[33;43mPATCH\u001b[39;49m\u001b[33;43m\"\u001b[39;49m\u001b[43m,\u001b[49m\n\u001b[32m   1471\u001b[39m \u001b[43m    \u001b[49m\u001b[43mpath\u001b[49m\u001b[43m=\u001b[49m\u001b[43mpath\u001b[49m\u001b[43m,\u001b[49m\n\u001b[32m   1472\u001b[39m \u001b[43m    \u001b[49m\u001b[43mquery_params\u001b[49m\u001b[43m=\u001b[49m\u001b[43mquery_params\u001b[49m\u001b[43m,\u001b[49m\n\u001b[32m   1473\u001b[39m \u001b[43m    \u001b[49m\u001b[43mdata\u001b[49m\u001b[43m=\u001b[49m\u001b[43mpartial\u001b[49m\u001b[43m,\u001b[49m\n\u001b[32m   1474\u001b[39m \u001b[43m    \u001b[49m\u001b[43mheaders\u001b[49m\u001b[43m=\u001b[49m\u001b[43mheaders\u001b[49m\u001b[43m,\u001b[49m\n\u001b[32m   1475\u001b[39m \u001b[43m    \u001b[49m\u001b[43mtimeout\u001b[49m\u001b[43m=\u001b[49m\u001b[43mtimeout\u001b[49m\u001b[43m,\u001b[49m\n\u001b[32m   1476\u001b[39m \u001b[43m\u001b[49m\u001b[43m)\u001b[49m\n\u001b[32m   1477\u001b[39m \u001b[38;5;28;01mreturn\u001b[39;00m Table.from_api_repr(api_response)\n",
      "\u001b[36mFile \u001b[39m\u001b[32m~/pers/eu-climate-economic-resilience/.venv/lib/python3.12/site-packages/google/cloud/bigquery/client.py:858\u001b[39m, in \u001b[36mClient._call_api\u001b[39m\u001b[34m(self, retry, span_name, span_attributes, job_ref, headers, **kwargs)\u001b[39m\n\u001b[32m    854\u001b[39m \u001b[38;5;28;01mif\u001b[39;00m span_name \u001b[38;5;129;01mis\u001b[39;00m \u001b[38;5;129;01mnot\u001b[39;00m \u001b[38;5;28;01mNone\u001b[39;00m:\n\u001b[32m    855\u001b[39m     \u001b[38;5;28;01mwith\u001b[39;00m create_span(\n\u001b[32m    856\u001b[39m         name=span_name, attributes=span_attributes, client=\u001b[38;5;28mself\u001b[39m, job_ref=job_ref\n\u001b[32m    857\u001b[39m     ):\n\u001b[32m--> \u001b[39m\u001b[32m858\u001b[39m         \u001b[38;5;28;01mreturn\u001b[39;00m \u001b[43mcall\u001b[49m\u001b[43m(\u001b[49m\u001b[43m)\u001b[49m\n\u001b[32m    860\u001b[39m \u001b[38;5;28;01mreturn\u001b[39;00m call()\n",
      "\u001b[36mFile \u001b[39m\u001b[32m~/pers/eu-climate-economic-resilience/.venv/lib/python3.12/site-packages/google/api_core/retry/retry_unary.py:294\u001b[39m, in \u001b[36mRetry.__call__.<locals>.retry_wrapped_func\u001b[39m\u001b[34m(*args, **kwargs)\u001b[39m\n\u001b[32m    290\u001b[39m target = functools.partial(func, *args, **kwargs)\n\u001b[32m    291\u001b[39m sleep_generator = exponential_sleep_generator(\n\u001b[32m    292\u001b[39m     \u001b[38;5;28mself\u001b[39m._initial, \u001b[38;5;28mself\u001b[39m._maximum, multiplier=\u001b[38;5;28mself\u001b[39m._multiplier\n\u001b[32m    293\u001b[39m )\n\u001b[32m--> \u001b[39m\u001b[32m294\u001b[39m \u001b[38;5;28;01mreturn\u001b[39;00m \u001b[43mretry_target\u001b[49m\u001b[43m(\u001b[49m\n\u001b[32m    295\u001b[39m \u001b[43m    \u001b[49m\u001b[43mtarget\u001b[49m\u001b[43m,\u001b[49m\n\u001b[32m    296\u001b[39m \u001b[43m    \u001b[49m\u001b[38;5;28;43mself\u001b[39;49m\u001b[43m.\u001b[49m\u001b[43m_predicate\u001b[49m\u001b[43m,\u001b[49m\n\u001b[32m    297\u001b[39m \u001b[43m    \u001b[49m\u001b[43msleep_generator\u001b[49m\u001b[43m,\u001b[49m\n\u001b[32m    298\u001b[39m \u001b[43m    \u001b[49m\u001b[43mtimeout\u001b[49m\u001b[43m=\u001b[49m\u001b[38;5;28;43mself\u001b[39;49m\u001b[43m.\u001b[49m\u001b[43m_timeout\u001b[49m\u001b[43m,\u001b[49m\n\u001b[32m    299\u001b[39m \u001b[43m    \u001b[49m\u001b[43mon_error\u001b[49m\u001b[43m=\u001b[49m\u001b[43mon_error\u001b[49m\u001b[43m,\u001b[49m\n\u001b[32m    300\u001b[39m \u001b[43m\u001b[49m\u001b[43m)\u001b[49m\n",
      "\u001b[36mFile \u001b[39m\u001b[32m~/pers/eu-climate-economic-resilience/.venv/lib/python3.12/site-packages/google/api_core/retry/retry_unary.py:156\u001b[39m, in \u001b[36mretry_target\u001b[39m\u001b[34m(target, predicate, sleep_generator, timeout, on_error, exception_factory, **kwargs)\u001b[39m\n\u001b[32m    152\u001b[39m \u001b[38;5;66;03m# pylint: disable=broad-except\u001b[39;00m\n\u001b[32m    153\u001b[39m \u001b[38;5;66;03m# This function explicitly must deal with broad exceptions.\u001b[39;00m\n\u001b[32m    154\u001b[39m \u001b[38;5;28;01mexcept\u001b[39;00m \u001b[38;5;167;01mException\u001b[39;00m \u001b[38;5;28;01mas\u001b[39;00m exc:\n\u001b[32m    155\u001b[39m     \u001b[38;5;66;03m# defer to shared logic for handling errors\u001b[39;00m\n\u001b[32m--> \u001b[39m\u001b[32m156\u001b[39m     next_sleep = \u001b[43m_retry_error_helper\u001b[49m\u001b[43m(\u001b[49m\n\u001b[32m    157\u001b[39m \u001b[43m        \u001b[49m\u001b[43mexc\u001b[49m\u001b[43m,\u001b[49m\n\u001b[32m    158\u001b[39m \u001b[43m        \u001b[49m\u001b[43mdeadline\u001b[49m\u001b[43m,\u001b[49m\n\u001b[32m    159\u001b[39m \u001b[43m        \u001b[49m\u001b[43msleep_iter\u001b[49m\u001b[43m,\u001b[49m\n\u001b[32m    160\u001b[39m \u001b[43m        \u001b[49m\u001b[43merror_list\u001b[49m\u001b[43m,\u001b[49m\n\u001b[32m    161\u001b[39m \u001b[43m        \u001b[49m\u001b[43mpredicate\u001b[49m\u001b[43m,\u001b[49m\n\u001b[32m    162\u001b[39m \u001b[43m        \u001b[49m\u001b[43mon_error\u001b[49m\u001b[43m,\u001b[49m\n\u001b[32m    163\u001b[39m \u001b[43m        \u001b[49m\u001b[43mexception_factory\u001b[49m\u001b[43m,\u001b[49m\n\u001b[32m    164\u001b[39m \u001b[43m        \u001b[49m\u001b[43mtimeout\u001b[49m\u001b[43m,\u001b[49m\n\u001b[32m    165\u001b[39m \u001b[43m    \u001b[49m\u001b[43m)\u001b[49m\n\u001b[32m    166\u001b[39m     \u001b[38;5;66;03m# if exception not raised, sleep before next attempt\u001b[39;00m\n\u001b[32m    167\u001b[39m     time.sleep(next_sleep)\n",
      "\u001b[36mFile \u001b[39m\u001b[32m~/pers/eu-climate-economic-resilience/.venv/lib/python3.12/site-packages/google/api_core/retry/retry_base.py:214\u001b[39m, in \u001b[36m_retry_error_helper\u001b[39m\u001b[34m(exc, deadline, sleep_iterator, error_list, predicate_fn, on_error_fn, exc_factory_fn, original_timeout)\u001b[39m\n\u001b[32m    208\u001b[39m \u001b[38;5;28;01mif\u001b[39;00m \u001b[38;5;129;01mnot\u001b[39;00m predicate_fn(exc):\n\u001b[32m    209\u001b[39m     final_exc, source_exc = exc_factory_fn(\n\u001b[32m    210\u001b[39m         error_list,\n\u001b[32m    211\u001b[39m         RetryFailureReason.NON_RETRYABLE_ERROR,\n\u001b[32m    212\u001b[39m         original_timeout,\n\u001b[32m    213\u001b[39m     )\n\u001b[32m--> \u001b[39m\u001b[32m214\u001b[39m     \u001b[38;5;28;01mraise\u001b[39;00m final_exc \u001b[38;5;28;01mfrom\u001b[39;00m\u001b[38;5;250m \u001b[39m\u001b[34;01msource_exc\u001b[39;00m\n\u001b[32m    215\u001b[39m \u001b[38;5;28;01mif\u001b[39;00m on_error_fn \u001b[38;5;129;01mis\u001b[39;00m \u001b[38;5;129;01mnot\u001b[39;00m \u001b[38;5;28;01mNone\u001b[39;00m:\n\u001b[32m    216\u001b[39m     on_error_fn(exc)\n",
      "\u001b[36mFile \u001b[39m\u001b[32m~/pers/eu-climate-economic-resilience/.venv/lib/python3.12/site-packages/google/api_core/retry/retry_unary.py:147\u001b[39m, in \u001b[36mretry_target\u001b[39m\u001b[34m(target, predicate, sleep_generator, timeout, on_error, exception_factory, **kwargs)\u001b[39m\n\u001b[32m    145\u001b[39m \u001b[38;5;28;01mwhile\u001b[39;00m \u001b[38;5;28;01mTrue\u001b[39;00m:\n\u001b[32m    146\u001b[39m     \u001b[38;5;28;01mtry\u001b[39;00m:\n\u001b[32m--> \u001b[39m\u001b[32m147\u001b[39m         result = \u001b[43mtarget\u001b[49m\u001b[43m(\u001b[49m\u001b[43m)\u001b[49m\n\u001b[32m    148\u001b[39m         \u001b[38;5;28;01mif\u001b[39;00m inspect.isawaitable(result):\n\u001b[32m    149\u001b[39m             warnings.warn(_ASYNC_RETRY_WARNING)\n",
      "\u001b[36mFile \u001b[39m\u001b[32m~/pers/eu-climate-economic-resilience/.venv/lib/python3.12/site-packages/google/cloud/_http/__init__.py:494\u001b[39m, in \u001b[36mJSONConnection.api_request\u001b[39m\u001b[34m(self, method, path, query_params, data, content_type, headers, api_base_url, api_version, expect_json, _target_object, timeout, extra_api_info)\u001b[39m\n\u001b[32m    482\u001b[39m response = \u001b[38;5;28mself\u001b[39m._make_request(\n\u001b[32m    483\u001b[39m     method=method,\n\u001b[32m    484\u001b[39m     url=url,\n\u001b[32m   (...)\u001b[39m\u001b[32m    490\u001b[39m     extra_api_info=extra_api_info,\n\u001b[32m    491\u001b[39m )\n\u001b[32m    493\u001b[39m \u001b[38;5;28;01mif\u001b[39;00m \u001b[38;5;129;01mnot\u001b[39;00m \u001b[32m200\u001b[39m <= response.status_code < \u001b[32m300\u001b[39m:\n\u001b[32m--> \u001b[39m\u001b[32m494\u001b[39m     \u001b[38;5;28;01mraise\u001b[39;00m exceptions.from_http_response(response)\n\u001b[32m    496\u001b[39m \u001b[38;5;28;01mif\u001b[39;00m expect_json \u001b[38;5;129;01mand\u001b[39;00m response.content:\n\u001b[32m    497\u001b[39m     \u001b[38;5;28;01mreturn\u001b[39;00m response.json()\n",
      "\u001b[31mBadRequest\u001b[39m: 400 PATCH https://bigquery.googleapis.com/bigquery/v2/projects/nyc-transportation-462009/datasets/city_mobility_data/tables/citibike_nyc_trips_cleaned?prettyPrint=false: Field day_of_week already exists in schema"
     ]
    }
   ],
   "source": [
    "table = client.get_table(cleaned_table_ref)\n",
    "schema = table.schema\n",
    "new_columns = [\n",
    "    bigquery.SchemaField(\"day_of_week\", \"STRING\", mode=\"NULLABLE\"),\n",
    "    bigquery.SchemaField(\"ride_time\", \"FLOAT\", mode=\"NULLABLE\")\n",
    "]\n",
    "\n",
    "new_schema = schema[:] + new_columns\n",
    "table.schema = new_schema\n",
    "\n",
    "client.update_table(table, ['schema'])"
   ]
  },
  {
   "cell_type": "code",
   "execution_count": 111,
   "id": "814c1353",
   "metadata": {},
   "outputs": [
    {
     "data": {
      "text/plain": [
       "<google.cloud.bigquery.table._EmptyRowIterator at 0x7f365c27d1f0>"
      ]
     },
     "execution_count": 111,
     "metadata": {},
     "output_type": "execute_result"
    }
   ],
   "source": [
    "query = f\"\"\"\n",
    "    UPDATE {cleaned_table_ref}\n",
    "    SET day_of_week = \n",
    "        CASE EXTRACT(DAYOFWEEK FROM started_at) \n",
    "            WHEN 1 THEN 'Sunday'\n",
    "            WHEN 2 THEN 'Monday' \n",
    "            WHEN 3 THEN 'Tuesday'\n",
    "            WHEN 4 THEN 'Wednesday'\n",
    "            WHEN 5 THEN 'Thursday'\n",
    "            WHEN 6 THEN 'Friday'\n",
    "            WHEN 7 THEN 'Saturday'\n",
    "        END,\n",
    "        ride_time = TIMESTAMP_DIFF(ended_at, started_at, MINUTE)\n",
    "    WHERE TRUE\n",
    "\"\"\"\n",
    "\n",
    "job = client.query(query)\n",
    "job.result()"
   ]
  },
  {
   "cell_type": "markdown",
   "id": "23aa3c54",
   "metadata": {},
   "source": [
    "## Exploratory Data Analysis (EDA)"
   ]
  },
  {
   "cell_type": "markdown",
   "id": "db719178",
   "metadata": {},
   "source": [
    "Start with checking *member_casual* data categories."
   ]
  },
  {
   "cell_type": "code",
   "execution_count": 69,
   "id": "93f5fe33",
   "metadata": {},
   "outputs": [
    {
     "name": "stderr",
     "output_type": "stream",
     "text": [
      "/home/olshe/pers/eu-climate-economic-resilience/.venv/lib/python3.12/site-packages/google/cloud/bigquery/table.py:1957: UserWarning: BigQuery Storage module not found, fetch data with the REST endpoint instead.\n",
      "  warnings.warn(\n"
     ]
    },
    {
     "data": {
      "text/html": [
       "<div>\n",
       "<style scoped>\n",
       "    .dataframe tbody tr th:only-of-type {\n",
       "        vertical-align: middle;\n",
       "    }\n",
       "\n",
       "    .dataframe tbody tr th {\n",
       "        vertical-align: top;\n",
       "    }\n",
       "\n",
       "    .dataframe thead th {\n",
       "        text-align: right;\n",
       "    }\n",
       "</style>\n",
       "<table border=\"1\" class=\"dataframe\">\n",
       "  <thead>\n",
       "    <tr style=\"text-align: right;\">\n",
       "      <th></th>\n",
       "      <th>member_casual</th>\n",
       "    </tr>\n",
       "  </thead>\n",
       "  <tbody>\n",
       "    <tr>\n",
       "      <th>0</th>\n",
       "      <td>member</td>\n",
       "    </tr>\n",
       "    <tr>\n",
       "      <th>1</th>\n",
       "      <td>casual</td>\n",
       "    </tr>\n",
       "  </tbody>\n",
       "</table>\n",
       "</div>"
      ],
      "text/plain": [
       "  member_casual\n",
       "0        member\n",
       "1        casual"
      ]
     },
     "execution_count": 69,
     "metadata": {},
     "output_type": "execute_result"
    }
   ],
   "source": [
    "query = f\"\"\"\n",
    "    SELECT DISTINCT member_casual\n",
    "    FROM {cleaned_table_ref}\n",
    "\"\"\"\n",
    "\n",
    "df = client.query(query).to_dataframe()\n",
    "df"
   ]
  },
  {
   "cell_type": "markdown",
   "id": "049b46e2",
   "metadata": {},
   "source": [
    "And *rideable_type*."
   ]
  },
  {
   "cell_type": "code",
   "execution_count": 70,
   "id": "e360c1fa",
   "metadata": {},
   "outputs": [
    {
     "name": "stderr",
     "output_type": "stream",
     "text": [
      "/home/olshe/pers/eu-climate-economic-resilience/.venv/lib/python3.12/site-packages/google/cloud/bigquery/table.py:1957: UserWarning: BigQuery Storage module not found, fetch data with the REST endpoint instead.\n",
      "  warnings.warn(\n"
     ]
    },
    {
     "data": {
      "text/html": [
       "<div>\n",
       "<style scoped>\n",
       "    .dataframe tbody tr th:only-of-type {\n",
       "        vertical-align: middle;\n",
       "    }\n",
       "\n",
       "    .dataframe tbody tr th {\n",
       "        vertical-align: top;\n",
       "    }\n",
       "\n",
       "    .dataframe thead th {\n",
       "        text-align: right;\n",
       "    }\n",
       "</style>\n",
       "<table border=\"1\" class=\"dataframe\">\n",
       "  <thead>\n",
       "    <tr style=\"text-align: right;\">\n",
       "      <th></th>\n",
       "      <th>rideable_type</th>\n",
       "    </tr>\n",
       "  </thead>\n",
       "  <tbody>\n",
       "    <tr>\n",
       "      <th>0</th>\n",
       "      <td>electric_bike</td>\n",
       "    </tr>\n",
       "    <tr>\n",
       "      <th>1</th>\n",
       "      <td>classic_bike</td>\n",
       "    </tr>\n",
       "  </tbody>\n",
       "</table>\n",
       "</div>"
      ],
      "text/plain": [
       "   rideable_type\n",
       "0  electric_bike\n",
       "1   classic_bike"
      ]
     },
     "execution_count": 70,
     "metadata": {},
     "output_type": "execute_result"
    }
   ],
   "source": [
    "query = f\"\"\"\n",
    "    SELECT DISTINCT rideable_type\n",
    "    FROM {cleaned_table_ref}\n",
    "\"\"\"\n",
    "\n",
    "df = client.query(query).to_dataframe()\n",
    "df"
   ]
  },
  {
   "cell_type": "markdown",
   "id": "39268867",
   "metadata": {},
   "source": [
    "Is there any difference between casual riders and members?"
   ]
  },
  {
   "cell_type": "code",
   "execution_count": 112,
   "id": "fe3a2c46",
   "metadata": {},
   "outputs": [
    {
     "name": "stdout",
     "output_type": "stream",
     "text": [
      "Average ridetime for members is 10.79 minutes.\n",
      "Average ridetime for casual users is 17.23 minutes.\n",
      "\n",
      "Difference is 6.44 minutes.\n"
     ]
    }
   ],
   "source": [
    "query = f\"\"\"\n",
    "    SELECT member_casual, AVG(ride_time) AS avg_time\n",
    "    FROM {cleaned_table_ref}\n",
    "    GROUP BY member_casual\n",
    "\"\"\"\n",
    "\n",
    "df = client.query(query).to_dataframe()\n",
    "\n",
    "member_avg_time = df[df['member_casual'] == 'member']['avg_time'].iloc[0]\n",
    "casual_avg_time = df[df['member_casual'] == 'casual']['avg_time'].iloc[0]\n",
    "\n",
    "print(f'Average ridetime for members is {np.round(member_avg_time, 2)} minutes.')\n",
    "print(f'Average ridetime for casual users is {np.round(casual_avg_time, 2)} minutes.')\n",
    "print()\n",
    "print(f'Difference is {np.round(np.abs(member_avg_time - casual_avg_time), 2)} minutes.')"
   ]
  },
  {
   "cell_type": "markdown",
   "id": "74dd5012",
   "metadata": {},
   "source": [
    "6 minutes is a great indicator that *member_casual* can be possible feature for predicting model.\n",
    "\n",
    "Is average time different for members and casuals on different bike types? "
   ]
  },
  {
   "cell_type": "code",
   "execution_count": 113,
   "id": "c17f2bc8",
   "metadata": {},
   "outputs": [
    {
     "name": "stdout",
     "output_type": "stream",
     "text": [
      "Average ridetime for members on classic bike is 10.69 and on electric bike is 10.84.\n",
      "Average ridetime for casuals on classic bike is 19.41 and on electric bike is 16.41.\n"
     ]
    }
   ],
   "source": [
    "query = f\"\"\"\n",
    "    SELECT member_casual, rideable_type, AVG(ride_time) AS avg_time\n",
    "    FROM {cleaned_table_ref}\n",
    "    GROUP BY member_casual, rideable_type\n",
    "\"\"\"\n",
    "\n",
    "df = client.query(query).to_dataframe()\n",
    "\n",
    "member_classic_time = df[(df['member_casual'] == 'member') & (df['rideable_type'] == 'classic_bike')]['avg_time'].iloc[0]\n",
    "member_electric_time = df[(df['member_casual'] == 'member') & (df['rideable_type'] == 'electric_bike')]['avg_time'].iloc[0]\n",
    "\n",
    "casual_classic_time = df[(df['member_casual'] == 'casual') & (df['rideable_type'] == 'classic_bike')]['avg_time'].iloc[0]\n",
    "casual_electric_time = df[(df['member_casual'] == 'casual') & (df['rideable_type'] == 'electric_bike')]['avg_time'].iloc[0]\n",
    "\n",
    "print(f'Average ridetime for members on classic bike is {np.round(member_classic_time, 2)} and on electric bike is {np.round(member_electric_time, 2)}.')\n",
    "print(f'Average ridetime for casuals on classic bike is {np.round(casual_classic_time, 2)} and on electric bike is {np.round(casual_electric_time, 2)}.')"
   ]
  },
  {
   "cell_type": "code",
   "execution_count": 127,
   "id": "f822af2d",
   "metadata": {},
   "outputs": [
    {
     "name": "stderr",
     "output_type": "stream",
     "text": [
      "/home/olshe/pers/eu-climate-economic-resilience/.venv/lib/python3.12/site-packages/google/cloud/bigquery/table.py:1957: UserWarning: BigQuery Storage module not found, fetch data with the REST endpoint instead.\n",
      "  warnings.warn(\n"
     ]
    },
    {
     "data": {
      "image/png": "[encoded data removed]",
      "text/plain": [
       "<Figure size 640x480 with 1 Axes>"
      ]
     },
     "metadata": {},
     "output_type": "display_data"
    }
   ],
   "source": [
    "query = f\"\"\"\n",
    "    SELECT member_casual, rideable_type, AVG(ride_time) AS avg_time\n",
    "    FROM {cleaned_table_ref}\n",
    "    GROUP BY member_casual, rideable_type\n",
    "\"\"\"\n",
    "\n",
    "df = client.query(query).to_dataframe()\n",
    "\n",
    "ax = sns.barplot(data=df, x='member_casual', y='avg_time', hue='rideable_type')\n",
    "\n",
    "handles, _ = ax.get_legend_handles_labels()\n",
    "\n",
    "plt.title('Average Ride Time for Members vs Casuals by Bike Type')\n",
    "plt.xlabel('')\n",
    "plt.ylabel('Average Time')\n",
    "plt.legend(title='Bike Type', handles=handles, labels=['Classic Bike', 'Electric Bike'])\n",
    "plt.show()"
   ]
  },
  {
   "cell_type": "markdown",
   "id": "d2a9be6c",
   "metadata": {},
   "source": [
    "Although members do not have any difference by bike type, it shows difference for casuals and also can be a possible feature to predict time."
   ]
  },
  {
   "cell_type": "markdown",
   "id": "df842b01",
   "metadata": {},
   "source": [
    "Check average time based on day of week."
   ]
  },
  {
   "cell_type": "code",
   "execution_count": 151,
   "id": "1dbe2bcb",
   "metadata": {},
   "outputs": [
    {
     "name": "stderr",
     "output_type": "stream",
     "text": [
      "/home/olshe/pers/eu-climate-economic-resilience/.venv/lib/python3.12/site-packages/google/cloud/bigquery/table.py:1957: UserWarning: BigQuery Storage module not found, fetch data with the REST endpoint instead.\n",
      "  warnings.warn(\n"
     ]
    },
    {
     "data": {
      "image/png": "[encoded data removed]",
      "text/plain": [
       "<Figure size 1400x600 with 2 Axes>"
      ]
     },
     "metadata": {},
     "output_type": "display_data"
    }
   ],
   "source": [
    "query = f\"\"\"\n",
    "    SELECT \n",
    "        member_casual,\n",
    "        rideable_type,\n",
    "        day_of_week, \n",
    "        AVG(ride_time) as avg_time\n",
    "        FROM {cleaned_table_ref}\n",
    "    GROUP BY member_casual, rideable_type, day_of_week\n",
    "\"\"\"\n",
    "\n",
    "df = client.query(query).to_dataframe()\n",
    "\n",
    "custom_dict = {'Sunday': 0, 'Monday': 1, 'Tuesday': 2, 'Wednesday': 3, 'Thursday': 4, 'Friday': 5, 'Saturday': 6} \n",
    "df = df.sort_values(by='day_of_week', key=lambda x: x.map(custom_dict))\n",
    "\n",
    "member_df = df[df['member_casual'] == 'member']\n",
    "casual_df = df[df['member_casual'] == 'casual']\n",
    "\n",
    "fig, ax = plt.subplots(1,2, figsize=(14, 6), sharex=True)\n",
    "\n",
    "bar1 = sns.barplot(data=member_df, x='day_of_week', y='avg_time', hue='rideable_type', ax=ax[0])\n",
    "bar2 = sns.barplot(data=casual_df, x='day_of_week', y='avg_time', hue='rideable_type', ax=ax[1])\n",
    "\n",
    "labels = ['Classic Bike', 'Electric Bike']\n",
    "handles, _ = bar1.get_legend_handles_labels()\n",
    "\n",
    "ax[0].tick_params(labelrotation=45)\n",
    "# ax[0].get_legend().remove()\n",
    "ax[0].set_xlabel('Member')\n",
    "ax[0].set_ylabel('Average Time')\n",
    "\n",
    "ax[1].tick_params(labelrotation=45)\n",
    "# ax[1].get_legend().remove()\n",
    "ax[1].set_xlabel('Casual')\n",
    "ax[1].set_ylabel('Average Time')\n",
    "\n",
    "# fig.legend(title='Bike Type', handles=handles, labels=labels, loc='upper right')\n",
    "\n",
    "plt.suptitle('Average Ride Time by Day of Week and Bike Type for Different User Groups')\n",
    "plt.show()"
   ]
  },
  {
   "cell_type": "markdown",
   "id": "88e114a0",
   "metadata": {},
   "source": [
    "Members and casuals show different patterns of usage during the week. Members tend to ride longer on weekends and have around same time for each workday, while casual average time decreases by mid week and then start to increase."
   ]
  },
  {
   "cell_type": "code",
   "execution_count": 13,
   "id": "d31b957d",
   "metadata": {},
   "outputs": [
    {
     "name": "stderr",
     "output_type": "stream",
     "text": [
      "/home/olshe/pers/eu-climate-economic-resilience/.venv/lib/python3.12/site-packages/google/cloud/bigquery/table.py:1957: UserWarning: BigQuery Storage module not found, fetch data with the REST endpoint instead.\n",
      "  warnings.warn(\n"
     ]
    },
    {
     "data": {
      "image/png": "[encoded data removed]",
      "text/plain": [
       "<Figure size 1400x600 with 2 Axes>"
      ]
     },
     "metadata": {},
     "output_type": "display_data"
    }
   ],
   "source": [
    "query = f\"\"\"\n",
    "    SELECT \n",
    "        member_casual,\n",
    "        rideable_type,\n",
    "        EXTRACT(HOUR FROM started_at) as hour, \n",
    "        AVG(ride_time) as avg_time\n",
    "        FROM {cleaned_table_ref}\n",
    "    GROUP BY member_casual, rideable_type, hour\n",
    "\"\"\"\n",
    "\n",
    "df = client.query(query).to_dataframe()\n",
    "df = df.sort_values(by='hour')\n",
    "\n",
    "member_df = df[df['member_casual'] == 'member']\n",
    "casual_df = df[df['member_casual'] == 'casual']\n",
    "\n",
    "fig, ax = plt.subplots(1,2, figsize=(14, 6))\n",
    "\n",
    "sns.lineplot(data=member_df, x='hour', y='avg_time', hue='rideable_type', ax=ax[0])\n",
    "sns.lineplot(data=casual_df, x='hour', y='avg_time', hue='rideable_type', ax=ax[1])\n",
    "\n",
    "ax[0].tick_params(labelrotation=45)\n",
    "ax[0].legend(loc='lower right')\n",
    "\n",
    "ax[1].tick_params(labelrotation=45)\n",
    "ax[1].legend(loc='lower right')\n",
    "\n",
    "plt.suptitle('Average Ride Time by Hour and Bike Type for Different User Groups')\n",
    "plt.show()"
   ]
  },
  {
   "cell_type": "markdown",
   "id": "14f97cc7",
   "metadata": {},
   "source": [
    "Now check the statistic of ride time for each group by top 30 most popular start stations."
   ]
  },
  {
   "cell_type": "code",
   "execution_count": 64,
   "id": "c29ef32f",
   "metadata": {},
   "outputs": [
    {
     "name": "stderr",
     "output_type": "stream",
     "text": [
      "/home/olshe/pers/eu-climate-economic-resilience/.venv/lib/python3.12/site-packages/google/cloud/bigquery/table.py:1957: UserWarning: BigQuery Storage module not found, fetch data with the REST endpoint instead.\n",
      "  warnings.warn(\n"
     ]
    },
    {
     "data": {
      "text/html": [
       "<div>\n",
       "<style scoped>\n",
       "    .dataframe tbody tr th:only-of-type {\n",
       "        vertical-align: middle;\n",
       "    }\n",
       "\n",
       "    .dataframe tbody tr th {\n",
       "        vertical-align: top;\n",
       "    }\n",
       "\n",
       "    .dataframe thead th {\n",
       "        text-align: right;\n",
       "    }\n",
       "</style>\n",
       "<table border=\"1\" class=\"dataframe\">\n",
       "  <thead>\n",
       "    <tr style=\"text-align: right;\">\n",
       "      <th></th>\n",
       "      <th>count</th>\n",
       "      <th>mean</th>\n",
       "      <th>std</th>\n",
       "      <th>min</th>\n",
       "      <th>25%</th>\n",
       "      <th>50%</th>\n",
       "      <th>75%</th>\n",
       "      <th>max</th>\n",
       "    </tr>\n",
       "  </thead>\n",
       "  <tbody>\n",
       "    <tr>\n",
       "      <th>avg_ride</th>\n",
       "      <td>30.0</td>\n",
       "      <td>10.15359</td>\n",
       "      <td>1.826929</td>\n",
       "      <td>6.749079</td>\n",
       "      <td>8.95196</td>\n",
       "      <td>9.840749</td>\n",
       "      <td>11.056347</td>\n",
       "      <td>16.022707</td>\n",
       "    </tr>\n",
       "  </tbody>\n",
       "</table>\n",
       "</div>"
      ],
      "text/plain": [
       "          count      mean       std       min      25%       50%        75%  \\\n",
       "avg_ride   30.0  10.15359  1.826929  6.749079  8.95196  9.840749  11.056347   \n",
       "\n",
       "                max  \n",
       "avg_ride  16.022707  "
      ]
     },
     "execution_count": 64,
     "metadata": {},
     "output_type": "execute_result"
    }
   ],
   "source": [
    "query = f\"\"\"\n",
    "    SELECT start_station_name, AVG(ride_time) as avg_ride\n",
    "    FROM {cleaned_table_ref}\n",
    "    WHERE member_casual = 'member' AND rideable_type = 'classic_bike'\n",
    "    GROUP BY start_station_name\n",
    "    ORDER BY COUNT(*) DESC\n",
    "    LIMIT 30\n",
    "\"\"\"\n",
    "\n",
    "df = client.query(query).to_dataframe()\n",
    "df.describe().T"
   ]
  },
  {
   "cell_type": "code",
   "execution_count": 65,
   "id": "e459b513",
   "metadata": {},
   "outputs": [
    {
     "name": "stderr",
     "output_type": "stream",
     "text": [
      "/home/olshe/pers/eu-climate-economic-resilience/.venv/lib/python3.12/site-packages/google/cloud/bigquery/table.py:1957: UserWarning: BigQuery Storage module not found, fetch data with the REST endpoint instead.\n",
      "  warnings.warn(\n"
     ]
    },
    {
     "data": {
      "text/html": [
       "<div>\n",
       "<style scoped>\n",
       "    .dataframe tbody tr th:only-of-type {\n",
       "        vertical-align: middle;\n",
       "    }\n",
       "\n",
       "    .dataframe tbody tr th {\n",
       "        vertical-align: top;\n",
       "    }\n",
       "\n",
       "    .dataframe thead th {\n",
       "        text-align: right;\n",
       "    }\n",
       "</style>\n",
       "<table border=\"1\" class=\"dataframe\">\n",
       "  <thead>\n",
       "    <tr style=\"text-align: right;\">\n",
       "      <th></th>\n",
       "      <th>count</th>\n",
       "      <th>mean</th>\n",
       "      <th>std</th>\n",
       "      <th>min</th>\n",
       "      <th>25%</th>\n",
       "      <th>50%</th>\n",
       "      <th>75%</th>\n",
       "      <th>max</th>\n",
       "    </tr>\n",
       "  </thead>\n",
       "  <tbody>\n",
       "    <tr>\n",
       "      <th>avg_ride</th>\n",
       "      <td>30.0</td>\n",
       "      <td>10.18919</td>\n",
       "      <td>0.935718</td>\n",
       "      <td>8.602719</td>\n",
       "      <td>9.460114</td>\n",
       "      <td>10.175118</td>\n",
       "      <td>10.665352</td>\n",
       "      <td>12.348579</td>\n",
       "    </tr>\n",
       "  </tbody>\n",
       "</table>\n",
       "</div>"
      ],
      "text/plain": [
       "          count      mean       std       min       25%        50%        75%  \\\n",
       "avg_ride   30.0  10.18919  0.935718  8.602719  9.460114  10.175118  10.665352   \n",
       "\n",
       "                max  \n",
       "avg_ride  12.348579  "
      ]
     },
     "execution_count": 65,
     "metadata": {},
     "output_type": "execute_result"
    }
   ],
   "source": [
    "query = f\"\"\"\n",
    "    SELECT start_station_name, AVG(ride_time) as avg_ride\n",
    "    FROM {cleaned_table_ref}\n",
    "    WHERE member_casual = 'member' AND rideable_type = 'electric_bike'\n",
    "    GROUP BY start_station_name\n",
    "    ORDER BY COUNT(*) DESC\n",
    "    LIMIT 30\n",
    "\"\"\"\n",
    "\n",
    "df = client.query(query).to_dataframe()\n",
    "df.describe().T"
   ]
  },
  {
   "cell_type": "code",
   "execution_count": 66,
   "id": "38540f6f",
   "metadata": {},
   "outputs": [
    {
     "name": "stderr",
     "output_type": "stream",
     "text": [
      "/home/olshe/pers/eu-climate-economic-resilience/.venv/lib/python3.12/site-packages/google/cloud/bigquery/table.py:1957: UserWarning: BigQuery Storage module not found, fetch data with the REST endpoint instead.\n",
      "  warnings.warn(\n"
     ]
    },
    {
     "data": {
      "text/html": [
       "<div>\n",
       "<style scoped>\n",
       "    .dataframe tbody tr th:only-of-type {\n",
       "        vertical-align: middle;\n",
       "    }\n",
       "\n",
       "    .dataframe tbody tr th {\n",
       "        vertical-align: top;\n",
       "    }\n",
       "\n",
       "    .dataframe thead th {\n",
       "        text-align: right;\n",
       "    }\n",
       "</style>\n",
       "<table border=\"1\" class=\"dataframe\">\n",
       "  <thead>\n",
       "    <tr style=\"text-align: right;\">\n",
       "      <th></th>\n",
       "      <th>count</th>\n",
       "      <th>mean</th>\n",
       "      <th>std</th>\n",
       "      <th>min</th>\n",
       "      <th>25%</th>\n",
       "      <th>50%</th>\n",
       "      <th>75%</th>\n",
       "      <th>max</th>\n",
       "    </tr>\n",
       "  </thead>\n",
       "  <tbody>\n",
       "    <tr>\n",
       "      <th>avg_ride</th>\n",
       "      <td>30.0</td>\n",
       "      <td>25.201538</td>\n",
       "      <td>5.790258</td>\n",
       "      <td>15.86233</td>\n",
       "      <td>20.678327</td>\n",
       "      <td>23.946339</td>\n",
       "      <td>28.727772</td>\n",
       "      <td>37.169646</td>\n",
       "    </tr>\n",
       "  </tbody>\n",
       "</table>\n",
       "</div>"
      ],
      "text/plain": [
       "          count       mean       std       min        25%        50%  \\\n",
       "avg_ride   30.0  25.201538  5.790258  15.86233  20.678327  23.946339   \n",
       "\n",
       "                75%        max  \n",
       "avg_ride  28.727772  37.169646  "
      ]
     },
     "execution_count": 66,
     "metadata": {},
     "output_type": "execute_result"
    }
   ],
   "source": [
    "query = f\"\"\"\n",
    "    SELECT start_station_name, AVG(ride_time) as avg_ride\n",
    "    FROM {cleaned_table_ref}\n",
    "    WHERE member_casual = 'casual' AND rideable_type = 'classic_bike'\n",
    "    GROUP BY start_station_name\n",
    "    ORDER BY COUNT(*) DESC\n",
    "    LIMIT 30\n",
    "\"\"\"\n",
    "\n",
    "df = client.query(query).to_dataframe()\n",
    "df.describe().T"
   ]
  },
  {
   "cell_type": "code",
   "execution_count": 67,
   "id": "66b9f3f5",
   "metadata": {},
   "outputs": [
    {
     "name": "stderr",
     "output_type": "stream",
     "text": [
      "/home/olshe/pers/eu-climate-economic-resilience/.venv/lib/python3.12/site-packages/google/cloud/bigquery/table.py:1957: UserWarning: BigQuery Storage module not found, fetch data with the REST endpoint instead.\n",
      "  warnings.warn(\n"
     ]
    },
    {
     "data": {
      "text/html": [
       "<div>\n",
       "<style scoped>\n",
       "    .dataframe tbody tr th:only-of-type {\n",
       "        vertical-align: middle;\n",
       "    }\n",
       "\n",
       "    .dataframe tbody tr th {\n",
       "        vertical-align: top;\n",
       "    }\n",
       "\n",
       "    .dataframe thead th {\n",
       "        text-align: right;\n",
       "    }\n",
       "</style>\n",
       "<table border=\"1\" class=\"dataframe\">\n",
       "  <thead>\n",
       "    <tr style=\"text-align: right;\">\n",
       "      <th></th>\n",
       "      <th>count</th>\n",
       "      <th>mean</th>\n",
       "      <th>std</th>\n",
       "      <th>min</th>\n",
       "      <th>25%</th>\n",
       "      <th>50%</th>\n",
       "      <th>75%</th>\n",
       "      <th>max</th>\n",
       "    </tr>\n",
       "  </thead>\n",
       "  <tbody>\n",
       "    <tr>\n",
       "      <th>avg_ride</th>\n",
       "      <td>30.0</td>\n",
       "      <td>21.156136</td>\n",
       "      <td>7.073381</td>\n",
       "      <td>12.638243</td>\n",
       "      <td>15.888681</td>\n",
       "      <td>17.58485</td>\n",
       "      <td>27.241334</td>\n",
       "      <td>35.524039</td>\n",
       "    </tr>\n",
       "  </tbody>\n",
       "</table>\n",
       "</div>"
      ],
      "text/plain": [
       "          count       mean       std        min        25%       50%  \\\n",
       "avg_ride   30.0  21.156136  7.073381  12.638243  15.888681  17.58485   \n",
       "\n",
       "                75%        max  \n",
       "avg_ride  27.241334  35.524039  "
      ]
     },
     "execution_count": 67,
     "metadata": {},
     "output_type": "execute_result"
    }
   ],
   "source": [
    "query = f\"\"\"\n",
    "    SELECT start_station_name, AVG(ride_time) as avg_ride\n",
    "    FROM {cleaned_table_ref}\n",
    "    WHERE member_casual = 'casual' AND rideable_type = 'electric_bike'\n",
    "    GROUP BY start_station_name\n",
    "    ORDER BY COUNT(*) DESC\n",
    "    LIMIT 30\n",
    "\"\"\"\n",
    "\n",
    "df = client.query(query).to_dataframe()\n",
    "df.describe().T"
   ]
  },
  {
   "cell_type": "markdown",
   "id": "b7a17927",
   "metadata": {},
   "source": [
    "## Hypothesis Testing"
   ]
  },
  {
   "cell_type": "code",
   "execution_count": 13,
   "id": "545cf754",
   "metadata": {},
   "outputs": [
    {
     "name": "stderr",
     "output_type": "stream",
     "text": [
      "/home/olshe/pers/eu-climate-economic-resilience/.venv/lib/python3.12/site-packages/google/cloud/bigquery/table.py:1957: UserWarning: BigQuery Storage module not found, fetch data with the REST endpoint instead.\n",
      "  warnings.warn(\n"
     ]
    },
    {
     "data": {
      "text/html": [
       "<div>\n",
       "<style scoped>\n",
       "    .dataframe tbody tr th:only-of-type {\n",
       "        vertical-align: middle;\n",
       "    }\n",
       "\n",
       "    .dataframe tbody tr th {\n",
       "        vertical-align: top;\n",
       "    }\n",
       "\n",
       "    .dataframe thead th {\n",
       "        text-align: right;\n",
       "    }\n",
       "</style>\n",
       "<table border=\"1\" class=\"dataframe\">\n",
       "  <thead>\n",
       "    <tr style=\"text-align: right;\">\n",
       "      <th></th>\n",
       "      <th>trip_type</th>\n",
       "      <th>avg_time</th>\n",
       "      <th>cnt</th>\n",
       "    </tr>\n",
       "  </thead>\n",
       "  <tbody>\n",
       "    <tr>\n",
       "      <th>0</th>\n",
       "      <td>one-way</td>\n",
       "      <td>11.724088</td>\n",
       "      <td>56357076</td>\n",
       "    </tr>\n",
       "    <tr>\n",
       "      <th>1</th>\n",
       "      <td>round</td>\n",
       "      <td>22.614918</td>\n",
       "      <td>1084249</td>\n",
       "    </tr>\n",
       "  </tbody>\n",
       "</table>\n",
       "</div>"
      ],
      "text/plain": [
       "  trip_type   avg_time       cnt\n",
       "0   one-way  11.724088  56357076\n",
       "1     round  22.614918   1084249"
      ]
     },
     "execution_count": 13,
     "metadata": {},
     "output_type": "execute_result"
    }
   ],
   "source": [
    "query = f\"\"\"\n",
    "    SELECT \n",
    "        CASE WHEN start_station_name = end_station_name THEN 'round' ELSE 'one-way' END AS trip_type,\n",
    "        AVG(ride_time) as avg_time,\n",
    "        COUNT(*) as cnt\n",
    "    FROM {cleaned_table_ref}\n",
    "    GROUP BY trip_type\n",
    "\"\"\"\n",
    "\n",
    "df = client.query(query).to_dataframe()\n",
    "df"
   ]
  },
  {
   "cell_type": "code",
   "execution_count": 5,
   "id": "66df9545",
   "metadata": {},
   "outputs": [
    {
     "name": "stderr",
     "output_type": "stream",
     "text": [
      "/home/olshe/pers/eu-climate-economic-resilience/.venv/lib/python3.12/site-packages/google/cloud/bigquery/table.py:1957: UserWarning: BigQuery Storage module not found, fetch data with the REST endpoint instead.\n",
      "  warnings.warn(\n"
     ]
    }
   ],
   "source": [
    "query = f\"\"\"\n",
    "    WITH ranked AS (\n",
    "        SELECT *, ROW_NUMBER() OVER (PARTITION BY member_casual, rideable_type ORDER BY ride_id) AS rn\n",
    "        FROM {cleaned_table_ref}\n",
    "    )\n",
    "\n",
    "    SELECT * \n",
    "    FROM ranked\n",
    "    WHERE rn <= 5000\n",
    "\"\"\"\n",
    "\n",
    "df = client.query(query).to_dataframe()"
   ]
  },
  {
   "cell_type": "code",
   "execution_count": 6,
   "id": "688228d8",
   "metadata": {},
   "outputs": [
    {
     "data": {
      "text/html": [
       "<div>\n",
       "<style scoped>\n",
       "    .dataframe tbody tr th:only-of-type {\n",
       "        vertical-align: middle;\n",
       "    }\n",
       "\n",
       "    .dataframe tbody tr th {\n",
       "        vertical-align: top;\n",
       "    }\n",
       "\n",
       "    .dataframe thead th {\n",
       "        text-align: right;\n",
       "    }\n",
       "</style>\n",
       "<table border=\"1\" class=\"dataframe\">\n",
       "  <thead>\n",
       "    <tr style=\"text-align: right;\">\n",
       "      <th></th>\n",
       "      <th>df</th>\n",
       "      <th>sum_sq</th>\n",
       "      <th>mean_sq</th>\n",
       "      <th>F</th>\n",
       "      <th>PR(&gt;F)</th>\n",
       "    </tr>\n",
       "  </thead>\n",
       "  <tbody>\n",
       "    <tr>\n",
       "      <th>C(member_casual)</th>\n",
       "      <td>1.0</td>\n",
       "      <td>2.660924e+05</td>\n",
       "      <td>266092.42005</td>\n",
       "      <td>1594.752542</td>\n",
       "      <td>0.000000e+00</td>\n",
       "    </tr>\n",
       "    <tr>\n",
       "      <th>C(rideable_type)</th>\n",
       "      <td>1.0</td>\n",
       "      <td>8.490348e+03</td>\n",
       "      <td>8490.34805</td>\n",
       "      <td>50.884592</td>\n",
       "      <td>1.013046e-12</td>\n",
       "    </tr>\n",
       "    <tr>\n",
       "      <th>C(member_casual):C(rideable_type)</th>\n",
       "      <td>1.0</td>\n",
       "      <td>1.273448e+04</td>\n",
       "      <td>12734.48405</td>\n",
       "      <td>76.320666</td>\n",
       "      <td>2.598074e-18</td>\n",
       "    </tr>\n",
       "    <tr>\n",
       "      <th>Residual</th>\n",
       "      <td>19996.0</td>\n",
       "      <td>3.336432e+06</td>\n",
       "      <td>166.85499</td>\n",
       "      <td>NaN</td>\n",
       "      <td>NaN</td>\n",
       "    </tr>\n",
       "  </tbody>\n",
       "</table>\n",
       "</div>"
      ],
      "text/plain": [
       "                                        df        sum_sq       mean_sq  \\\n",
       "C(member_casual)                       1.0  2.660924e+05  266092.42005   \n",
       "C(rideable_type)                       1.0  8.490348e+03    8490.34805   \n",
       "C(member_casual):C(rideable_type)      1.0  1.273448e+04   12734.48405   \n",
       "Residual                           19996.0  3.336432e+06     166.85499   \n",
       "\n",
       "                                             F        PR(>F)  \n",
       "C(member_casual)                   1594.752542  0.000000e+00  \n",
       "C(rideable_type)                     50.884592  1.013046e-12  \n",
       "C(member_casual):C(rideable_type)    76.320666  2.598074e-18  \n",
       "Residual                                   NaN           NaN  "
      ]
     },
     "execution_count": 6,
     "metadata": {},
     "output_type": "execute_result"
    }
   ],
   "source": [
    "formula = 'ride_time ~ C(member_casual) + C(rideable_type) + C(member_casual):C(rideable_type)'\n",
    "model = ols(formula, df).fit()\n",
    "results = sm.stats.anova_lm(model, type=2)\n",
    "results"
   ]
  },
  {
   "cell_type": "code",
   "execution_count": null,
   "id": "44e66a69",
   "metadata": {},
   "outputs": [
    {
     "name": "stderr",
     "output_type": "stream",
     "text": [
      "/home/olshe/pers/eu-climate-economic-resilience/.venv/lib/python3.12/site-packages/google/cloud/bigquery/table.py:1957: UserWarning: BigQuery Storage module not found, fetch data with the REST endpoint instead.\n",
      "  warnings.warn(\n"
     ]
    }
   ],
   "source": [
    "query = f\"\"\"\n",
    "    WITH ranked AS (\n",
    "        SELECT *, ROW_NUMBER() OVER (PARTITION BY day_of_week ORDER BY ride_id) AS rn\n",
    "        FROM {cleaned_table_ref}\n",
    "    )\n",
    "\n",
    "    SELECT * \n",
    "    FROM ranked\n",
    "    WHERE rn <= 15000\n",
    "\"\"\"\n",
    "\n",
    "df = client.query(query).to_dataframe()"
   ]
  },
  {
   "cell_type": "code",
   "execution_count": null,
   "id": "9bd43877",
   "metadata": {},
   "outputs": [
    {
     "name": "stdout",
     "output_type": "stream",
     "text": [
      "Member users: F = 100.66783836554634 , p = 7.486481436879072e-127\n"
     ]
    }
   ],
   "source": [
    "day_groups = [group['ride_time'].values for _, group in df.groupby('day_of_week')]\n",
    "\n",
    "f_stat, p_val = f_oneway(*day_groups)\n",
    "\n",
    "print(\"F =\", f_stat, \", p =\", p_val)"
   ]
  },
  {
   "cell_type": "code",
   "execution_count": 77,
   "id": "46705986",
   "metadata": {},
   "outputs": [
    {
     "name": "stderr",
     "output_type": "stream",
     "text": [
      "/home/olshe/pers/eu-climate-economic-resilience/.venv/lib/python3.12/site-packages/google/cloud/bigquery/table.py:1957: UserWarning: BigQuery Storage module not found, fetch data with the REST endpoint instead.\n",
      "  warnings.warn(\n"
     ]
    }
   ],
   "source": [
    "query = f\"\"\"\n",
    "    WITH ranked AS (\n",
    "        SELECT *, \n",
    "            ROW_NUMBER() OVER (PARTITION BY EXTRACT(HOUR FROM started_at) ORDER BY RAND()) as rn,\n",
    "            EXTRACT(HOUR FROM started_at) AS hour\n",
    "        FROM {cleaned_table_ref}\n",
    "    )\n",
    "\n",
    "    SELECT *\n",
    "    FROM ranked\n",
    "    WHERE rn <= 500\n",
    "\"\"\"\n",
    "\n",
    "df = client.query(query).to_dataframe()"
   ]
  },
  {
   "cell_type": "code",
   "execution_count": 78,
   "id": "92e19bc9",
   "metadata": {},
   "outputs": [
    {
     "name": "stdout",
     "output_type": "stream",
     "text": [
      "F = 4.695992477183007 , p = 6.629793025812667e-13\n"
     ]
    }
   ],
   "source": [
    "day_groups = [group['ride_time'].values for _, group in df.groupby('hour')]\n",
    "\n",
    "f_stat, p_val = f_oneway(*day_groups)\n",
    "\n",
    "print(\"F =\", f_stat, \", p =\", p_val)"
   ]
  },
  {
   "cell_type": "code",
   "execution_count": 79,
   "id": "d3034019",
   "metadata": {},
   "outputs": [
    {
     "name": "stderr",
     "output_type": "stream",
     "text": [
      "/home/olshe/pers/eu-climate-economic-resilience/.venv/lib/python3.12/site-packages/google/cloud/bigquery/table.py:1957: UserWarning: BigQuery Storage module not found, fetch data with the REST endpoint instead.\n",
      "  warnings.warn(\n"
     ]
    }
   ],
   "source": [
    "query = f\"\"\"\n",
    "    WITH top_30_stations AS (\n",
    "        SELECT start_station_name\n",
    "        FROM {cleaned_table_ref}\n",
    "        GROUP BY start_station_name\n",
    "        ORDER BY COUNT(*) DESC\n",
    "        LIMIT 30\n",
    "    ),\n",
    "\n",
    "    ranked AS (\n",
    "        SELECT *,\n",
    "            ROW_NUMBER() OVER (PARTITION BY c.start_station_name ORDER BY RAND()) as rn\n",
    "        FROM {cleaned_table_ref} c\n",
    "        WHERE c.start_station_name IN (SELECT start_station_name FROM top_30_stations)\n",
    "    )\n",
    "\n",
    "    SELECT * \n",
    "    FROM ranked\n",
    "    WHERE rn <= 500\n",
    "\"\"\"\n",
    "\n",
    "df = client.query(query).to_dataframe()"
   ]
  },
  {
   "cell_type": "code",
   "execution_count": 82,
   "id": "b0aa48cd",
   "metadata": {},
   "outputs": [
    {
     "name": "stdout",
     "output_type": "stream",
     "text": [
      "F = 59.43272973021563 , p = 0.0\n"
     ]
    }
   ],
   "source": [
    "day_groups = [group['ride_time'].values for _, group in df.groupby('start_station_name')]\n",
    "\n",
    "f_stat, p_val = f_oneway(*day_groups)\n",
    "\n",
    "print(\"F =\", f_stat, \", p =\", p_val)"
   ]
  },
  {
   "cell_type": "code",
   "execution_count": null,
   "id": "c11d6bc1",
   "metadata": {},
   "outputs": [
    {
     "name": "stderr",
     "output_type": "stream",
     "text": [
      "/home/olshe/pers/eu-climate-economic-resilience/.venv/lib/python3.12/site-packages/google/cloud/bigquery/table.py:1957: UserWarning: BigQuery Storage module not found, fetch data with the REST endpoint instead.\n",
      "  warnings.warn(\n"
     ]
    }
   ],
   "source": [
    "query = f\"\"\"\n",
    "    SELECT \n",
    "        ride_time,\n",
    "        start_station_name,\n",
    "        EXTRACT(HOUR FROM started_at) as start_hour,\n",
    "        day_of_week,\n",
    "        member_casual,\n",
    "        rideable_type,\n",
    "    FROM {cleaned_table_ref}\n",
    "    LIMIT 1000000\n",
    "\"\"\"\n",
    "\n",
    "df = client.query(query).to_dataframe()"
   ]
  },
  {
   "cell_type": "code",
   "execution_count": null,
   "id": "095de092",
   "metadata": {},
   "outputs": [
    {
     "name": "stdout",
     "output_type": "stream",
     "text": [
      "RMSE: 139.59 seconds\n",
      "R² Score: 0.03\n"
     ]
    }
   ],
   "source": [
    "x = df.drop(columns=['ride_time'])\n",
    "y = df['ride_time']\n",
    "\n",
    "label_encoder = LabelEncoder()\n",
    "X_categorical = x.select_dtypes(include=['object']).apply(label_encoder.fit_transform)\n",
    "X_numerical = x.select_dtypes(exclude=['object'])\n",
    "\n",
    "X = pd.concat([pd.DataFrame(X_numerical), X_categorical], axis=1)\n",
    "\n",
    "X_train, X_test, y_train, y_test = train_test_split(X, y, test_size=0.2, random_state=42)\n",
    "\n",
    "rf = RandomForestRegressor(n_estimators=100, n_jobs=-1, random_state=42)\n",
    "rf.fit(X_train, y_train)\n",
    "\n",
    "y_pred = rf.predict(X_test)\n",
    "\n",
    "print(f\"MSE: {mean_squared_error(y_test, y_pred):.2f}\")\n",
    "print(f\"R² Score: {r2_score(y_test, y_pred):.2f}\")"
   ]
  },
  {
   "cell_type": "code",
   "execution_count": 48,
   "id": "38df3f19",
   "metadata": {},
   "outputs": [
    {
     "data": {
      "text/plain": [
       "LoadJob<project=nyc-transportation-462009, location=EU, id=ad0b6b33-fc99-4a1b-aca6-8619a70feb8c>"
      ]
     },
     "execution_count": 48,
     "metadata": {},
     "output_type": "execute_result"
    }
   ],
   "source": [
    "job_config = bigquery.LoadJobConfig(\n",
    "    source_format=bigquery.SourceFormat.CSV,\n",
    "    skip_leading_rows=1,\n",
    "    autodetect=True,\n",
    "    write_disposition=bigquery.WriteDisposition.WRITE_TRUNCATE\n",
    ")\n",
    "\n",
    "with open('./weather_nyc.csv', 'rb') as weather_file:\n",
    "    load_job = client.load_table_from_file(\n",
    "        weather_file,\n",
    "        weather_table_ref,\n",
    "        job_config=job_config\n",
    "    )\n",
    "    \n",
    "load_job.result()"
   ]
  },
  {
   "cell_type": "code",
   "execution_count": 4,
   "id": "b68abb46",
   "metadata": {},
   "outputs": [
    {
     "name": "stderr",
     "output_type": "stream",
     "text": [
      "/home/olshe/pers/eu-climate-economic-resilience/.venv/lib/python3.12/site-packages/google/cloud/bigquery/table.py:1957: UserWarning: BigQuery Storage module not found, fetch data with the REST endpoint instead.\n",
      "  warnings.warn(\n"
     ]
    },
    {
     "data": {
      "text/html": [
       "<div>\n",
       "<style scoped>\n",
       "    .dataframe tbody tr th:only-of-type {\n",
       "        vertical-align: middle;\n",
       "    }\n",
       "\n",
       "    .dataframe tbody tr th {\n",
       "        vertical-align: top;\n",
       "    }\n",
       "\n",
       "    .dataframe thead th {\n",
       "        text-align: right;\n",
       "    }\n",
       "</style>\n",
       "<table border=\"1\" class=\"dataframe\">\n",
       "  <thead>\n",
       "    <tr style=\"text-align: right;\">\n",
       "      <th></th>\n",
       "      <th>dt</th>\n",
       "      <th>dt_iso</th>\n",
       "      <th>timezone</th>\n",
       "      <th>city_name</th>\n",
       "      <th>lat</th>\n",
       "      <th>lon</th>\n",
       "      <th>temp</th>\n",
       "      <th>visibility</th>\n",
       "      <th>dew_point</th>\n",
       "      <th>feels_like</th>\n",
       "      <th>...</th>\n",
       "      <th>wind_gust</th>\n",
       "      <th>rain_1h</th>\n",
       "      <th>rain_3h</th>\n",
       "      <th>snow_1h</th>\n",
       "      <th>snow_3h</th>\n",
       "      <th>clouds_all</th>\n",
       "      <th>weather_id</th>\n",
       "      <th>weather_main</th>\n",
       "      <th>weather_description</th>\n",
       "      <th>weather_icon</th>\n",
       "    </tr>\n",
       "  </thead>\n",
       "  <tbody>\n",
       "    <tr>\n",
       "      <th>0</th>\n",
       "      <td>1704067200</td>\n",
       "      <td>2024-01-01 00:00:00 +0000 UTC</td>\n",
       "      <td>-18000</td>\n",
       "      <td>New York</td>\n",
       "      <td>40.712775</td>\n",
       "      <td>-74.005973</td>\n",
       "      <td>5.61</td>\n",
       "      <td>10000</td>\n",
       "      <td>-2.18</td>\n",
       "      <td>2.29</td>\n",
       "      <td>...</td>\n",
       "      <td>0.0</td>\n",
       "      <td>NaN</td>\n",
       "      <td>NaN</td>\n",
       "      <td>NaN</td>\n",
       "      <td>NaN</td>\n",
       "      <td>100</td>\n",
       "      <td>804</td>\n",
       "      <td>Clouds</td>\n",
       "      <td>overcast clouds</td>\n",
       "      <td>04n</td>\n",
       "    </tr>\n",
       "    <tr>\n",
       "      <th>1</th>\n",
       "      <td>1704070800</td>\n",
       "      <td>2024-01-01 01:00:00 +0000 UTC</td>\n",
       "      <td>-18000</td>\n",
       "      <td>New York</td>\n",
       "      <td>40.712775</td>\n",
       "      <td>-74.005973</td>\n",
       "      <td>5.70</td>\n",
       "      <td>10000</td>\n",
       "      <td>-1.90</td>\n",
       "      <td>2.95</td>\n",
       "      <td>...</td>\n",
       "      <td>0.0</td>\n",
       "      <td>NaN</td>\n",
       "      <td>NaN</td>\n",
       "      <td>NaN</td>\n",
       "      <td>NaN</td>\n",
       "      <td>100</td>\n",
       "      <td>804</td>\n",
       "      <td>Clouds</td>\n",
       "      <td>overcast clouds</td>\n",
       "      <td>04n</td>\n",
       "    </tr>\n",
       "    <tr>\n",
       "      <th>2</th>\n",
       "      <td>1704074400</td>\n",
       "      <td>2024-01-01 02:00:00 +0000 UTC</td>\n",
       "      <td>-18000</td>\n",
       "      <td>New York</td>\n",
       "      <td>40.712775</td>\n",
       "      <td>-74.005973</td>\n",
       "      <td>5.54</td>\n",
       "      <td>10000</td>\n",
       "      <td>-1.41</td>\n",
       "      <td>2.20</td>\n",
       "      <td>...</td>\n",
       "      <td>0.0</td>\n",
       "      <td>NaN</td>\n",
       "      <td>NaN</td>\n",
       "      <td>NaN</td>\n",
       "      <td>NaN</td>\n",
       "      <td>100</td>\n",
       "      <td>804</td>\n",
       "      <td>Clouds</td>\n",
       "      <td>overcast clouds</td>\n",
       "      <td>04n</td>\n",
       "    </tr>\n",
       "    <tr>\n",
       "      <th>3</th>\n",
       "      <td>1704078000</td>\n",
       "      <td>2024-01-01 03:00:00 +0000 UTC</td>\n",
       "      <td>-18000</td>\n",
       "      <td>New York</td>\n",
       "      <td>40.712775</td>\n",
       "      <td>-74.005973</td>\n",
       "      <td>5.71</td>\n",
       "      <td>10000</td>\n",
       "      <td>-1.07</td>\n",
       "      <td>2.96</td>\n",
       "      <td>...</td>\n",
       "      <td>0.0</td>\n",
       "      <td>NaN</td>\n",
       "      <td>NaN</td>\n",
       "      <td>NaN</td>\n",
       "      <td>NaN</td>\n",
       "      <td>100</td>\n",
       "      <td>804</td>\n",
       "      <td>Clouds</td>\n",
       "      <td>overcast clouds</td>\n",
       "      <td>04n</td>\n",
       "    </tr>\n",
       "    <tr>\n",
       "      <th>4</th>\n",
       "      <td>1704081600</td>\n",
       "      <td>2024-01-01 04:00:00 +0000 UTC</td>\n",
       "      <td>-18000</td>\n",
       "      <td>New York</td>\n",
       "      <td>40.712775</td>\n",
       "      <td>-74.005973</td>\n",
       "      <td>5.65</td>\n",
       "      <td>10000</td>\n",
       "      <td>-0.93</td>\n",
       "      <td>2.89</td>\n",
       "      <td>...</td>\n",
       "      <td>0.0</td>\n",
       "      <td>NaN</td>\n",
       "      <td>NaN</td>\n",
       "      <td>NaN</td>\n",
       "      <td>NaN</td>\n",
       "      <td>100</td>\n",
       "      <td>804</td>\n",
       "      <td>Clouds</td>\n",
       "      <td>overcast clouds</td>\n",
       "      <td>04n</td>\n",
       "    </tr>\n",
       "  </tbody>\n",
       "</table>\n",
       "<p>5 rows × 28 columns</p>\n",
       "</div>"
      ],
      "text/plain": [
       "           dt                         dt_iso  timezone city_name        lat  \\\n",
       "0  1704067200  2024-01-01 00:00:00 +0000 UTC    -18000  New York  40.712775   \n",
       "1  1704070800  2024-01-01 01:00:00 +0000 UTC    -18000  New York  40.712775   \n",
       "2  1704074400  2024-01-01 02:00:00 +0000 UTC    -18000  New York  40.712775   \n",
       "3  1704078000  2024-01-01 03:00:00 +0000 UTC    -18000  New York  40.712775   \n",
       "4  1704081600  2024-01-01 04:00:00 +0000 UTC    -18000  New York  40.712775   \n",
       "\n",
       "         lon  temp  visibility  dew_point  feels_like  ...  wind_gust  \\\n",
       "0 -74.005973  5.61       10000      -2.18        2.29  ...        0.0   \n",
       "1 -74.005973  5.70       10000      -1.90        2.95  ...        0.0   \n",
       "2 -74.005973  5.54       10000      -1.41        2.20  ...        0.0   \n",
       "3 -74.005973  5.71       10000      -1.07        2.96  ...        0.0   \n",
       "4 -74.005973  5.65       10000      -0.93        2.89  ...        0.0   \n",
       "\n",
       "   rain_1h  rain_3h snow_1h snow_3h  clouds_all  weather_id  weather_main  \\\n",
       "0      NaN      NaN     NaN     NaN         100         804        Clouds   \n",
       "1      NaN      NaN     NaN     NaN         100         804        Clouds   \n",
       "2      NaN      NaN     NaN     NaN         100         804        Clouds   \n",
       "3      NaN      NaN     NaN     NaN         100         804        Clouds   \n",
       "4      NaN      NaN     NaN     NaN         100         804        Clouds   \n",
       "\n",
       "   weather_description  weather_icon  \n",
       "0      overcast clouds           04n  \n",
       "1      overcast clouds           04n  \n",
       "2      overcast clouds           04n  \n",
       "3      overcast clouds           04n  \n",
       "4      overcast clouds           04n  \n",
       "\n",
       "[5 rows x 28 columns]"
      ]
     },
     "execution_count": 4,
     "metadata": {},
     "output_type": "execute_result"
    }
   ],
   "source": [
    "query = f\"\"\"\n",
    "    SELECT * FROM {weather_table_ref}\n",
    "    LIMIT 5\n",
    "\"\"\"\n",
    "\n",
    "df = client.query(query).to_dataframe()\n",
    "df"
   ]
  },
  {
   "cell_type": "code",
   "execution_count": 6,
   "id": "d7445425",
   "metadata": {},
   "outputs": [
    {
     "data": {
      "text/plain": [
       "Index(['dt', 'dt_iso', 'timezone', 'city_name', 'lat', 'lon', 'temp',\n",
       "       'visibility', 'dew_point', 'feels_like', 'temp_min', 'temp_max',\n",
       "       'pressure', 'sea_level', 'grnd_level', 'humidity', 'wind_speed',\n",
       "       'wind_deg', 'wind_gust', 'rain_1h', 'rain_3h', 'snow_1h', 'snow_3h',\n",
       "       'clouds_all', 'weather_id', 'weather_main', 'weather_description',\n",
       "       'weather_icon'],\n",
       "      dtype='object')"
      ]
     },
     "execution_count": 6,
     "metadata": {},
     "output_type": "execute_result"
    }
   ],
   "source": [
    "df.columns"
   ]
  },
  {
   "cell_type": "code",
   "execution_count": 14,
   "id": "1126e517",
   "metadata": {},
   "outputs": [
    {
     "data": {
      "text/plain": [
       "<google.cloud.bigquery.table._EmptyRowIterator at 0x746bfc234260>"
      ]
     },
     "execution_count": 14,
     "metadata": {},
     "output_type": "execute_result"
    }
   ],
   "source": [
    "query = f\"\"\"\n",
    "    CREATE OR REPLACE VIEW {cleaned_weather_table_ref} AS\n",
    "        SELECT\n",
    "        *,\n",
    "        TIMESTAMP(REPLACE(dt_iso, ' +0000 UTC', '')) AS dt_iso_ts\n",
    "        FROM {weather_table_ref}\n",
    "\"\"\"\n",
    "\n",
    "job = client.query(query)\n",
    "job.result()"
   ]
  },
  {
   "cell_type": "code",
   "execution_count": null,
   "id": "1e60e642",
   "metadata": {},
   "outputs": [],
   "source": []
  },
  {
   "cell_type": "code",
   "execution_count": 63,
   "id": "8725940a",
   "metadata": {},
   "outputs": [
    {
     "name": "stderr",
     "output_type": "stream",
     "text": [
      "/home/olshe/pers/eu-climate-economic-resilience/.venv/lib/python3.12/site-packages/google/cloud/bigquery/table.py:1957: UserWarning: BigQuery Storage module not found, fetch data with the REST endpoint instead.\n",
      "  warnings.warn(\n"
     ]
    }
   ],
   "source": [
    "query = f\"\"\"\n",
    "\n",
    "    WITH weather_type_ride AS (\n",
    "        SELECT \n",
    "            weather.weather_main,\n",
    "            trips.ride_time\n",
    "        FROM {cleaned_table_ref} AS trips\n",
    "        LEFT JOIN {cleaned_weather_table_ref} AS weather\n",
    "        ON CAST(DATETIME_TRUNC(DATETIME(trips.started_at), HOUR) AS STRING) =\n",
    "            CAST(DATETIME_TRUNC(DATETIME(TIMESTAMP(weather.dt_iso_ts), 'America/New_York'), HOUR) AS STRING)\n",
    "    ),\n",
    "\n",
    "    ranked AS (\n",
    "        SELECT *,\n",
    "            ROW_NUMBER() OVER (PARTITION BY weather_main ORDER BY RAND()) as rn,\n",
    "        FROM weather_type_ride\n",
    "    )\n",
    "\n",
    "    SELECT * \n",
    "    FROM ranked\n",
    "    WHERE rn <= 500\n",
    "\"\"\"\n",
    "\n",
    "df = client.query(query).to_dataframe()"
   ]
  },
  {
   "cell_type": "code",
   "execution_count": 64,
   "id": "083774e6",
   "metadata": {},
   "outputs": [
    {
     "name": "stdout",
     "output_type": "stream",
     "text": [
      "F = 5.697855929708082 , p = 3.1127861759242917e-07\n"
     ]
    }
   ],
   "source": [
    "weather_groups = [group['ride_time'].values for _, group in df.groupby('weather_main')]\n",
    "\n",
    "f_stat, p_val = f_oneway(*weather_groups)\n",
    "\n",
    "print(\"F =\", f_stat, \", p =\", p_val)"
   ]
  },
  {
   "cell_type": "code",
   "execution_count": null,
   "id": "26c4883d",
   "metadata": {},
   "outputs": [
    {
     "name": "stderr",
     "output_type": "stream",
     "text": [
      "/home/olshe/pers/eu-climate-economic-resilience/.venv/lib/python3.12/site-packages/google/cloud/bigquery/table.py:1957: UserWarning: BigQuery Storage module not found, fetch data with the REST endpoint instead.\n",
      "  warnings.warn(\n"
     ]
    }
   ],
   "source": [
    "query = f\"\"\"\n",
    "    SELECT\n",
    "        trips.ride_time,\n",
    "        weather.wind_speed,\n",
    "        weather.temp,\n",
    "        weather.humidity,\n",
    "    FROM\n",
    "        {cleaned_table_ref} AS trips\n",
    "    LEFT JOIN\n",
    "        {cleaned_weather_table_ref} AS weather\n",
    "    ON DATETIME_TRUNC(DATETIME(trips.started_at), HOUR) =\n",
    "        DATETIME_TRUNC(DATETIME(weather.dt_iso_ts, 'America/New_York'), HOUR)\n",
    "    WHERE \n",
    "        trips.ride_time IS NOT NULL\n",
    "        AND weather.wind_speed IS NOT NULL\n",
    "    LIMIT 1000000\n",
    "\"\"\"\n",
    "\n",
    "df = client.query(query).to_dataframe()\n",
    "df.corr()"
   ]
  },
  {
   "cell_type": "code",
   "execution_count": 58,
   "id": "dc37bfc4",
   "metadata": {},
   "outputs": [
    {
     "name": "stderr",
     "output_type": "stream",
     "text": [
      "/home/olshe/pers/eu-climate-economic-resilience/.venv/lib/python3.12/site-packages/google/cloud/bigquery/table.py:1957: UserWarning: BigQuery Storage module not found, fetch data with the REST endpoint instead.\n",
      "  warnings.warn(\n"
     ]
    },
    {
     "data": {
      "text/html": [
       "<div>\n",
       "<style scoped>\n",
       "    .dataframe tbody tr th:only-of-type {\n",
       "        vertical-align: middle;\n",
       "    }\n",
       "\n",
       "    .dataframe tbody tr th {\n",
       "        vertical-align: top;\n",
       "    }\n",
       "\n",
       "    .dataframe thead th {\n",
       "        text-align: right;\n",
       "    }\n",
       "</style>\n",
       "<table border=\"1\" class=\"dataframe\">\n",
       "  <thead>\n",
       "    <tr style=\"text-align: right;\">\n",
       "      <th></th>\n",
       "      <th>ride_time</th>\n",
       "      <th>rain_1h</th>\n",
       "    </tr>\n",
       "  </thead>\n",
       "  <tbody>\n",
       "    <tr>\n",
       "      <th>ride_time</th>\n",
       "      <td>1.000000</td>\n",
       "      <td>-0.016836</td>\n",
       "    </tr>\n",
       "    <tr>\n",
       "      <th>rain_1h</th>\n",
       "      <td>-0.016836</td>\n",
       "      <td>1.000000</td>\n",
       "    </tr>\n",
       "  </tbody>\n",
       "</table>\n",
       "</div>"
      ],
      "text/plain": [
       "           ride_time   rain_1h\n",
       "ride_time   1.000000 -0.016836\n",
       "rain_1h    -0.016836  1.000000"
      ]
     },
     "execution_count": 58,
     "metadata": {},
     "output_type": "execute_result"
    }
   ],
   "source": [
    "query = f\"\"\"\n",
    "    SELECT\n",
    "        trips.ride_time,\n",
    "        weather.rain_1h\n",
    "    FROM\n",
    "        {cleaned_table_ref} AS trips\n",
    "    LEFT JOIN\n",
    "        {cleaned_weather_table_ref} AS weather\n",
    "    ON DATETIME_TRUNC(DATETIME(trips.started_at), HOUR) =\n",
    "        DATETIME_TRUNC(DATETIME(weather.dt_iso_ts, 'America/New_York'), HOUR)\n",
    "    WHERE \n",
    "        trips.ride_time IS NOT NULL\n",
    "        AND weather.rain_1h IS NOT NULL\n",
    "    LIMIT 500000\n",
    "\"\"\"\n",
    "\n",
    "df = client.query(query).to_dataframe()\n",
    "df.corr()"
   ]
  },
  {
   "cell_type": "code",
   "execution_count": 59,
   "id": "31ecfd37",
   "metadata": {},
   "outputs": [
    {
     "name": "stderr",
     "output_type": "stream",
     "text": [
      "/home/olshe/pers/eu-climate-economic-resilience/.venv/lib/python3.12/site-packages/google/cloud/bigquery/table.py:1957: UserWarning: BigQuery Storage module not found, fetch data with the REST endpoint instead.\n",
      "  warnings.warn(\n"
     ]
    },
    {
     "data": {
      "text/html": [
       "<div>\n",
       "<style scoped>\n",
       "    .dataframe tbody tr th:only-of-type {\n",
       "        vertical-align: middle;\n",
       "    }\n",
       "\n",
       "    .dataframe tbody tr th {\n",
       "        vertical-align: top;\n",
       "    }\n",
       "\n",
       "    .dataframe thead th {\n",
       "        text-align: right;\n",
       "    }\n",
       "</style>\n",
       "<table border=\"1\" class=\"dataframe\">\n",
       "  <thead>\n",
       "    <tr style=\"text-align: right;\">\n",
       "      <th></th>\n",
       "      <th>ride_time</th>\n",
       "      <th>snow_1h</th>\n",
       "    </tr>\n",
       "  </thead>\n",
       "  <tbody>\n",
       "    <tr>\n",
       "      <th>ride_time</th>\n",
       "      <td>1.000000</td>\n",
       "      <td>-0.017444</td>\n",
       "    </tr>\n",
       "    <tr>\n",
       "      <th>snow_1h</th>\n",
       "      <td>-0.017444</td>\n",
       "      <td>1.000000</td>\n",
       "    </tr>\n",
       "  </tbody>\n",
       "</table>\n",
       "</div>"
      ],
      "text/plain": [
       "           ride_time   snow_1h\n",
       "ride_time   1.000000 -0.017444\n",
       "snow_1h    -0.017444  1.000000"
      ]
     },
     "execution_count": 59,
     "metadata": {},
     "output_type": "execute_result"
    }
   ],
   "source": [
    "query = f\"\"\"\n",
    "    SELECT\n",
    "        trips.ride_time,\n",
    "        weather.snow_1h,\n",
    "    FROM\n",
    "        {cleaned_table_ref} AS trips\n",
    "    LEFT JOIN\n",
    "        {cleaned_weather_table_ref} AS weather\n",
    "    ON DATETIME_TRUNC(DATETIME(trips.started_at), HOUR) =\n",
    "        DATETIME_TRUNC(DATETIME(weather.dt_iso_ts, 'America/New_York'), HOUR)\n",
    "    WHERE \n",
    "        trips.ride_time IS NOT NULL\n",
    "        AND weather.snow_1h IS NOT NULL\n",
    "    LIMIT 5000\n",
    "\"\"\"\n",
    "\n",
    "df = client.query(query).to_dataframe()\n",
    "df.corr()"
   ]
  },
  {
   "cell_type": "code",
   "execution_count": 70,
   "id": "d3f03869",
   "metadata": {},
   "outputs": [
    {
     "name": "stderr",
     "output_type": "stream",
     "text": [
      "/home/olshe/pers/eu-climate-economic-resilience/.venv/lib/python3.12/site-packages/google/cloud/bigquery/table.py:1957: UserWarning: BigQuery Storage module not found, fetch data with the REST endpoint instead.\n",
      "  warnings.warn(\n"
     ]
    }
   ],
   "source": [
    "query = f\"\"\"\n",
    "    SELECT\n",
    "        trips.ride_time,\n",
    "        weather.temp,\n",
    "        weather.weather_main,\n",
    "        trips.start_station_name,\n",
    "        EXTRACT(HOUR FROM trips.started_at) as start_hour,\n",
    "        trips.day_of_week,\n",
    "        trips.member_casual,\n",
    "        trips.rideable_type\n",
    "    FROM\n",
    "        {cleaned_table_ref} AS trips\n",
    "    LEFT JOIN\n",
    "        {cleaned_weather_table_ref} AS weather\n",
    "    ON DATETIME_TRUNC(DATETIME(trips.started_at), HOUR) =\n",
    "        DATETIME_TRUNC(DATETIME(weather.dt_iso_ts, 'America/New_York'), HOUR)\n",
    "    WHERE \n",
    "        trips.ride_time IS NOT NULL\n",
    "        AND weather.temp IS NOT NULL\n",
    "        AND weather.weather_main IS NOT NULL\n",
    "    LIMIT 1000000\n",
    "\"\"\"\n",
    "\n",
    "df = client.query(query).to_dataframe()"
   ]
  },
  {
   "cell_type": "code",
   "execution_count": 71,
   "id": "9679bd28",
   "metadata": {},
   "outputs": [
    {
     "name": "stdout",
     "output_type": "stream",
     "text": [
      "<class 'pandas.core.frame.DataFrame'>\n",
      "RangeIndex: 1000000 entries, 0 to 999999\n",
      "Data columns (total 8 columns):\n",
      " #   Column              Non-Null Count    Dtype  \n",
      "---  ------              --------------    -----  \n",
      " 0   ride_time           1000000 non-null  float64\n",
      " 1   temp                1000000 non-null  float64\n",
      " 2   weather_main        1000000 non-null  object \n",
      " 3   start_station_name  1000000 non-null  object \n",
      " 4   start_hour          1000000 non-null  Int64  \n",
      " 5   day_of_week         1000000 non-null  object \n",
      " 6   member_casual       1000000 non-null  object \n",
      " 7   rideable_type       1000000 non-null  object \n",
      "dtypes: Int64(1), float64(2), object(5)\n",
      "memory usage: 62.0+ MB\n"
     ]
    }
   ],
   "source": [
    "df.info()"
   ]
  },
  {
   "cell_type": "code",
   "execution_count": 72,
   "id": "0a4dee65",
   "metadata": {},
   "outputs": [
    {
     "name": "stdout",
     "output_type": "stream",
     "text": [
      "MSE: 200.13\n",
      "R² Score: 0.14\n"
     ]
    }
   ],
   "source": [
    "x = df.drop(columns=['ride_time'])\n",
    "y = df['ride_time']\n",
    "\n",
    "label_encoder = LabelEncoder()\n",
    "X_categorical = x.select_dtypes(include=['object']).apply(label_encoder.fit_transform)\n",
    "X_numerical = x.select_dtypes(exclude=['object'])\n",
    "\n",
    "X = pd.concat([pd.DataFrame(X_numerical), X_categorical], axis=1)\n",
    "\n",
    "X_train, X_test, y_train, y_test = train_test_split(X, y, test_size=0.2, random_state=42)\n",
    "\n",
    "rf = RandomForestRegressor(n_estimators=100, n_jobs=-1, random_state=42)\n",
    "rf.fit(X_train, y_train)\n",
    "\n",
    "y_pred = rf.predict(X_test)\n",
    "\n",
    "print(f\"MSE: {mean_squared_error(y_test, y_pred):.2f}\")\n",
    "print(f\"R² Score: {r2_score(y_test, y_pred):.2f}\")"
   ]
  },
  {
   "cell_type": "code",
   "execution_count": null,
   "id": "86003b68",
   "metadata": {},
   "outputs": [],
   "source": []
  }
 ],
 "metadata": {
  "kernelspec": {
   "display_name": ".venv",
   "language": "python",
   "name": "python3"
  },
  "language_info": {
   "codemirror_mode": {
    "name": "ipython",
    "version": 3
   },
   "file_extension": ".py",
   "mimetype": "text/x-python",
   "name": "python",
   "nbconvert_exporter": "python",
   "pygments_lexer": "ipython3",
   "version": "3.12.3"
  }
 },
 "nbformat": 4,
 "nbformat_minor": 5
}
