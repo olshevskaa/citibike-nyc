{
 "cells": [
  {
   "cell_type": "markdown",
   "id": "aaeb9e3c",
   "metadata": {},
   "source": [
    "### Citibike Analysis"
   ]
  },
  {
   "cell_type": "code",
   "execution_count": 85,
   "id": "07da2132",
   "metadata": {},
   "outputs": [],
   "source": [
    "import os\n",
    "from dotenv import load_dotenv\n",
    "\n",
    "from google.cloud import bigquery\n",
    "from google.api_core.exceptions import NotFound, BadRequest\n",
    "\n",
    "\n",
    "import pandas as pd\n",
    "import numpy as np\n",
    "\n",
    "import matplotlib.pyplot as plt\n",
    "import seaborn as sns\n"
   ]
  },
  {
   "cell_type": "code",
   "execution_count": 2,
   "id": "67dccb9f",
   "metadata": {},
   "outputs": [
    {
     "data": {
      "text/plain": [
       "True"
      ]
     },
     "execution_count": 2,
     "metadata": {},
     "output_type": "execute_result"
    }
   ],
   "source": [
    "load_dotenv()"
   ]
  },
  {
   "cell_type": "code",
   "execution_count": 3,
   "id": "85b375d4",
   "metadata": {},
   "outputs": [],
   "source": [
    "client = bigquery.Client()\n",
    "\n",
    "bq_project_id = os.getenv('GCP_PROJECT_ID')\n",
    "bq_dataset_name = os.getenv('BQ_DATASET')\n",
    "bq_table_name = os.getenv('BQ_TABLE')\n",
    "\n",
    "table_red = f'{bq_project_id}.{bq_dataset_name}.{bq_table_name}'\n",
    "cleaned_table_ref = f'{bq_project_id}.{bq_dataset_name}.{bq_table_name}_cleaned'"
   ]
  },
  {
   "cell_type": "code",
   "execution_count": 4,
   "id": "e3d53ec0",
   "metadata": {},
   "outputs": [
    {
     "name": "stderr",
     "output_type": "stream",
     "text": [
      "/home/olshe/pers/eu-climate-economic-resilience/.venv/lib/python3.12/site-packages/google/cloud/bigquery/table.py:1957: UserWarning: BigQuery Storage module not found, fetch data with the REST endpoint instead.\n",
      "  warnings.warn(\n"
     ]
    },
    {
     "data": {
      "text/html": [
       "<div>\n",
       "<style scoped>\n",
       "    .dataframe tbody tr th:only-of-type {\n",
       "        vertical-align: middle;\n",
       "    }\n",
       "\n",
       "    .dataframe tbody tr th {\n",
       "        vertical-align: top;\n",
       "    }\n",
       "\n",
       "    .dataframe thead th {\n",
       "        text-align: right;\n",
       "    }\n",
       "</style>\n",
       "<table border=\"1\" class=\"dataframe\">\n",
       "  <thead>\n",
       "    <tr style=\"text-align: right;\">\n",
       "      <th></th>\n",
       "      <th>ride_id</th>\n",
       "      <th>rideable_type</th>\n",
       "      <th>started_at</th>\n",
       "      <th>ended_at</th>\n",
       "      <th>start_station_name</th>\n",
       "      <th>start_station_id</th>\n",
       "      <th>end_station_name</th>\n",
       "      <th>end_station_id</th>\n",
       "      <th>start_lat</th>\n",
       "      <th>start_lng</th>\n",
       "      <th>end_lat</th>\n",
       "      <th>end_lng</th>\n",
       "      <th>member_casual</th>\n",
       "      <th>cleaned_start_station_id</th>\n",
       "      <th>cleaned_start_station_name</th>\n",
       "    </tr>\n",
       "  </thead>\n",
       "  <tbody>\n",
       "    <tr>\n",
       "      <th>0</th>\n",
       "      <td>5A710F57753EB7C0</td>\n",
       "      <td>classic_bike</td>\n",
       "      <td>2024-11-14 08:54:24.894000+00:00</td>\n",
       "      <td>2024-11-14 09:00:00.371000+00:00</td>\n",
       "      <td>67 St &amp; Erik Pl</td>\n",
       "      <td>2733.03</td>\n",
       "      <td>Keegan Rd &amp; 2 Ave</td>\n",
       "      <td>3019.03</td>\n",
       "      <td>40.633385</td>\n",
       "      <td>-74.016562</td>\n",
       "      <td>40.642431</td>\n",
       "      <td>-74.025536</td>\n",
       "      <td>casual</td>\n",
       "      <td>None</td>\n",
       "      <td>None</td>\n",
       "    </tr>\n",
       "    <tr>\n",
       "      <th>1</th>\n",
       "      <td>BF5C213FF0ECD6A3</td>\n",
       "      <td>classic_bike</td>\n",
       "      <td>2024-11-20 20:46:49.666000+00:00</td>\n",
       "      <td>2024-11-20 21:11:42.819000+00:00</td>\n",
       "      <td>5 Ave &amp; 67 St</td>\n",
       "      <td>2782.02</td>\n",
       "      <td>5 Ave &amp; 67 St</td>\n",
       "      <td>2782.02</td>\n",
       "      <td>40.635679</td>\n",
       "      <td>-74.020005</td>\n",
       "      <td>40.635679</td>\n",
       "      <td>-74.020005</td>\n",
       "      <td>casual</td>\n",
       "      <td>None</td>\n",
       "      <td>None</td>\n",
       "    </tr>\n",
       "    <tr>\n",
       "      <th>2</th>\n",
       "      <td>EACC137C29ECCB4A</td>\n",
       "      <td>classic_bike</td>\n",
       "      <td>2024-11-16 14:33:46.382000+00:00</td>\n",
       "      <td>2024-11-16 15:03:58.277000+00:00</td>\n",
       "      <td>5 Ave &amp; 67 St</td>\n",
       "      <td>2782.02</td>\n",
       "      <td>5 Ave &amp; 67 St</td>\n",
       "      <td>2782.02</td>\n",
       "      <td>40.635679</td>\n",
       "      <td>-74.020005</td>\n",
       "      <td>40.635679</td>\n",
       "      <td>-74.020005</td>\n",
       "      <td>casual</td>\n",
       "      <td>None</td>\n",
       "      <td>None</td>\n",
       "    </tr>\n",
       "    <tr>\n",
       "      <th>3</th>\n",
       "      <td>81F9FAF7C2D2A5A2</td>\n",
       "      <td>classic_bike</td>\n",
       "      <td>2024-11-09 20:29:58.516000+00:00</td>\n",
       "      <td>2024-11-09 20:58:51.828000+00:00</td>\n",
       "      <td>5 Ave &amp; 67 St</td>\n",
       "      <td>2782.02</td>\n",
       "      <td>Church Ave &amp; Story St</td>\n",
       "      <td>3007.05</td>\n",
       "      <td>40.635679</td>\n",
       "      <td>-74.020005</td>\n",
       "      <td>40.642031</td>\n",
       "      <td>-73.981073</td>\n",
       "      <td>casual</td>\n",
       "      <td>None</td>\n",
       "      <td>None</td>\n",
       "    </tr>\n",
       "    <tr>\n",
       "      <th>4</th>\n",
       "      <td>0F1463375973043E</td>\n",
       "      <td>classic_bike</td>\n",
       "      <td>2024-11-09 20:30:05.638000+00:00</td>\n",
       "      <td>2024-11-09 20:58:49.986000+00:00</td>\n",
       "      <td>5 Ave &amp; 67 St</td>\n",
       "      <td>2782.02</td>\n",
       "      <td>Church Ave &amp; Story St</td>\n",
       "      <td>3007.05</td>\n",
       "      <td>40.635679</td>\n",
       "      <td>-74.020005</td>\n",
       "      <td>40.642031</td>\n",
       "      <td>-73.981073</td>\n",
       "      <td>casual</td>\n",
       "      <td>None</td>\n",
       "      <td>None</td>\n",
       "    </tr>\n",
       "  </tbody>\n",
       "</table>\n",
       "</div>"
      ],
      "text/plain": [
       "            ride_id rideable_type                       started_at  \\\n",
       "0  5A710F57753EB7C0  classic_bike 2024-11-14 08:54:24.894000+00:00   \n",
       "1  BF5C213FF0ECD6A3  classic_bike 2024-11-20 20:46:49.666000+00:00   \n",
       "2  EACC137C29ECCB4A  classic_bike 2024-11-16 14:33:46.382000+00:00   \n",
       "3  81F9FAF7C2D2A5A2  classic_bike 2024-11-09 20:29:58.516000+00:00   \n",
       "4  0F1463375973043E  classic_bike 2024-11-09 20:30:05.638000+00:00   \n",
       "\n",
       "                          ended_at start_station_name start_station_id  \\\n",
       "0 2024-11-14 09:00:00.371000+00:00    67 St & Erik Pl          2733.03   \n",
       "1 2024-11-20 21:11:42.819000+00:00      5 Ave & 67 St          2782.02   \n",
       "2 2024-11-16 15:03:58.277000+00:00      5 Ave & 67 St          2782.02   \n",
       "3 2024-11-09 20:58:51.828000+00:00      5 Ave & 67 St          2782.02   \n",
       "4 2024-11-09 20:58:49.986000+00:00      5 Ave & 67 St          2782.02   \n",
       "\n",
       "        end_station_name end_station_id  start_lat  start_lng    end_lat  \\\n",
       "0      Keegan Rd & 2 Ave        3019.03  40.633385 -74.016562  40.642431   \n",
       "1          5 Ave & 67 St        2782.02  40.635679 -74.020005  40.635679   \n",
       "2          5 Ave & 67 St        2782.02  40.635679 -74.020005  40.635679   \n",
       "3  Church Ave & Story St        3007.05  40.635679 -74.020005  40.642031   \n",
       "4  Church Ave & Story St        3007.05  40.635679 -74.020005  40.642031   \n",
       "\n",
       "     end_lng member_casual cleaned_start_station_id cleaned_start_station_name  \n",
       "0 -74.025536        casual                     None                       None  \n",
       "1 -74.020005        casual                     None                       None  \n",
       "2 -74.020005        casual                     None                       None  \n",
       "3 -73.981073        casual                     None                       None  \n",
       "4 -73.981073        casual                     None                       None  "
      ]
     },
     "execution_count": 4,
     "metadata": {},
     "output_type": "execute_result"
    }
   ],
   "source": [
    "query = f\"\"\"\n",
    "    SELECT *\n",
    "    FROM `{bq_dataset_name}.{bq_table_name}`\n",
    "    LIMIT 5\n",
    "\"\"\"\n",
    "\n",
    "df = client.query(query).to_dataframe()\n",
    "df"
   ]
  },
  {
   "cell_type": "code",
   "execution_count": 7,
   "id": "e98fa03b",
   "metadata": {},
   "outputs": [
    {
     "data": {
      "text/plain": [
       "Index(['ride_id', 'rideable_type', 'started_at', 'ended_at',\n",
       "       'start_station_name', 'start_station_id', 'end_station_name',\n",
       "       'end_station_id', 'start_lat', 'start_lng', 'end_lat', 'end_lng',\n",
       "       'member_casual', 'cleaned_start_station_id',\n",
       "       'cleaned_start_station_name'],\n",
       "      dtype='object')"
      ]
     },
     "execution_count": 7,
     "metadata": {},
     "output_type": "execute_result"
    }
   ],
   "source": [
    "df.columns"
   ]
  },
  {
   "cell_type": "code",
   "execution_count": 8,
   "id": "1ae1655d",
   "metadata": {},
   "outputs": [
    {
     "data": {
      "text/plain": [
       "ride_id                                    object\n",
       "rideable_type                              object\n",
       "started_at                    datetime64[us, UTC]\n",
       "ended_at                      datetime64[us, UTC]\n",
       "start_station_name                         object\n",
       "start_station_id                           object\n",
       "end_station_name                           object\n",
       "end_station_id                             object\n",
       "start_lat                                 float64\n",
       "start_lng                                 float64\n",
       "end_lat                                   float64\n",
       "end_lng                                   float64\n",
       "member_casual                              object\n",
       "cleaned_start_station_id                   object\n",
       "cleaned_start_station_name                 object\n",
       "dtype: object"
      ]
     },
     "execution_count": 8,
     "metadata": {},
     "output_type": "execute_result"
    }
   ],
   "source": [
    "df.dtypes"
   ]
  },
  {
   "cell_type": "code",
   "execution_count": 63,
   "id": "95a0292a",
   "metadata": {},
   "outputs": [
    {
     "name": "stderr",
     "output_type": "stream",
     "text": [
      "/home/olshe/pers/eu-climate-economic-resilience/.venv/lib/python3.12/site-packages/google/cloud/bigquery/table.py:1957: UserWarning: BigQuery Storage module not found, fetch data with the REST endpoint instead.\n",
      "  warnings.warn(\n"
     ]
    },
    {
     "data": {
      "text/html": [
       "<div>\n",
       "<style scoped>\n",
       "    .dataframe tbody tr th:only-of-type {\n",
       "        vertical-align: middle;\n",
       "    }\n",
       "\n",
       "    .dataframe tbody tr th {\n",
       "        vertical-align: top;\n",
       "    }\n",
       "\n",
       "    .dataframe thead th {\n",
       "        text-align: right;\n",
       "    }\n",
       "</style>\n",
       "<table border=\"1\" class=\"dataframe\">\n",
       "  <thead>\n",
       "    <tr style=\"text-align: right;\">\n",
       "      <th></th>\n",
       "      <th>ride_id_null</th>\n",
       "      <th>rideable_type_null</th>\n",
       "      <th>started_at_null</th>\n",
       "      <th>ended_at_null</th>\n",
       "      <th>start_station_name_null</th>\n",
       "      <th>start_station_idnull</th>\n",
       "      <th>end_station_name_null</th>\n",
       "      <th>end_station_id_null</th>\n",
       "      <th>start_lat_null</th>\n",
       "      <th>start_lng_null</th>\n",
       "      <th>end_lat_null</th>\n",
       "      <th>end_lng_null</th>\n",
       "      <th>member_casual_null</th>\n",
       "    </tr>\n",
       "  </thead>\n",
       "  <tbody>\n",
       "    <tr>\n",
       "      <th>0</th>\n",
       "      <td>0</td>\n",
       "      <td>0</td>\n",
       "      <td>0</td>\n",
       "      <td>0</td>\n",
       "      <td>35253</td>\n",
       "      <td>0</td>\n",
       "      <td>152745</td>\n",
       "      <td>0</td>\n",
       "      <td>0</td>\n",
       "      <td>0</td>\n",
       "      <td>12784</td>\n",
       "      <td>12784</td>\n",
       "      <td>0</td>\n",
       "    </tr>\n",
       "  </tbody>\n",
       "</table>\n",
       "</div>"
      ],
      "text/plain": [
       "   ride_id_null  rideable_type_null  started_at_null  ended_at_null  \\\n",
       "0             0                   0                0              0   \n",
       "\n",
       "   start_station_name_null  start_station_idnull  end_station_name_null  \\\n",
       "0                    35253                     0                 152745   \n",
       "\n",
       "   end_station_id_null  start_lat_null  start_lng_null  end_lat_null  \\\n",
       "0                    0               0               0         12784   \n",
       "\n",
       "   end_lng_null  member_casual_null  \n",
       "0         12784                   0  "
      ]
     },
     "execution_count": 63,
     "metadata": {},
     "output_type": "execute_result"
    }
   ],
   "source": [
    "query = f\"\"\"\n",
    "    SELECT \n",
    "        COUNT(*) - COUNT(ride_id) as ride_id_null,\n",
    "        COUNT(*) - COUNT(rideable_type) as rideable_type_null,\n",
    "        COUNT(*) - COUNT(started_at) as started_at_null,\n",
    "        COUNT(*) - COUNT(ended_at) as ended_at_null,\n",
    "        COUNT(*) - COUNT(start_station_name) as start_station_name_null,\n",
    "        COUNT(*) - COUNT(start_station_id) as start_station_idnull,\n",
    "        COUNT(*) - COUNT(end_station_name) as end_station_name_null,\n",
    "        COUNT(*) - COUNT(end_station_id) as end_station_id_null,\n",
    "        COUNT(*) - COUNT(start_lat) as start_lat_null,\n",
    "        COUNT(*) - COUNT(start_lng) as start_lng_null,\n",
    "        COUNT(*) - COUNT(end_lat) as end_lat_null,\n",
    "        COUNT(*) - COUNT(end_lng) as end_lng_null,\n",
    "        COUNT(*) - COUNT(member_casual) as member_casual_null\n",
    "    FROM `{bq_dataset_name}.{bq_table_name}`\n",
    "\"\"\"\n",
    "\n",
    "df = client.query(query).to_dataframe()\n",
    "df"
   ]
  },
  {
   "cell_type": "code",
   "execution_count": 61,
   "id": "60ed3a01",
   "metadata": {},
   "outputs": [
    {
     "name": "stderr",
     "output_type": "stream",
     "text": [
      "/home/olshe/pers/eu-climate-economic-resilience/.venv/lib/python3.12/site-packages/google/cloud/bigquery/table.py:1957: UserWarning: BigQuery Storage module not found, fetch data with the REST endpoint instead.\n",
      "  warnings.warn(\n"
     ]
    },
    {
     "data": {
      "text/html": [
       "<div>\n",
       "<style scoped>\n",
       "    .dataframe tbody tr th:only-of-type {\n",
       "        vertical-align: middle;\n",
       "    }\n",
       "\n",
       "    .dataframe tbody tr th {\n",
       "        vertical-align: top;\n",
       "    }\n",
       "\n",
       "    .dataframe thead th {\n",
       "        text-align: right;\n",
       "    }\n",
       "</style>\n",
       "<table border=\"1\" class=\"dataframe\">\n",
       "  <thead>\n",
       "    <tr style=\"text-align: right;\">\n",
       "      <th></th>\n",
       "      <th>ride_id</th>\n",
       "      <th>rideable_type</th>\n",
       "      <th>started_at</th>\n",
       "      <th>ended_at</th>\n",
       "      <th>start_station_name</th>\n",
       "      <th>start_station_id</th>\n",
       "      <th>end_station_name</th>\n",
       "      <th>end_station_id</th>\n",
       "      <th>start_lat</th>\n",
       "      <th>start_lng</th>\n",
       "      <th>end_lat</th>\n",
       "      <th>end_lng</th>\n",
       "      <th>member_casual</th>\n",
       "      <th>cleaned_start_station_id</th>\n",
       "      <th>cleaned_start_station_name</th>\n",
       "    </tr>\n",
       "  </thead>\n",
       "  <tbody>\n",
       "    <tr>\n",
       "      <th>0</th>\n",
       "      <td>28F90869755C48C9</td>\n",
       "      <td>electric_bike</td>\n",
       "      <td>2025-02-27 14:34:16.410000+00:00</td>\n",
       "      <td>2025-02-27 14:56:52.371000+00:00</td>\n",
       "      <td>None</td>\n",
       "      <td>nan</td>\n",
       "      <td>West Drive &amp; Prospect Park West</td>\n",
       "      <td>3651.04</td>\n",
       "      <td>40.71</td>\n",
       "      <td>-73.96</td>\n",
       "      <td>40.661063</td>\n",
       "      <td>-73.979453</td>\n",
       "      <td>casual</td>\n",
       "      <td>None</td>\n",
       "      <td>None</td>\n",
       "    </tr>\n",
       "    <tr>\n",
       "      <th>1</th>\n",
       "      <td>82C96FB98A12AF94</td>\n",
       "      <td>electric_bike</td>\n",
       "      <td>2025-02-13 18:26:58.798000+00:00</td>\n",
       "      <td>2025-02-13 19:14:27.990000+00:00</td>\n",
       "      <td>None</td>\n",
       "      <td>nan</td>\n",
       "      <td>10 St &amp; 2 Ave</td>\n",
       "      <td>3922.02</td>\n",
       "      <td>40.67</td>\n",
       "      <td>-73.99</td>\n",
       "      <td>40.671907</td>\n",
       "      <td>-73.993612</td>\n",
       "      <td>casual</td>\n",
       "      <td>None</td>\n",
       "      <td>None</td>\n",
       "    </tr>\n",
       "    <tr>\n",
       "      <th>2</th>\n",
       "      <td>9D3F9FF6A1CB04FA</td>\n",
       "      <td>electric_bike</td>\n",
       "      <td>2025-02-28 13:24:11.986000+00:00</td>\n",
       "      <td>2025-02-28 13:42:06.072000+00:00</td>\n",
       "      <td>None</td>\n",
       "      <td>nan</td>\n",
       "      <td>Plaza St West &amp; Flatbush Ave</td>\n",
       "      <td>4010.13</td>\n",
       "      <td>40.69</td>\n",
       "      <td>-73.96</td>\n",
       "      <td>40.675021</td>\n",
       "      <td>-73.971115</td>\n",
       "      <td>casual</td>\n",
       "      <td>None</td>\n",
       "      <td>None</td>\n",
       "    </tr>\n",
       "    <tr>\n",
       "      <th>3</th>\n",
       "      <td>AAECB307DC987EAC</td>\n",
       "      <td>electric_bike</td>\n",
       "      <td>2025-02-18 15:21:46.179000+00:00</td>\n",
       "      <td>2025-02-18 15:31:33.579000+00:00</td>\n",
       "      <td>None</td>\n",
       "      <td>nan</td>\n",
       "      <td>Berkeley Pl &amp; 7 Ave</td>\n",
       "      <td>4051.01</td>\n",
       "      <td>40.69</td>\n",
       "      <td>-73.97</td>\n",
       "      <td>40.675147</td>\n",
       "      <td>-73.975232</td>\n",
       "      <td>casual</td>\n",
       "      <td>None</td>\n",
       "      <td>None</td>\n",
       "    </tr>\n",
       "    <tr>\n",
       "      <th>4</th>\n",
       "      <td>78FE019D3793595F</td>\n",
       "      <td>electric_bike</td>\n",
       "      <td>2025-02-06 18:11:29.620000+00:00</td>\n",
       "      <td>2025-02-06 18:27:23.690000+00:00</td>\n",
       "      <td>None</td>\n",
       "      <td>nan</td>\n",
       "      <td>President St &amp; 4 Ave</td>\n",
       "      <td>4101.17</td>\n",
       "      <td>40.69</td>\n",
       "      <td>-73.99</td>\n",
       "      <td>40.676757</td>\n",
       "      <td>-73.983262</td>\n",
       "      <td>casual</td>\n",
       "      <td>None</td>\n",
       "      <td>None</td>\n",
       "    </tr>\n",
       "  </tbody>\n",
       "</table>\n",
       "</div>"
      ],
      "text/plain": [
       "            ride_id  rideable_type                       started_at  \\\n",
       "0  28F90869755C48C9  electric_bike 2025-02-27 14:34:16.410000+00:00   \n",
       "1  82C96FB98A12AF94  electric_bike 2025-02-13 18:26:58.798000+00:00   \n",
       "2  9D3F9FF6A1CB04FA  electric_bike 2025-02-28 13:24:11.986000+00:00   \n",
       "3  AAECB307DC987EAC  electric_bike 2025-02-18 15:21:46.179000+00:00   \n",
       "4  78FE019D3793595F  electric_bike 2025-02-06 18:11:29.620000+00:00   \n",
       "\n",
       "                          ended_at start_station_name start_station_id  \\\n",
       "0 2025-02-27 14:56:52.371000+00:00               None              nan   \n",
       "1 2025-02-13 19:14:27.990000+00:00               None              nan   \n",
       "2 2025-02-28 13:42:06.072000+00:00               None              nan   \n",
       "3 2025-02-18 15:31:33.579000+00:00               None              nan   \n",
       "4 2025-02-06 18:27:23.690000+00:00               None              nan   \n",
       "\n",
       "                  end_station_name end_station_id  start_lat  start_lng  \\\n",
       "0  West Drive & Prospect Park West        3651.04      40.71     -73.96   \n",
       "1                    10 St & 2 Ave        3922.02      40.67     -73.99   \n",
       "2     Plaza St West & Flatbush Ave        4010.13      40.69     -73.96   \n",
       "3              Berkeley Pl & 7 Ave        4051.01      40.69     -73.97   \n",
       "4             President St & 4 Ave        4101.17      40.69     -73.99   \n",
       "\n",
       "     end_lat    end_lng member_casual cleaned_start_station_id  \\\n",
       "0  40.661063 -73.979453        casual                     None   \n",
       "1  40.671907 -73.993612        casual                     None   \n",
       "2  40.675021 -73.971115        casual                     None   \n",
       "3  40.675147 -73.975232        casual                     None   \n",
       "4  40.676757 -73.983262        casual                     None   \n",
       "\n",
       "  cleaned_start_station_name  \n",
       "0                       None  \n",
       "1                       None  \n",
       "2                       None  \n",
       "3                       None  \n",
       "4                       None  "
      ]
     },
     "execution_count": 61,
     "metadata": {},
     "output_type": "execute_result"
    }
   ],
   "source": [
    "query = f\"\"\"\n",
    "    SELECT *\n",
    "    FROM `{bq_dataset_name}.{bq_table_name}`\n",
    "    WHERE start_station_name IS NULL\n",
    "    LIMIT 5\n",
    "\"\"\"\n",
    "\n",
    "df = client.query(query).to_dataframe()\n",
    "df"
   ]
  },
  {
   "cell_type": "code",
   "execution_count": 62,
   "id": "779d2fbc",
   "metadata": {},
   "outputs": [
    {
     "name": "stderr",
     "output_type": "stream",
     "text": [
      "/home/olshe/pers/eu-climate-economic-resilience/.venv/lib/python3.12/site-packages/google/cloud/bigquery/table.py:1957: UserWarning: BigQuery Storage module not found, fetch data with the REST endpoint instead.\n",
      "  warnings.warn(\n"
     ]
    },
    {
     "data": {
      "text/html": [
       "<div>\n",
       "<style scoped>\n",
       "    .dataframe tbody tr th:only-of-type {\n",
       "        vertical-align: middle;\n",
       "    }\n",
       "\n",
       "    .dataframe tbody tr th {\n",
       "        vertical-align: top;\n",
       "    }\n",
       "\n",
       "    .dataframe thead th {\n",
       "        text-align: right;\n",
       "    }\n",
       "</style>\n",
       "<table border=\"1\" class=\"dataframe\">\n",
       "  <thead>\n",
       "    <tr style=\"text-align: right;\">\n",
       "      <th></th>\n",
       "      <th>ride_id</th>\n",
       "      <th>rideable_type</th>\n",
       "      <th>started_at</th>\n",
       "      <th>ended_at</th>\n",
       "      <th>start_station_name</th>\n",
       "      <th>start_station_id</th>\n",
       "      <th>end_station_name</th>\n",
       "      <th>end_station_id</th>\n",
       "      <th>start_lat</th>\n",
       "      <th>start_lng</th>\n",
       "      <th>end_lat</th>\n",
       "      <th>end_lng</th>\n",
       "      <th>member_casual</th>\n",
       "      <th>cleaned_start_station_id</th>\n",
       "      <th>cleaned_start_station_name</th>\n",
       "    </tr>\n",
       "  </thead>\n",
       "  <tbody>\n",
       "    <tr>\n",
       "      <th>0</th>\n",
       "      <td>AF649320B00E8900</td>\n",
       "      <td>classic_bike</td>\n",
       "      <td>2024-01-02 11:45:54.266000+00:00</td>\n",
       "      <td>2024-01-03 12:45:46.174000+00:00</td>\n",
       "      <td>Ocean Pkwy &amp; Church Ave</td>\n",
       "      <td>3125.09</td>\n",
       "      <td>None</td>\n",
       "      <td>nan</td>\n",
       "      <td>40.644719</td>\n",
       "      <td>-73.974515</td>\n",
       "      <td>NaN</td>\n",
       "      <td>NaN</td>\n",
       "      <td>member</td>\n",
       "      <td>None</td>\n",
       "      <td>None</td>\n",
       "    </tr>\n",
       "    <tr>\n",
       "      <th>1</th>\n",
       "      <td>4A1941D57351D2DE</td>\n",
       "      <td>classic_bike</td>\n",
       "      <td>2024-01-09 16:57:23.341000+00:00</td>\n",
       "      <td>2024-01-10 17:57:18.311000+00:00</td>\n",
       "      <td>53 St &amp; 2 Ave</td>\n",
       "      <td>3211.06</td>\n",
       "      <td>None</td>\n",
       "      <td>nan</td>\n",
       "      <td>40.647440</td>\n",
       "      <td>-74.018846</td>\n",
       "      <td>NaN</td>\n",
       "      <td>NaN</td>\n",
       "      <td>member</td>\n",
       "      <td>None</td>\n",
       "      <td>None</td>\n",
       "    </tr>\n",
       "    <tr>\n",
       "      <th>2</th>\n",
       "      <td>35D42290A540E5A1</td>\n",
       "      <td>classic_bike</td>\n",
       "      <td>2024-01-13 14:32:30.239000+00:00</td>\n",
       "      <td>2024-01-14 15:32:25.997000+00:00</td>\n",
       "      <td>Tilden Ave &amp; Lott St</td>\n",
       "      <td>3214.04</td>\n",
       "      <td>None</td>\n",
       "      <td>nan</td>\n",
       "      <td>40.646610</td>\n",
       "      <td>-73.954010</td>\n",
       "      <td>NaN</td>\n",
       "      <td>NaN</td>\n",
       "      <td>member</td>\n",
       "      <td>None</td>\n",
       "      <td>None</td>\n",
       "    </tr>\n",
       "    <tr>\n",
       "      <th>3</th>\n",
       "      <td>BD650AE985791B9E</td>\n",
       "      <td>classic_bike</td>\n",
       "      <td>2024-01-08 16:09:12.422000+00:00</td>\n",
       "      <td>2024-01-09 17:08:57.808000+00:00</td>\n",
       "      <td>Nostrand Ave &amp; Rutland Rd</td>\n",
       "      <td>3585.06</td>\n",
       "      <td>None</td>\n",
       "      <td>nan</td>\n",
       "      <td>40.659500</td>\n",
       "      <td>-73.950410</td>\n",
       "      <td>NaN</td>\n",
       "      <td>NaN</td>\n",
       "      <td>member</td>\n",
       "      <td>None</td>\n",
       "      <td>None</td>\n",
       "    </tr>\n",
       "    <tr>\n",
       "      <th>4</th>\n",
       "      <td>E0814A1F63DDF1A2</td>\n",
       "      <td>classic_bike</td>\n",
       "      <td>2024-01-04 08:01:16.027000+00:00</td>\n",
       "      <td>2024-01-05 09:01:09.430000+00:00</td>\n",
       "      <td>6 Ave &amp; 21 St</td>\n",
       "      <td>3628.11</td>\n",
       "      <td>None</td>\n",
       "      <td>nan</td>\n",
       "      <td>40.660160</td>\n",
       "      <td>-73.990974</td>\n",
       "      <td>NaN</td>\n",
       "      <td>NaN</td>\n",
       "      <td>member</td>\n",
       "      <td>None</td>\n",
       "      <td>None</td>\n",
       "    </tr>\n",
       "  </tbody>\n",
       "</table>\n",
       "</div>"
      ],
      "text/plain": [
       "            ride_id rideable_type                       started_at  \\\n",
       "0  AF649320B00E8900  classic_bike 2024-01-02 11:45:54.266000+00:00   \n",
       "1  4A1941D57351D2DE  classic_bike 2024-01-09 16:57:23.341000+00:00   \n",
       "2  35D42290A540E5A1  classic_bike 2024-01-13 14:32:30.239000+00:00   \n",
       "3  BD650AE985791B9E  classic_bike 2024-01-08 16:09:12.422000+00:00   \n",
       "4  E0814A1F63DDF1A2  classic_bike 2024-01-04 08:01:16.027000+00:00   \n",
       "\n",
       "                          ended_at         start_station_name  \\\n",
       "0 2024-01-03 12:45:46.174000+00:00    Ocean Pkwy & Church Ave   \n",
       "1 2024-01-10 17:57:18.311000+00:00              53 St & 2 Ave   \n",
       "2 2024-01-14 15:32:25.997000+00:00       Tilden Ave & Lott St   \n",
       "3 2024-01-09 17:08:57.808000+00:00  Nostrand Ave & Rutland Rd   \n",
       "4 2024-01-05 09:01:09.430000+00:00              6 Ave & 21 St   \n",
       "\n",
       "  start_station_id end_station_name end_station_id  start_lat  start_lng  \\\n",
       "0          3125.09             None            nan  40.644719 -73.974515   \n",
       "1          3211.06             None            nan  40.647440 -74.018846   \n",
       "2          3214.04             None            nan  40.646610 -73.954010   \n",
       "3          3585.06             None            nan  40.659500 -73.950410   \n",
       "4          3628.11             None            nan  40.660160 -73.990974   \n",
       "\n",
       "   end_lat  end_lng member_casual cleaned_start_station_id  \\\n",
       "0      NaN      NaN        member                     None   \n",
       "1      NaN      NaN        member                     None   \n",
       "2      NaN      NaN        member                     None   \n",
       "3      NaN      NaN        member                     None   \n",
       "4      NaN      NaN        member                     None   \n",
       "\n",
       "  cleaned_start_station_name  \n",
       "0                       None  \n",
       "1                       None  \n",
       "2                       None  \n",
       "3                       None  \n",
       "4                       None  "
      ]
     },
     "execution_count": 62,
     "metadata": {},
     "output_type": "execute_result"
    }
   ],
   "source": [
    "query = f\"\"\"\n",
    "    SELECT *\n",
    "    FROM `{bq_dataset_name}.{bq_table_name}`\n",
    "    WHERE end_station_name IS NULL\n",
    "    LIMIT 5\n",
    "\"\"\"\n",
    "\n",
    "df = client.query(query).to_dataframe()\n",
    "df"
   ]
  },
  {
   "cell_type": "code",
   "execution_count": 11,
   "id": "6715d000",
   "metadata": {},
   "outputs": [
    {
     "name": "stderr",
     "output_type": "stream",
     "text": [
      "/home/olshe/pers/eu-climate-economic-resilience/.venv/lib/python3.12/site-packages/google/cloud/bigquery/table.py:1957: UserWarning: BigQuery Storage module not found, fetch data with the REST endpoint instead.\n",
      "  warnings.warn(\n"
     ]
    },
    {
     "data": {
      "text/plain": [
       "np.int64(182206)"
      ]
     },
     "execution_count": 11,
     "metadata": {},
     "output_type": "execute_result"
    }
   ],
   "source": [
    "query = f\"\"\"\n",
    "    SELECT COUNT(*) as cnt\n",
    "    FROM `{bq_dataset_name}.{bq_table_name}`\n",
    "    WHERE start_station_id = 'nan' OR end_station_id = 'nan'\n",
    "\"\"\"\n",
    "\n",
    "nan_cnt = client.query(query).to_dataframe()['cnt'][0]\n",
    "nan_cnt"
   ]
  },
  {
   "cell_type": "code",
   "execution_count": 37,
   "id": "24ad2008",
   "metadata": {},
   "outputs": [
    {
     "data": {
      "text/plain": [
       "<google.cloud.bigquery.table._EmptyRowIterator at 0x74f5785f3710>"
      ]
     },
     "execution_count": 37,
     "metadata": {},
     "output_type": "execute_result"
    }
   ],
   "source": [
    "query = f\"\"\"\n",
    "    CREATE OR REPLACE TABLE {cleaned_table_ref}\n",
    "    PARTITION BY DATE_TRUNC(started_at, MONTH)\n",
    "    CLUSTER BY member_casual, rideable_type \n",
    "        AS\n",
    "            SELECT * FROM `{bq_dataset_name}.{bq_table_name}`\n",
    "            WHERE start_station_id != 'nan' AND end_station_id != 'nan'\n",
    "\"\"\"\n",
    "\n",
    "job = client.query(query)\n",
    "job.result()\n"
   ]
  },
  {
   "cell_type": "code",
   "execution_count": 38,
   "id": "a3c9f10d",
   "metadata": {},
   "outputs": [
    {
     "name": "stderr",
     "output_type": "stream",
     "text": [
      "/home/olshe/pers/eu-climate-economic-resilience/.venv/lib/python3.12/site-packages/google/cloud/bigquery/table.py:1957: UserWarning: BigQuery Storage module not found, fetch data with the REST endpoint instead.\n",
      "  warnings.warn(\n"
     ]
    },
    {
     "data": {
      "text/plain": [
       "np.int64(0)"
      ]
     },
     "execution_count": 38,
     "metadata": {},
     "output_type": "execute_result"
    }
   ],
   "source": [
    "query = f\"\"\"\n",
    "    SELECT COUNT(*) as cnt\n",
    "    FROM {cleaned_table_ref}\n",
    "    WHERE start_station_id = 'nan' OR end_station_id = 'nan'\n",
    "\"\"\"\n",
    "\n",
    "nan_cnt = client.query(query).to_dataframe()['cnt'][0]\n",
    "nan_cnt"
   ]
  },
  {
   "cell_type": "code",
   "execution_count": 39,
   "id": "79f0152c",
   "metadata": {},
   "outputs": [
    {
     "data": {
      "text/html": [
       "<div>\n",
       "<style scoped>\n",
       "    .dataframe tbody tr th:only-of-type {\n",
       "        vertical-align: middle;\n",
       "    }\n",
       "\n",
       "    .dataframe tbody tr th {\n",
       "        vertical-align: top;\n",
       "    }\n",
       "\n",
       "    .dataframe thead th {\n",
       "        text-align: right;\n",
       "    }\n",
       "</style>\n",
       "<table border=\"1\" class=\"dataframe\">\n",
       "  <thead>\n",
       "    <tr style=\"text-align: right;\">\n",
       "      <th></th>\n",
       "      <th>start_station_id</th>\n",
       "      <th>f0_</th>\n",
       "    </tr>\n",
       "  </thead>\n",
       "  <tbody>\n",
       "    <tr>\n",
       "      <th>0</th>\n",
       "      <td>JC066</td>\n",
       "      <td>3</td>\n",
       "    </tr>\n",
       "    <tr>\n",
       "      <th>1</th>\n",
       "      <td>Lab - NYC</td>\n",
       "      <td>6</td>\n",
       "    </tr>\n",
       "    <tr>\n",
       "      <th>2</th>\n",
       "      <td>HB305</td>\n",
       "      <td>4</td>\n",
       "    </tr>\n",
       "    <tr>\n",
       "      <th>3</th>\n",
       "      <td>JC098</td>\n",
       "      <td>1</td>\n",
       "    </tr>\n",
       "    <tr>\n",
       "      <th>4</th>\n",
       "      <td>HB202</td>\n",
       "      <td>3</td>\n",
       "    </tr>\n",
       "    <tr>\n",
       "      <th>...</th>\n",
       "      <td>...</td>\n",
       "      <td>...</td>\n",
       "    </tr>\n",
       "    <tr>\n",
       "      <th>72</th>\n",
       "      <td>HB404</td>\n",
       "      <td>2</td>\n",
       "    </tr>\n",
       "    <tr>\n",
       "      <th>73</th>\n",
       "      <td>JC024</td>\n",
       "      <td>6</td>\n",
       "    </tr>\n",
       "    <tr>\n",
       "      <th>74</th>\n",
       "      <td>HB603</td>\n",
       "      <td>5</td>\n",
       "    </tr>\n",
       "    <tr>\n",
       "      <th>75</th>\n",
       "      <td>HB303</td>\n",
       "      <td>1</td>\n",
       "    </tr>\n",
       "    <tr>\n",
       "      <th>76</th>\n",
       "      <td>HB502</td>\n",
       "      <td>3</td>\n",
       "    </tr>\n",
       "  </tbody>\n",
       "</table>\n",
       "<p>77 rows × 2 columns</p>\n",
       "</div>"
      ],
      "text/plain": [
       "   start_station_id  f0_\n",
       "0             JC066    3\n",
       "1         Lab - NYC    6\n",
       "2             HB305    4\n",
       "3             JC098    1\n",
       "4             HB202    3\n",
       "..              ...  ...\n",
       "72            HB404    2\n",
       "73            JC024    6\n",
       "74            HB603    5\n",
       "75            HB303    1\n",
       "76            HB502    3\n",
       "\n",
       "[77 rows x 2 columns]"
      ]
     },
     "execution_count": 39,
     "metadata": {},
     "output_type": "execute_result"
    }
   ],
   "source": [
    "query = f\"\"\"\n",
    "    SELECT start_station_id, COUNT(*)\n",
    "    FROM {cleaned_table_ref}\n",
    "    WHERE start_station_id IS NULL OR SAFE_CAST(start_station_id AS FLOAT64) IS NULL\n",
    "    GROUP BY start_station_id;\n",
    "\"\"\"\n",
    "\n",
    "df = client.query(query).to_dataframe()\n",
    "df"
   ]
  },
  {
   "cell_type": "code",
   "execution_count": 48,
   "id": "36775b82",
   "metadata": {},
   "outputs": [
    {
     "data": {
      "text/plain": [
       "<google.cloud.bigquery.table._EmptyRowIterator at 0x74f57821c3b0>"
      ]
     },
     "execution_count": 48,
     "metadata": {},
     "output_type": "execute_result"
    }
   ],
   "source": [
    "regex = r'^[A-Za-z]{2}\\d{3}$'\n",
    "\n",
    "query = f\"\"\"\n",
    "    DELETE \n",
    "    FROM {cleaned_table_ref}\n",
    "    WHERE REGEXP_CONTAINS(start_station_id, r'{regex}') OR REGEXP_CONTAINS(end_station_id, r'{regex}')\n",
    "\"\"\"\n",
    "\n",
    "job = client.query(query)\n",
    "job.result()"
   ]
  },
  {
   "cell_type": "code",
   "execution_count": 46,
   "id": "eb1d89fc",
   "metadata": {},
   "outputs": [
    {
     "name": "stderr",
     "output_type": "stream",
     "text": [
      "/home/olshe/pers/eu-climate-economic-resilience/.venv/lib/python3.12/site-packages/google/cloud/bigquery/table.py:1957: UserWarning: BigQuery Storage module not found, fetch data with the REST endpoint instead.\n",
      "  warnings.warn(\n"
     ]
    },
    {
     "data": {
      "text/html": [
       "<div>\n",
       "<style scoped>\n",
       "    .dataframe tbody tr th:only-of-type {\n",
       "        vertical-align: middle;\n",
       "    }\n",
       "\n",
       "    .dataframe tbody tr th {\n",
       "        vertical-align: top;\n",
       "    }\n",
       "\n",
       "    .dataframe thead th {\n",
       "        text-align: right;\n",
       "    }\n",
       "</style>\n",
       "<table border=\"1\" class=\"dataframe\">\n",
       "  <thead>\n",
       "    <tr style=\"text-align: right;\">\n",
       "      <th></th>\n",
       "      <th>start_station_id</th>\n",
       "      <th>f0_</th>\n",
       "    </tr>\n",
       "  </thead>\n",
       "  <tbody>\n",
       "  </tbody>\n",
       "</table>\n",
       "</div>"
      ],
      "text/plain": [
       "Empty DataFrame\n",
       "Columns: [start_station_id, f0_]\n",
       "Index: []"
      ]
     },
     "execution_count": 46,
     "metadata": {},
     "output_type": "execute_result"
    }
   ],
   "source": [
    "query = f\"\"\"\n",
    "    SELECT start_station_id, COUNT(*)\n",
    "    FROM {cleaned_table_ref}\n",
    "    WHERE start_station_id IS NULL OR SAFE_CAST(start_station_id AS FLOAT64) IS NULL\n",
    "    GROUP BY start_station_id;\n",
    "\"\"\"\n",
    "\n",
    "df = client.query(query).to_dataframe()\n",
    "df"
   ]
  },
  {
   "cell_type": "code",
   "execution_count": 56,
   "id": "dc139feb",
   "metadata": {},
   "outputs": [
    {
     "data": {
      "text/plain": [
       "<google.cloud.bigquery.table._EmptyRowIterator at 0x74f57831d3a0>"
      ]
     },
     "execution_count": 56,
     "metadata": {},
     "output_type": "execute_result"
    }
   ],
   "source": [
    "regex_patterns = [\n",
    "    r'^SYS\\d{3}$',          # SYS + 3 digits\n",
    "    r'(?i)Demo',            # Contains \"Demo\"\n",
    "    r'(?i)Lab - NYC',       # Contains \"Lab - NYC\"\n",
    "    r'(?i)Morgan'           # Contains \"Morgan\"\n",
    "]\n",
    "\n",
    "combined_pattern = '|'.join(regex_patterns)\n",
    "\n",
    "query = f\"\"\"\n",
    "    DELETE FROM {cleaned_table_ref}\n",
    "    WHERE REGEXP_CONTAINS(start_station_id, r'{combined_pattern}') OR REGEXP_CONTAINS(end_station_id, r'{combined_pattern}')\n",
    "\"\"\"\n",
    "\n",
    "job = client.query(query)\n",
    "job.result()"
   ]
  },
  {
   "cell_type": "code",
   "execution_count": 52,
   "id": "2c3b4920",
   "metadata": {},
   "outputs": [
    {
     "data": {
      "text/plain": [
       "<google.cloud.bigquery.table._EmptyRowIterator at 0x74f5881b5940>"
      ]
     },
     "execution_count": 52,
     "metadata": {},
     "output_type": "execute_result"
    }
   ],
   "source": [
    "regex = r'^\\d+\\.\\d+_$'\n",
    "\n",
    "query = f\"\"\"\n",
    "    UPDATE {cleaned_table_ref}\n",
    "    SET \n",
    "        start_station_id = CASE \n",
    "            WHEN REGEXP_CONTAINS(start_station_id, r'{regex}') THEN REPLACE(start_station_id, '_', '')\n",
    "            ELSE start_station_id\n",
    "        END,\n",
    "        end_station_id = CASE \n",
    "            WHEN REGEXP_CONTAINS(end_station_id, r'{regex}') THEN REPLACE(end_station_id, '_', '')\n",
    "            ELSE end_station_id\n",
    "        END\n",
    "    WHERE \n",
    "        REGEXP_CONTAINS(start_station_id, r'{regex}') OR\n",
    "        REGEXP_CONTAINS(end_station_id, r'{regex}')\n",
    "\"\"\"\n",
    "\n",
    "job = client.query(query)\n",
    "job.result()"
   ]
  },
  {
   "cell_type": "code",
   "execution_count": 53,
   "id": "91b6861f",
   "metadata": {},
   "outputs": [
    {
     "data": {
      "text/plain": [
       "<google.cloud.bigquery.table._EmptyRowIterator at 0x74f58a37bef0>"
      ]
     },
     "execution_count": 53,
     "metadata": {},
     "output_type": "execute_result"
    }
   ],
   "source": [
    "regex_id = r'_Pillar$'\n",
    "regex_name = r'(?i)\\s*Pillar\\s*'\n",
    "\n",
    "query = f\"\"\"\n",
    "    UPDATE {cleaned_table_ref}\n",
    "    SET \n",
    "        start_station_id = CASE \n",
    "            WHEN REGEXP_CONTAINS(start_station_id, r'Pillar') THEN REGEXP_REPLACE(start_station_id, r'{regex_id}', '') \n",
    "            ELSE start_station_id END,\n",
    "        start_station_name = CASE \n",
    "            WHEN REGEXP_CONTAINS(start_station_name, r'Pillar') THEN TRIM(REGEXP_REPLACE(start_station_name, r'{regex_name}', ' ')) \n",
    "            ELSE start_station_name END,\n",
    "        end_station_id = CASE \n",
    "            WHEN REGEXP_CONTAINS(end_station_id, r'Pillar') THEN REGEXP_REPLACE(end_station_id, r'{regex_id}', '') \n",
    "            ELSE end_station_id END,\n",
    "        end_station_name = CASE \n",
    "            WHEN REGEXP_CONTAINS(end_station_name, r'Pillar') THEN TRIM(REGEXP_REPLACE(end_station_name, r'{regex_name}', ' ')) \n",
    "            ELSE end_station_name END\n",
    "        WHERE \n",
    "            REGEXP_CONTAINS(start_station_id, r'Pillar') OR\n",
    "            REGEXP_CONTAINS(start_station_name, r'Pillar') OR\n",
    "            REGEXP_CONTAINS(end_station_id, r'Pillar') OR\n",
    "            REGEXP_CONTAINS(end_station_name, r'Pillar')\n",
    "\"\"\"\n",
    "\n",
    "job = client.query(query)\n",
    "job.result()\n"
   ]
  },
  {
   "cell_type": "code",
   "execution_count": 54,
   "id": "91d22488",
   "metadata": {},
   "outputs": [
    {
     "name": "stderr",
     "output_type": "stream",
     "text": [
      "/home/olshe/pers/eu-climate-economic-resilience/.venv/lib/python3.12/site-packages/google/cloud/bigquery/table.py:1957: UserWarning: BigQuery Storage module not found, fetch data with the REST endpoint instead.\n",
      "  warnings.warn(\n"
     ]
    },
    {
     "data": {
      "text/html": [
       "<div>\n",
       "<style scoped>\n",
       "    .dataframe tbody tr th:only-of-type {\n",
       "        vertical-align: middle;\n",
       "    }\n",
       "\n",
       "    .dataframe tbody tr th {\n",
       "        vertical-align: top;\n",
       "    }\n",
       "\n",
       "    .dataframe thead th {\n",
       "        text-align: right;\n",
       "    }\n",
       "</style>\n",
       "<table border=\"1\" class=\"dataframe\">\n",
       "  <thead>\n",
       "    <tr style=\"text-align: right;\">\n",
       "      <th></th>\n",
       "      <th>start_station_name</th>\n",
       "      <th>start_station_id</th>\n",
       "      <th>f0_</th>\n",
       "    </tr>\n",
       "  </thead>\n",
       "  <tbody>\n",
       "  </tbody>\n",
       "</table>\n",
       "</div>"
      ],
      "text/plain": [
       "Empty DataFrame\n",
       "Columns: [start_station_name, start_station_id, f0_]\n",
       "Index: []"
      ]
     },
     "execution_count": 54,
     "metadata": {},
     "output_type": "execute_result"
    }
   ],
   "source": [
    "query = f\"\"\"\n",
    "    SELECT start_station_name, start_station_id, COUNT(*)\n",
    "    FROM `{cleaned_table_ref}`\n",
    "    WHERE start_station_id IS NULL OR SAFE_CAST(start_station_id AS FLOAT64) IS NULL\n",
    "    GROUP BY start_station_name, start_station_id;\n",
    "\"\"\"\n",
    "\n",
    "df = client.query(query).to_dataframe()\n",
    "df"
   ]
  },
  {
   "cell_type": "code",
   "execution_count": 57,
   "id": "55ed64b6",
   "metadata": {},
   "outputs": [
    {
     "name": "stderr",
     "output_type": "stream",
     "text": [
      "/home/olshe/pers/eu-climate-economic-resilience/.venv/lib/python3.12/site-packages/google/cloud/bigquery/table.py:1957: UserWarning: BigQuery Storage module not found, fetch data with the REST endpoint instead.\n",
      "  warnings.warn(\n"
     ]
    },
    {
     "data": {
      "text/html": [
       "<div>\n",
       "<style scoped>\n",
       "    .dataframe tbody tr th:only-of-type {\n",
       "        vertical-align: middle;\n",
       "    }\n",
       "\n",
       "    .dataframe tbody tr th {\n",
       "        vertical-align: top;\n",
       "    }\n",
       "\n",
       "    .dataframe thead th {\n",
       "        text-align: right;\n",
       "    }\n",
       "</style>\n",
       "<table border=\"1\" class=\"dataframe\">\n",
       "  <thead>\n",
       "    <tr style=\"text-align: right;\">\n",
       "      <th></th>\n",
       "      <th>end_station_name</th>\n",
       "      <th>end_station_id</th>\n",
       "      <th>f0_</th>\n",
       "    </tr>\n",
       "  </thead>\n",
       "  <tbody>\n",
       "  </tbody>\n",
       "</table>\n",
       "</div>"
      ],
      "text/plain": [
       "Empty DataFrame\n",
       "Columns: [end_station_name, end_station_id, f0_]\n",
       "Index: []"
      ]
     },
     "execution_count": 57,
     "metadata": {},
     "output_type": "execute_result"
    }
   ],
   "source": [
    "query = f\"\"\"\n",
    "    SELECT end_station_name, end_station_id, COUNT(*)\n",
    "    FROM `{cleaned_table_ref}`\n",
    "    WHERE end_station_id IS NULL OR SAFE_CAST(end_station_id AS FLOAT64) IS NULL\n",
    "    GROUP BY end_station_name, end_station_id;\n",
    "\"\"\"\n",
    "\n",
    "df = client.query(query).to_dataframe()\n",
    "df"
   ]
  },
  {
   "cell_type": "code",
   "execution_count": 75,
   "id": "f430f6a8",
   "metadata": {},
   "outputs": [
    {
     "name": "stderr",
     "output_type": "stream",
     "text": [
      "/home/olshe/pers/eu-climate-economic-resilience/.venv/lib/python3.12/site-packages/google/cloud/bigquery/table.py:1957: UserWarning: BigQuery Storage module not found, fetch data with the REST endpoint instead.\n",
      "  warnings.warn(\n"
     ]
    },
    {
     "data": {
      "text/html": [
       "<div>\n",
       "<style scoped>\n",
       "    .dataframe tbody tr th:only-of-type {\n",
       "        vertical-align: middle;\n",
       "    }\n",
       "\n",
       "    .dataframe tbody tr th {\n",
       "        vertical-align: top;\n",
       "    }\n",
       "\n",
       "    .dataframe thead th {\n",
       "        text-align: right;\n",
       "    }\n",
       "</style>\n",
       "<table border=\"1\" class=\"dataframe\">\n",
       "  <thead>\n",
       "    <tr style=\"text-align: right;\">\n",
       "      <th></th>\n",
       "      <th>start_station_name</th>\n",
       "      <th>start_station_id</th>\n",
       "    </tr>\n",
       "  </thead>\n",
       "  <tbody>\n",
       "    <tr>\n",
       "      <th>599</th>\n",
       "      <td>Eastern Pkwy\\t&amp; St Marks Ave</td>\n",
       "      <td>3982.01</td>\n",
       "    </tr>\n",
       "    <tr>\n",
       "      <th>1142</th>\n",
       "      <td>Eastern Pkwy &amp; St Marks Ave</td>\n",
       "      <td>3982.01</td>\n",
       "    </tr>\n",
       "    <tr>\n",
       "      <th>1199</th>\n",
       "      <td>Bridge St &amp; Water St</td>\n",
       "      <td>4968.03</td>\n",
       "    </tr>\n",
       "    <tr>\n",
       "      <th>1543</th>\n",
       "      <td>Bridge St &amp; Front St</td>\n",
       "      <td>4968.03</td>\n",
       "    </tr>\n",
       "    <tr>\n",
       "      <th>1410</th>\n",
       "      <td>Metropolitan Ave &amp; Bedford Ave</td>\n",
       "      <td>5308.04</td>\n",
       "    </tr>\n",
       "    <tr>\n",
       "      <th>1893</th>\n",
       "      <td>Metropolitan Ave &amp; Bedford Ave</td>\n",
       "      <td>5308.04</td>\n",
       "    </tr>\n",
       "    <tr>\n",
       "      <th>353</th>\n",
       "      <td>Morton St &amp; Washington St</td>\n",
       "      <td>5772.05</td>\n",
       "    </tr>\n",
       "    <tr>\n",
       "      <th>656</th>\n",
       "      <td>Morton St &amp; Greenwich St</td>\n",
       "      <td>5772.05</td>\n",
       "    </tr>\n",
       "    <tr>\n",
       "      <th>793</th>\n",
       "      <td>34th Ave &amp; Vernon Blvd</td>\n",
       "      <td>6873.01</td>\n",
       "    </tr>\n",
       "    <tr>\n",
       "      <th>2215</th>\n",
       "      <td>34 Ave &amp; Vernon Blvd</td>\n",
       "      <td>6873.01</td>\n",
       "    </tr>\n",
       "    <tr>\n",
       "      <th>256</th>\n",
       "      <td>3 Ave &amp; E 82 St</td>\n",
       "      <td>7154.10</td>\n",
       "    </tr>\n",
       "    <tr>\n",
       "      <th>2084</th>\n",
       "      <td>3 Ave &amp; E 81 St</td>\n",
       "      <td>7154.10</td>\n",
       "    </tr>\n",
       "  </tbody>\n",
       "</table>\n",
       "</div>"
      ],
      "text/plain": [
       "                   start_station_name start_station_id\n",
       "599      Eastern Pkwy\\t& St Marks Ave          3982.01\n",
       "1142      Eastern Pkwy & St Marks Ave          3982.01\n",
       "1199             Bridge St & Water St          4968.03\n",
       "1543             Bridge St & Front St          4968.03\n",
       "1410  Metropolitan Ave & Bedford Ave           5308.04\n",
       "1893   Metropolitan Ave & Bedford Ave          5308.04\n",
       "353         Morton St & Washington St          5772.05\n",
       "656          Morton St & Greenwich St          5772.05\n",
       "793            34th Ave & Vernon Blvd          6873.01\n",
       "2215             34 Ave & Vernon Blvd          6873.01\n",
       "256                   3 Ave & E 82 St          7154.10\n",
       "2084                  3 Ave & E 81 St          7154.10"
      ]
     },
     "execution_count": 75,
     "metadata": {},
     "output_type": "execute_result"
    }
   ],
   "source": [
    "query = f\"\"\"\n",
    "    SELECT start_station_name, start_station_id\n",
    "    FROM {cleaned_table_ref}\n",
    "    GROUP BY start_station_name, start_station_id\n",
    "\"\"\"\n",
    "\n",
    "df = client.query(query).to_dataframe()\n",
    "df[df['start_station_id'].duplicated(keep=False)].sort_values(by='start_station_id')"
   ]
  },
  {
   "cell_type": "code",
   "execution_count": 71,
   "id": "1238e98c",
   "metadata": {},
   "outputs": [
    {
     "data": {
      "text/plain": [
       "<google.cloud.bigquery.table._EmptyRowIterator at 0x74f53bee6cc0>"
      ]
     },
     "execution_count": 71,
     "metadata": {},
     "output_type": "execute_result"
    }
   ],
   "source": [
    "regex = r'^\\d+\\.\\d{2}$'\n",
    "\n",
    "query = f\"\"\"\n",
    "    UPDATE {cleaned_table_ref}\n",
    "    SET start_station_id = CAST(FORMAT('%.2f', CAST(start_station_id AS FLOAT64)) AS STRING),\n",
    "        end_station_id = CAST(FORMAT('%.2f', CAST(end_station_id AS FLOAT64)) AS STRING)\n",
    "    WHERE NOT REGEXP_CONTAINS(start_station_id, r'{regex}') OR NOT REGEXP_CONTAINS(end_station_id, r'{regex}')\n",
    "\"\"\"\n",
    "job = client.query(query)\n",
    "job.result()"
   ]
  },
  {
   "cell_type": "code",
   "execution_count": 74,
   "id": "273723ec",
   "metadata": {},
   "outputs": [
    {
     "data": {
      "text/plain": [
       "<google.cloud.bigquery.table._EmptyRowIterator at 0x74f53bfb6030>"
      ]
     },
     "execution_count": 74,
     "metadata": {},
     "output_type": "execute_result"
    }
   ],
   "source": [
    "convert_names = {\n",
    "    'West': 'W',\n",
    "    'Fort': 'Ft',\n",
    "    'Av': 'Ave',\n",
    "    'Ichan Stadium': 'Icahn Stadium'\n",
    "}\n",
    "\n",
    "sql_expr_start = \"start_station_name\"\n",
    "for old, new in convert_names.items():\n",
    "    sql_expr_start = f\"REGEXP_REPLACE({sql_expr_start}, r'\\\\b{old}\\\\b', '{new}')\"\n",
    "\n",
    "sql_expr_end = \"end_station_name\"\n",
    "for old, new in convert_names.items():\n",
    "    sql_expr_end = f\"REGEXP_REPLACE({sql_expr_end}, r'\\\\b{old}\\\\b', '{new}')\"\n",
    "\n",
    "conditions = []\n",
    "for old, new in convert_names.items():\n",
    "    conditions.append(f\"start_station_name LIKE '%{old}%' OR end_station_name LIKE '%{old}%'\")\n",
    "clause = ' OR '.join(conditions)\n",
    "\n",
    "query = f\"\"\"\n",
    "    UPDATE {cleaned_table_ref}\n",
    "    SET start_station_name = {sql_expr_start},\n",
    "        end_station_name = {sql_expr_end}\n",
    "    WHERE {clause}\n",
    "\"\"\"\n",
    "\n",
    "job = client.query(query)\n",
    "job.result()"
   ]
  },
  {
   "cell_type": "code",
   "execution_count": 78,
   "id": "ca210e4b",
   "metadata": {},
   "outputs": [
    {
     "data": {
      "text/plain": [
       "<google.cloud.bigquery.table._EmptyRowIterator at 0x74f53bb54cb0>"
      ]
     },
     "execution_count": 78,
     "metadata": {},
     "output_type": "execute_result"
    }
   ],
   "source": [
    "pattern = r'\\\\t'\n",
    "\n",
    "query = f\"\"\"\n",
    "    UPDATE {cleaned_table_ref}\n",
    "    SET start_station_name = REGEXP_REPLACE(start_station_name, r'{pattern}', ' '),\n",
    "        end_station_name = REGEXP_REPLACE(end_station_name, r'{pattern}', ' ')\n",
    "    WHERE REGEXP_CONTAINS(start_station_name, r'{pattern}') OR REGEXP_CONTAINS(end_station_name, r'{pattern}')\n",
    "\"\"\"\n",
    "\n",
    "job = client.query(query)\n",
    "job.result()"
   ]
  },
  {
   "cell_type": "code",
   "execution_count": 76,
   "id": "c941f485",
   "metadata": {},
   "outputs": [
    {
     "data": {
      "text/plain": [
       "<google.cloud.bigquery.table._EmptyRowIterator at 0x74f53beb9eb0>"
      ]
     },
     "execution_count": 76,
     "metadata": {},
     "output_type": "execute_result"
    }
   ],
   "source": [
    "pattern = r'(\\d+)(st|nd|rd|th)\\b'\n",
    "replace = r'\\1'\n",
    "\n",
    "query = f\"\"\"\n",
    "    UPDATE {cleaned_table_ref}\n",
    "    SET start_station_id = REGEXP_REPLACE(start_station_name, r'{pattern}', r'{replace}'),\n",
    "        end_station_name = REGEXP_REPLACE(end_station_name, r'{pattern}', r'{replace}')\n",
    "    WHERE REGEXP_CONTAINS(start_station_name, r'{pattern}') OR REGEXP_CONTAINS(end_station_name, r'{pattern}')\n",
    "\"\"\"\n",
    "\n",
    "job = client.query(query)\n",
    "job.result()"
   ]
  },
  {
   "cell_type": "code",
   "execution_count": 84,
   "id": "08317b12",
   "metadata": {},
   "outputs": [
    {
     "name": "stderr",
     "output_type": "stream",
     "text": [
      "/home/olshe/pers/eu-climate-economic-resilience/.venv/lib/python3.12/site-packages/google/cloud/bigquery/table.py:1957: UserWarning: BigQuery Storage module not found, fetch data with the REST endpoint instead.\n",
      "  warnings.warn(\n"
     ]
    },
    {
     "data": {
      "text/html": [
       "<div>\n",
       "<style scoped>\n",
       "    .dataframe tbody tr th:only-of-type {\n",
       "        vertical-align: middle;\n",
       "    }\n",
       "\n",
       "    .dataframe tbody tr th {\n",
       "        vertical-align: top;\n",
       "    }\n",
       "\n",
       "    .dataframe thead th {\n",
       "        text-align: right;\n",
       "    }\n",
       "</style>\n",
       "<table border=\"1\" class=\"dataframe\">\n",
       "  <thead>\n",
       "    <tr style=\"text-align: right;\">\n",
       "      <th></th>\n",
       "      <th>end_station_name</th>\n",
       "      <th>end_station_id</th>\n",
       "      <th>f0_</th>\n",
       "    </tr>\n",
       "  </thead>\n",
       "  <tbody>\n",
       "    <tr>\n",
       "      <th>861</th>\n",
       "      <td>Metropolitan Ave &amp; Bedford Ave</td>\n",
       "      <td>5308.04</td>\n",
       "      <td>135516</td>\n",
       "    </tr>\n",
       "    <tr>\n",
       "      <th>1079</th>\n",
       "      <td>Metropolitan Ave &amp; Bedford Ave</td>\n",
       "      <td>5308.04</td>\n",
       "      <td>45</td>\n",
       "    </tr>\n",
       "  </tbody>\n",
       "</table>\n",
       "</div>"
      ],
      "text/plain": [
       "                     end_station_name end_station_id     f0_\n",
       "861    Metropolitan Ave & Bedford Ave        5308.04  135516\n",
       "1079  Metropolitan Ave & Bedford Ave         5308.04      45"
      ]
     },
     "execution_count": 84,
     "metadata": {},
     "output_type": "execute_result"
    }
   ],
   "source": [
    "query = f\"\"\"\n",
    "    SELECT end_station_name, end_station_id, COUNT(*)\n",
    "    FROM {cleaned_table_ref}\n",
    "    GROUP BY end_station_name, end_station_id\n",
    "\"\"\"\n",
    "\n",
    "df = client.query(query).to_dataframe()\n",
    "df[df['end_station_id'].duplicated(keep=False)].sort_values(by='end_station_id')"
   ]
  },
  {
   "cell_type": "code",
   "execution_count": 80,
   "id": "bbd694b3",
   "metadata": {},
   "outputs": [
    {
     "data": {
      "text/plain": [
       "<google.cloud.bigquery.table._EmptyRowIterator at 0x74f53beb9cd0>"
      ]
     },
     "execution_count": 80,
     "metadata": {},
     "output_type": "execute_result"
    }
   ],
   "source": [
    "convert_names = {\n",
    "    'Bridge St & Water St': 'Bridge St & Front St',\n",
    "    'Morton St & Washington St': 'Morton St & Greenwich St',\n",
    "    '3 Ave & E 81 St': '3 Ave & E 82 St'\n",
    "}\n",
    "\n",
    "case_statements_start = []\n",
    "for old, new in convert_names.items():\n",
    "    case_statements_start.append(f\"WHEN start_station_name = '{old}' THEN '{new}'\")\n",
    "\n",
    "case_statements_end = []\n",
    "for old, new in convert_names.items():\n",
    "    case_statements_end.append(f\"WHEN end_station_name = '{old}' THEN '{new}'\")\n",
    "\n",
    "query = f\"\"\"\n",
    "    UPDATE {cleaned_table_ref}\n",
    "    SET start_station_name = CASE {' '.join(case_statements_start)} ELSE start_station_name END,\n",
    "        end_station_name = CASE {' '.join(case_statements_end)} ELSE end_station_name END\n",
    "    WHERE start_station_name IN ({', '.join(f\"'{old}'\" for old in convert_names.keys())}) OR end_station_name IN ({', '.join(f\"'{old}'\" for old in convert_names.keys())})\n",
    "\"\"\"\n",
    "\n",
    "job = client.query(query)\n",
    "job.result()"
   ]
  },
  {
   "cell_type": "code",
   "execution_count": 85,
   "id": "aaa38a2c",
   "metadata": {},
   "outputs": [
    {
     "name": "stderr",
     "output_type": "stream",
     "text": [
      "/home/olshe/pers/eu-climate-economic-resilience/.venv/lib/python3.12/site-packages/google/cloud/bigquery/table.py:1957: UserWarning: BigQuery Storage module not found, fetch data with the REST endpoint instead.\n",
      "  warnings.warn(\n"
     ]
    },
    {
     "data": {
      "text/html": [
       "<div>\n",
       "<style scoped>\n",
       "    .dataframe tbody tr th:only-of-type {\n",
       "        vertical-align: middle;\n",
       "    }\n",
       "\n",
       "    .dataframe tbody tr th {\n",
       "        vertical-align: top;\n",
       "    }\n",
       "\n",
       "    .dataframe thead th {\n",
       "        text-align: right;\n",
       "    }\n",
       "</style>\n",
       "<table border=\"1\" class=\"dataframe\">\n",
       "  <thead>\n",
       "    <tr style=\"text-align: right;\">\n",
       "      <th></th>\n",
       "      <th>start_station_name</th>\n",
       "      <th>start_station_id</th>\n",
       "      <th>f0_</th>\n",
       "    </tr>\n",
       "  </thead>\n",
       "  <tbody>\n",
       "    <tr>\n",
       "      <th>668</th>\n",
       "      <td>Metropolitan Ave &amp; Bedford Ave</td>\n",
       "      <td>5308.04</td>\n",
       "      <td>44</td>\n",
       "    </tr>\n",
       "    <tr>\n",
       "      <th>2289</th>\n",
       "      <td>Metropolitan Ave &amp; Bedford Ave</td>\n",
       "      <td>5308.04</td>\n",
       "      <td>134469</td>\n",
       "    </tr>\n",
       "  </tbody>\n",
       "</table>\n",
       "</div>"
      ],
      "text/plain": [
       "                   start_station_name start_station_id     f0_\n",
       "668   Metropolitan Ave & Bedford Ave           5308.04      44\n",
       "2289   Metropolitan Ave & Bedford Ave          5308.04  134469"
      ]
     },
     "execution_count": 85,
     "metadata": {},
     "output_type": "execute_result"
    }
   ],
   "source": [
    "query = f\"\"\"\n",
    "    SELECT start_station_name, start_station_id, COUNT(*)\n",
    "    FROM {cleaned_table_ref}\n",
    "    GROUP BY start_station_name, start_station_id\n",
    "\"\"\"\n",
    "\n",
    "df = client.query(query).to_dataframe()\n",
    "df[df['start_station_id'].duplicated(keep=False)].sort_values(by='start_station_id')"
   ]
  },
  {
   "cell_type": "code",
   "execution_count": 86,
   "id": "1b9a29b2",
   "metadata": {},
   "outputs": [
    {
     "name": "stderr",
     "output_type": "stream",
     "text": [
      "<>:8: SyntaxWarning: invalid escape sequence '\\s'\n",
      "<>:8: SyntaxWarning: invalid escape sequence '\\s'\n",
      "/tmp/ipykernel_63823/1715883286.py:8: SyntaxWarning: invalid escape sequence '\\s'\n",
      "  \"\"\"\n"
     ]
    },
    {
     "data": {
      "text/plain": [
       "<google.cloud.bigquery.table._EmptyRowIterator at 0x74f57831f710>"
      ]
     },
     "execution_count": 86,
     "metadata": {},
     "output_type": "execute_result"
    }
   ],
   "source": [
    "regex = r'^\\s+|\\s+$|\\s{2,}'\n",
    "\n",
    "query = f\"\"\"\n",
    "    UPDATE {cleaned_table_ref}\n",
    "    SET start_station_name = REGEXP_REPLACE(TRIM(start_station_name), r'\\s+', ' '),\n",
    "        end_station_name = REGEXP_REPLACE(TRIM(end_station_name), r'\\s+', ' ')\n",
    "    WHERE REGEXP_CONTAINS(start_station_name, r'{regex}') OR REGEXP_CONTAINS(end_station_name, r'{regex}')\n",
    "\"\"\"\n",
    "\n",
    "job = client.query(query)\n",
    "job.result()"
   ]
  },
  {
   "cell_type": "code",
   "execution_count": 88,
   "id": "10de6459",
   "metadata": {},
   "outputs": [
    {
     "name": "stderr",
     "output_type": "stream",
     "text": [
      "/home/olshe/pers/eu-climate-economic-resilience/.venv/lib/python3.12/site-packages/google/cloud/bigquery/table.py:1957: UserWarning: BigQuery Storage module not found, fetch data with the REST endpoint instead.\n",
      "  warnings.warn(\n"
     ]
    },
    {
     "data": {
      "text/html": [
       "<div>\n",
       "<style scoped>\n",
       "    .dataframe tbody tr th:only-of-type {\n",
       "        vertical-align: middle;\n",
       "    }\n",
       "\n",
       "    .dataframe tbody tr th {\n",
       "        vertical-align: top;\n",
       "    }\n",
       "\n",
       "    .dataframe thead th {\n",
       "        text-align: right;\n",
       "    }\n",
       "</style>\n",
       "<table border=\"1\" class=\"dataframe\">\n",
       "  <thead>\n",
       "    <tr style=\"text-align: right;\">\n",
       "      <th></th>\n",
       "      <th>end_station_name</th>\n",
       "      <th>end_station_id</th>\n",
       "      <th>f0_</th>\n",
       "    </tr>\n",
       "  </thead>\n",
       "  <tbody>\n",
       "  </tbody>\n",
       "</table>\n",
       "</div>"
      ],
      "text/plain": [
       "Empty DataFrame\n",
       "Columns: [end_station_name, end_station_id, f0_]\n",
       "Index: []"
      ]
     },
     "execution_count": 88,
     "metadata": {},
     "output_type": "execute_result"
    }
   ],
   "source": [
    "query = f\"\"\"\n",
    "    SELECT end_station_name, end_station_id, COUNT(*)\n",
    "    FROM {cleaned_table_ref}\n",
    "    GROUP BY end_station_name, end_station_id\n",
    "\"\"\"\n",
    "\n",
    "df = client.query(query).to_dataframe()\n",
    "df[df['end_station_id'].duplicated(keep=False)].sort_values(by='end_station_id')"
   ]
  },
  {
   "cell_type": "markdown",
   "id": "23aa3c54",
   "metadata": {},
   "source": [
    "# Main Part"
   ]
  },
  {
   "cell_type": "code",
   "execution_count": 21,
   "id": "31205b30",
   "metadata": {},
   "outputs": [
    {
     "name": "stderr",
     "output_type": "stream",
     "text": [
      "/home/olshe/pers/eu-climate-economic-resilience/.venv/lib/python3.12/site-packages/google/cloud/bigquery/table.py:1957: UserWarning: BigQuery Storage module not found, fetch data with the REST endpoint instead.\n",
      "  warnings.warn(\n"
     ]
    },
    {
     "data": {
      "text/html": [
       "<div>\n",
       "<style scoped>\n",
       "    .dataframe tbody tr th:only-of-type {\n",
       "        vertical-align: middle;\n",
       "    }\n",
       "\n",
       "    .dataframe tbody tr th {\n",
       "        vertical-align: top;\n",
       "    }\n",
       "\n",
       "    .dataframe thead th {\n",
       "        text-align: right;\n",
       "    }\n",
       "</style>\n",
       "<table border=\"1\" class=\"dataframe\">\n",
       "  <thead>\n",
       "    <tr style=\"text-align: right;\">\n",
       "      <th></th>\n",
       "      <th>start_station_name</th>\n",
       "      <th>cnt_start</th>\n",
       "    </tr>\n",
       "  </thead>\n",
       "  <tbody>\n",
       "    <tr>\n",
       "      <th>0</th>\n",
       "      <td>W 21 St &amp; 6 Ave</td>\n",
       "      <td>221700</td>\n",
       "    </tr>\n",
       "    <tr>\n",
       "      <th>1</th>\n",
       "      <td>University Pl &amp; E 14 St</td>\n",
       "      <td>184610</td>\n",
       "    </tr>\n",
       "    <tr>\n",
       "      <th>2</th>\n",
       "      <td>Lafayette St &amp; E 8 St</td>\n",
       "      <td>183811</td>\n",
       "    </tr>\n",
       "    <tr>\n",
       "      <th>3</th>\n",
       "      <td>W St &amp; Chambers St</td>\n",
       "      <td>180794</td>\n",
       "    </tr>\n",
       "    <tr>\n",
       "      <th>4</th>\n",
       "      <td>8 Ave &amp; W 31 St</td>\n",
       "      <td>180308</td>\n",
       "    </tr>\n",
       "    <tr>\n",
       "      <th>5</th>\n",
       "      <td>Broadway &amp; W 58 St</td>\n",
       "      <td>178598</td>\n",
       "    </tr>\n",
       "    <tr>\n",
       "      <th>6</th>\n",
       "      <td>W 31 St &amp; 7 Ave</td>\n",
       "      <td>176406</td>\n",
       "    </tr>\n",
       "    <tr>\n",
       "      <th>7</th>\n",
       "      <td>Broadway &amp; E 14 St</td>\n",
       "      <td>172633</td>\n",
       "    </tr>\n",
       "    <tr>\n",
       "      <th>8</th>\n",
       "      <td>11 Ave &amp; W 41 St</td>\n",
       "      <td>171353</td>\n",
       "    </tr>\n",
       "    <tr>\n",
       "      <th>9</th>\n",
       "      <td>Broadway &amp; W 25 St</td>\n",
       "      <td>161784</td>\n",
       "    </tr>\n",
       "  </tbody>\n",
       "</table>\n",
       "</div>"
      ],
      "text/plain": [
       "        start_station_name  cnt_start\n",
       "0          W 21 St & 6 Ave     221700\n",
       "1  University Pl & E 14 St     184610\n",
       "2    Lafayette St & E 8 St     183811\n",
       "3       W St & Chambers St     180794\n",
       "4          8 Ave & W 31 St     180308\n",
       "5       Broadway & W 58 St     178598\n",
       "6          W 31 St & 7 Ave     176406\n",
       "7       Broadway & E 14 St     172633\n",
       "8         11 Ave & W 41 St     171353\n",
       "9       Broadway & W 25 St     161784"
      ]
     },
     "execution_count": 21,
     "metadata": {},
     "output_type": "execute_result"
    }
   ],
   "source": [
    "query = f\"\"\"\n",
    "    SELECT start_station_name, COUNT(*) as cnt_start\n",
    "    FROM {cleaned_table_ref}\n",
    "    GROUP BY start_station_name\n",
    "    ORDER BY cnt_start DESC\n",
    "    LIMIT 10\n",
    "\"\"\"\n",
    "\n",
    "df_start_station = client.query(query).to_dataframe()\n",
    "df_start_station"
   ]
  },
  {
   "cell_type": "code",
   "execution_count": 22,
   "id": "5f86a4ae",
   "metadata": {},
   "outputs": [
    {
     "name": "stderr",
     "output_type": "stream",
     "text": [
      "/home/olshe/pers/eu-climate-economic-resilience/.venv/lib/python3.12/site-packages/google/cloud/bigquery/table.py:1957: UserWarning: BigQuery Storage module not found, fetch data with the REST endpoint instead.\n",
      "  warnings.warn(\n"
     ]
    },
    {
     "data": {
      "text/html": [
       "<div>\n",
       "<style scoped>\n",
       "    .dataframe tbody tr th:only-of-type {\n",
       "        vertical-align: middle;\n",
       "    }\n",
       "\n",
       "    .dataframe tbody tr th {\n",
       "        vertical-align: top;\n",
       "    }\n",
       "\n",
       "    .dataframe thead th {\n",
       "        text-align: right;\n",
       "    }\n",
       "</style>\n",
       "<table border=\"1\" class=\"dataframe\">\n",
       "  <thead>\n",
       "    <tr style=\"text-align: right;\">\n",
       "      <th></th>\n",
       "      <th>end_station_name</th>\n",
       "      <th>cnt_end</th>\n",
       "    </tr>\n",
       "  </thead>\n",
       "  <tbody>\n",
       "    <tr>\n",
       "      <th>0</th>\n",
       "      <td>W 21 St &amp; 6 Ave</td>\n",
       "      <td>222436</td>\n",
       "    </tr>\n",
       "    <tr>\n",
       "      <th>1</th>\n",
       "      <td>University Pl &amp; E 14 St</td>\n",
       "      <td>187290</td>\n",
       "    </tr>\n",
       "    <tr>\n",
       "      <th>2</th>\n",
       "      <td>Lafayette St &amp; E 8 St</td>\n",
       "      <td>184606</td>\n",
       "    </tr>\n",
       "    <tr>\n",
       "      <th>3</th>\n",
       "      <td>W St &amp; Chambers St</td>\n",
       "      <td>182143</td>\n",
       "    </tr>\n",
       "    <tr>\n",
       "      <th>4</th>\n",
       "      <td>8 Ave &amp; W 31 St</td>\n",
       "      <td>181875</td>\n",
       "    </tr>\n",
       "    <tr>\n",
       "      <th>5</th>\n",
       "      <td>W 31 St &amp; 7 Ave</td>\n",
       "      <td>176768</td>\n",
       "    </tr>\n",
       "    <tr>\n",
       "      <th>6</th>\n",
       "      <td>Broadway &amp; W 58 St</td>\n",
       "      <td>176405</td>\n",
       "    </tr>\n",
       "    <tr>\n",
       "      <th>7</th>\n",
       "      <td>Broadway &amp; E 14 St</td>\n",
       "      <td>171544</td>\n",
       "    </tr>\n",
       "    <tr>\n",
       "      <th>8</th>\n",
       "      <td>11 Ave &amp; W 41 St</td>\n",
       "      <td>171131</td>\n",
       "    </tr>\n",
       "    <tr>\n",
       "      <th>9</th>\n",
       "      <td>Broadway &amp; W 25 St</td>\n",
       "      <td>162670</td>\n",
       "    </tr>\n",
       "  </tbody>\n",
       "</table>\n",
       "</div>"
      ],
      "text/plain": [
       "          end_station_name  cnt_end\n",
       "0          W 21 St & 6 Ave   222436\n",
       "1  University Pl & E 14 St   187290\n",
       "2    Lafayette St & E 8 St   184606\n",
       "3       W St & Chambers St   182143\n",
       "4          8 Ave & W 31 St   181875\n",
       "5          W 31 St & 7 Ave   176768\n",
       "6       Broadway & W 58 St   176405\n",
       "7       Broadway & E 14 St   171544\n",
       "8         11 Ave & W 41 St   171131\n",
       "9       Broadway & W 25 St   162670"
      ]
     },
     "execution_count": 22,
     "metadata": {},
     "output_type": "execute_result"
    }
   ],
   "source": [
    "query = f\"\"\"\n",
    "    SELECT end_station_name, COUNT(*) as cnt_end\n",
    "    FROM {cleaned_table_ref}\n",
    "    GROUP BY end_station_name\n",
    "    ORDER BY cnt_end DESC\n",
    "    LIMIT 10\n",
    "\"\"\"\n",
    "\n",
    "df_end_station = client.query(query).to_dataframe()\n",
    "df_end_station"
   ]
  },
  {
   "cell_type": "code",
   "execution_count": 23,
   "id": "ed331244",
   "metadata": {},
   "outputs": [
    {
     "data": {
      "text/html": [
       "<div>\n",
       "<style scoped>\n",
       "    .dataframe tbody tr th:only-of-type {\n",
       "        vertical-align: middle;\n",
       "    }\n",
       "\n",
       "    .dataframe tbody tr th {\n",
       "        vertical-align: top;\n",
       "    }\n",
       "\n",
       "    .dataframe thead th {\n",
       "        text-align: right;\n",
       "    }\n",
       "</style>\n",
       "<table border=\"1\" class=\"dataframe\">\n",
       "  <thead>\n",
       "    <tr style=\"text-align: right;\">\n",
       "      <th></th>\n",
       "      <th>start_station_name</th>\n",
       "      <th>cnt_start</th>\n",
       "      <th>end_station_name</th>\n",
       "      <th>cnt_end</th>\n",
       "    </tr>\n",
       "  </thead>\n",
       "  <tbody>\n",
       "    <tr>\n",
       "      <th>0</th>\n",
       "      <td>11 Ave &amp; W 41 St</td>\n",
       "      <td>171353</td>\n",
       "      <td>11 Ave &amp; W 41 St</td>\n",
       "      <td>171131</td>\n",
       "    </tr>\n",
       "    <tr>\n",
       "      <th>1</th>\n",
       "      <td>8 Ave &amp; W 31 St</td>\n",
       "      <td>180308</td>\n",
       "      <td>8 Ave &amp; W 31 St</td>\n",
       "      <td>181875</td>\n",
       "    </tr>\n",
       "    <tr>\n",
       "      <th>2</th>\n",
       "      <td>Broadway &amp; E 14 St</td>\n",
       "      <td>172633</td>\n",
       "      <td>Broadway &amp; E 14 St</td>\n",
       "      <td>171544</td>\n",
       "    </tr>\n",
       "    <tr>\n",
       "      <th>3</th>\n",
       "      <td>Broadway &amp; W 25 St</td>\n",
       "      <td>161784</td>\n",
       "      <td>Broadway &amp; W 25 St</td>\n",
       "      <td>162670</td>\n",
       "    </tr>\n",
       "    <tr>\n",
       "      <th>4</th>\n",
       "      <td>Broadway &amp; W 58 St</td>\n",
       "      <td>178598</td>\n",
       "      <td>Broadway &amp; W 58 St</td>\n",
       "      <td>176405</td>\n",
       "    </tr>\n",
       "    <tr>\n",
       "      <th>5</th>\n",
       "      <td>Lafayette St &amp; E 8 St</td>\n",
       "      <td>183811</td>\n",
       "      <td>Lafayette St &amp; E 8 St</td>\n",
       "      <td>184606</td>\n",
       "    </tr>\n",
       "    <tr>\n",
       "      <th>6</th>\n",
       "      <td>University Pl &amp; E 14 St</td>\n",
       "      <td>184610</td>\n",
       "      <td>University Pl &amp; E 14 St</td>\n",
       "      <td>187290</td>\n",
       "    </tr>\n",
       "    <tr>\n",
       "      <th>7</th>\n",
       "      <td>W 21 St &amp; 6 Ave</td>\n",
       "      <td>221700</td>\n",
       "      <td>W 21 St &amp; 6 Ave</td>\n",
       "      <td>222436</td>\n",
       "    </tr>\n",
       "    <tr>\n",
       "      <th>8</th>\n",
       "      <td>W 31 St &amp; 7 Ave</td>\n",
       "      <td>176406</td>\n",
       "      <td>W 31 St &amp; 7 Ave</td>\n",
       "      <td>176768</td>\n",
       "    </tr>\n",
       "    <tr>\n",
       "      <th>9</th>\n",
       "      <td>W St &amp; Chambers St</td>\n",
       "      <td>180794</td>\n",
       "      <td>W St &amp; Chambers St</td>\n",
       "      <td>182143</td>\n",
       "    </tr>\n",
       "  </tbody>\n",
       "</table>\n",
       "</div>"
      ],
      "text/plain": [
       "        start_station_name  cnt_start         end_station_name  cnt_end\n",
       "0         11 Ave & W 41 St     171353         11 Ave & W 41 St   171131\n",
       "1          8 Ave & W 31 St     180308          8 Ave & W 31 St   181875\n",
       "2       Broadway & E 14 St     172633       Broadway & E 14 St   171544\n",
       "3       Broadway & W 25 St     161784       Broadway & W 25 St   162670\n",
       "4       Broadway & W 58 St     178598       Broadway & W 58 St   176405\n",
       "5    Lafayette St & E 8 St     183811    Lafayette St & E 8 St   184606\n",
       "6  University Pl & E 14 St     184610  University Pl & E 14 St   187290\n",
       "7          W 21 St & 6 Ave     221700          W 21 St & 6 Ave   222436\n",
       "8          W 31 St & 7 Ave     176406          W 31 St & 7 Ave   176768\n",
       "9       W St & Chambers St     180794       W St & Chambers St   182143"
      ]
     },
     "execution_count": 23,
     "metadata": {},
     "output_type": "execute_result"
    }
   ],
   "source": [
    "start_end_count = pd.merge(left=df_start_station, right=df_end_station, how='outer', left_on='start_station_name', right_on='end_station_name')\n",
    "start_end_count"
   ]
  },
  {
   "cell_type": "code",
   "execution_count": 27,
   "id": "08e9e404",
   "metadata": {},
   "outputs": [
    {
     "data": {
      "text/plain": [
       "'W 21 St & 6 Ave'"
      ]
     },
     "execution_count": 27,
     "metadata": {},
     "output_type": "execute_result"
    }
   ],
   "source": [
    "start_end_count['total'] = start_end_count['cnt_start'] + start_end_count['cnt_end']\n",
    "start_end_count.sort_values(by='total', ascending=False).iloc[0].loc['start_station_name']"
   ]
  },
  {
   "cell_type": "code",
   "execution_count": 15,
   "id": "d70e38ac",
   "metadata": {},
   "outputs": [
    {
     "name": "stderr",
     "output_type": "stream",
     "text": [
      "/home/olshe/pers/eu-climate-economic-resilience/.venv/lib/python3.12/site-packages/google/cloud/bigquery/table.py:1957: UserWarning: BigQuery Storage module not found, fetch data with the REST endpoint instead.\n",
      "  warnings.warn(\n"
     ]
    },
    {
     "data": {
      "text/html": [
       "<div>\n",
       "<style scoped>\n",
       "    .dataframe tbody tr th:only-of-type {\n",
       "        vertical-align: middle;\n",
       "    }\n",
       "\n",
       "    .dataframe tbody tr th {\n",
       "        vertical-align: top;\n",
       "    }\n",
       "\n",
       "    .dataframe thead th {\n",
       "        text-align: right;\n",
       "    }\n",
       "</style>\n",
       "<table border=\"1\" class=\"dataframe\">\n",
       "  <thead>\n",
       "    <tr style=\"text-align: right;\">\n",
       "      <th></th>\n",
       "      <th>start_station_name</th>\n",
       "      <th>end_station_name</th>\n",
       "      <th>cnt</th>\n",
       "    </tr>\n",
       "  </thead>\n",
       "  <tbody>\n",
       "    <tr>\n",
       "      <th>0</th>\n",
       "      <td>Central Park S &amp; 6 Ave</td>\n",
       "      <td>Central Park S &amp; 6 Ave</td>\n",
       "      <td>20502</td>\n",
       "    </tr>\n",
       "    <tr>\n",
       "      <th>1</th>\n",
       "      <td>7 Ave &amp; Central Park South</td>\n",
       "      <td>7 Ave &amp; Central Park South</td>\n",
       "      <td>17046</td>\n",
       "    </tr>\n",
       "    <tr>\n",
       "      <th>2</th>\n",
       "      <td>Roosevelt Island Tramway</td>\n",
       "      <td>Roosevelt Island Tramway</td>\n",
       "      <td>11419</td>\n",
       "    </tr>\n",
       "    <tr>\n",
       "      <th>3</th>\n",
       "      <td>W 21 St &amp; 6 Ave</td>\n",
       "      <td>9 Ave &amp; W 22 St</td>\n",
       "      <td>8358</td>\n",
       "    </tr>\n",
       "    <tr>\n",
       "      <th>4</th>\n",
       "      <td>River Ter &amp; Warren St</td>\n",
       "      <td>Vesey Pl &amp; River Terrace</td>\n",
       "      <td>8334</td>\n",
       "    </tr>\n",
       "    <tr>\n",
       "      <th>5</th>\n",
       "      <td>Norfolk St &amp; Broome St</td>\n",
       "      <td>Henry St &amp; Grand St</td>\n",
       "      <td>8244</td>\n",
       "    </tr>\n",
       "    <tr>\n",
       "      <th>6</th>\n",
       "      <td>Broadway &amp; W 58 St</td>\n",
       "      <td>Broadway &amp; W 58 St</td>\n",
       "      <td>8058</td>\n",
       "    </tr>\n",
       "    <tr>\n",
       "      <th>7</th>\n",
       "      <td>Henry St &amp; Grand St</td>\n",
       "      <td>Norfolk St &amp; Broome St</td>\n",
       "      <td>7848</td>\n",
       "    </tr>\n",
       "    <tr>\n",
       "      <th>8</th>\n",
       "      <td>55 Ave &amp; Center Blvd</td>\n",
       "      <td>Vernon Blvd &amp; 50 Ave</td>\n",
       "      <td>7643</td>\n",
       "    </tr>\n",
       "    <tr>\n",
       "      <th>9</th>\n",
       "      <td>Roosevelt Island Tramway</td>\n",
       "      <td>Motorgate</td>\n",
       "      <td>7434</td>\n",
       "    </tr>\n",
       "  </tbody>\n",
       "</table>\n",
       "</div>"
      ],
      "text/plain": [
       "           start_station_name            end_station_name    cnt\n",
       "0      Central Park S & 6 Ave      Central Park S & 6 Ave  20502\n",
       "1  7 Ave & Central Park South  7 Ave & Central Park South  17046\n",
       "2    Roosevelt Island Tramway    Roosevelt Island Tramway  11419\n",
       "3             W 21 St & 6 Ave             9 Ave & W 22 St   8358\n",
       "4       River Ter & Warren St    Vesey Pl & River Terrace   8334\n",
       "5      Norfolk St & Broome St         Henry St & Grand St   8244\n",
       "6          Broadway & W 58 St          Broadway & W 58 St   8058\n",
       "7         Henry St & Grand St      Norfolk St & Broome St   7848\n",
       "8        55 Ave & Center Blvd        Vernon Blvd & 50 Ave   7643\n",
       "9    Roosevelt Island Tramway                   Motorgate   7434"
      ]
     },
     "execution_count": 15,
     "metadata": {},
     "output_type": "execute_result"
    }
   ],
   "source": [
    "query = f\"\"\"\n",
    "    SELECT start_station_name, end_station_name, COUNT(*) as cnt\n",
    "    FROM {cleaned_table_ref}\n",
    "    GROUP BY start_station_name, end_station_name\n",
    "    ORDER BY cnt DESC\n",
    "    LIMIT 10\n",
    "\"\"\"\n",
    "\n",
    "df = client.query(query).to_dataframe()\n",
    "df"
   ]
  },
  {
   "cell_type": "code",
   "execution_count": 28,
   "id": "8174dab6",
   "metadata": {},
   "outputs": [
    {
     "name": "stderr",
     "output_type": "stream",
     "text": [
      "/home/olshe/pers/eu-climate-economic-resilience/.venv/lib/python3.12/site-packages/google/cloud/bigquery/table.py:1957: UserWarning: BigQuery Storage module not found, fetch data with the REST endpoint instead.\n",
      "  warnings.warn(\n"
     ]
    },
    {
     "data": {
      "text/html": [
       "<div>\n",
       "<style scoped>\n",
       "    .dataframe tbody tr th:only-of-type {\n",
       "        vertical-align: middle;\n",
       "    }\n",
       "\n",
       "    .dataframe tbody tr th {\n",
       "        vertical-align: top;\n",
       "    }\n",
       "\n",
       "    .dataframe thead th {\n",
       "        text-align: right;\n",
       "    }\n",
       "</style>\n",
       "<table border=\"1\" class=\"dataframe\">\n",
       "  <thead>\n",
       "    <tr style=\"text-align: right;\">\n",
       "      <th></th>\n",
       "      <th>start_station_name</th>\n",
       "      <th>cnt_start</th>\n",
       "    </tr>\n",
       "  </thead>\n",
       "  <tbody>\n",
       "    <tr>\n",
       "      <th>0</th>\n",
       "      <td>Creston Ave &amp; E 181 St</td>\n",
       "      <td>27</td>\n",
       "    </tr>\n",
       "    <tr>\n",
       "      <th>1</th>\n",
       "      <td>Ryer Ave &amp; E 182 St</td>\n",
       "      <td>35</td>\n",
       "    </tr>\n",
       "    <tr>\n",
       "      <th>2</th>\n",
       "      <td>Morris Ave &amp; E 184 St</td>\n",
       "      <td>42</td>\n",
       "    </tr>\n",
       "    <tr>\n",
       "      <th>3</th>\n",
       "      <td>Creston Ave &amp; E 178 St</td>\n",
       "      <td>51</td>\n",
       "    </tr>\n",
       "    <tr>\n",
       "      <th>4</th>\n",
       "      <td>2 Ave &amp; 39 St</td>\n",
       "      <td>81</td>\n",
       "    </tr>\n",
       "    <tr>\n",
       "      <th>5</th>\n",
       "      <td>E 118 St &amp; 1 Ave</td>\n",
       "      <td>160</td>\n",
       "    </tr>\n",
       "    <tr>\n",
       "      <th>6</th>\n",
       "      <td>W Burnside Ave &amp; University Ave</td>\n",
       "      <td>199</td>\n",
       "    </tr>\n",
       "    <tr>\n",
       "      <th>7</th>\n",
       "      <td>20 Ave &amp; 21 St</td>\n",
       "      <td>374</td>\n",
       "    </tr>\n",
       "    <tr>\n",
       "      <th>8</th>\n",
       "      <td>2 Ave &amp; 43 St</td>\n",
       "      <td>397</td>\n",
       "    </tr>\n",
       "    <tr>\n",
       "      <th>9</th>\n",
       "      <td>E New York Ave &amp; Utica Ave</td>\n",
       "      <td>447</td>\n",
       "    </tr>\n",
       "  </tbody>\n",
       "</table>\n",
       "</div>"
      ],
      "text/plain": [
       "                start_station_name  cnt_start\n",
       "0           Creston Ave & E 181 St         27\n",
       "1              Ryer Ave & E 182 St         35\n",
       "2            Morris Ave & E 184 St         42\n",
       "3           Creston Ave & E 178 St         51\n",
       "4                    2 Ave & 39 St         81\n",
       "5                 E 118 St & 1 Ave        160\n",
       "6  W Burnside Ave & University Ave        199\n",
       "7                   20 Ave & 21 St        374\n",
       "8                    2 Ave & 43 St        397\n",
       "9       E New York Ave & Utica Ave        447"
      ]
     },
     "execution_count": 28,
     "metadata": {},
     "output_type": "execute_result"
    }
   ],
   "source": [
    "query = f\"\"\"\n",
    "    SELECT start_station_name, COUNT(*) as cnt_start\n",
    "    FROM {cleaned_table_ref}\n",
    "    GROUP BY start_station_name\n",
    "    ORDER BY cnt_start ASC\n",
    "    LIMIT 10\n",
    "\"\"\"\n",
    "\n",
    "df_start_station = client.query(query).to_dataframe()\n",
    "df_start_station"
   ]
  },
  {
   "cell_type": "code",
   "execution_count": 29,
   "id": "cfaf826a",
   "metadata": {},
   "outputs": [
    {
     "name": "stderr",
     "output_type": "stream",
     "text": [
      "/home/olshe/pers/eu-climate-economic-resilience/.venv/lib/python3.12/site-packages/google/cloud/bigquery/table.py:1957: UserWarning: BigQuery Storage module not found, fetch data with the REST endpoint instead.\n",
      "  warnings.warn(\n"
     ]
    },
    {
     "data": {
      "text/html": [
       "<div>\n",
       "<style scoped>\n",
       "    .dataframe tbody tr th:only-of-type {\n",
       "        vertical-align: middle;\n",
       "    }\n",
       "\n",
       "    .dataframe tbody tr th {\n",
       "        vertical-align: top;\n",
       "    }\n",
       "\n",
       "    .dataframe thead th {\n",
       "        text-align: right;\n",
       "    }\n",
       "</style>\n",
       "<table border=\"1\" class=\"dataframe\">\n",
       "  <thead>\n",
       "    <tr style=\"text-align: right;\">\n",
       "      <th></th>\n",
       "      <th>end_station_name</th>\n",
       "      <th>cnt_start</th>\n",
       "    </tr>\n",
       "  </thead>\n",
       "  <tbody>\n",
       "    <tr>\n",
       "      <th>0</th>\n",
       "      <td>Creston Ave &amp; E 181 St</td>\n",
       "      <td>25</td>\n",
       "    </tr>\n",
       "    <tr>\n",
       "      <th>1</th>\n",
       "      <td>Ryer Ave &amp; E 182 St</td>\n",
       "      <td>33</td>\n",
       "    </tr>\n",
       "    <tr>\n",
       "      <th>2</th>\n",
       "      <td>Morris Ave &amp; E 184 St</td>\n",
       "      <td>41</td>\n",
       "    </tr>\n",
       "    <tr>\n",
       "      <th>3</th>\n",
       "      <td>Creston Ave &amp; E 178 St</td>\n",
       "      <td>49</td>\n",
       "    </tr>\n",
       "    <tr>\n",
       "      <th>4</th>\n",
       "      <td>2 Ave &amp; 39 St</td>\n",
       "      <td>84</td>\n",
       "    </tr>\n",
       "    <tr>\n",
       "      <th>5</th>\n",
       "      <td>E 118 St &amp; 1 Ave</td>\n",
       "      <td>172</td>\n",
       "    </tr>\n",
       "    <tr>\n",
       "      <th>6</th>\n",
       "      <td>W Burnside Ave &amp; University Ave</td>\n",
       "      <td>200</td>\n",
       "    </tr>\n",
       "    <tr>\n",
       "      <th>7</th>\n",
       "      <td>20 Ave &amp; 21 St</td>\n",
       "      <td>334</td>\n",
       "    </tr>\n",
       "    <tr>\n",
       "      <th>8</th>\n",
       "      <td>2 Ave &amp; 43 St</td>\n",
       "      <td>409</td>\n",
       "    </tr>\n",
       "    <tr>\n",
       "      <th>9</th>\n",
       "      <td>E New York Ave &amp; Utica Ave</td>\n",
       "      <td>471</td>\n",
       "    </tr>\n",
       "  </tbody>\n",
       "</table>\n",
       "</div>"
      ],
      "text/plain": [
       "                  end_station_name  cnt_start\n",
       "0           Creston Ave & E 181 St         25\n",
       "1              Ryer Ave & E 182 St         33\n",
       "2            Morris Ave & E 184 St         41\n",
       "3           Creston Ave & E 178 St         49\n",
       "4                    2 Ave & 39 St         84\n",
       "5                 E 118 St & 1 Ave        172\n",
       "6  W Burnside Ave & University Ave        200\n",
       "7                   20 Ave & 21 St        334\n",
       "8                    2 Ave & 43 St        409\n",
       "9       E New York Ave & Utica Ave        471"
      ]
     },
     "execution_count": 29,
     "metadata": {},
     "output_type": "execute_result"
    }
   ],
   "source": [
    "query = f\"\"\"\n",
    "    SELECT end_station_name, COUNT(*) as cnt_start\n",
    "    FROM {cleaned_table_ref}\n",
    "    GROUP BY end_station_name\n",
    "    ORDER BY cnt_start ASC\n",
    "    LIMIT 10\n",
    "\"\"\"\n",
    "\n",
    "df_start_station = client.query(query).to_dataframe()\n",
    "df_start_station"
   ]
  },
  {
   "cell_type": "code",
   "execution_count": 112,
   "id": "a87ca91b",
   "metadata": {},
   "outputs": [
    {
     "name": "stderr",
     "output_type": "stream",
     "text": [
      "/home/olshe/pers/eu-climate-economic-resilience/.venv/lib/python3.12/site-packages/google/cloud/bigquery/table.py:1957: UserWarning: BigQuery Storage module not found, fetch data with the REST endpoint instead.\n",
      "  warnings.warn(\n"
     ]
    },
    {
     "data": {
      "text/plain": [
       "<Axes: xlabel='rideable_type'>"
      ]
     },
     "execution_count": 112,
     "metadata": {},
     "output_type": "execute_result"
    },
    {
     "data": {
      "image/png": "[encoded data removed]",
      "text/plain": [
       "<Figure size 640x480 with 1 Axes>"
      ]
     },
     "metadata": {},
     "output_type": "display_data"
    }
   ],
   "source": [
    "query = f\"\"\"\n",
    "    SELECT rideable_type, COUNT(*) as cnt\n",
    "    FROM {cleaned_table_ref}\n",
    "    GROUP BY rideable_type\n",
    "\"\"\"\n",
    "\n",
    "df = client.query(query).to_dataframe()\n",
    "df.plot.bar(x='rideable_type', y='cnt')"
   ]
  },
  {
   "cell_type": "code",
   "execution_count": null,
   "id": "875eaa86",
   "metadata": {},
   "outputs": [
    {
     "data": {
      "image/png": "[encoded data removed]",
      "text/plain": [
       "<Figure size 640x480 with 1 Axes>"
      ]
     },
     "metadata": {},
     "output_type": "display_data"
    }
   ],
   "source": [
    "query = f\"\"\"\n",
    "    SELECT \n",
    "        FORMAT_TIMESTAMP('%Y-%m', started_at) AS year_month,\n",
    "        rideable_type,\n",
    "        COUNT(*) as cnt\n",
    "    FROM {cleaned_table_ref}\"\"\"  \"\"\"\n",
    "    GROUP BY year_month, rideable_type\n",
    "\"\"\"\n",
    "\n",
    "df = client.query(query).to_dataframe()\n",
    "\n",
    "df_classic = df[df['rideable_type'] == 'classic_bike']\n",
    "df_electric = df[df['rideable_type'] == 'electric_bike']\n",
    "\n",
    "df_classic = df_classic.sort_values(by='year_month')\n",
    "df_electric = df_electric.sort_values(by='year_month')\n",
    "\n",
    "plt.plot(df_classic['year_month'], df_classic['cnt'])\n",
    "plt.plot(df_electric['year_month'], df_electric['cnt'])\n",
    "\n",
    "plt.xticks(rotation=45)\n",
    "plt.show()\n"
   ]
  },
  {
   "cell_type": "code",
   "execution_count": 113,
   "id": "c4068491",
   "metadata": {},
   "outputs": [
    {
     "name": "stderr",
     "output_type": "stream",
     "text": [
      "/home/olshe/pers/eu-climate-economic-resilience/.venv/lib/python3.12/site-packages/google/cloud/bigquery/table.py:1957: UserWarning: BigQuery Storage module not found, fetch data with the REST endpoint instead.\n",
      "  warnings.warn(\n"
     ]
    },
    {
     "data": {
      "text/plain": [
       "<Axes: xlabel='hour'>"
      ]
     },
     "execution_count": 113,
     "metadata": {},
     "output_type": "execute_result"
    },
    {
     "data": {
      "image/png": "[encoded data removed]",
      "text/plain": [
       "<Figure size 640x480 with 1 Axes>"
      ]
     },
     "metadata": {},
     "output_type": "display_data"
    }
   ],
   "source": [
    "query = f\"\"\"\n",
    "    SELECT EXTRACT(HOUR FROM started_at) as hour, COUNT(*) as cnt\n",
    "    FROM {cleaned_table_ref}\n",
    "    GROUP BY hour\n",
    "\"\"\"\n",
    "\n",
    "df = client.query(query).to_dataframe()\n",
    "df.sort_values(by='hour').plot.bar(x='hour', y='cnt')"
   ]
  },
  {
   "cell_type": "code",
   "execution_count": 114,
   "id": "1dbe2bcb",
   "metadata": {},
   "outputs": [
    {
     "name": "stderr",
     "output_type": "stream",
     "text": [
      "/home/olshe/pers/eu-climate-economic-resilience/.venv/lib/python3.12/site-packages/google/cloud/bigquery/table.py:1957: UserWarning: BigQuery Storage module not found, fetch data with the REST endpoint instead.\n",
      "  warnings.warn(\n"
     ]
    },
    {
     "data": {
      "text/plain": [
       "<Axes: xlabel='day_of_week'>"
      ]
     },
     "execution_count": 114,
     "metadata": {},
     "output_type": "execute_result"
    },
    {
     "data": {
      "image/png": "[encoded data removed]",
      "text/plain": [
       "<Figure size 640x480 with 1 Axes>"
      ]
     },
     "metadata": {},
     "output_type": "display_data"
    }
   ],
   "source": [
    "query = f\"\"\"\n",
    "    SELECT EXTRACT(DAYOFWEEK FROM started_at) as day_of_week, COUNT(*) as cnt\n",
    "    FROM {cleaned_table_ref}\n",
    "    GROUP BY day_of_week\n",
    "\"\"\"\n",
    "\n",
    "df = client.query(query).to_dataframe()\n",
    "df = df.sort_values(by='day_of_week')\n",
    "\n",
    "map = {\n",
    "    1: 'Sunday',\n",
    "    2: 'Monday',\n",
    "    3: 'Tuesday',\n",
    "    4: 'Wednesday',\n",
    "    5: 'Thursday',\n",
    "    6: 'Friday',\n",
    "    7: 'Saturday'\n",
    "}\n",
    "\n",
    "df['day_of_week'] = df['day_of_week'].apply(lambda x: map[x])\n",
    "df.plot.bar(x='day_of_week', y='cnt')"
   ]
  },
  {
   "cell_type": "code",
   "execution_count": 78,
   "id": "5fc758e5",
   "metadata": {},
   "outputs": [
    {
     "name": "stderr",
     "output_type": "stream",
     "text": [
      "/home/olshe/pers/eu-climate-economic-resilience/.venv/lib/python3.12/site-packages/google/cloud/bigquery/table.py:1957: UserWarning: BigQuery Storage module not found, fetch data with the REST endpoint instead.\n",
      "  warnings.warn(\n"
     ]
    },
    {
     "data": {
      "text/html": [
       "<div>\n",
       "<style scoped>\n",
       "    .dataframe tbody tr th:only-of-type {\n",
       "        vertical-align: middle;\n",
       "    }\n",
       "\n",
       "    .dataframe tbody tr th {\n",
       "        vertical-align: top;\n",
       "    }\n",
       "\n",
       "    .dataframe thead th {\n",
       "        text-align: right;\n",
       "    }\n",
       "</style>\n",
       "<table border=\"1\" class=\"dataframe\">\n",
       "  <thead>\n",
       "    <tr style=\"text-align: right;\">\n",
       "      <th></th>\n",
       "      <th>rideable_type</th>\n",
       "      <th>f0_</th>\n",
       "    </tr>\n",
       "  </thead>\n",
       "  <tbody>\n",
       "    <tr>\n",
       "      <th>0</th>\n",
       "      <td>electric_bike</td>\n",
       "      <td>11.903997</td>\n",
       "    </tr>\n",
       "    <tr>\n",
       "      <th>1</th>\n",
       "      <td>classic_bike</td>\n",
       "      <td>12.272856</td>\n",
       "    </tr>\n",
       "  </tbody>\n",
       "</table>\n",
       "</div>"
      ],
      "text/plain": [
       "   rideable_type        f0_\n",
       "0  electric_bike  11.903997\n",
       "1   classic_bike  12.272856"
      ]
     },
     "execution_count": 78,
     "metadata": {},
     "output_type": "execute_result"
    }
   ],
   "source": [
    "query = f\"\"\"\n",
    "    SELECT rideable_type, AVG(TIMESTAMP_DIFF(ended_at, started_at, MINUTE))\n",
    "    FROM {cleaned_table_ref}\n",
    "    GROUP BY rideable_type\n",
    "\"\"\"\n",
    "\n",
    "df = client.query(query).to_dataframe()\n",
    "df"
   ]
  },
  {
   "cell_type": "code",
   "execution_count": 115,
   "id": "ae90b930",
   "metadata": {},
   "outputs": [
    {
     "name": "stderr",
     "output_type": "stream",
     "text": [
      "/home/olshe/pers/eu-climate-economic-resilience/.venv/lib/python3.12/site-packages/google/cloud/bigquery/table.py:1957: UserWarning: BigQuery Storage module not found, fetch data with the REST endpoint instead.\n",
      "  warnings.warn(\n"
     ]
    },
    {
     "data": {
      "image/png": "[encoded data removed]",
      "text/plain": [
       "<Figure size 640x480 with 1 Axes>"
      ]
     },
     "metadata": {},
     "output_type": "display_data"
    }
   ],
   "source": [
    "query = f\"\"\"\n",
    "    SELECT member_casual, COUNT(*) as cnt\n",
    "    FROM {cleaned_table_ref}\n",
    "    GROUP BY member_casual\n",
    "\"\"\"\n",
    "\n",
    "df = client.query(query).to_dataframe()\n",
    "\n",
    "plt.pie(df['cnt'], labels=df['member_casual'], autopct='%1.1f%%')\n",
    "plt.show()"
   ]
  },
  {
   "cell_type": "code",
   "execution_count": null,
   "id": "8b2eeebe",
   "metadata": {},
   "outputs": [],
   "source": []
  },
  {
   "cell_type": "code",
   "execution_count": 89,
   "id": "6e4c2024",
   "metadata": {},
   "outputs": [
    {
     "name": "stderr",
     "output_type": "stream",
     "text": [
      "/home/olshe/pers/eu-climate-economic-resilience/.venv/lib/python3.12/site-packages/google/cloud/bigquery/table.py:1957: UserWarning: BigQuery Storage module not found, fetch data with the REST endpoint instead.\n",
      "  warnings.warn(\n"
     ]
    },
    {
     "data": {
      "text/plain": [
       "<seaborn.axisgrid.FacetGrid at 0x7fb0916b0ef0>"
      ]
     },
     "execution_count": 89,
     "metadata": {},
     "output_type": "execute_result"
    },
    {
     "data": {
      "image/png": "[encoded data removed]",
      "text/plain": [
       "<Figure size 651.375x500 with 1 Axes>"
      ]
     },
     "metadata": {},
     "output_type": "display_data"
    }
   ],
   "source": [
    "query = f\"\"\"\n",
    "    SELECT member_casual, rideable_type, COUNT(*) as cnt\n",
    "    FROM {cleaned_table_ref}\n",
    "    GROUP BY member_casual, rideable_type\n",
    "\"\"\"\n",
    "\n",
    "df = client.query(query).to_dataframe()\n",
    "\n",
    "sns.set_theme(style=\"whitegrid\")\n",
    "sns.catplot(data=df, kind='bar', x='member_casual', y='cnt', hue='rideable_type')"
   ]
  },
  {
   "cell_type": "code",
   "execution_count": 90,
   "id": "fe3a2c46",
   "metadata": {},
   "outputs": [
    {
     "name": "stderr",
     "output_type": "stream",
     "text": [
      "/home/olshe/pers/eu-climate-economic-resilience/.venv/lib/python3.12/site-packages/google/cloud/bigquery/table.py:1957: UserWarning: BigQuery Storage module not found, fetch data with the REST endpoint instead.\n",
      "  warnings.warn(\n"
     ]
    },
    {
     "data": {
      "text/html": [
       "<div>\n",
       "<style scoped>\n",
       "    .dataframe tbody tr th:only-of-type {\n",
       "        vertical-align: middle;\n",
       "    }\n",
       "\n",
       "    .dataframe tbody tr th {\n",
       "        vertical-align: top;\n",
       "    }\n",
       "\n",
       "    .dataframe thead th {\n",
       "        text-align: right;\n",
       "    }\n",
       "</style>\n",
       "<table border=\"1\" class=\"dataframe\">\n",
       "  <thead>\n",
       "    <tr style=\"text-align: right;\">\n",
       "      <th></th>\n",
       "      <th>member_casual</th>\n",
       "      <th>f0_</th>\n",
       "    </tr>\n",
       "  </thead>\n",
       "  <tbody>\n",
       "    <tr>\n",
       "      <th>0</th>\n",
       "      <td>casual</td>\n",
       "      <td>18.645249</td>\n",
       "    </tr>\n",
       "    <tr>\n",
       "      <th>1</th>\n",
       "      <td>member</td>\n",
       "      <td>10.561467</td>\n",
       "    </tr>\n",
       "  </tbody>\n",
       "</table>\n",
       "</div>"
      ],
      "text/plain": [
       "  member_casual        f0_\n",
       "0        casual  18.645249\n",
       "1        member  10.561467"
      ]
     },
     "execution_count": 90,
     "metadata": {},
     "output_type": "execute_result"
    }
   ],
   "source": [
    "query = f\"\"\"\n",
    "    SELECT member_casual, AVG(TIMESTAMP_DIFF(ended_at, started_at, MINUTE))\n",
    "    FROM {cleaned_table_ref}\n",
    "    GROUP BY member_casual\n",
    "\"\"\"\n",
    "\n",
    "df = client.query(query).to_dataframe()\n",
    "df"
   ]
  },
  {
   "cell_type": "code",
   "execution_count": 91,
   "id": "56dd0c07",
   "metadata": {},
   "outputs": [
    {
     "name": "stderr",
     "output_type": "stream",
     "text": [
      "/home/olshe/pers/eu-climate-economic-resilience/.venv/lib/python3.12/site-packages/google/cloud/bigquery/table.py:1957: UserWarning: BigQuery Storage module not found, fetch data with the REST endpoint instead.\n",
      "  warnings.warn(\n"
     ]
    },
    {
     "data": {
      "text/plain": [
       "<seaborn.axisgrid.FacetGrid at 0x7fb09075f6b0>"
      ]
     },
     "execution_count": 91,
     "metadata": {},
     "output_type": "execute_result"
    },
    {
     "data": {
      "image/png": "[encoded data removed]",
      "text/plain": [
       "<Figure size 651.375x500 with 1 Axes>"
      ]
     },
     "metadata": {},
     "output_type": "display_data"
    }
   ],
   "source": [
    "query = f\"\"\"\n",
    "    SELECT member_casual, rideable_type, AVG(TIMESTAMP_DIFF(ended_at, started_at, MINUTE)) as avg_time\n",
    "    FROM {cleaned_table_ref}\n",
    "    GROUP BY member_casual, rideable_type\n",
    "\"\"\"\n",
    "\n",
    "df = client.query(query).to_dataframe()\n",
    "\n",
    "sns.set_theme(style=\"whitegrid\")\n",
    "sns.catplot(data=df, kind='bar', x='member_casual', y='avg_time', hue='rideable_type')"
   ]
  },
  {
   "cell_type": "code",
   "execution_count": 93,
   "id": "c4bae8bf",
   "metadata": {},
   "outputs": [
    {
     "name": "stderr",
     "output_type": "stream",
     "text": [
      "/home/olshe/pers/eu-climate-economic-resilience/.venv/lib/python3.12/site-packages/google/cloud/bigquery/table.py:1957: UserWarning: BigQuery Storage module not found, fetch data with the REST endpoint instead.\n",
      "  warnings.warn(\n"
     ]
    },
    {
     "data": {
      "text/plain": [
       "<Axes: xlabel='hour', ylabel='cnt'>"
      ]
     },
     "execution_count": 93,
     "metadata": {},
     "output_type": "execute_result"
    },
    {
     "data": {
      "image/png": "[encoded data removed]",
      "text/plain": [
       "<Figure size 640x480 with 1 Axes>"
      ]
     },
     "metadata": {},
     "output_type": "display_data"
    }
   ],
   "source": [
    "query = f\"\"\"\n",
    "    SELECT member_casual, EXTRACT(HOUR FROM started_at) as hour, COUNT(*) as cnt\n",
    "    FROM {cleaned_table_ref}\n",
    "    GROUP BY member_casual, hour\n",
    "\"\"\"\n",
    "\n",
    "df = client.query(query).to_dataframe()\n",
    "sns.lineplot(data=df, x=\"hour\", y=\"cnt\", hue=\"member_casual\")"
   ]
  },
  {
   "cell_type": "code",
   "execution_count": null,
   "id": "29f16704",
   "metadata": {},
   "outputs": [
    {
     "name": "stderr",
     "output_type": "stream",
     "text": [
      "/home/olshe/pers/eu-climate-economic-resilience/.venv/lib/python3.12/site-packages/google/cloud/bigquery/table.py:1957: UserWarning: BigQuery Storage module not found, fetch data with the REST endpoint instead.\n",
      "  warnings.warn(\n"
     ]
    },
    {
     "data": {
      "image/png": "[encoded data removed]",
      "text/plain": [
       "<Figure size 644.222x500 with 1 Axes>"
      ]
     },
     "metadata": {},
     "output_type": "display_data"
    }
   ],
   "source": [
    "query = f\"\"\"\n",
    "    SELECT member_casual, EXTRACT(DAYOFWEEK FROM started_at) as day_of_week, COUNT(*) as cnt\n",
    "    FROM {cleaned_table_ref}\n",
    "    GROUP BY member_casual, day_of_week\n",
    "\"\"\"\n",
    "\n",
    "df = client.query(query).to_dataframe()\n",
    "df = df.sort_values(by='day_of_week')\n",
    "\n",
    "map = {\n",
    "    1: 'Sunday',\n",
    "    2: 'Monday',\n",
    "    3: 'Tuesday',\n",
    "    4: 'Wednesday',\n",
    "    5: 'Thursday',\n",
    "    6: 'Friday',\n",
    "    7: 'Saturday'\n",
    "}\n",
    "\n",
    "df['day_of_week'] = df['day_of_week'].apply(lambda x: map[x])\n",
    "sns.catplot(data=df, kind='bar', x='day_of_week', y='cnt', hue='member_casual')\n",
    "\n",
    "plt.xticks(rotation=45)\n",
    "plt.show()"
   ]
  },
  {
   "cell_type": "code",
   "execution_count": 109,
   "id": "1fca5a59",
   "metadata": {},
   "outputs": [
    {
     "name": "stderr",
     "output_type": "stream",
     "text": [
      "/home/olshe/pers/eu-climate-economic-resilience/.venv/lib/python3.12/site-packages/google/cloud/bigquery/table.py:1957: UserWarning: BigQuery Storage module not found, fetch data with the REST endpoint instead.\n",
      "  warnings.warn(\n"
     ]
    },
    {
     "data": {
      "text/html": [
       "<div>\n",
       "<style scoped>\n",
       "    .dataframe tbody tr th:only-of-type {\n",
       "        vertical-align: middle;\n",
       "    }\n",
       "\n",
       "    .dataframe tbody tr th {\n",
       "        vertical-align: top;\n",
       "    }\n",
       "\n",
       "    .dataframe thead th {\n",
       "        text-align: right;\n",
       "    }\n",
       "</style>\n",
       "<table border=\"1\" class=\"dataframe\">\n",
       "  <thead>\n",
       "    <tr style=\"text-align: right;\">\n",
       "      <th></th>\n",
       "      <th>start_station_name</th>\n",
       "      <th>start_station_name_1</th>\n",
       "    </tr>\n",
       "  </thead>\n",
       "  <tbody>\n",
       "  </tbody>\n",
       "</table>\n",
       "</div>"
      ],
      "text/plain": [
       "Empty DataFrame\n",
       "Columns: [start_station_name, start_station_name_1]\n",
       "Index: []"
      ]
     },
     "execution_count": 109,
     "metadata": {},
     "output_type": "execute_result"
    }
   ],
   "source": [
    "query = f\"\"\"\n",
    "SELECT * FROM\n",
    "    (SELECT start_station_name\n",
    "    FROM {cleaned_table_ref}\n",
    "    GROUP BY start_station_name\n",
    "    ORDER BY COUNT(CASE WHEN member_casual = 'member' THEN 1 ELSE NULL END) DESC\n",
    "    LIMIT 10) as member_start\n",
    "        INNER JOIN (\n",
    "    SELECT start_station_name\n",
    "    FROM {cleaned_table_ref}\n",
    "    GROUP BY start_station_name\n",
    "    ORDER BY COUNT(CASE WHEN member_casual = 'casual' THEN 1 ELSE NULL END) DESC\n",
    "    LIMIT 10) as casual_start\n",
    "    ON member_start.start_station_name = casual_start.start_station_name\n",
    "\"\"\"\n",
    "\n",
    "df_start_station = client.query(query).to_dataframe()\n",
    "df_start_station"
   ]
  },
  {
   "cell_type": "code",
   "execution_count": 110,
   "id": "0d5d16e5",
   "metadata": {},
   "outputs": [
    {
     "data": {
      "text/html": [
       "<div>\n",
       "<style scoped>\n",
       "    .dataframe tbody tr th:only-of-type {\n",
       "        vertical-align: middle;\n",
       "    }\n",
       "\n",
       "    .dataframe tbody tr th {\n",
       "        vertical-align: top;\n",
       "    }\n",
       "\n",
       "    .dataframe thead th {\n",
       "        text-align: right;\n",
       "    }\n",
       "</style>\n",
       "<table border=\"1\" class=\"dataframe\">\n",
       "  <thead>\n",
       "    <tr style=\"text-align: right;\">\n",
       "      <th></th>\n",
       "      <th>end_station_name</th>\n",
       "      <th>end_station_name_1</th>\n",
       "    </tr>\n",
       "  </thead>\n",
       "  <tbody>\n",
       "  </tbody>\n",
       "</table>\n",
       "</div>"
      ],
      "text/plain": [
       "Empty DataFrame\n",
       "Columns: [end_station_name, end_station_name_1]\n",
       "Index: []"
      ]
     },
     "execution_count": 110,
     "metadata": {},
     "output_type": "execute_result"
    }
   ],
   "source": [
    "query = f\"\"\"\n",
    "SELECT * FROM\n",
    "    (SELECT end_station_name\n",
    "    FROM {cleaned_table_ref}\n",
    "    GROUP BY end_station_name\n",
    "    ORDER BY COUNT(CASE WHEN member_casual = 'member' THEN 1 ELSE NULL END) DESC\n",
    "    LIMIT 10) as member_start\n",
    "        INNER JOIN (\n",
    "    SELECT end_station_name\n",
    "    FROM {cleaned_table_ref}\n",
    "    GROUP BY end_station_name\n",
    "    ORDER BY COUNT(CASE WHEN member_casual = 'casual' THEN 1 ELSE NULL END) DESC\n",
    "    LIMIT 10) as casual_start\n",
    "    ON member_start.end_station_name = casual_start.end_station_name\n",
    "\"\"\"\n",
    "\n",
    "df_start_station = client.query(query).to_dataframe()\n",
    "df_start_station"
   ]
  },
  {
   "cell_type": "code",
   "execution_count": 116,
   "id": "959a1102",
   "metadata": {},
   "outputs": [
    {
     "name": "stderr",
     "output_type": "stream",
     "text": [
      "/home/olshe/pers/eu-climate-economic-resilience/.venv/lib/python3.12/site-packages/google/cloud/bigquery/table.py:1957: UserWarning: BigQuery Storage module not found, fetch data with the REST endpoint instead.\n",
      "  warnings.warn(\n"
     ]
    },
    {
     "data": {
      "image/png": "[encoded data removed]",
      "text/plain": [
       "<Figure size 640x480 with 1 Axes>"
      ]
     },
     "metadata": {},
     "output_type": "display_data"
    }
   ],
   "source": [
    "query = f\"\"\"\n",
    "    SELECT \n",
    "        FORMAT_TIMESTAMP('%Y-%m', started_at) AS year_month,\n",
    "        member_casual,\n",
    "        COUNT(*) as cnt\n",
    "    FROM {cleaned_table_ref}\"\"\"  \"\"\"\n",
    "    GROUP BY year_month, member_casual\n",
    "\"\"\"\n",
    "\n",
    "df = client.query(query).to_dataframe()\n",
    "\n",
    "df_classic = df[df['member_casual'] == 'member']\n",
    "df_electric = df[df['member_casual'] == 'casual']\n",
    "\n",
    "df_classic = df_classic.sort_values(by='year_month')\n",
    "df_electric = df_electric.sort_values(by='year_month')\n",
    "\n",
    "plt.plot(df_classic['year_month'], df_classic['cnt'])\n",
    "plt.plot(df_electric['year_month'], df_electric['cnt'])\n",
    "\n",
    "plt.xticks(rotation=45)\n",
    "plt.show()"
   ]
  },
  {
   "cell_type": "code",
   "execution_count": null,
   "id": "2c349786",
   "metadata": {},
   "outputs": [],
   "source": []
  }
 ],
 "metadata": {
  "kernelspec": {
   "display_name": ".venv",
   "language": "python",
   "name": "python3"
  },
  "language_info": {
   "codemirror_mode": {
    "name": "ipython",
    "version": 3
   },
   "file_extension": ".py",
   "mimetype": "text/x-python",
   "name": "python",
   "nbconvert_exporter": "python",
   "pygments_lexer": "ipython3",
   "version": "3.12.3"
  }
 },
 "nbformat": 4,
 "nbformat_minor": 5
}
