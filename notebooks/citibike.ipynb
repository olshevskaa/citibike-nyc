{
 "cells": [
  {
   "cell_type": "markdown",
   "id": "aaeb9e3c",
   "metadata": {},
   "source": [
    "# Citi Bike NYC Ridetime Analysis: Exploring patterns and building prediction"
   ]
  },
  {
   "cell_type": "markdown",
   "id": "5f614c53",
   "metadata": {},
   "source": [
    "## Introduction"
   ]
  },
  {
   "cell_type": "markdown",
   "id": "97b51b2a",
   "metadata": {},
   "source": [
    "The aim of this notebook is to try to predict ride time of user for Citi Bike bycicle sharing system inside New York City by using only initial ride information and weather. Work consists of several steps:\n",
    "1. Data cleaning\n",
    "2. Exploratory Data Analysis\n",
    "3. Hypothesis Testing\n",
    "4. Building prediction model"
   ]
  },
  {
   "cell_type": "markdown",
   "id": "9bce4b3a",
   "metadata": {},
   "source": [
    "## Data Sources"
   ]
  },
  {
   "cell_type": "markdown",
   "id": "5cb4f364",
   "metadata": {},
   "source": [
    "- **Citi Bike Trip Data**: Publicly available from official Citi Bike system data portal: https://citibikenyc.com/system-data. Extracted data covers period from 2024-01-01 to 2025-06-01.\n",
    "- **Weather Data**: Historical data for NYC was obtained from https://openweathermap.org/history-bulk. This dataset was purchased to supplement trips data and covers period from 2024-01-01 to 2025-06-01.\n",
    "\n"
   ]
  },
  {
   "cell_type": "markdown",
   "id": "76222d54",
   "metadata": {},
   "source": [
    "## Data Loading & Cleaning"
   ]
  },
  {
   "cell_type": "code",
   "execution_count": 1,
   "id": "07da2132",
   "metadata": {},
   "outputs": [],
   "source": [
    "import os\n",
    "from dotenv import load_dotenv\n",
    "\n",
    "from google.cloud import bigquery\n",
    "\n",
    "import pandas as pd\n",
    "import numpy as np\n",
    "\n",
    "import matplotlib.pyplot as plt\n",
    "import seaborn as sns\n",
    "\n",
    "from scipy.stats import f_oneway\n",
    "\n",
    "import statsmodels.api as sm\n",
    "from statsmodels.formula.api import ols\n",
    "\n",
    "from sklearn.preprocessing import LabelEncoder\n",
    "from sklearn.ensemble import RandomForestRegressor\n",
    "\n",
    "from sklearn.metrics import mean_squared_error, r2_score\n",
    "from sklearn.model_selection import train_test_split"
   ]
  },
  {
   "cell_type": "code",
   "execution_count": 2,
   "id": "720b6cd6",
   "metadata": {},
   "outputs": [],
   "source": [
    "import warnings\n",
    "warnings.simplefilter(\"ignore\", UserWarning)"
   ]
  },
  {
   "cell_type": "code",
   "execution_count": 3,
   "id": "197824da",
   "metadata": {},
   "outputs": [],
   "source": [
    "sns.set_style(\"whitegrid\")"
   ]
  },
  {
   "cell_type": "code",
   "execution_count": 4,
   "id": "67dccb9f",
   "metadata": {},
   "outputs": [
    {
     "data": {
      "text/plain": [
       "True"
      ]
     },
     "execution_count": 4,
     "metadata": {},
     "output_type": "execute_result"
    }
   ],
   "source": [
    "load_dotenv()"
   ]
  },
  {
   "cell_type": "code",
   "execution_count": 5,
   "id": "85b375d4",
   "metadata": {},
   "outputs": [],
   "source": [
    "client = bigquery.Client()\n",
    "\n",
    "bq_project_id = os.getenv('GCP_PROJECT_ID')\n",
    "bq_dataset_name = os.getenv('BQ_DATASET')\n",
    "bq_trips_table_name = os.getenv('BQ_TABLE_TRIPS')\n",
    "bq_weather_table_name = os.getenv('BQ_TABLE_WEATHER')\n",
    "\n",
    "table_ref = f'{bq_project_id}.{bq_dataset_name}.{bq_trips_table_name}'\n",
    "cleaned_table_ref = f'{bq_project_id}.{bq_dataset_name}.{bq_trips_table_name}_cleaned'\n",
    "weather_table_ref = f'{bq_project_id}.{bq_dataset_name}.{bq_weather_table_name}'\n",
    "cleaned_weather_table_ref = f'{bq_project_id}.{bq_dataset_name}.{bq_weather_table_name}_cleaned'"
   ]
  },
  {
   "cell_type": "markdown",
   "id": "83076416",
   "metadata": {},
   "source": [
    "Fisrt step is to understand how data looks like, what columns and types it has."
   ]
  },
  {
   "cell_type": "code",
   "execution_count": 59,
   "id": "e3d53ec0",
   "metadata": {},
   "outputs": [
    {
     "data": {
      "text/html": [
       "<div>\n",
       "<style scoped>\n",
       "    .dataframe tbody tr th:only-of-type {\n",
       "        vertical-align: middle;\n",
       "    }\n",
       "\n",
       "    .dataframe tbody tr th {\n",
       "        vertical-align: top;\n",
       "    }\n",
       "\n",
       "    .dataframe thead th {\n",
       "        text-align: right;\n",
       "    }\n",
       "</style>\n",
       "<table border=\"1\" class=\"dataframe\">\n",
       "  <thead>\n",
       "    <tr style=\"text-align: right;\">\n",
       "      <th></th>\n",
       "      <th>ride_id</th>\n",
       "      <th>rideable_type</th>\n",
       "      <th>started_at</th>\n",
       "      <th>ended_at</th>\n",
       "      <th>start_station_name</th>\n",
       "      <th>start_station_id</th>\n",
       "      <th>end_station_name</th>\n",
       "      <th>end_station_id</th>\n",
       "      <th>start_lat</th>\n",
       "      <th>start_lng</th>\n",
       "      <th>end_lat</th>\n",
       "      <th>end_lng</th>\n",
       "      <th>member_casual</th>\n",
       "    </tr>\n",
       "  </thead>\n",
       "  <tbody>\n",
       "    <tr>\n",
       "      <th>0</th>\n",
       "      <td>E754D558B22D7051</td>\n",
       "      <td>classic_bike</td>\n",
       "      <td>2025-04-04 15:52:20.202000+00:00</td>\n",
       "      <td>2025-04-05 16:52:00.689000+00:00</td>\n",
       "      <td>Church Ave &amp; McDonald Ave</td>\n",
       "      <td>3090.06</td>\n",
       "      <td>None</td>\n",
       "      <td>nan</td>\n",
       "      <td>40.642809</td>\n",
       "      <td>-73.979239</td>\n",
       "      <td>NaN</td>\n",
       "      <td>NaN</td>\n",
       "      <td>casual</td>\n",
       "    </tr>\n",
       "    <tr>\n",
       "      <th>1</th>\n",
       "      <td>17B72EFFA5078EEC</td>\n",
       "      <td>classic_bike</td>\n",
       "      <td>2025-04-04 13:51:37.723000+00:00</td>\n",
       "      <td>2025-04-05 14:51:33.824000+00:00</td>\n",
       "      <td>Clinton St &amp; Union St</td>\n",
       "      <td>4266.03</td>\n",
       "      <td>None</td>\n",
       "      <td>nan</td>\n",
       "      <td>40.683116</td>\n",
       "      <td>-73.997853</td>\n",
       "      <td>NaN</td>\n",
       "      <td>NaN</td>\n",
       "      <td>casual</td>\n",
       "    </tr>\n",
       "    <tr>\n",
       "      <th>2</th>\n",
       "      <td>2CE8AB625D2E7757</td>\n",
       "      <td>classic_bike</td>\n",
       "      <td>2025-04-04 17:12:32.491000+00:00</td>\n",
       "      <td>2025-04-05 18:12:23.001000+00:00</td>\n",
       "      <td>Bond St &amp; Fulton St</td>\n",
       "      <td>4479.06</td>\n",
       "      <td>None</td>\n",
       "      <td>nan</td>\n",
       "      <td>40.689622</td>\n",
       "      <td>-73.983043</td>\n",
       "      <td>NaN</td>\n",
       "      <td>NaN</td>\n",
       "      <td>casual</td>\n",
       "    </tr>\n",
       "    <tr>\n",
       "      <th>3</th>\n",
       "      <td>8481CCEC9172D1B5</td>\n",
       "      <td>classic_bike</td>\n",
       "      <td>2025-04-04 20:19:56.280000+00:00</td>\n",
       "      <td>2025-04-05 21:19:50.100000+00:00</td>\n",
       "      <td>Van Buren St &amp; Broadway</td>\n",
       "      <td>4568.01</td>\n",
       "      <td>None</td>\n",
       "      <td>nan</td>\n",
       "      <td>40.692000</td>\n",
       "      <td>-73.926170</td>\n",
       "      <td>NaN</td>\n",
       "      <td>NaN</td>\n",
       "      <td>casual</td>\n",
       "    </tr>\n",
       "    <tr>\n",
       "      <th>4</th>\n",
       "      <td>10A2EB7353012C90</td>\n",
       "      <td>classic_bike</td>\n",
       "      <td>2025-04-04 17:31:34.359000+00:00</td>\n",
       "      <td>2025-04-05 18:31:28.914000+00:00</td>\n",
       "      <td>Willoughby St &amp; Fleet St</td>\n",
       "      <td>4628.05</td>\n",
       "      <td>None</td>\n",
       "      <td>nan</td>\n",
       "      <td>40.691966</td>\n",
       "      <td>-73.981302</td>\n",
       "      <td>NaN</td>\n",
       "      <td>NaN</td>\n",
       "      <td>casual</td>\n",
       "    </tr>\n",
       "  </tbody>\n",
       "</table>\n",
       "</div>"
      ],
      "text/plain": [
       "            ride_id rideable_type                       started_at  \\\n",
       "0  E754D558B22D7051  classic_bike 2025-04-04 15:52:20.202000+00:00   \n",
       "1  17B72EFFA5078EEC  classic_bike 2025-04-04 13:51:37.723000+00:00   \n",
       "2  2CE8AB625D2E7757  classic_bike 2025-04-04 17:12:32.491000+00:00   \n",
       "3  8481CCEC9172D1B5  classic_bike 2025-04-04 20:19:56.280000+00:00   \n",
       "4  10A2EB7353012C90  classic_bike 2025-04-04 17:31:34.359000+00:00   \n",
       "\n",
       "                          ended_at         start_station_name  \\\n",
       "0 2025-04-05 16:52:00.689000+00:00  Church Ave & McDonald Ave   \n",
       "1 2025-04-05 14:51:33.824000+00:00      Clinton St & Union St   \n",
       "2 2025-04-05 18:12:23.001000+00:00        Bond St & Fulton St   \n",
       "3 2025-04-05 21:19:50.100000+00:00    Van Buren St & Broadway   \n",
       "4 2025-04-05 18:31:28.914000+00:00   Willoughby St & Fleet St   \n",
       "\n",
       "  start_station_id end_station_name end_station_id  start_lat  start_lng  \\\n",
       "0          3090.06             None            nan  40.642809 -73.979239   \n",
       "1          4266.03             None            nan  40.683116 -73.997853   \n",
       "2          4479.06             None            nan  40.689622 -73.983043   \n",
       "3          4568.01             None            nan  40.692000 -73.926170   \n",
       "4          4628.05             None            nan  40.691966 -73.981302   \n",
       "\n",
       "   end_lat  end_lng member_casual  \n",
       "0      NaN      NaN        casual  \n",
       "1      NaN      NaN        casual  \n",
       "2      NaN      NaN        casual  \n",
       "3      NaN      NaN        casual  \n",
       "4      NaN      NaN        casual  "
      ]
     },
     "execution_count": 59,
     "metadata": {},
     "output_type": "execute_result"
    }
   ],
   "source": [
    "query = f\"\"\"\n",
    "    SELECT *\n",
    "    FROM `{table_ref}`\n",
    "    LIMIT 5\n",
    "\"\"\"\n",
    "\n",
    "df = client.query(query).to_dataframe()\n",
    "df"
   ]
  },
  {
   "cell_type": "code",
   "execution_count": 5,
   "id": "e98fa03b",
   "metadata": {},
   "outputs": [
    {
     "name": "stdout",
     "output_type": "stream",
     "text": [
      "['ride_id' 'rideable_type' 'started_at' 'ended_at' 'start_station_name'\n",
      " 'start_station_id' 'end_station_name' 'end_station_id' 'start_lat'\n",
      " 'start_lng' 'end_lat' 'end_lng' 'member_casual']\n"
     ]
    }
   ],
   "source": [
    "print(df.columns.values)"
   ]
  },
  {
   "cell_type": "code",
   "execution_count": 6,
   "id": "1ae1655d",
   "metadata": {},
   "outputs": [
    {
     "data": {
      "text/plain": [
       "ride_id                            object\n",
       "rideable_type                      object\n",
       "started_at            datetime64[us, UTC]\n",
       "ended_at              datetime64[us, UTC]\n",
       "start_station_name                 object\n",
       "start_station_id                   object\n",
       "end_station_name                   object\n",
       "end_station_id                     object\n",
       "start_lat                         float64\n",
       "start_lng                         float64\n",
       "end_lat                           float64\n",
       "end_lng                           float64\n",
       "member_casual                      object\n",
       "dtype: object"
      ]
     },
     "execution_count": 6,
     "metadata": {},
     "output_type": "execute_result"
    }
   ],
   "source": [
    "df.dtypes"
   ]
  },
  {
   "cell_type": "markdown",
   "id": "b62c62f6",
   "metadata": {},
   "source": [
    "\n",
    "Focus be on such variables: *rideable_type*, *started_at*, *start_station_name*, *member_casual*. *start_station_id* and *start_lat* | *start_lng* are not taken into account because they will give same information as *start_station_name*.\n",
    "\n",
    "Next is dealing with missing values."
   ]
  },
  {
   "cell_type": "code",
   "execution_count": 12,
   "id": "95a0292a",
   "metadata": {},
   "outputs": [
    {
     "data": {
      "text/html": [
       "<div>\n",
       "<style scoped>\n",
       "    .dataframe tbody tr th:only-of-type {\n",
       "        vertical-align: middle;\n",
       "    }\n",
       "\n",
       "    .dataframe tbody tr th {\n",
       "        vertical-align: top;\n",
       "    }\n",
       "\n",
       "    .dataframe thead th {\n",
       "        text-align: right;\n",
       "    }\n",
       "</style>\n",
       "<table border=\"1\" class=\"dataframe\">\n",
       "  <thead>\n",
       "    <tr style=\"text-align: right;\">\n",
       "      <th></th>\n",
       "      <th>ride_id_null</th>\n",
       "      <th>rideable_type_null</th>\n",
       "      <th>started_at_null</th>\n",
       "      <th>ended_at_null</th>\n",
       "      <th>start_station_name_null</th>\n",
       "      <th>start_station_idnull</th>\n",
       "      <th>end_station_name_null</th>\n",
       "      <th>end_station_id_null</th>\n",
       "      <th>start_lat_null</th>\n",
       "      <th>start_lng_null</th>\n",
       "      <th>end_lat_null</th>\n",
       "      <th>end_lng_null</th>\n",
       "      <th>member_casual_null</th>\n",
       "    </tr>\n",
       "  </thead>\n",
       "  <tbody>\n",
       "    <tr>\n",
       "      <th>0</th>\n",
       "      <td>0</td>\n",
       "      <td>0</td>\n",
       "      <td>0</td>\n",
       "      <td>0</td>\n",
       "      <td>35253</td>\n",
       "      <td>0</td>\n",
       "      <td>152745</td>\n",
       "      <td>0</td>\n",
       "      <td>0</td>\n",
       "      <td>0</td>\n",
       "      <td>12784</td>\n",
       "      <td>12784</td>\n",
       "      <td>0</td>\n",
       "    </tr>\n",
       "  </tbody>\n",
       "</table>\n",
       "</div>"
      ],
      "text/plain": [
       "   ride_id_null  rideable_type_null  started_at_null  ended_at_null  \\\n",
       "0             0                   0                0              0   \n",
       "\n",
       "   start_station_name_null  start_station_idnull  end_station_name_null  \\\n",
       "0                    35253                     0                 152745   \n",
       "\n",
       "   end_station_id_null  start_lat_null  start_lng_null  end_lat_null  \\\n",
       "0                    0               0               0         12784   \n",
       "\n",
       "   end_lng_null  member_casual_null  \n",
       "0         12784                   0  "
      ]
     },
     "execution_count": 12,
     "metadata": {},
     "output_type": "execute_result"
    }
   ],
   "source": [
    "query = f\"\"\"\n",
    "    SELECT \n",
    "        COUNT(*) - COUNT(ride_id) as ride_id_null,\n",
    "        COUNT(*) - COUNT(rideable_type) as rideable_type_null,\n",
    "        COUNT(*) - COUNT(started_at) as started_at_null,\n",
    "        COUNT(*) - COUNT(ended_at) as ended_at_null,\n",
    "        COUNT(*) - COUNT(start_station_name) as start_station_name_null,\n",
    "        COUNT(*) - COUNT(start_station_id) as start_station_idnull,\n",
    "        COUNT(*) - COUNT(end_station_name) as end_station_name_null,\n",
    "        COUNT(*) - COUNT(end_station_id) as end_station_id_null,\n",
    "        COUNT(*) - COUNT(start_lat) as start_lat_null,\n",
    "        COUNT(*) - COUNT(start_lng) as start_lng_null,\n",
    "        COUNT(*) - COUNT(end_lat) as end_lat_null,\n",
    "        COUNT(*) - COUNT(end_lng) as end_lng_null,\n",
    "        COUNT(*) - COUNT(member_casual) as member_casual_null\n",
    "    FROM `{table_ref}`\n",
    "\"\"\"\n",
    "\n",
    "df = client.query(query).to_dataframe()\n",
    "df"
   ]
  },
  {
   "cell_type": "markdown",
   "id": "81b47c77",
   "metadata": {},
   "source": [
    "As work goal is predicting on a initial data, so *start_station_name* can be important feature. As for *end_station_name*, *end_lat* and *end_lng* they will not be used and can be not considered. \n",
    "<br> \n",
    "<br>\n",
    "Lets check for any *start_station_name* missing values pattern."
   ]
  },
  {
   "cell_type": "code",
   "execution_count": 13,
   "id": "60ed3a01",
   "metadata": {},
   "outputs": [
    {
     "data": {
      "text/html": [
       "<div>\n",
       "<style scoped>\n",
       "    .dataframe tbody tr th:only-of-type {\n",
       "        vertical-align: middle;\n",
       "    }\n",
       "\n",
       "    .dataframe tbody tr th {\n",
       "        vertical-align: top;\n",
       "    }\n",
       "\n",
       "    .dataframe thead th {\n",
       "        text-align: right;\n",
       "    }\n",
       "</style>\n",
       "<table border=\"1\" class=\"dataframe\">\n",
       "  <thead>\n",
       "    <tr style=\"text-align: right;\">\n",
       "      <th></th>\n",
       "      <th>ride_id</th>\n",
       "      <th>rideable_type</th>\n",
       "      <th>started_at</th>\n",
       "      <th>ended_at</th>\n",
       "      <th>start_station_name</th>\n",
       "      <th>start_station_id</th>\n",
       "      <th>end_station_name</th>\n",
       "      <th>end_station_id</th>\n",
       "      <th>start_lat</th>\n",
       "      <th>start_lng</th>\n",
       "      <th>end_lat</th>\n",
       "      <th>end_lng</th>\n",
       "      <th>member_casual</th>\n",
       "    </tr>\n",
       "  </thead>\n",
       "  <tbody>\n",
       "    <tr>\n",
       "      <th>0</th>\n",
       "      <td>BB947E92ADA0481D</td>\n",
       "      <td>electric_bike</td>\n",
       "      <td>2024-06-12 08:35:37.598000+00:00</td>\n",
       "      <td>2024-06-12 08:48:07.670000+00:00</td>\n",
       "      <td>None</td>\n",
       "      <td>nan</td>\n",
       "      <td>Kingston Ave &amp; Montgomery St</td>\n",
       "      <td>3759.07</td>\n",
       "      <td>40.65</td>\n",
       "      <td>-73.96</td>\n",
       "      <td>40.664810</td>\n",
       "      <td>-73.942690</td>\n",
       "      <td>casual</td>\n",
       "    </tr>\n",
       "    <tr>\n",
       "      <th>1</th>\n",
       "      <td>58238DBF8BC50DDE</td>\n",
       "      <td>electric_bike</td>\n",
       "      <td>2024-06-12 17:04:35.639000+00:00</td>\n",
       "      <td>2024-06-12 17:12:10.928000+00:00</td>\n",
       "      <td>None</td>\n",
       "      <td>nan</td>\n",
       "      <td>Wilson Ave &amp; Moffat St</td>\n",
       "      <td>4507.07</td>\n",
       "      <td>40.69</td>\n",
       "      <td>-73.91</td>\n",
       "      <td>40.689060</td>\n",
       "      <td>-73.905060</td>\n",
       "      <td>casual</td>\n",
       "    </tr>\n",
       "    <tr>\n",
       "      <th>2</th>\n",
       "      <td>9FBB757D2C62AB16</td>\n",
       "      <td>electric_bike</td>\n",
       "      <td>2024-06-12 18:36:09.571000+00:00</td>\n",
       "      <td>2024-06-12 18:48:37.153000+00:00</td>\n",
       "      <td>None</td>\n",
       "      <td>nan</td>\n",
       "      <td>Suydam St &amp; Knickerbocker Ave</td>\n",
       "      <td>4939.07</td>\n",
       "      <td>40.71</td>\n",
       "      <td>-73.92</td>\n",
       "      <td>40.702013</td>\n",
       "      <td>-73.923769</td>\n",
       "      <td>casual</td>\n",
       "    </tr>\n",
       "    <tr>\n",
       "      <th>3</th>\n",
       "      <td>AAF98782C6089B2E</td>\n",
       "      <td>electric_bike</td>\n",
       "      <td>2024-06-12 14:40:47.990000+00:00</td>\n",
       "      <td>2024-06-12 14:45:59.825000+00:00</td>\n",
       "      <td>None</td>\n",
       "      <td>nan</td>\n",
       "      <td>University Pl &amp; E 14 St</td>\n",
       "      <td>5905.14</td>\n",
       "      <td>40.74</td>\n",
       "      <td>-74.00</td>\n",
       "      <td>40.734814</td>\n",
       "      <td>-73.992085</td>\n",
       "      <td>casual</td>\n",
       "    </tr>\n",
       "    <tr>\n",
       "      <th>4</th>\n",
       "      <td>39A5636D51C91F3B</td>\n",
       "      <td>electric_bike</td>\n",
       "      <td>2024-06-12 19:53:11.913000+00:00</td>\n",
       "      <td>2024-06-12 20:28:13.922000+00:00</td>\n",
       "      <td>None</td>\n",
       "      <td>nan</td>\n",
       "      <td>90 St &amp; 51 Ave</td>\n",
       "      <td>6080.07</td>\n",
       "      <td>40.74</td>\n",
       "      <td>-73.87</td>\n",
       "      <td>40.739370</td>\n",
       "      <td>-73.874110</td>\n",
       "      <td>casual</td>\n",
       "    </tr>\n",
       "  </tbody>\n",
       "</table>\n",
       "</div>"
      ],
      "text/plain": [
       "            ride_id  rideable_type                       started_at  \\\n",
       "0  BB947E92ADA0481D  electric_bike 2024-06-12 08:35:37.598000+00:00   \n",
       "1  58238DBF8BC50DDE  electric_bike 2024-06-12 17:04:35.639000+00:00   \n",
       "2  9FBB757D2C62AB16  electric_bike 2024-06-12 18:36:09.571000+00:00   \n",
       "3  AAF98782C6089B2E  electric_bike 2024-06-12 14:40:47.990000+00:00   \n",
       "4  39A5636D51C91F3B  electric_bike 2024-06-12 19:53:11.913000+00:00   \n",
       "\n",
       "                          ended_at start_station_name start_station_id  \\\n",
       "0 2024-06-12 08:48:07.670000+00:00               None              nan   \n",
       "1 2024-06-12 17:12:10.928000+00:00               None              nan   \n",
       "2 2024-06-12 18:48:37.153000+00:00               None              nan   \n",
       "3 2024-06-12 14:45:59.825000+00:00               None              nan   \n",
       "4 2024-06-12 20:28:13.922000+00:00               None              nan   \n",
       "\n",
       "                end_station_name end_station_id  start_lat  start_lng  \\\n",
       "0   Kingston Ave & Montgomery St        3759.07      40.65     -73.96   \n",
       "1         Wilson Ave & Moffat St        4507.07      40.69     -73.91   \n",
       "2  Suydam St & Knickerbocker Ave        4939.07      40.71     -73.92   \n",
       "3        University Pl & E 14 St        5905.14      40.74     -74.00   \n",
       "4                 90 St & 51 Ave        6080.07      40.74     -73.87   \n",
       "\n",
       "     end_lat    end_lng member_casual  \n",
       "0  40.664810 -73.942690        casual  \n",
       "1  40.689060 -73.905060        casual  \n",
       "2  40.702013 -73.923769        casual  \n",
       "3  40.734814 -73.992085        casual  \n",
       "4  40.739370 -73.874110        casual  "
      ]
     },
     "execution_count": 13,
     "metadata": {},
     "output_type": "execute_result"
    }
   ],
   "source": [
    "query = f\"\"\"\n",
    "    SELECT *\n",
    "    FROM `{table_ref}`\n",
    "    WHERE start_station_name IS NULL\n",
    "    LIMIT 5\n",
    "\"\"\"\n",
    "\n",
    "df = client.query(query).to_dataframe()\n",
    "df"
   ]
  },
  {
   "cell_type": "markdown",
   "id": "09a6a0ff",
   "metadata": {},
   "source": [
    "For null *start_station_name* feature *start_station_id* has string value 'nan'. Is it case for all rows?"
   ]
  },
  {
   "cell_type": "code",
   "execution_count": 14,
   "id": "e46f1d0c",
   "metadata": {},
   "outputs": [
    {
     "data": {
      "text/html": [
       "<div>\n",
       "<style scoped>\n",
       "    .dataframe tbody tr th:only-of-type {\n",
       "        vertical-align: middle;\n",
       "    }\n",
       "\n",
       "    .dataframe tbody tr th {\n",
       "        vertical-align: top;\n",
       "    }\n",
       "\n",
       "    .dataframe thead th {\n",
       "        text-align: right;\n",
       "    }\n",
       "</style>\n",
       "<table border=\"1\" class=\"dataframe\">\n",
       "  <thead>\n",
       "    <tr style=\"text-align: right;\">\n",
       "      <th></th>\n",
       "      <th>cnt</th>\n",
       "    </tr>\n",
       "  </thead>\n",
       "  <tbody>\n",
       "    <tr>\n",
       "      <th>0</th>\n",
       "      <td>0</td>\n",
       "    </tr>\n",
       "  </tbody>\n",
       "</table>\n",
       "</div>"
      ],
      "text/plain": [
       "   cnt\n",
       "0    0"
      ]
     },
     "execution_count": 14,
     "metadata": {},
     "output_type": "execute_result"
    }
   ],
   "source": [
    "query = f\"\"\"\n",
    "    SELECT COUNT(*) as cnt\n",
    "    FROM `{table_ref}`\n",
    "    WHERE start_station_name IS NULL AND start_station_id != 'nan'\n",
    "\"\"\"\n",
    "\n",
    "df = client.query(query).to_dataframe()\n",
    "df"
   ]
  },
  {
   "cell_type": "markdown",
   "id": "222e15ee",
   "metadata": {},
   "source": [
    "There are no such rows."
   ]
  },
  {
   "cell_type": "markdown",
   "id": "1f962f9a",
   "metadata": {},
   "source": [
    "Any rows where *start_station_id* is 'nan' but *start_station_name* is not null?"
   ]
  },
  {
   "cell_type": "code",
   "execution_count": 15,
   "id": "6715d000",
   "metadata": {},
   "outputs": [
    {
     "data": {
      "text/html": [
       "<div>\n",
       "<style scoped>\n",
       "    .dataframe tbody tr th:only-of-type {\n",
       "        vertical-align: middle;\n",
       "    }\n",
       "\n",
       "    .dataframe tbody tr th {\n",
       "        vertical-align: top;\n",
       "    }\n",
       "\n",
       "    .dataframe thead th {\n",
       "        text-align: right;\n",
       "    }\n",
       "</style>\n",
       "<table border=\"1\" class=\"dataframe\">\n",
       "  <thead>\n",
       "    <tr style=\"text-align: right;\">\n",
       "      <th></th>\n",
       "      <th>cnt</th>\n",
       "    </tr>\n",
       "  </thead>\n",
       "  <tbody>\n",
       "    <tr>\n",
       "      <th>0</th>\n",
       "      <td>0</td>\n",
       "    </tr>\n",
       "  </tbody>\n",
       "</table>\n",
       "</div>"
      ],
      "text/plain": [
       "   cnt\n",
       "0    0"
      ]
     },
     "execution_count": 15,
     "metadata": {},
     "output_type": "execute_result"
    }
   ],
   "source": [
    "query = f\"\"\"\n",
    "    SELECT COUNT(*) as cnt\n",
    "    FROM `{table_ref}`\n",
    "    WHERE start_station_name IS NOT NULL AND start_station_id = 'nan'\n",
    "\"\"\"\n",
    "\n",
    "df = client.query(query).to_dataframe()\n",
    "df"
   ]
  },
  {
   "cell_type": "markdown",
   "id": "35de5095",
   "metadata": {},
   "source": [
    "There are no such rows as well."
   ]
  },
  {
   "cell_type": "markdown",
   "id": "223f9543",
   "metadata": {},
   "source": [
    "As it is same for all missing values and 30k is relatively small to 60m, entries with null *start_station_name* can be  removed to ensure accuracy of analysis and prediction."
   ]
  },
  {
   "cell_type": "code",
   "execution_count": 22,
   "id": "24ad2008",
   "metadata": {},
   "outputs": [
    {
     "data": {
      "text/plain": [
       "<google.cloud.bigquery.table._EmptyRowIterator at 0x78f195980e90>"
      ]
     },
     "execution_count": 22,
     "metadata": {},
     "output_type": "execute_result"
    }
   ],
   "source": [
    "query = f\"\"\"\n",
    "    CREATE OR REPLACE TABLE {cleaned_table_ref}\n",
    "    PARTITION BY DATE_TRUNC(started_at, MONTH)\n",
    "    CLUSTER BY member_casual, rideable_type \n",
    "        AS\n",
    "            SELECT * FROM `{table_ref}`\n",
    "            WHERE start_station_id != 'nan'\n",
    "\"\"\"\n",
    "\n",
    "job = client.query(query)\n",
    "job.result()\n"
   ]
  },
  {
   "cell_type": "markdown",
   "id": "7aa5931f",
   "metadata": {},
   "source": [
    "Next step is to check for ride time invlaid values like negative duration or too long ride."
   ]
  },
  {
   "cell_type": "code",
   "execution_count": 23,
   "id": "0f3a41d9",
   "metadata": {},
   "outputs": [
    {
     "name": "stdout",
     "output_type": "stream",
     "text": [
      "Minimum time is -57 minutes and maximum time is 1559 minutes.\n"
     ]
    }
   ],
   "source": [
    "query = f\"\"\"\n",
    "    SELECT \n",
    "        MIN(TIMESTAMP_DIFF(ended_at, started_at, MINUTE)) as min_ride_time,\n",
    "        MAX(TIMESTAMP_DIFF(ended_at, started_at, MINUTE)) as max_ride_time\n",
    "    FROM {cleaned_table_ref}\n",
    "\"\"\"\n",
    "\n",
    "df = client.query(query).to_dataframe()\n",
    "print(f'Minimum time is {df['min_ride_time'].iloc[0]} minutes and maximum time is {df['max_ride_time'].iloc[0]} minutes.')"
   ]
  },
  {
   "cell_type": "markdown",
   "id": "a9eba4ea",
   "metadata": {},
   "source": [
    "Minimum ride time is -57 minutes, which, of course, cannot be true."
   ]
  },
  {
   "cell_type": "markdown",
   "id": "5eab2e50",
   "metadata": {},
   "source": [
    "For one-time ride and Day Pass Citi Bike provides 30 minutes, after which user will be additionally charged $0.38/min. For users, who have year subscription ride is 45 minutes and after that $0.25/min: https://citibikenyc.com/pricing.\n"
   ]
  },
  {
   "cell_type": "markdown",
   "id": "d648ace1",
   "metadata": {},
   "source": [
    "It is highly unlikely, that user will drive 1559 minutes. For casual users it will be additional cost of $581.02 and for members $378.5."
   ]
  },
  {
   "cell_type": "markdown",
   "id": "4c9bb5e7",
   "metadata": {},
   "source": [
    "Let's see the proportions of rides less than 2 minutes, more than 45 minutes and more than 2 hours."
   ]
  },
  {
   "cell_type": "code",
   "execution_count": 24,
   "id": "a4e596c8",
   "metadata": {},
   "outputs": [
    {
     "data": {
      "text/html": [
       "<div>\n",
       "<style scoped>\n",
       "    .dataframe tbody tr th:only-of-type {\n",
       "        vertical-align: middle;\n",
       "    }\n",
       "\n",
       "    .dataframe tbody tr th {\n",
       "        vertical-align: top;\n",
       "    }\n",
       "\n",
       "    .dataframe thead th {\n",
       "        text-align: right;\n",
       "    }\n",
       "</style>\n",
       "<table border=\"1\" class=\"dataframe\">\n",
       "  <thead>\n",
       "    <tr style=\"text-align: right;\">\n",
       "      <th></th>\n",
       "      <th>total_trips</th>\n",
       "      <th>avg_time</th>\n",
       "      <th>pct_less_2_min</th>\n",
       "      <th>pct_over_45_min</th>\n",
       "      <th>pct_over_2_hours</th>\n",
       "    </tr>\n",
       "  </thead>\n",
       "  <tbody>\n",
       "    <tr>\n",
       "      <th>0</th>\n",
       "      <td>59738507</td>\n",
       "      <td>12.582068</td>\n",
       "      <td>3.41</td>\n",
       "      <td>2.03</td>\n",
       "      <td>0.24</td>\n",
       "    </tr>\n",
       "  </tbody>\n",
       "</table>\n",
       "</div>"
      ],
      "text/plain": [
       "   total_trips   avg_time  pct_less_2_min  pct_over_45_min  pct_over_2_hours\n",
       "0     59738507  12.582068            3.41             2.03              0.24"
      ]
     },
     "execution_count": 24,
     "metadata": {},
     "output_type": "execute_result"
    }
   ],
   "source": [
    "query = f\"\"\"\n",
    " SELECT\n",
    "  COUNT(*) AS total_trips,\n",
    "  AVG(TIMESTAMP_DIFF(ended_at, started_at, MINUTE)) as avg_time,\n",
    "  ROUND(100 * COUNTIF(TIMESTAMP_DIFF(ended_at, started_at, MINUTE) < 2) / COUNT(*), 2) AS pct_less_2_min,\n",
    "  ROUND(100 * COUNTIF(TIMESTAMP_DIFF(ended_at, started_at, MINUTE) > 45) / COUNT(*), 2) AS pct_over_45_min,\n",
    "  ROUND(100 * COUNTIF(TIMESTAMP_DIFF(ended_at, started_at, MINUTE) > 120) / COUNT(*), 2) AS pct_over_2_hours\n",
    "FROM\n",
    "  {cleaned_table_ref}\n",
    "WHERE\n",
    "  ended_at IS NOT NULL\n",
    "  AND started_at IS NOT NULL\n",
    "\"\"\"\n",
    "\n",
    "df =  client.query(query).to_dataframe()\n",
    "df"
   ]
  },
  {
   "cell_type": "markdown",
   "id": "77afe2fd",
   "metadata": {},
   "source": [
    "Rides with duration less than 2 minutes are most likely test rides and do not show usual user behaviour.\n",
    "\n",
    "Rides slighly over 45 minutes are highly possible as users can miss moment when they need to change bike to reset time.\n",
    "\n",
    "But rides over 2 hours are unlikely as they have great additional cost. \n",
    "\n",
    "Time that is less than 2 minutes and more than 2 hours will be filtered out."
   ]
  },
  {
   "cell_type": "code",
   "execution_count": 25,
   "id": "330d538d",
   "metadata": {},
   "outputs": [
    {
     "data": {
      "text/plain": [
       "<google.cloud.bigquery.table._EmptyRowIterator at 0x78f193f564b0>"
      ]
     },
     "execution_count": 25,
     "metadata": {},
     "output_type": "execute_result"
    }
   ],
   "source": [
    "query = f\"\"\"\n",
    "    DELETE\n",
    "    FROM {cleaned_table_ref}\n",
    "    WHERE \n",
    "        TIMESTAMP_DIFF(ended_at, started_at, MINUTE) < 2 \n",
    "    OR \n",
    "        TIMESTAMP_DIFF(ended_at, started_at, MINUTE) > 120\n",
    "\"\"\"\n",
    "\n",
    "job = client.query(query)\n",
    "job.result()"
   ]
  },
  {
   "cell_type": "markdown",
   "id": "91184ace",
   "metadata": {},
   "source": [
    "Proper *start_station_id* has 4 digits before point and 2 digits after point (e.g. 4074.17)"
   ]
  },
  {
   "cell_type": "code",
   "execution_count": 26,
   "id": "79f0152c",
   "metadata": {},
   "outputs": [
    {
     "data": {
      "text/html": [
       "<div>\n",
       "<style scoped>\n",
       "    .dataframe tbody tr th:only-of-type {\n",
       "        vertical-align: middle;\n",
       "    }\n",
       "\n",
       "    .dataframe tbody tr th {\n",
       "        vertical-align: top;\n",
       "    }\n",
       "\n",
       "    .dataframe thead th {\n",
       "        text-align: right;\n",
       "    }\n",
       "</style>\n",
       "<table border=\"1\" class=\"dataframe\">\n",
       "  <thead>\n",
       "    <tr style=\"text-align: right;\">\n",
       "      <th></th>\n",
       "      <th>start_station_id</th>\n",
       "    </tr>\n",
       "  </thead>\n",
       "  <tbody>\n",
       "    <tr>\n",
       "      <th>0</th>\n",
       "      <td>4137.1</td>\n",
       "    </tr>\n",
       "    <tr>\n",
       "      <th>1</th>\n",
       "      <td>7388.1</td>\n",
       "    </tr>\n",
       "    <tr>\n",
       "      <th>2</th>\n",
       "      <td>6242.1</td>\n",
       "    </tr>\n",
       "    <tr>\n",
       "      <th>3</th>\n",
       "      <td>5872.1</td>\n",
       "    </tr>\n",
       "    <tr>\n",
       "      <th>4</th>\n",
       "      <td>5854.1</td>\n",
       "    </tr>\n",
       "    <tr>\n",
       "      <th>...</th>\n",
       "      <td>...</td>\n",
       "    </tr>\n",
       "    <tr>\n",
       "      <th>174</th>\n",
       "      <td>JC008</td>\n",
       "    </tr>\n",
       "    <tr>\n",
       "      <th>175</th>\n",
       "      <td>JC074</td>\n",
       "    </tr>\n",
       "    <tr>\n",
       "      <th>176</th>\n",
       "      <td>JC018</td>\n",
       "    </tr>\n",
       "    <tr>\n",
       "      <th>177</th>\n",
       "      <td>JC022</td>\n",
       "    </tr>\n",
       "    <tr>\n",
       "      <th>178</th>\n",
       "      <td>6173.08_Pillar</td>\n",
       "    </tr>\n",
       "  </tbody>\n",
       "</table>\n",
       "<p>179 rows × 1 columns</p>\n",
       "</div>"
      ],
      "text/plain": [
       "    start_station_id\n",
       "0             4137.1\n",
       "1             7388.1\n",
       "2             6242.1\n",
       "3             5872.1\n",
       "4             5854.1\n",
       "..               ...\n",
       "174            JC008\n",
       "175            JC074\n",
       "176            JC018\n",
       "177            JC022\n",
       "178   6173.08_Pillar\n",
       "\n",
       "[179 rows x 1 columns]"
      ]
     },
     "execution_count": 26,
     "metadata": {},
     "output_type": "execute_result"
    }
   ],
   "source": [
    "regex = r'^\\d{4}\\.\\d{2}$'\n",
    "\n",
    "query = f\"\"\"\n",
    "    SELECT start_station_id\n",
    "    FROM {cleaned_table_ref}\n",
    "    WHERE NOT REGEXP_CONTAINS(start_station_id, r'{regex}')\n",
    "    GROUP BY start_station_id;\n",
    "\"\"\"\n",
    "\n",
    "df = client.query(query).to_dataframe()\n",
    "df"
   ]
  },
  {
   "cell_type": "markdown",
   "id": "8239afe2",
   "metadata": {},
   "source": [
    "IDs like JC075 correspond to New Jersey stations. As analysis and presiction focuses on rides only inside NYC, such entries can be removed."
   ]
  },
  {
   "cell_type": "code",
   "execution_count": 27,
   "id": "36775b82",
   "metadata": {},
   "outputs": [
    {
     "data": {
      "text/plain": [
       "<google.cloud.bigquery.table._EmptyRowIterator at 0x78f193f26750>"
      ]
     },
     "execution_count": 27,
     "metadata": {},
     "output_type": "execute_result"
    }
   ],
   "source": [
    "regex = r'^[A-Za-z]{2}\\d{3}$'\n",
    "\n",
    "query = f\"\"\"\n",
    "    DELETE \n",
    "    FROM {cleaned_table_ref}\n",
    "    WHERE REGEXP_CONTAINS(start_station_id, r'{regex}') OR REGEXP_CONTAINS(end_station_id, r'{regex}')\n",
    "\"\"\"\n",
    "\n",
    "job = client.query(query)\n",
    "job.result()"
   ]
  },
  {
   "cell_type": "markdown",
   "id": "dadfba35",
   "metadata": {},
   "source": [
    "Now let's see remaining IDs."
   ]
  },
  {
   "cell_type": "code",
   "execution_count": 28,
   "id": "eb1d89fc",
   "metadata": {},
   "outputs": [
    {
     "data": {
      "text/html": [
       "<div>\n",
       "<style scoped>\n",
       "    .dataframe tbody tr th:only-of-type {\n",
       "        vertical-align: middle;\n",
       "    }\n",
       "\n",
       "    .dataframe tbody tr th {\n",
       "        vertical-align: top;\n",
       "    }\n",
       "\n",
       "    .dataframe thead th {\n",
       "        text-align: right;\n",
       "    }\n",
       "</style>\n",
       "<table border=\"1\" class=\"dataframe\">\n",
       "  <thead>\n",
       "    <tr style=\"text-align: right;\">\n",
       "      <th></th>\n",
       "      <th>start_station_id</th>\n",
       "      <th>f0_</th>\n",
       "    </tr>\n",
       "  </thead>\n",
       "  <tbody>\n",
       "    <tr>\n",
       "      <th>0</th>\n",
       "      <td>3776.1</td>\n",
       "      <td>606</td>\n",
       "    </tr>\n",
       "    <tr>\n",
       "      <th>1</th>\n",
       "      <td>4821.1</td>\n",
       "      <td>2889</td>\n",
       "    </tr>\n",
       "    <tr>\n",
       "      <th>2</th>\n",
       "      <td>4994.1</td>\n",
       "      <td>1111</td>\n",
       "    </tr>\n",
       "    <tr>\n",
       "      <th>3</th>\n",
       "      <td>5430.1</td>\n",
       "      <td>3554</td>\n",
       "    </tr>\n",
       "    <tr>\n",
       "      <th>4</th>\n",
       "      <td>5872.1</td>\n",
       "      <td>8676</td>\n",
       "    </tr>\n",
       "    <tr>\n",
       "      <th>...</th>\n",
       "      <td>...</td>\n",
       "      <td>...</td>\n",
       "    </tr>\n",
       "    <tr>\n",
       "      <th>112</th>\n",
       "      <td>8647.1</td>\n",
       "      <td>150</td>\n",
       "    </tr>\n",
       "    <tr>\n",
       "      <th>113</th>\n",
       "      <td>8416.1</td>\n",
       "      <td>581</td>\n",
       "    </tr>\n",
       "    <tr>\n",
       "      <th>114</th>\n",
       "      <td>Lab - NYC - Monolith</td>\n",
       "      <td>7</td>\n",
       "    </tr>\n",
       "    <tr>\n",
       "      <th>115</th>\n",
       "      <td>5308.04_</td>\n",
       "      <td>44</td>\n",
       "    </tr>\n",
       "    <tr>\n",
       "      <th>116</th>\n",
       "      <td>LA Metro Demo 2</td>\n",
       "      <td>8</td>\n",
       "    </tr>\n",
       "  </tbody>\n",
       "</table>\n",
       "<p>117 rows × 2 columns</p>\n",
       "</div>"
      ],
      "text/plain": [
       "         start_station_id   f0_\n",
       "0                  3776.1   606\n",
       "1                  4821.1  2889\n",
       "2                  4994.1  1111\n",
       "3                  5430.1  3554\n",
       "4                  5872.1  8676\n",
       "..                    ...   ...\n",
       "112                8647.1   150\n",
       "113                8416.1   581\n",
       "114  Lab - NYC - Monolith     7\n",
       "115              5308.04_    44\n",
       "116       LA Metro Demo 2     8\n",
       "\n",
       "[117 rows x 2 columns]"
      ]
     },
     "execution_count": 28,
     "metadata": {},
     "output_type": "execute_result"
    }
   ],
   "source": [
    "regex = r'^\\d{4}\\.\\d{2}$'\n",
    "\n",
    "query = f\"\"\"\n",
    "    SELECT start_station_id, COUNT(*)\n",
    "    FROM {cleaned_table_ref}\n",
    "    WHERE NOT REGEXP_CONTAINS(start_station_id, r'{regex}')\n",
    "    GROUP BY start_station_id;\n",
    "\"\"\"\n",
    "\n",
    "df = client.query(query).to_dataframe()\n",
    "df"
   ]
  },
  {
   "cell_type": "markdown",
   "id": "90cc9dd2",
   "metadata": {},
   "source": [
    "IDs like 4366.1 seem to miss 0 at the end. But at first check if the *start_station_name* of these ivalid IDs are the same as for IDs with 0 at the end."
   ]
  },
  {
   "cell_type": "code",
   "execution_count": 29,
   "id": "7a7ec7de",
   "metadata": {},
   "outputs": [],
   "source": [
    "# Check if by cleaning invalid start_station_id it will have same start_station_name as valid one.\n",
    "def find_corresponding_station(regex_invalid_id, regex_valid_id, replace_id_query):\n",
    "    query = f\"\"\"\n",
    "        WITH invalid AS ( \n",
    "            SELECT start_station_id, start_station_name\n",
    "            FROM {cleaned_table_ref}\n",
    "            WHERE REGEXP_CONTAINS(start_station_id, r'{regex_invalid_id}')\n",
    "            GROUP BY start_station_id, start_station_name\n",
    "        ), \n",
    "        valid AS (\n",
    "            SELECT start_station_id, start_station_name\n",
    "            FROM {cleaned_table_ref}\n",
    "            WHERE REGEXP_CONTAINS(start_station_id, r'{regex_valid_id}')\n",
    "            GROUP BY start_station_id, start_station_name\n",
    "        )\n",
    "        SELECT * \n",
    "        FROM invalid\n",
    "        LEFT JOIN valid \n",
    "            ON {replace_id_query} = valid.start_station_id\n",
    "    \"\"\"\n",
    "\n",
    "    df = client.query(query).to_dataframe()\n",
    "    return df"
   ]
  },
  {
   "cell_type": "code",
   "execution_count": 30,
   "id": "d2ac5381",
   "metadata": {},
   "outputs": [
    {
     "data": {
      "text/html": [
       "<div>\n",
       "<style scoped>\n",
       "    .dataframe tbody tr th:only-of-type {\n",
       "        vertical-align: middle;\n",
       "    }\n",
       "\n",
       "    .dataframe tbody tr th {\n",
       "        vertical-align: top;\n",
       "    }\n",
       "\n",
       "    .dataframe thead th {\n",
       "        text-align: right;\n",
       "    }\n",
       "</style>\n",
       "<table border=\"1\" class=\"dataframe\">\n",
       "  <thead>\n",
       "    <tr style=\"text-align: right;\">\n",
       "      <th></th>\n",
       "      <th>start_station_id</th>\n",
       "      <th>start_station_name</th>\n",
       "      <th>start_station_id_1</th>\n",
       "      <th>start_station_name_1</th>\n",
       "    </tr>\n",
       "  </thead>\n",
       "  <tbody>\n",
       "    <tr>\n",
       "      <th>0</th>\n",
       "      <td>6332.1</td>\n",
       "      <td>Broadway &amp; 74 St</td>\n",
       "      <td>6332.10</td>\n",
       "      <td>Broadway &amp; 74 St</td>\n",
       "    </tr>\n",
       "    <tr>\n",
       "      <th>1</th>\n",
       "      <td>6364.1</td>\n",
       "      <td>6 Ave &amp; W 34 St</td>\n",
       "      <td>6364.10</td>\n",
       "      <td>6 Ave &amp; W 34 St</td>\n",
       "    </tr>\n",
       "    <tr>\n",
       "      <th>2</th>\n",
       "      <td>4249.1</td>\n",
       "      <td>St Marks Pl &amp; 4 Ave</td>\n",
       "      <td>4249.10</td>\n",
       "      <td>St Marks Pl &amp; 4 Ave</td>\n",
       "    </tr>\n",
       "    <tr>\n",
       "      <th>3</th>\n",
       "      <td>6923.2</td>\n",
       "      <td>31 St &amp; Newtown Ave</td>\n",
       "      <td>6923.20</td>\n",
       "      <td>31 St &amp; Newtown Ave</td>\n",
       "    </tr>\n",
       "    <tr>\n",
       "      <th>4</th>\n",
       "      <td>7669.1</td>\n",
       "      <td>E 138 St &amp; Cypress Ave</td>\n",
       "      <td>7669.10</td>\n",
       "      <td>E 138 St &amp; Cypress Ave</td>\n",
       "    </tr>\n",
       "    <tr>\n",
       "      <th>...</th>\n",
       "      <td>...</td>\n",
       "      <td>...</td>\n",
       "      <td>...</td>\n",
       "      <td>...</td>\n",
       "    </tr>\n",
       "    <tr>\n",
       "      <th>101</th>\n",
       "      <td>5024.1</td>\n",
       "      <td>Water St &amp; Fletcher St</td>\n",
       "      <td>5024.10</td>\n",
       "      <td>Water St &amp; Fletcher St</td>\n",
       "    </tr>\n",
       "    <tr>\n",
       "      <th>102</th>\n",
       "      <td>5779.1</td>\n",
       "      <td>E 14 St &amp; 1 Ave</td>\n",
       "      <td>5779.10</td>\n",
       "      <td>E 14 St &amp; 1 Ave</td>\n",
       "    </tr>\n",
       "    <tr>\n",
       "      <th>103</th>\n",
       "      <td>5854.1</td>\n",
       "      <td>Stuyvesant Walk &amp; 1 Ave Loop</td>\n",
       "      <td>5854.10</td>\n",
       "      <td>Stuyvesant Walk &amp; 1 Ave Loop</td>\n",
       "    </tr>\n",
       "    <tr>\n",
       "      <th>104</th>\n",
       "      <td>7230.1</td>\n",
       "      <td>W 74 St &amp; Columbus Ave</td>\n",
       "      <td>7230.10</td>\n",
       "      <td>W 74 St &amp; Columbus Ave</td>\n",
       "    </tr>\n",
       "    <tr>\n",
       "      <th>105</th>\n",
       "      <td>6869.1</td>\n",
       "      <td>Gillmore St &amp; 27 Ave</td>\n",
       "      <td>6869.10</td>\n",
       "      <td>Gillmore St &amp; 27 Ave</td>\n",
       "    </tr>\n",
       "  </tbody>\n",
       "</table>\n",
       "<p>106 rows × 4 columns</p>\n",
       "</div>"
      ],
      "text/plain": [
       "    start_station_id            start_station_name start_station_id_1  \\\n",
       "0             6332.1              Broadway & 74 St            6332.10   \n",
       "1             6364.1               6 Ave & W 34 St            6364.10   \n",
       "2             4249.1           St Marks Pl & 4 Ave            4249.10   \n",
       "3             6923.2           31 St & Newtown Ave            6923.20   \n",
       "4             7669.1        E 138 St & Cypress Ave            7669.10   \n",
       "..               ...                           ...                ...   \n",
       "101           5024.1        Water St & Fletcher St            5024.10   \n",
       "102           5779.1               E 14 St & 1 Ave            5779.10   \n",
       "103           5854.1  Stuyvesant Walk & 1 Ave Loop            5854.10   \n",
       "104           7230.1        W 74 St & Columbus Ave            7230.10   \n",
       "105           6869.1          Gillmore St & 27 Ave            6869.10   \n",
       "\n",
       "             start_station_name_1  \n",
       "0                Broadway & 74 St  \n",
       "1                 6 Ave & W 34 St  \n",
       "2             St Marks Pl & 4 Ave  \n",
       "3             31 St & Newtown Ave  \n",
       "4          E 138 St & Cypress Ave  \n",
       "..                            ...  \n",
       "101        Water St & Fletcher St  \n",
       "102               E 14 St & 1 Ave  \n",
       "103  Stuyvesant Walk & 1 Ave Loop  \n",
       "104        W 74 St & Columbus Ave  \n",
       "105          Gillmore St & 27 Ave  \n",
       "\n",
       "[106 rows x 4 columns]"
      ]
     },
     "execution_count": 30,
     "metadata": {},
     "output_type": "execute_result"
    }
   ],
   "source": [
    "regex_invalid_id = r'^\\d{4}\\.\\d{1}$'\n",
    "regex_valid_id = r'^\\d{4}\\.\\d{2}$'\n",
    "\n",
    "replace_id_query = \"CAST(FORMAT('%.2f', CAST(invalid.start_station_id AS FLOAT64)) AS STRING)\"\n",
    "\n",
    "df = find_corresponding_station(regex_invalid_id, regex_valid_id, replace_id_query)\n",
    "df"
   ]
  },
  {
   "cell_type": "markdown",
   "id": "ff7aa8f8",
   "metadata": {},
   "source": [
    "Stations with missing 0 in the end correspond to stations with proper IDs. Now it can be fixed with adding 0 to the end."
   ]
  },
  {
   "cell_type": "code",
   "execution_count": 31,
   "id": "94cb6b7e",
   "metadata": {},
   "outputs": [
    {
     "data": {
      "text/plain": [
       "<google.cloud.bigquery.table._EmptyRowIterator at 0x78f191c2ef00>"
      ]
     },
     "execution_count": 31,
     "metadata": {},
     "output_type": "execute_result"
    }
   ],
   "source": [
    "regex = r'^\\d{4}\\.\\d{1}$'\n",
    "\n",
    "query = f\"\"\"\n",
    "    UPDATE {cleaned_table_ref}\n",
    "    SET start_station_id = CAST(FORMAT('%.2f', CAST(start_station_id AS FLOAT64)) AS STRING)\n",
    "    WHERE REGEXP_CONTAINS(start_station_id, r'{regex}')\n",
    "\"\"\"\n",
    "job = client.query(query)\n",
    "job.result()"
   ]
  },
  {
   "cell_type": "markdown",
   "id": "e67063c1",
   "metadata": {},
   "source": [
    "Again see remaining IDs."
   ]
  },
  {
   "cell_type": "code",
   "execution_count": 32,
   "id": "b890f181",
   "metadata": {},
   "outputs": [
    {
     "data": {
      "text/html": [
       "<div>\n",
       "<style scoped>\n",
       "    .dataframe tbody tr th:only-of-type {\n",
       "        vertical-align: middle;\n",
       "    }\n",
       "\n",
       "    .dataframe tbody tr th {\n",
       "        vertical-align: top;\n",
       "    }\n",
       "\n",
       "    .dataframe thead th {\n",
       "        text-align: right;\n",
       "    }\n",
       "</style>\n",
       "<table border=\"1\" class=\"dataframe\">\n",
       "  <thead>\n",
       "    <tr style=\"text-align: right;\">\n",
       "      <th></th>\n",
       "      <th>start_station_id</th>\n",
       "      <th>f0_</th>\n",
       "    </tr>\n",
       "  </thead>\n",
       "  <tbody>\n",
       "    <tr>\n",
       "      <th>0</th>\n",
       "      <td>6247.06_Pillar</td>\n",
       "      <td>61</td>\n",
       "    </tr>\n",
       "    <tr>\n",
       "      <th>1</th>\n",
       "      <td>LA Metro Demo 2</td>\n",
       "      <td>8</td>\n",
       "    </tr>\n",
       "    <tr>\n",
       "      <th>2</th>\n",
       "      <td>SYS038</td>\n",
       "      <td>1239</td>\n",
       "    </tr>\n",
       "    <tr>\n",
       "      <th>3</th>\n",
       "      <td>SYS033</td>\n",
       "      <td>155</td>\n",
       "    </tr>\n",
       "    <tr>\n",
       "      <th>4</th>\n",
       "      <td>190 Morgan</td>\n",
       "      <td>5</td>\n",
       "    </tr>\n",
       "    <tr>\n",
       "      <th>5</th>\n",
       "      <td>LA Metro Demo 1</td>\n",
       "      <td>2</td>\n",
       "    </tr>\n",
       "    <tr>\n",
       "      <th>6</th>\n",
       "      <td>Shop Morgan</td>\n",
       "      <td>1037</td>\n",
       "    </tr>\n",
       "    <tr>\n",
       "      <th>7</th>\n",
       "      <td>Lab - NYC - Monolith</td>\n",
       "      <td>7</td>\n",
       "    </tr>\n",
       "    <tr>\n",
       "      <th>8</th>\n",
       "      <td>6569.09_</td>\n",
       "      <td>721</td>\n",
       "    </tr>\n",
       "    <tr>\n",
       "      <th>9</th>\n",
       "      <td>SYS025</td>\n",
       "      <td>1</td>\n",
       "    </tr>\n",
       "    <tr>\n",
       "      <th>10</th>\n",
       "      <td>SYS016</td>\n",
       "      <td>2334</td>\n",
       "    </tr>\n",
       "    <tr>\n",
       "      <th>11</th>\n",
       "      <td>6173.08_Pillar</td>\n",
       "      <td>2</td>\n",
       "    </tr>\n",
       "    <tr>\n",
       "      <th>12</th>\n",
       "      <td>Lab - NYC</td>\n",
       "      <td>4</td>\n",
       "    </tr>\n",
       "    <tr>\n",
       "      <th>13</th>\n",
       "      <td>5308.04_</td>\n",
       "      <td>44</td>\n",
       "    </tr>\n",
       "  </tbody>\n",
       "</table>\n",
       "</div>"
      ],
      "text/plain": [
       "        start_station_id   f0_\n",
       "0         6247.06_Pillar    61\n",
       "1        LA Metro Demo 2     8\n",
       "2                 SYS038  1239\n",
       "3                 SYS033   155\n",
       "4             190 Morgan     5\n",
       "5        LA Metro Demo 1     2\n",
       "6           Shop Morgan   1037\n",
       "7   Lab - NYC - Monolith     7\n",
       "8               6569.09_   721\n",
       "9                 SYS025     1\n",
       "10                SYS016  2334\n",
       "11        6173.08_Pillar     2\n",
       "12             Lab - NYC     4\n",
       "13              5308.04_    44"
      ]
     },
     "execution_count": 32,
     "metadata": {},
     "output_type": "execute_result"
    }
   ],
   "source": [
    "regex = r'^\\d{4}\\.\\d{2}$'\n",
    "\n",
    "query = f\"\"\"\n",
    "    SELECT start_station_id, COUNT(*)\n",
    "    FROM {cleaned_table_ref}\n",
    "    WHERE NOT REGEXP_CONTAINS(start_station_id, r'{regex}')\n",
    "    GROUP BY start_station_id;\n",
    "\"\"\"\n",
    "\n",
    "df = client.query(query).to_dataframe()\n",
    "df"
   ]
  },
  {
   "cell_type": "markdown",
   "id": "4e3ff6f6",
   "metadata": {},
   "source": [
    "IDs which look like SYS + 3 digits or contain words like 'Demo', 'Lab - NYC' and 'Morgan' will be removed as a potential stations for system purposes (testing, repairs) not for regular riders use."
   ]
  },
  {
   "cell_type": "code",
   "execution_count": 33,
   "id": "dc139feb",
   "metadata": {},
   "outputs": [
    {
     "data": {
      "text/plain": [
       "<google.cloud.bigquery.table._EmptyRowIterator at 0x78f191c0b6b0>"
      ]
     },
     "execution_count": 33,
     "metadata": {},
     "output_type": "execute_result"
    }
   ],
   "source": [
    "regex_patterns = [\n",
    "    r'^SYS\\d{3}$',          # SYS + 3 digits\n",
    "    r'(?i)Demo',            # Contains \"Demo\"\n",
    "    r'(?i)Lab - NYC',       # Contains \"Lab - NYC\"\n",
    "    r'(?i)Morgan'           # Contains \"Morgan\"\n",
    "]\n",
    "\n",
    "combined_pattern = '|'.join(regex_patterns)\n",
    "\n",
    "query = f\"\"\"\n",
    "    DELETE FROM {cleaned_table_ref}\n",
    "    WHERE REGEXP_CONTAINS(start_station_id, r'{combined_pattern}')\n",
    "\"\"\"\n",
    "\n",
    "job = client.query(query)\n",
    "job.result()"
   ]
  },
  {
   "cell_type": "markdown",
   "id": "544f202c",
   "metadata": {},
   "source": [
    "For IDs with underscore at the end (6569.09_) condact same check to see if they correspond to stations IDs with no underscore."
   ]
  },
  {
   "cell_type": "code",
   "execution_count": 34,
   "id": "bde434fc",
   "metadata": {},
   "outputs": [
    {
     "data": {
      "text/html": [
       "<div>\n",
       "<style scoped>\n",
       "    .dataframe tbody tr th:only-of-type {\n",
       "        vertical-align: middle;\n",
       "    }\n",
       "\n",
       "    .dataframe tbody tr th {\n",
       "        vertical-align: top;\n",
       "    }\n",
       "\n",
       "    .dataframe thead th {\n",
       "        text-align: right;\n",
       "    }\n",
       "</style>\n",
       "<table border=\"1\" class=\"dataframe\">\n",
       "  <thead>\n",
       "    <tr style=\"text-align: right;\">\n",
       "      <th></th>\n",
       "      <th>start_station_id</th>\n",
       "      <th>start_station_name</th>\n",
       "      <th>start_station_id_1</th>\n",
       "      <th>start_station_name_1</th>\n",
       "    </tr>\n",
       "  </thead>\n",
       "  <tbody>\n",
       "    <tr>\n",
       "      <th>0</th>\n",
       "      <td>6569.09_</td>\n",
       "      <td>W 35 St &amp; 9 Ave</td>\n",
       "      <td>6569.09</td>\n",
       "      <td>W 35 St &amp; 9 Ave</td>\n",
       "    </tr>\n",
       "    <tr>\n",
       "      <th>1</th>\n",
       "      <td>5308.04_</td>\n",
       "      <td>Metropolitan Ave &amp; Bedford Ave</td>\n",
       "      <td>5308.04</td>\n",
       "      <td>Metropolitan Ave &amp; Bedford Ave</td>\n",
       "    </tr>\n",
       "  </tbody>\n",
       "</table>\n",
       "</div>"
      ],
      "text/plain": [
       "  start_station_id               start_station_name start_station_id_1  \\\n",
       "0         6569.09_                  W 35 St & 9 Ave            6569.09   \n",
       "1         5308.04_  Metropolitan Ave & Bedford Ave             5308.04   \n",
       "\n",
       "             start_station_name_1  \n",
       "0                 W 35 St & 9 Ave  \n",
       "1  Metropolitan Ave & Bedford Ave  "
      ]
     },
     "execution_count": 34,
     "metadata": {},
     "output_type": "execute_result"
    }
   ],
   "source": [
    "regex_invalid_id = r'^\\d{4}\\.\\d{2}_$'\n",
    "regex_valid_id = r'^\\d{4}\\.\\d{2}$'\n",
    "\n",
    "replace_id_query = \"REPLACE(invalid.start_station_id, '_', '')\"\n",
    "\n",
    "df = find_corresponding_station(regex_invalid_id, regex_valid_id, replace_id_query)\n",
    "df"
   ]
  },
  {
   "cell_type": "markdown",
   "id": "319d0ad8",
   "metadata": {},
   "source": [
    "We can now remove underscore."
   ]
  },
  {
   "cell_type": "code",
   "execution_count": 35,
   "id": "2c3b4920",
   "metadata": {},
   "outputs": [
    {
     "data": {
      "text/plain": [
       "<google.cloud.bigquery.table._EmptyRowIterator at 0x78f191c1de80>"
      ]
     },
     "execution_count": 35,
     "metadata": {},
     "output_type": "execute_result"
    }
   ],
   "source": [
    "regex = r'^\\d+\\.\\d+_$'\n",
    "\n",
    "query = f\"\"\"\n",
    "    UPDATE {cleaned_table_ref}\n",
    "    SET \n",
    "        start_station_id = \n",
    "        CASE \n",
    "            WHEN REGEXP_CONTAINS(start_station_id, r'{regex}')\n",
    "                THEN REPLACE(start_station_id, '_', '')\n",
    "            ELSE start_station_id\n",
    "        END\n",
    "    WHERE \n",
    "        REGEXP_CONTAINS(start_station_id, r'{regex}')\n",
    "\"\"\"\n",
    "\n",
    "job = client.query(query)\n",
    "job.result()"
   ]
  },
  {
   "cell_type": "markdown",
   "id": "ae02a44e",
   "metadata": {},
   "source": [
    "Same chech for IDs with _Pillar"
   ]
  },
  {
   "cell_type": "code",
   "execution_count": 36,
   "id": "4564190a",
   "metadata": {},
   "outputs": [
    {
     "data": {
      "text/html": [
       "<div>\n",
       "<style scoped>\n",
       "    .dataframe tbody tr th:only-of-type {\n",
       "        vertical-align: middle;\n",
       "    }\n",
       "\n",
       "    .dataframe tbody tr th {\n",
       "        vertical-align: top;\n",
       "    }\n",
       "\n",
       "    .dataframe thead th {\n",
       "        text-align: right;\n",
       "    }\n",
       "</style>\n",
       "<table border=\"1\" class=\"dataframe\">\n",
       "  <thead>\n",
       "    <tr style=\"text-align: right;\">\n",
       "      <th></th>\n",
       "      <th>start_station_id</th>\n",
       "      <th>start_station_name</th>\n",
       "      <th>start_station_id_1</th>\n",
       "      <th>start_station_name_1</th>\n",
       "    </tr>\n",
       "  </thead>\n",
       "  <tbody>\n",
       "    <tr>\n",
       "      <th>0</th>\n",
       "      <td>6173.08_Pillar</td>\n",
       "      <td>Pillar Broadway &amp; W 25 St</td>\n",
       "      <td>6173.08</td>\n",
       "      <td>Broadway &amp; W 25 St</td>\n",
       "    </tr>\n",
       "    <tr>\n",
       "      <th>1</th>\n",
       "      <td>6247.06_Pillar</td>\n",
       "      <td>Pillar W 27 St &amp; 7 Ave</td>\n",
       "      <td>6247.06</td>\n",
       "      <td>W 27 St &amp; 7 Ave</td>\n",
       "    </tr>\n",
       "  </tbody>\n",
       "</table>\n",
       "</div>"
      ],
      "text/plain": [
       "  start_station_id         start_station_name start_station_id_1  \\\n",
       "0   6173.08_Pillar  Pillar Broadway & W 25 St            6173.08   \n",
       "1   6247.06_Pillar     Pillar W 27 St & 7 Ave            6247.06   \n",
       "\n",
       "  start_station_name_1  \n",
       "0   Broadway & W 25 St  \n",
       "1      W 27 St & 7 Ave  "
      ]
     },
     "execution_count": 36,
     "metadata": {},
     "output_type": "execute_result"
    }
   ],
   "source": [
    "regex_invalid_id = r'^\\d{4}\\.\\d{2}_Pillar$'\n",
    "regex_valid_id = r'^\\d{4}\\.\\d{2}$'\n",
    "\n",
    "replace_id_query = \"REPLACE(invalid.start_station_id, '_Pillar', '')\"\n",
    "\n",
    "df = find_corresponding_station(regex_invalid_id, regex_valid_id, replace_id_query)\n",
    "df"
   ]
  },
  {
   "cell_type": "markdown",
   "id": "9a4c2452",
   "metadata": {},
   "source": [
    "Unlike other IDs, they also have Pillar in the name. It also should be removed."
   ]
  },
  {
   "cell_type": "code",
   "execution_count": 37,
   "id": "91b6861f",
   "metadata": {},
   "outputs": [
    {
     "data": {
      "text/plain": [
       "<google.cloud.bigquery.table._EmptyRowIterator at 0x78f191c1deb0>"
      ]
     },
     "execution_count": 37,
     "metadata": {},
     "output_type": "execute_result"
    }
   ],
   "source": [
    "regex_id = r'_Pillar$'\n",
    "regex_name = r'(?i)\\s*Pillar\\s*'\n",
    "\n",
    "query = f\"\"\"\n",
    "    UPDATE {cleaned_table_ref}\n",
    "    SET \n",
    "        start_station_id = CASE \n",
    "            WHEN REGEXP_CONTAINS(start_station_id, r'Pillar') THEN REGEXP_REPLACE(start_station_id, r'{regex_id}', '') \n",
    "            ELSE start_station_id END,\n",
    "        start_station_name = CASE \n",
    "            WHEN REGEXP_CONTAINS(start_station_name, r'Pillar') THEN TRIM(REGEXP_REPLACE(start_station_name, r'{regex_name}', ' ')) \n",
    "            ELSE start_station_name END\n",
    "        WHERE \n",
    "            REGEXP_CONTAINS(start_station_id, r'Pillar') OR\n",
    "            REGEXP_CONTAINS(start_station_name, r'Pillar')\n",
    "\"\"\"\n",
    "\n",
    "job = client.query(query)\n",
    "job.result()\n"
   ]
  },
  {
   "cell_type": "code",
   "execution_count": 38,
   "id": "91d22488",
   "metadata": {},
   "outputs": [
    {
     "data": {
      "text/html": [
       "<div>\n",
       "<style scoped>\n",
       "    .dataframe tbody tr th:only-of-type {\n",
       "        vertical-align: middle;\n",
       "    }\n",
       "\n",
       "    .dataframe tbody tr th {\n",
       "        vertical-align: top;\n",
       "    }\n",
       "\n",
       "    .dataframe thead th {\n",
       "        text-align: right;\n",
       "    }\n",
       "</style>\n",
       "<table border=\"1\" class=\"dataframe\">\n",
       "  <thead>\n",
       "    <tr style=\"text-align: right;\">\n",
       "      <th></th>\n",
       "      <th>start_station_name</th>\n",
       "      <th>start_station_id</th>\n",
       "      <th>f0_</th>\n",
       "    </tr>\n",
       "  </thead>\n",
       "  <tbody>\n",
       "  </tbody>\n",
       "</table>\n",
       "</div>"
      ],
      "text/plain": [
       "Empty DataFrame\n",
       "Columns: [start_station_name, start_station_id, f0_]\n",
       "Index: []"
      ]
     },
     "execution_count": 38,
     "metadata": {},
     "output_type": "execute_result"
    }
   ],
   "source": [
    "query = f\"\"\"\n",
    "    SELECT start_station_name, start_station_id, COUNT(*)\n",
    "    FROM `{cleaned_table_ref}`\n",
    "    WHERE start_station_id IS NULL OR SAFE_CAST(start_station_id AS FLOAT64) IS NULL\n",
    "    GROUP BY start_station_name, start_station_id;\n",
    "\"\"\"\n",
    "\n",
    "df = client.query(query).to_dataframe()\n",
    "df"
   ]
  },
  {
   "cell_type": "markdown",
   "id": "8b58fcfe",
   "metadata": {},
   "source": [
    "As all IDs are clean, we can now move on to check duplicate values. Does same *start_station_id* has more than one *start_station_name*?"
   ]
  },
  {
   "cell_type": "code",
   "execution_count": 39,
   "id": "f430f6a8",
   "metadata": {},
   "outputs": [
    {
     "data": {
      "text/html": [
       "<div>\n",
       "<style scoped>\n",
       "    .dataframe tbody tr th:only-of-type {\n",
       "        vertical-align: middle;\n",
       "    }\n",
       "\n",
       "    .dataframe tbody tr th {\n",
       "        vertical-align: top;\n",
       "    }\n",
       "\n",
       "    .dataframe thead th {\n",
       "        text-align: right;\n",
       "    }\n",
       "</style>\n",
       "<table border=\"1\" class=\"dataframe\">\n",
       "  <thead>\n",
       "    <tr style=\"text-align: right;\">\n",
       "      <th></th>\n",
       "      <th>start_station_name</th>\n",
       "      <th>start_station_id</th>\n",
       "    </tr>\n",
       "  </thead>\n",
       "  <tbody>\n",
       "    <tr>\n",
       "      <th>1581</th>\n",
       "      <td>Eastern Pkwy &amp; St Marks Ave</td>\n",
       "      <td>3982.01</td>\n",
       "    </tr>\n",
       "    <tr>\n",
       "      <th>1312</th>\n",
       "      <td>Eastern Pkwy\\t&amp; St Marks Ave</td>\n",
       "      <td>3982.01</td>\n",
       "    </tr>\n",
       "    <tr>\n",
       "      <th>1357</th>\n",
       "      <td>Bridge St &amp; Water St</td>\n",
       "      <td>4968.03</td>\n",
       "    </tr>\n",
       "    <tr>\n",
       "      <th>1046</th>\n",
       "      <td>Bridge St &amp; Front St</td>\n",
       "      <td>4968.03</td>\n",
       "    </tr>\n",
       "    <tr>\n",
       "      <th>171</th>\n",
       "      <td>Metropolitan Ave &amp; Bedford Ave</td>\n",
       "      <td>5308.04</td>\n",
       "    </tr>\n",
       "    <tr>\n",
       "      <th>2227</th>\n",
       "      <td>Metropolitan Ave &amp; Bedford Ave</td>\n",
       "      <td>5308.04</td>\n",
       "    </tr>\n",
       "    <tr>\n",
       "      <th>1324</th>\n",
       "      <td>Morton St &amp; Greenwich St</td>\n",
       "      <td>5772.05</td>\n",
       "    </tr>\n",
       "    <tr>\n",
       "      <th>1860</th>\n",
       "      <td>Morton St &amp; Washington St</td>\n",
       "      <td>5772.05</td>\n",
       "    </tr>\n",
       "    <tr>\n",
       "      <th>1725</th>\n",
       "      <td>34 Ave &amp; Vernon Blvd</td>\n",
       "      <td>6873.01</td>\n",
       "    </tr>\n",
       "    <tr>\n",
       "      <th>847</th>\n",
       "      <td>34th Ave &amp; Vernon Blvd</td>\n",
       "      <td>6873.01</td>\n",
       "    </tr>\n",
       "    <tr>\n",
       "      <th>1874</th>\n",
       "      <td>Central Park West &amp; W 68 St</td>\n",
       "      <td>7079.06</td>\n",
       "    </tr>\n",
       "    <tr>\n",
       "      <th>1049</th>\n",
       "      <td>Central Park W &amp; W 68 St</td>\n",
       "      <td>7079.06</td>\n",
       "    </tr>\n",
       "    <tr>\n",
       "      <th>518</th>\n",
       "      <td>Central Park W &amp; W 72 St</td>\n",
       "      <td>7141.07</td>\n",
       "    </tr>\n",
       "    <tr>\n",
       "      <th>1106</th>\n",
       "      <td>Central Park West &amp; W 72 St</td>\n",
       "      <td>7141.07</td>\n",
       "    </tr>\n",
       "    <tr>\n",
       "      <th>787</th>\n",
       "      <td>3 Ave &amp; E 82 St</td>\n",
       "      <td>7154.10</td>\n",
       "    </tr>\n",
       "    <tr>\n",
       "      <th>1651</th>\n",
       "      <td>3 Ave &amp; E 81 St</td>\n",
       "      <td>7154.10</td>\n",
       "    </tr>\n",
       "    <tr>\n",
       "      <th>519</th>\n",
       "      <td>Central Park W &amp; W 76 St</td>\n",
       "      <td>7253.04</td>\n",
       "    </tr>\n",
       "    <tr>\n",
       "      <th>1230</th>\n",
       "      <td>Central Park West &amp; W 76 St</td>\n",
       "      <td>7253.04</td>\n",
       "    </tr>\n",
       "    <tr>\n",
       "      <th>572</th>\n",
       "      <td>W 82 St &amp; Central Park West</td>\n",
       "      <td>7304.08</td>\n",
       "    </tr>\n",
       "    <tr>\n",
       "      <th>2098</th>\n",
       "      <td>W 82 St &amp; Central Park W</td>\n",
       "      <td>7304.08</td>\n",
       "    </tr>\n",
       "    <tr>\n",
       "      <th>1359</th>\n",
       "      <td>Central Park West &amp; W 85 St</td>\n",
       "      <td>7354.01</td>\n",
       "    </tr>\n",
       "    <tr>\n",
       "      <th>260</th>\n",
       "      <td>Central Park W &amp; W 85 St</td>\n",
       "      <td>7354.01</td>\n",
       "    </tr>\n",
       "    <tr>\n",
       "      <th>1283</th>\n",
       "      <td>Icahn Stadium Plaza</td>\n",
       "      <td>7514.06</td>\n",
       "    </tr>\n",
       "    <tr>\n",
       "      <th>1844</th>\n",
       "      <td>Ichan Stadium Plaza</td>\n",
       "      <td>7514.06</td>\n",
       "    </tr>\n",
       "    <tr>\n",
       "      <th>1360</th>\n",
       "      <td>W 106 St &amp; Central Park West</td>\n",
       "      <td>7606.01</td>\n",
       "    </tr>\n",
       "    <tr>\n",
       "      <th>786</th>\n",
       "      <td>W 106 St &amp; Central Park W</td>\n",
       "      <td>7606.01</td>\n",
       "    </tr>\n",
       "    <tr>\n",
       "      <th>2201</th>\n",
       "      <td>5 Av &amp; W 139 St</td>\n",
       "      <td>7851.04</td>\n",
       "    </tr>\n",
       "    <tr>\n",
       "      <th>383</th>\n",
       "      <td>5 Ave &amp; W 139 St</td>\n",
       "      <td>7851.04</td>\n",
       "    </tr>\n",
       "    <tr>\n",
       "      <th>311</th>\n",
       "      <td>W 168 St &amp; Ft Washington Ave</td>\n",
       "      <td>8226.07</td>\n",
       "    </tr>\n",
       "    <tr>\n",
       "      <th>520</th>\n",
       "      <td>W 168 St &amp; Fort Washington Ave</td>\n",
       "      <td>8226.07</td>\n",
       "    </tr>\n",
       "    <tr>\n",
       "      <th>1841</th>\n",
       "      <td>W 180 St &amp; Fort Washington Ave</td>\n",
       "      <td>8358.03</td>\n",
       "    </tr>\n",
       "    <tr>\n",
       "      <th>702</th>\n",
       "      <td>W 180 St &amp; Ft Washington Ave</td>\n",
       "      <td>8358.03</td>\n",
       "    </tr>\n",
       "  </tbody>\n",
       "</table>\n",
       "</div>"
      ],
      "text/plain": [
       "                   start_station_name start_station_id\n",
       "1581      Eastern Pkwy & St Marks Ave          3982.01\n",
       "1312     Eastern Pkwy\\t& St Marks Ave          3982.01\n",
       "1357             Bridge St & Water St          4968.03\n",
       "1046             Bridge St & Front St          4968.03\n",
       "171    Metropolitan Ave & Bedford Ave          5308.04\n",
       "2227  Metropolitan Ave & Bedford Ave           5308.04\n",
       "1324         Morton St & Greenwich St          5772.05\n",
       "1860        Morton St & Washington St          5772.05\n",
       "1725             34 Ave & Vernon Blvd          6873.01\n",
       "847            34th Ave & Vernon Blvd          6873.01\n",
       "1874      Central Park West & W 68 St          7079.06\n",
       "1049         Central Park W & W 68 St          7079.06\n",
       "518          Central Park W & W 72 St          7141.07\n",
       "1106      Central Park West & W 72 St          7141.07\n",
       "787                   3 Ave & E 82 St          7154.10\n",
       "1651                  3 Ave & E 81 St          7154.10\n",
       "519          Central Park W & W 76 St          7253.04\n",
       "1230      Central Park West & W 76 St          7253.04\n",
       "572       W 82 St & Central Park West          7304.08\n",
       "2098         W 82 St & Central Park W          7304.08\n",
       "1359      Central Park West & W 85 St          7354.01\n",
       "260          Central Park W & W 85 St          7354.01\n",
       "1283              Icahn Stadium Plaza          7514.06\n",
       "1844              Ichan Stadium Plaza          7514.06\n",
       "1360     W 106 St & Central Park West          7606.01\n",
       "786         W 106 St & Central Park W          7606.01\n",
       "2201                  5 Av & W 139 St          7851.04\n",
       "383                  5 Ave & W 139 St          7851.04\n",
       "311      W 168 St & Ft Washington Ave          8226.07\n",
       "520    W 168 St & Fort Washington Ave          8226.07\n",
       "1841   W 180 St & Fort Washington Ave          8358.03\n",
       "702      W 180 St & Ft Washington Ave          8358.03"
      ]
     },
     "execution_count": 39,
     "metadata": {},
     "output_type": "execute_result"
    }
   ],
   "source": [
    "query = f\"\"\"\n",
    "    SELECT start_station_name, start_station_id\n",
    "    FROM {cleaned_table_ref}\n",
    "    GROUP BY start_station_name, start_station_id\n",
    "\"\"\"\n",
    "\n",
    "df = client.query(query).to_dataframe()\n",
    "df[df['start_station_id'].duplicated(keep=False)].sort_values(by='start_station_id')"
   ]
  },
  {
   "cell_type": "markdown",
   "id": "c7dfe7b4",
   "metadata": {},
   "source": [
    "Some stations are identified as duplicates because of different name formatting (e.g West | W). Also, **Ichan Stadium Plaza** station contains typo and should be **Icahn Stadium Plaza**."
   ]
  },
  {
   "cell_type": "code",
   "execution_count": 40,
   "id": "273723ec",
   "metadata": {},
   "outputs": [
    {
     "data": {
      "text/plain": [
       "<google.cloud.bigquery.table._EmptyRowIterator at 0x78f1958c8920>"
      ]
     },
     "execution_count": 40,
     "metadata": {},
     "output_type": "execute_result"
    }
   ],
   "source": [
    "convert_names = {\n",
    "    'West': 'W',\n",
    "    'Fort': 'Ft',\n",
    "    'Av': 'Ave',\n",
    "    'Ichan Stadium': 'Icahn Stadium'\n",
    "}\n",
    "\n",
    "sql_expr = \"start_station_name\"\n",
    "for old, new in convert_names.items():\n",
    "    sql_expr = f\"REGEXP_REPLACE({sql_expr}, r'\\\\b{old}\\\\b', '{new}')\"\n",
    "\n",
    "conditions = []\n",
    "for old, new in convert_names.items():\n",
    "    conditions.append(f\"start_station_name LIKE '%{old}%'\")\n",
    "clause = ' OR '.join(conditions)\n",
    "\n",
    "query = f\"\"\"\n",
    "    UPDATE {cleaned_table_ref}\n",
    "    SET start_station_name = {sql_expr}\n",
    "    WHERE {clause}\n",
    "\"\"\"\n",
    "\n",
    "job = client.query(query)\n",
    "job.result()"
   ]
  },
  {
   "cell_type": "markdown",
   "id": "0237ac41",
   "metadata": {},
   "source": [
    "Station **Eastern Pkwy\\t& St Marks Ave** contains **\\t** which should be removed."
   ]
  },
  {
   "cell_type": "code",
   "execution_count": 41,
   "id": "ca210e4b",
   "metadata": {},
   "outputs": [
    {
     "data": {
      "text/plain": [
       "<google.cloud.bigquery.table._EmptyRowIterator at 0x78f191c71d60>"
      ]
     },
     "execution_count": 41,
     "metadata": {},
     "output_type": "execute_result"
    }
   ],
   "source": [
    "pattern = r'\\\\t'\n",
    "\n",
    "query = f\"\"\"\n",
    "    UPDATE {cleaned_table_ref}\n",
    "    SET start_station_name = REGEXP_REPLACE(start_station_name, r'{pattern}', ' ')\n",
    "    WHERE REGEXP_CONTAINS(start_station_name, r'{pattern}')\n",
    "\"\"\"\n",
    "\n",
    "job = client.query(query)\n",
    "job.result()"
   ]
  },
  {
   "cell_type": "markdown",
   "id": "d149112f",
   "metadata": {},
   "source": [
    "From search by station name using https://citibikenyc.com/homepage on 2025-07-02, there is no **Bridge St & Water St** station but **Bridge St & Front St**, no **Morton St & Washington St**, but **Morton St & Greenwich St**, no **3 Ave & E 81 St**, but **3 Ave & E 82 St**"
   ]
  },
  {
   "cell_type": "code",
   "execution_count": 42,
   "id": "bbd694b3",
   "metadata": {},
   "outputs": [
    {
     "data": {
      "text/plain": [
       "<google.cloud.bigquery.table._EmptyRowIterator at 0x78f193f54410>"
      ]
     },
     "execution_count": 42,
     "metadata": {},
     "output_type": "execute_result"
    }
   ],
   "source": [
    "convert_names = {\n",
    "    'Bridge St & Water St': 'Bridge St & Front St',\n",
    "    'Morton St & Washington St': 'Morton St & Greenwich St',\n",
    "    '3 Ave & E 81 St': '3 Ave & E 82 St'\n",
    "}\n",
    "\n",
    "case_statements_start = []\n",
    "for old, new in convert_names.items():\n",
    "    case_statements_start.append(f\"WHEN start_station_name = '{old}' THEN '{new}'\")\n",
    "\n",
    "query = f\"\"\"\n",
    "    UPDATE {cleaned_table_ref}\n",
    "    SET start_station_name = CASE {' '.join(case_statements_start)} ELSE start_station_name END\n",
    "    WHERE start_station_name IN ({', '.join(f\"'{old}'\" for old in convert_names.keys())})\n",
    "\"\"\"\n",
    "\n",
    "job = client.query(query)\n",
    "job.result()"
   ]
  },
  {
   "cell_type": "markdown",
   "id": "8311ec7d",
   "metadata": {},
   "source": [
    "**34th Ave & Vernon Blvd** contains ordinal suffix. It should be removed."
   ]
  },
  {
   "cell_type": "code",
   "execution_count": 43,
   "id": "c941f485",
   "metadata": {},
   "outputs": [
    {
     "data": {
      "text/plain": [
       "<google.cloud.bigquery.table._EmptyRowIterator at 0x78f193f02240>"
      ]
     },
     "execution_count": 43,
     "metadata": {},
     "output_type": "execute_result"
    }
   ],
   "source": [
    "pattern = r'(\\d+)(st|nd|rd|th)\\b'\n",
    "replace = r'\\1'\n",
    "\n",
    "query = f\"\"\"\n",
    "    UPDATE {cleaned_table_ref}\n",
    "    SET start_station_name = REGEXP_REPLACE(start_station_name, r'{pattern}', r'{replace}')\n",
    "    WHERE REGEXP_CONTAINS(start_station_name, r'{pattern}')\n",
    "\"\"\"\n",
    "\n",
    "job = client.query(query)\n",
    "job.result()"
   ]
  },
  {
   "cell_type": "markdown",
   "id": "98e626e3",
   "metadata": {},
   "source": [
    "Remove any leading and trailing whitespaces and replace multiple spaces with a single space."
   ]
  },
  {
   "cell_type": "code",
   "execution_count": 44,
   "id": "1b9a29b2",
   "metadata": {},
   "outputs": [
    {
     "name": "stderr",
     "output_type": "stream",
     "text": [
      "<>:7: SyntaxWarning: invalid escape sequence '\\s'\n",
      "<>:7: SyntaxWarning: invalid escape sequence '\\s'\n",
      "/tmp/ipykernel_7767/1832362109.py:7: SyntaxWarning: invalid escape sequence '\\s'\n",
      "  \"\"\"\n"
     ]
    },
    {
     "data": {
      "text/plain": [
       "<google.cloud.bigquery.table._EmptyRowIterator at 0x78f191c58710>"
      ]
     },
     "execution_count": 44,
     "metadata": {},
     "output_type": "execute_result"
    }
   ],
   "source": [
    "regex = r'^\\s+|\\s+$|\\s{2,}'\n",
    "\n",
    "query = f\"\"\"\n",
    "    UPDATE {cleaned_table_ref}\n",
    "    SET start_station_name = REGEXP_REPLACE(TRIM(start_station_name), r'\\s+', ' ')\n",
    "    WHERE REGEXP_CONTAINS(start_station_name, r'{regex}')\n",
    "\"\"\"\n",
    "\n",
    "job = client.query(query)\n",
    "job.result()"
   ]
  },
  {
   "cell_type": "markdown",
   "id": "ede3be27",
   "metadata": {},
   "source": [
    "Check for any duplicates after cleaning."
   ]
  },
  {
   "cell_type": "code",
   "execution_count": 45,
   "id": "aaa38a2c",
   "metadata": {},
   "outputs": [
    {
     "data": {
      "text/html": [
       "<div>\n",
       "<style scoped>\n",
       "    .dataframe tbody tr th:only-of-type {\n",
       "        vertical-align: middle;\n",
       "    }\n",
       "\n",
       "    .dataframe tbody tr th {\n",
       "        vertical-align: top;\n",
       "    }\n",
       "\n",
       "    .dataframe thead th {\n",
       "        text-align: right;\n",
       "    }\n",
       "</style>\n",
       "<table border=\"1\" class=\"dataframe\">\n",
       "  <thead>\n",
       "    <tr style=\"text-align: right;\">\n",
       "      <th></th>\n",
       "      <th>start_station_name</th>\n",
       "      <th>start_station_id</th>\n",
       "      <th>f0_</th>\n",
       "    </tr>\n",
       "  </thead>\n",
       "  <tbody>\n",
       "  </tbody>\n",
       "</table>\n",
       "</div>"
      ],
      "text/plain": [
       "Empty DataFrame\n",
       "Columns: [start_station_name, start_station_id, f0_]\n",
       "Index: []"
      ]
     },
     "execution_count": 45,
     "metadata": {},
     "output_type": "execute_result"
    }
   ],
   "source": [
    "query = f\"\"\"\n",
    "    SELECT start_station_name, start_station_id, COUNT(*)\n",
    "    FROM {cleaned_table_ref}\n",
    "    GROUP BY start_station_name, start_station_id\n",
    "\"\"\"\n",
    "\n",
    "df = client.query(query).to_dataframe()\n",
    "df[df['start_station_id'].duplicated(keep=False)].sort_values(by='start_station_id')"
   ]
  },
  {
   "cell_type": "markdown",
   "id": "8c9e03d6",
   "metadata": {},
   "source": [
    "No duplicate values left."
   ]
  },
  {
   "cell_type": "markdown",
   "id": "f73c1364",
   "metadata": {},
   "source": [
    "Finally, create new columns for further easier work with query, such as *day_of_week* and *ride_time*."
   ]
  },
  {
   "cell_type": "code",
   "execution_count": 46,
   "id": "92544a6e",
   "metadata": {},
   "outputs": [
    {
     "data": {
      "text/plain": [
       "Table(TableReference(DatasetReference('nyc-transportation-462009', 'city_mobility_data'), 'citibike_nyc_trips_cleaned'))"
      ]
     },
     "execution_count": 46,
     "metadata": {},
     "output_type": "execute_result"
    }
   ],
   "source": [
    "table = client.get_table(cleaned_table_ref)\n",
    "schema = table.schema\n",
    "new_columns = [\n",
    "    bigquery.SchemaField(\"day_of_week\", \"STRING\", mode=\"NULLABLE\"),\n",
    "    bigquery.SchemaField(\"ride_time\", \"FLOAT\", mode=\"NULLABLE\")\n",
    "]\n",
    "\n",
    "new_schema = schema[:] + new_columns\n",
    "table.schema = new_schema\n",
    "\n",
    "client.update_table(table, ['schema'])"
   ]
  },
  {
   "cell_type": "code",
   "execution_count": 47,
   "id": "814c1353",
   "metadata": {},
   "outputs": [
    {
     "data": {
      "text/plain": [
       "<google.cloud.bigquery.table._EmptyRowIterator at 0x78f191cac710>"
      ]
     },
     "execution_count": 47,
     "metadata": {},
     "output_type": "execute_result"
    }
   ],
   "source": [
    "query = f\"\"\"\n",
    "    UPDATE {cleaned_table_ref}\n",
    "    SET day_of_week = \n",
    "        CASE EXTRACT(DAYOFWEEK FROM started_at) \n",
    "            WHEN 1 THEN 'Sunday'\n",
    "            WHEN 2 THEN 'Monday' \n",
    "            WHEN 3 THEN 'Tuesday'\n",
    "            WHEN 4 THEN 'Wednesday'\n",
    "            WHEN 5 THEN 'Thursday'\n",
    "            WHEN 6 THEN 'Friday'\n",
    "            WHEN 7 THEN 'Saturday'\n",
    "        END,\n",
    "        ride_time = TIMESTAMP_DIFF(ended_at, started_at, MINUTE)\n",
    "    WHERE TRUE\n",
    "\"\"\"\n",
    "\n",
    "job = client.query(query)\n",
    "job.result()"
   ]
  },
  {
   "cell_type": "markdown",
   "id": "23aa3c54",
   "metadata": {},
   "source": [
    "## Exploratory Data Analysis (EDA)"
   ]
  },
  {
   "cell_type": "markdown",
   "id": "db719178",
   "metadata": {},
   "source": [
    "Start with checking *member_casual* to see different user categories."
   ]
  },
  {
   "cell_type": "code",
   "execution_count": 7,
   "id": "93f5fe33",
   "metadata": {},
   "outputs": [
    {
     "data": {
      "text/html": [
       "<div>\n",
       "<style scoped>\n",
       "    .dataframe tbody tr th:only-of-type {\n",
       "        vertical-align: middle;\n",
       "    }\n",
       "\n",
       "    .dataframe tbody tr th {\n",
       "        vertical-align: top;\n",
       "    }\n",
       "\n",
       "    .dataframe thead th {\n",
       "        text-align: right;\n",
       "    }\n",
       "</style>\n",
       "<table border=\"1\" class=\"dataframe\">\n",
       "  <thead>\n",
       "    <tr style=\"text-align: right;\">\n",
       "      <th></th>\n",
       "      <th>member_casual</th>\n",
       "    </tr>\n",
       "  </thead>\n",
       "  <tbody>\n",
       "    <tr>\n",
       "      <th>0</th>\n",
       "      <td>member</td>\n",
       "    </tr>\n",
       "    <tr>\n",
       "      <th>1</th>\n",
       "      <td>casual</td>\n",
       "    </tr>\n",
       "  </tbody>\n",
       "</table>\n",
       "</div>"
      ],
      "text/plain": [
       "  member_casual\n",
       "0        member\n",
       "1        casual"
      ]
     },
     "execution_count": 7,
     "metadata": {},
     "output_type": "execute_result"
    }
   ],
   "source": [
    "query = f\"\"\"\n",
    "    SELECT DISTINCT member_casual\n",
    "    FROM {cleaned_table_ref}\n",
    "\"\"\"\n",
    "\n",
    "df = client.query(query).to_dataframe()\n",
    "df"
   ]
  },
  {
   "cell_type": "markdown",
   "id": "049b46e2",
   "metadata": {},
   "source": [
    "And *rideable_type* for bike types."
   ]
  },
  {
   "cell_type": "code",
   "execution_count": 8,
   "id": "e360c1fa",
   "metadata": {},
   "outputs": [
    {
     "data": {
      "text/html": [
       "<div>\n",
       "<style scoped>\n",
       "    .dataframe tbody tr th:only-of-type {\n",
       "        vertical-align: middle;\n",
       "    }\n",
       "\n",
       "    .dataframe tbody tr th {\n",
       "        vertical-align: top;\n",
       "    }\n",
       "\n",
       "    .dataframe thead th {\n",
       "        text-align: right;\n",
       "    }\n",
       "</style>\n",
       "<table border=\"1\" class=\"dataframe\">\n",
       "  <thead>\n",
       "    <tr style=\"text-align: right;\">\n",
       "      <th></th>\n",
       "      <th>rideable_type</th>\n",
       "    </tr>\n",
       "  </thead>\n",
       "  <tbody>\n",
       "    <tr>\n",
       "      <th>0</th>\n",
       "      <td>electric_bike</td>\n",
       "    </tr>\n",
       "    <tr>\n",
       "      <th>1</th>\n",
       "      <td>classic_bike</td>\n",
       "    </tr>\n",
       "  </tbody>\n",
       "</table>\n",
       "</div>"
      ],
      "text/plain": [
       "   rideable_type\n",
       "0  electric_bike\n",
       "1   classic_bike"
      ]
     },
     "execution_count": 8,
     "metadata": {},
     "output_type": "execute_result"
    }
   ],
   "source": [
    "query = f\"\"\"\n",
    "    SELECT DISTINCT rideable_type\n",
    "    FROM {cleaned_table_ref}\n",
    "\"\"\"\n",
    "\n",
    "df = client.query(query).to_dataframe()\n",
    "df"
   ]
  },
  {
   "cell_type": "markdown",
   "id": "39268867",
   "metadata": {},
   "source": [
    "Is there any difference in average ride time between casuals and members?"
   ]
  },
  {
   "cell_type": "code",
   "execution_count": 112,
   "id": "fe3a2c46",
   "metadata": {},
   "outputs": [
    {
     "name": "stdout",
     "output_type": "stream",
     "text": [
      "Average ridetime for members is 10.79 minutes.\n",
      "Average ridetime for casual users is 17.23 minutes.\n",
      "\n",
      "Difference is 6.44 minutes.\n"
     ]
    }
   ],
   "source": [
    "query = f\"\"\"\n",
    "    SELECT member_casual, AVG(ride_time) AS avg_time\n",
    "    FROM {cleaned_table_ref}\n",
    "    GROUP BY member_casual\n",
    "\"\"\"\n",
    "\n",
    "df = client.query(query).to_dataframe()\n",
    "\n",
    "member_avg_time = df[df['member_casual'] == 'member']['avg_time'].iloc[0]\n",
    "casual_avg_time = df[df['member_casual'] == 'casual']['avg_time'].iloc[0]\n",
    "\n",
    "print(f'Average ridetime for members is {np.round(member_avg_time, 2)} minutes.')\n",
    "print(f'Average ridetime for casual users is {np.round(casual_avg_time, 2)} minutes.')\n",
    "print()\n",
    "print(f'Difference is {np.round(np.abs(member_avg_time - casual_avg_time), 2)} minutes.')"
   ]
  },
  {
   "cell_type": "markdown",
   "id": "74dd5012",
   "metadata": {},
   "source": [
    "6 minutes is a great indicator that *member_casual* can have strong influence on user ride time.\n",
    "\n",
    "Is average time different for members and casuals on different bike types? "
   ]
  },
  {
   "cell_type": "code",
   "execution_count": 113,
   "id": "c17f2bc8",
   "metadata": {},
   "outputs": [
    {
     "name": "stdout",
     "output_type": "stream",
     "text": [
      "Average ridetime for members on classic bike is 10.69 and on electric bike is 10.84.\n",
      "Average ridetime for casuals on classic bike is 19.41 and on electric bike is 16.41.\n"
     ]
    }
   ],
   "source": [
    "query = f\"\"\"\n",
    "    SELECT member_casual, rideable_type, AVG(ride_time) AS avg_time\n",
    "    FROM {cleaned_table_ref}\n",
    "    GROUP BY member_casual, rideable_type\n",
    "\"\"\"\n",
    "\n",
    "df = client.query(query).to_dataframe()\n",
    "\n",
    "member_classic_time = df[(df['member_casual'] == 'member') & (df['rideable_type'] == 'classic_bike')]['avg_time'].iloc[0]\n",
    "member_electric_time = df[(df['member_casual'] == 'member') & (df['rideable_type'] == 'electric_bike')]['avg_time'].iloc[0]\n",
    "\n",
    "casual_classic_time = df[(df['member_casual'] == 'casual') & (df['rideable_type'] == 'classic_bike')]['avg_time'].iloc[0]\n",
    "casual_electric_time = df[(df['member_casual'] == 'casual') & (df['rideable_type'] == 'electric_bike')]['avg_time'].iloc[0]\n",
    "\n",
    "print(f'Average ridetime for members on classic bike is {np.round(member_classic_time, 2)} and on electric bike is {np.round(member_electric_time, 2)}.')\n",
    "print(f'Average ridetime for casuals on classic bike is {np.round(casual_classic_time, 2)} and on electric bike is {np.round(casual_electric_time, 2)}.')"
   ]
  },
  {
   "cell_type": "code",
   "execution_count": 6,
   "id": "f822af2d",
   "metadata": {},
   "outputs": [
    {
     "data": {
      "image/png": "[encoded data removed]",
      "text/plain": [
       "<Figure size 640x480 with 1 Axes>"
      ]
     },
     "metadata": {},
     "output_type": "display_data"
    }
   ],
   "source": [
    "query = f\"\"\"\n",
    "    SELECT member_casual, rideable_type, AVG(ride_time) AS avg_time\n",
    "    FROM {cleaned_table_ref}\n",
    "    GROUP BY member_casual, rideable_type\n",
    "\"\"\"\n",
    "\n",
    "df = client.query(query).to_dataframe()\n",
    "\n",
    "ax = sns.barplot(data=df, x='member_casual', y='avg_time', hue='rideable_type')\n",
    "\n",
    "handles, _ = ax.get_legend_handles_labels()\n",
    "\n",
    "plt.title('Average Ride Time for Members vs Casuals by Bike Type')\n",
    "plt.xlabel('')\n",
    "plt.ylabel('Average Time')\n",
    "plt.legend(title='Bike Type', handles=handles, labels=['Electric Bike', 'Classic Bike'])\n",
    "plt.show()"
   ]
  },
  {
   "cell_type": "markdown",
   "id": "d2a9be6c",
   "metadata": {},
   "source": [
    "Although members do not have any difference by bike type, it shows that casuals on average ride classic bike longer."
   ]
  },
  {
   "cell_type": "markdown",
   "id": "df842b01",
   "metadata": {},
   "source": [
    "Check average time based on day of week."
   ]
  },
  {
   "cell_type": "code",
   "execution_count": 58,
   "id": "1dbe2bcb",
   "metadata": {},
   "outputs": [
    {
     "data": {
      "image/png": "[encoded data removed]",
      "text/plain": [
       "<Figure size 1400x600 with 2 Axes>"
      ]
     },
     "metadata": {},
     "output_type": "display_data"
    }
   ],
   "source": [
    "query = f\"\"\"\n",
    "    SELECT \n",
    "        member_casual,\n",
    "        rideable_type,\n",
    "        day_of_week, \n",
    "        AVG(ride_time) as avg_time\n",
    "        FROM {cleaned_table_ref}\n",
    "    GROUP BY member_casual, rideable_type, day_of_week\n",
    "\"\"\"\n",
    "\n",
    "df = client.query(query).to_dataframe()\n",
    "\n",
    "custom_dict = {'Sunday': 0, 'Monday': 1, 'Tuesday': 2, 'Wednesday': 3, 'Thursday': 4, 'Friday': 5, 'Saturday': 6} \n",
    "df = df.sort_values(by='day_of_week', key=lambda x: x.map(custom_dict))\n",
    "\n",
    "member_df = df[df['member_casual'] == 'member']\n",
    "casual_df = df[df['member_casual'] == 'casual']\n",
    "\n",
    "fig, ax = plt.subplots(1,2, figsize=(14, 6), sharex=True)\n",
    "\n",
    "bar1 = sns.barplot(data=member_df, x='day_of_week', y='avg_time', hue='rideable_type', hue_order=['electric_bike', 'classic_bike'], ax=ax[0])\n",
    "bar2 = sns.barplot(data=casual_df, x='day_of_week', y='avg_time', hue='rideable_type', hue_order=['electric_bike', 'classic_bike'], ax=ax[1])\n",
    "\n",
    "labels = ['Electric Bike', 'Classic Bike']\n",
    "handles, _ = bar1.get_legend_handles_labels()\n",
    "\n",
    "ax[0].tick_params(labelrotation=45)\n",
    "ax[0].get_legend().remove()\n",
    "ax[0].set_xlabel('Member')\n",
    "ax[0].set_ylabel('Average Time')\n",
    "\n",
    "ax[1].tick_params(labelrotation=45)\n",
    "ax[1].get_legend().remove()\n",
    "ax[1].set_xlabel('Casual')\n",
    "ax[1].set_ylabel('Average Time')\n",
    "\n",
    "fig.legend(title='Bike Type', handles=handles, labels=labels, loc='upper right')\n",
    "\n",
    "plt.suptitle('Average Ride Time by Day of Week and Bike Type for Different User Groups')\n",
    "plt.show()"
   ]
  },
  {
   "cell_type": "markdown",
   "id": "88e114a0",
   "metadata": {},
   "source": [
    "Members and casuals show different patterns of usage during the week. Members tend to ride longer on weekends and have around same time for each workday, while casual average time decreases by mid week and then start to increase."
   ]
  },
  {
   "cell_type": "markdown",
   "id": "fe6e1570",
   "metadata": {},
   "source": [
    "Do hour trends have differences?"
   ]
  },
  {
   "cell_type": "code",
   "execution_count": 52,
   "id": "d31b957d",
   "metadata": {},
   "outputs": [
    {
     "data": {
      "image/png": "[encoded data removed]",
      "text/plain": [
       "<Figure size 1400x600 with 2 Axes>"
      ]
     },
     "metadata": {},
     "output_type": "display_data"
    }
   ],
   "source": [
    "query = f\"\"\"\n",
    "    SELECT \n",
    "        member_casual,\n",
    "        rideable_type,\n",
    "        EXTRACT(HOUR FROM started_at) as hour, \n",
    "        AVG(ride_time) as avg_time\n",
    "        FROM {cleaned_table_ref}\n",
    "    GROUP BY member_casual, rideable_type, hour\n",
    "\"\"\"\n",
    "\n",
    "df = client.query(query).to_dataframe()\n",
    "df = df.sort_values(by='hour')\n",
    "\n",
    "member_df = df[df['member_casual'] == 'member']\n",
    "casual_df = df[df['member_casual'] == 'casual']\n",
    "\n",
    "fig, ax = plt.subplots(1,2, figsize=(14, 6))\n",
    "\n",
    "line1 = sns.lineplot(data=member_df, x='hour', y='avg_time', hue='rideable_type', hue_order=['electric_bike', 'classic_bike'], ax=ax[0])\n",
    "line2 = sns.lineplot(data=casual_df, x='hour', y='avg_time', hue='rideable_type', hue_order=['electric_bike', 'classic_bike'], ax=ax[1])\n",
    "\n",
    "labels = ['Electric Bike', 'Classic Bike']\n",
    "handles, _ = line1.get_legend_handles_labels()\n",
    "\n",
    "ax[0].tick_params(labelrotation=45)\n",
    "ax[0].get_legend().remove()\n",
    "ax[0].set_xlabel('Member')\n",
    "ax[0].set_ylabel('Average Time')\n",
    "\n",
    "ax[1].tick_params(labelrotation=45)\n",
    "ax[1].get_legend().remove()\n",
    "ax[1].set_xlabel('Casual')\n",
    "ax[1].set_ylabel('Average Time')\n",
    "\n",
    "fig.legend(title='Bike Type', handles=handles, labels=labels, loc='upper right')\n",
    "\n",
    "plt.suptitle('Average Ride Time by Hour and Bike Type for Different User Groups')\n",
    "plt.show()"
   ]
  },
  {
   "cell_type": "markdown",
   "id": "71713c68",
   "metadata": {},
   "source": [
    "For all groups. Average ride time increases from 5 am to peak at around 3pm and then decreases from 3pm to 5am respectively. "
   ]
  },
  {
   "cell_type": "markdown",
   "id": "14f97cc7",
   "metadata": {},
   "source": [
    "Now check the statistic of ride time for each group by top 30 most popular start stations."
   ]
  },
  {
   "cell_type": "code",
   "execution_count": 56,
   "id": "c29ef32f",
   "metadata": {},
   "outputs": [
    {
     "data": {
      "text/html": [
       "<div>\n",
       "<style scoped>\n",
       "    .dataframe tbody tr th:only-of-type {\n",
       "        vertical-align: middle;\n",
       "    }\n",
       "\n",
       "    .dataframe tbody tr th {\n",
       "        vertical-align: top;\n",
       "    }\n",
       "\n",
       "    .dataframe thead th {\n",
       "        text-align: right;\n",
       "    }\n",
       "</style>\n",
       "<table border=\"1\" class=\"dataframe\">\n",
       "  <thead>\n",
       "    <tr style=\"text-align: right;\">\n",
       "      <th></th>\n",
       "      <th>count</th>\n",
       "      <th>mean</th>\n",
       "      <th>std</th>\n",
       "      <th>min</th>\n",
       "      <th>25%</th>\n",
       "      <th>50%</th>\n",
       "      <th>75%</th>\n",
       "      <th>max</th>\n",
       "    </tr>\n",
       "  </thead>\n",
       "  <tbody>\n",
       "    <tr>\n",
       "      <th>avg_ride</th>\n",
       "      <td>30.0</td>\n",
       "      <td>10.153593</td>\n",
       "      <td>1.826928</td>\n",
       "      <td>6.749079</td>\n",
       "      <td>8.95196</td>\n",
       "      <td>9.840749</td>\n",
       "      <td>11.056347</td>\n",
       "      <td>16.022707</td>\n",
       "    </tr>\n",
       "  </tbody>\n",
       "</table>\n",
       "</div>"
      ],
      "text/plain": [
       "          count       mean       std       min      25%       50%        75%  \\\n",
       "avg_ride   30.0  10.153593  1.826928  6.749079  8.95196  9.840749  11.056347   \n",
       "\n",
       "                max  \n",
       "avg_ride  16.022707  "
      ]
     },
     "execution_count": 56,
     "metadata": {},
     "output_type": "execute_result"
    }
   ],
   "source": [
    "query = f\"\"\"\n",
    "    SELECT start_station_name, AVG(ride_time) as avg_ride\n",
    "    FROM {cleaned_table_ref}\n",
    "    WHERE member_casual = 'member' AND rideable_type = 'classic_bike'\n",
    "    GROUP BY start_station_name\n",
    "    ORDER BY COUNT(*) DESC\n",
    "    LIMIT 30\n",
    "\"\"\"\n",
    "\n",
    "df = client.query(query).to_dataframe()\n",
    "df.describe().T"
   ]
  },
  {
   "cell_type": "markdown",
   "id": "8c3b8ce6",
   "metadata": {},
   "source": [
    "For members using classic bikes interquartile range (IQR) is 2 minutes. Considering that the average is 10 minutes and standart deviation is 1.82, this suggests a relatively small deviation in ride times."
   ]
  },
  {
   "cell_type": "code",
   "execution_count": 55,
   "id": "e459b513",
   "metadata": {},
   "outputs": [
    {
     "data": {
      "text/html": [
       "<div>\n",
       "<style scoped>\n",
       "    .dataframe tbody tr th:only-of-type {\n",
       "        vertical-align: middle;\n",
       "    }\n",
       "\n",
       "    .dataframe tbody tr th {\n",
       "        vertical-align: top;\n",
       "    }\n",
       "\n",
       "    .dataframe thead th {\n",
       "        text-align: right;\n",
       "    }\n",
       "</style>\n",
       "<table border=\"1\" class=\"dataframe\">\n",
       "  <thead>\n",
       "    <tr style=\"text-align: right;\">\n",
       "      <th></th>\n",
       "      <th>count</th>\n",
       "      <th>mean</th>\n",
       "      <th>std</th>\n",
       "      <th>min</th>\n",
       "      <th>25%</th>\n",
       "      <th>50%</th>\n",
       "      <th>75%</th>\n",
       "      <th>max</th>\n",
       "    </tr>\n",
       "  </thead>\n",
       "  <tbody>\n",
       "    <tr>\n",
       "      <th>avg_ride</th>\n",
       "      <td>30.0</td>\n",
       "      <td>10.242454</td>\n",
       "      <td>0.936022</td>\n",
       "      <td>8.64326</td>\n",
       "      <td>9.514332</td>\n",
       "      <td>10.231167</td>\n",
       "      <td>10.740913</td>\n",
       "      <td>12.389036</td>\n",
       "    </tr>\n",
       "  </tbody>\n",
       "</table>\n",
       "</div>"
      ],
      "text/plain": [
       "          count       mean       std      min       25%        50%        75%  \\\n",
       "avg_ride   30.0  10.242454  0.936022  8.64326  9.514332  10.231167  10.740913   \n",
       "\n",
       "                max  \n",
       "avg_ride  12.389036  "
      ]
     },
     "execution_count": 55,
     "metadata": {},
     "output_type": "execute_result"
    }
   ],
   "source": [
    "query = f\"\"\"\n",
    "    SELECT start_station_name, AVG(ride_time) as avg_ride\n",
    "    FROM {cleaned_table_ref}\n",
    "    WHERE member_casual = 'member' AND rideable_type = 'electric_bike'\n",
    "    GROUP BY start_station_name\n",
    "    ORDER BY COUNT(*) DESC\n",
    "    LIMIT 30\n",
    "\"\"\"\n",
    "\n",
    "df = client.query(query).to_dataframe()\n",
    "df.describe().T"
   ]
  },
  {
   "cell_type": "markdown",
   "id": "f0bdbcf2",
   "metadata": {},
   "source": [
    "Same for members using electric bike. IQR is only 1 minute with an average of 10 minutes."
   ]
  },
  {
   "cell_type": "code",
   "execution_count": 53,
   "id": "38540f6f",
   "metadata": {},
   "outputs": [
    {
     "data": {
      "text/html": [
       "<div>\n",
       "<style scoped>\n",
       "    .dataframe tbody tr th:only-of-type {\n",
       "        vertical-align: middle;\n",
       "    }\n",
       "\n",
       "    .dataframe tbody tr th {\n",
       "        vertical-align: top;\n",
       "    }\n",
       "\n",
       "    .dataframe thead th {\n",
       "        text-align: right;\n",
       "    }\n",
       "</style>\n",
       "<table border=\"1\" class=\"dataframe\">\n",
       "  <thead>\n",
       "    <tr style=\"text-align: right;\">\n",
       "      <th></th>\n",
       "      <th>count</th>\n",
       "      <th>mean</th>\n",
       "      <th>std</th>\n",
       "      <th>min</th>\n",
       "      <th>25%</th>\n",
       "      <th>50%</th>\n",
       "      <th>75%</th>\n",
       "      <th>max</th>\n",
       "    </tr>\n",
       "  </thead>\n",
       "  <tbody>\n",
       "    <tr>\n",
       "      <th>avg_ride</th>\n",
       "      <td>30.0</td>\n",
       "      <td>25.201518</td>\n",
       "      <td>5.790302</td>\n",
       "      <td>15.86233</td>\n",
       "      <td>20.678327</td>\n",
       "      <td>23.946339</td>\n",
       "      <td>28.728095</td>\n",
       "      <td>37.169646</td>\n",
       "    </tr>\n",
       "  </tbody>\n",
       "</table>\n",
       "</div>"
      ],
      "text/plain": [
       "          count       mean       std       min        25%        50%  \\\n",
       "avg_ride   30.0  25.201518  5.790302  15.86233  20.678327  23.946339   \n",
       "\n",
       "                75%        max  \n",
       "avg_ride  28.728095  37.169646  "
      ]
     },
     "execution_count": 53,
     "metadata": {},
     "output_type": "execute_result"
    }
   ],
   "source": [
    "query = f\"\"\"\n",
    "    SELECT start_station_name, AVG(ride_time) as avg_ride\n",
    "    FROM {cleaned_table_ref}\n",
    "    WHERE member_casual = 'casual' AND rideable_type = 'classic_bike'\n",
    "    GROUP BY start_station_name\n",
    "    ORDER BY COUNT(*) DESC\n",
    "    LIMIT 30\n",
    "\"\"\"\n",
    "\n",
    "df = client.query(query).to_dataframe()\n",
    "df.describe().T"
   ]
  },
  {
   "cell_type": "markdown",
   "id": "f3c35390",
   "metadata": {},
   "source": [
    "But for casuals situation is different. For classic bike IQR is 8.05 minutes, which is about 32% of the mean. Standart deviation is 5.79 minutes. That suggests a large deviation."
   ]
  },
  {
   "cell_type": "code",
   "execution_count": 54,
   "id": "66b9f3f5",
   "metadata": {},
   "outputs": [
    {
     "data": {
      "text/html": [
       "<div>\n",
       "<style scoped>\n",
       "    .dataframe tbody tr th:only-of-type {\n",
       "        vertical-align: middle;\n",
       "    }\n",
       "\n",
       "    .dataframe tbody tr th {\n",
       "        vertical-align: top;\n",
       "    }\n",
       "\n",
       "    .dataframe thead th {\n",
       "        text-align: right;\n",
       "    }\n",
       "</style>\n",
       "<table border=\"1\" class=\"dataframe\">\n",
       "  <thead>\n",
       "    <tr style=\"text-align: right;\">\n",
       "      <th></th>\n",
       "      <th>count</th>\n",
       "      <th>mean</th>\n",
       "      <th>std</th>\n",
       "      <th>min</th>\n",
       "      <th>25%</th>\n",
       "      <th>50%</th>\n",
       "      <th>75%</th>\n",
       "      <th>max</th>\n",
       "    </tr>\n",
       "  </thead>\n",
       "  <tbody>\n",
       "    <tr>\n",
       "      <th>avg_ride</th>\n",
       "      <td>30.0</td>\n",
       "      <td>21.287636</td>\n",
       "      <td>7.073902</td>\n",
       "      <td>12.76908</td>\n",
       "      <td>16.016164</td>\n",
       "      <td>17.70479</td>\n",
       "      <td>27.401014</td>\n",
       "      <td>35.64091</td>\n",
       "    </tr>\n",
       "  </tbody>\n",
       "</table>\n",
       "</div>"
      ],
      "text/plain": [
       "          count       mean       std       min        25%       50%  \\\n",
       "avg_ride   30.0  21.287636  7.073902  12.76908  16.016164  17.70479   \n",
       "\n",
       "                75%       max  \n",
       "avg_ride  27.401014  35.64091  "
      ]
     },
     "execution_count": 54,
     "metadata": {},
     "output_type": "execute_result"
    }
   ],
   "source": [
    "query = f\"\"\"\n",
    "    SELECT start_station_name, AVG(ride_time) as avg_ride\n",
    "    FROM {cleaned_table_ref}\n",
    "    WHERE member_casual = 'casual' AND rideable_type = 'electric_bike'\n",
    "    GROUP BY start_station_name\n",
    "    ORDER BY COUNT(*) DESC\n",
    "    LIMIT 30\n",
    "\"\"\"\n",
    "\n",
    "df = client.query(query).to_dataframe()\n",
    "df.describe().T"
   ]
  },
  {
   "cell_type": "markdown",
   "id": "0ac71a54",
   "metadata": {},
   "source": [
    "For electric bike IQR and standart deviation are even higher - 11 and 7 minutes respectively. That is also a large deviation. "
   ]
  },
  {
   "cell_type": "markdown",
   "id": "965ab837",
   "metadata": {},
   "source": [
    "We can conclude that ride time does not significantly depend on the start station for members, while for casual users, it has a greater impact."
   ]
  },
  {
   "cell_type": "markdown",
   "id": "b7a17927",
   "metadata": {},
   "source": [
    "## Hypothesis Testing"
   ]
  },
  {
   "cell_type": "markdown",
   "id": "a11d98ec",
   "metadata": {},
   "source": [
    "Conduct two-way ANOVA test to determine if there are any statistically significant differences in average time by membership and bike type, and whether there is an interaction effect between membership and bike type on ride time. 95% confidence."
   ]
  },
  {
   "cell_type": "code",
   "execution_count": null,
   "id": "66df9545",
   "metadata": {},
   "outputs": [],
   "source": [
    "query = f\"\"\"\n",
    "    WITH ranked AS (\n",
    "        SELECT *, ROW_NUMBER() OVER (PARTITION BY member_casual, rideable_type ORDER BY ride_id) AS rn\n",
    "        FROM {cleaned_table_ref}\n",
    "    )\n",
    "\n",
    "    SELECT * \n",
    "    FROM ranked\n",
    "    WHERE rn <= 5000\n",
    "\"\"\"\n",
    "\n",
    "df = client.query(query).to_dataframe()"
   ]
  },
  {
   "cell_type": "code",
   "execution_count": 20,
   "id": "688228d8",
   "metadata": {},
   "outputs": [
    {
     "data": {
      "text/html": [
       "<div>\n",
       "<style scoped>\n",
       "    .dataframe tbody tr th:only-of-type {\n",
       "        vertical-align: middle;\n",
       "    }\n",
       "\n",
       "    .dataframe tbody tr th {\n",
       "        vertical-align: top;\n",
       "    }\n",
       "\n",
       "    .dataframe thead th {\n",
       "        text-align: right;\n",
       "    }\n",
       "</style>\n",
       "<table border=\"1\" class=\"dataframe\">\n",
       "  <thead>\n",
       "    <tr style=\"text-align: right;\">\n",
       "      <th></th>\n",
       "      <th>df</th>\n",
       "      <th>sum_sq</th>\n",
       "      <th>mean_sq</th>\n",
       "      <th>F</th>\n",
       "      <th>PR(&gt;F)</th>\n",
       "    </tr>\n",
       "  </thead>\n",
       "  <tbody>\n",
       "    <tr>\n",
       "      <th>C(member_casual)</th>\n",
       "      <td>1.0</td>\n",
       "      <td>2.686958e+05</td>\n",
       "      <td>268695.812450</td>\n",
       "      <td>1576.953712</td>\n",
       "      <td>0.000000e+00</td>\n",
       "    </tr>\n",
       "    <tr>\n",
       "      <th>C(rideable_type)</th>\n",
       "      <td>1.0</td>\n",
       "      <td>7.029422e+03</td>\n",
       "      <td>7029.422450</td>\n",
       "      <td>41.255105</td>\n",
       "      <td>1.366112e-10</td>\n",
       "    </tr>\n",
       "    <tr>\n",
       "      <th>C(member_casual):C(rideable_type)</th>\n",
       "      <td>1.0</td>\n",
       "      <td>1.217268e+04</td>\n",
       "      <td>12172.680450</td>\n",
       "      <td>71.440464</td>\n",
       "      <td>3.050733e-17</td>\n",
       "    </tr>\n",
       "    <tr>\n",
       "      <th>Residual</th>\n",
       "      <td>19996.0</td>\n",
       "      <td>3.407102e+06</td>\n",
       "      <td>170.389156</td>\n",
       "      <td>NaN</td>\n",
       "      <td>NaN</td>\n",
       "    </tr>\n",
       "  </tbody>\n",
       "</table>\n",
       "</div>"
      ],
      "text/plain": [
       "                                        df        sum_sq        mean_sq  \\\n",
       "C(member_casual)                       1.0  2.686958e+05  268695.812450   \n",
       "C(rideable_type)                       1.0  7.029422e+03    7029.422450   \n",
       "C(member_casual):C(rideable_type)      1.0  1.217268e+04   12172.680450   \n",
       "Residual                           19996.0  3.407102e+06     170.389156   \n",
       "\n",
       "                                             F        PR(>F)  \n",
       "C(member_casual)                   1576.953712  0.000000e+00  \n",
       "C(rideable_type)                     41.255105  1.366112e-10  \n",
       "C(member_casual):C(rideable_type)    71.440464  3.050733e-17  \n",
       "Residual                                   NaN           NaN  "
      ]
     },
     "execution_count": 20,
     "metadata": {},
     "output_type": "execute_result"
    }
   ],
   "source": [
    "formula = 'ride_time ~ C(member_casual) + C(rideable_type) + C(member_casual):C(rideable_type)'\n",
    "model = ols(formula, df).fit()\n",
    "results = sm.stats.anova_lm(model, type=2)\n",
    "results"
   ]
  },
  {
   "cell_type": "markdown",
   "id": "ad401f7c",
   "metadata": {},
   "source": [
    "The p-values for the factors in the output show that all factors significantly affect ride time (p < 0.05)."
   ]
  },
  {
   "cell_type": "code",
   "execution_count": null,
   "id": "44e66a69",
   "metadata": {},
   "outputs": [],
   "source": [
    "query = f\"\"\"\n",
    "    WITH ranked AS (\n",
    "        SELECT *, ROW_NUMBER() OVER (PARTITION BY day_of_week ORDER BY ride_id) AS rn\n",
    "        FROM {cleaned_table_ref}\n",
    "    )\n",
    "\n",
    "    SELECT * \n",
    "    FROM ranked\n",
    "    WHERE rn <= 15000\n",
    "\"\"\"\n",
    "\n",
    "df = client.query(query).to_dataframe()"
   ]
  },
  {
   "cell_type": "markdown",
   "id": "3f1517c5",
   "metadata": {},
   "source": [
    "Next, test significance of observed differences in ride time based on day of the week using one-way ANOVA. 95% confidence."
   ]
  },
  {
   "cell_type": "code",
   "execution_count": null,
   "id": "9bd43877",
   "metadata": {},
   "outputs": [
    {
     "name": "stdout",
     "output_type": "stream",
     "text": [
      "Member users: F = 100.66783836554634 , p = 7.486481436879072e-127\n"
     ]
    }
   ],
   "source": [
    "day_groups = [group['ride_time'].values for _, group in df.groupby('day_of_week')]\n",
    "\n",
    "f_stat, p_val = f_oneway(*day_groups)\n",
    "\n",
    "print(\"F =\", f_stat, \", p =\", p_val)"
   ]
  },
  {
   "cell_type": "markdown",
   "id": "9fbd802a",
   "metadata": {},
   "source": [
    "The p-value is much smaller than 0.05, indicating that the day of the week has a statistically significant effect on ride time."
   ]
  },
  {
   "cell_type": "markdown",
   "id": "14ccb55d",
   "metadata": {},
   "source": [
    "Test differences in ride time based on hour. 95% confidence."
   ]
  },
  {
   "cell_type": "code",
   "execution_count": null,
   "id": "46705986",
   "metadata": {},
   "outputs": [],
   "source": [
    "query = f\"\"\"\n",
    "    WITH ranked AS (\n",
    "        SELECT *, \n",
    "            ROW_NUMBER() OVER (PARTITION BY EXTRACT(HOUR FROM started_at) ORDER BY RAND()) as rn,\n",
    "            EXTRACT(HOUR FROM started_at) AS hour\n",
    "        FROM {cleaned_table_ref}\n",
    "    )\n",
    "\n",
    "    SELECT *\n",
    "    FROM ranked\n",
    "    WHERE rn <= 500\n",
    "\"\"\"\n",
    "\n",
    "df = client.query(query).to_dataframe()"
   ]
  },
  {
   "cell_type": "code",
   "execution_count": null,
   "id": "92e19bc9",
   "metadata": {},
   "outputs": [
    {
     "name": "stdout",
     "output_type": "stream",
     "text": [
      "F = 4.695992477183007 , p = 6.629793025812667e-13\n"
     ]
    }
   ],
   "source": [
    "hour_groups = [group['ride_time'].values for _, group in df.groupby('hour')]\n",
    "\n",
    "f_stat, p_val = f_oneway(*hour_groups)\n",
    "\n",
    "print(\"F =\", f_stat, \", p =\", p_val)"
   ]
  },
  {
   "cell_type": "markdown",
   "id": "8ba7663d",
   "metadata": {},
   "source": [
    "Again, p-value is much smaller than 0.05. That means hour has a statistically significant effect."
   ]
  },
  {
   "cell_type": "markdown",
   "id": "19367850",
   "metadata": {},
   "source": [
    "Lastly, test top 30 stations by populatity. One-way ANOVA, 95% confidence."
   ]
  },
  {
   "cell_type": "code",
   "execution_count": null,
   "id": "d3034019",
   "metadata": {},
   "outputs": [],
   "source": [
    "query = f\"\"\"\n",
    "    WITH top_30_stations AS (\n",
    "        SELECT start_station_name\n",
    "        FROM {cleaned_table_ref}\n",
    "        GROUP BY start_station_name\n",
    "        ORDER BY COUNT(*) DESC\n",
    "        LIMIT 30\n",
    "    ),\n",
    "\n",
    "    ranked AS (\n",
    "        SELECT *,\n",
    "            ROW_NUMBER() OVER (PARTITION BY c.start_station_name ORDER BY RAND()) as rn\n",
    "        FROM {cleaned_table_ref} c\n",
    "        WHERE c.start_station_name IN (SELECT start_station_name FROM top_30_stations)\n",
    "    )\n",
    "\n",
    "    SELECT * \n",
    "    FROM ranked\n",
    "    WHERE rn <= 500\n",
    "\"\"\"\n",
    "\n",
    "df = client.query(query).to_dataframe()"
   ]
  },
  {
   "cell_type": "code",
   "execution_count": null,
   "id": "b0aa48cd",
   "metadata": {},
   "outputs": [
    {
     "name": "stdout",
     "output_type": "stream",
     "text": [
      "F = 59.43272973021563 , p = 0.0\n"
     ]
    }
   ],
   "source": [
    "station_groups = [group['ride_time'].values for _, group in df.groupby('start_station_name')]\n",
    "\n",
    "f_stat, p_val = f_oneway(*station_groups)\n",
    "\n",
    "print(\"F =\", f_stat, \", p =\", p_val)"
   ]
  },
  {
   "cell_type": "markdown",
   "id": "76d867cd",
   "metadata": {},
   "source": [
    "Statistically significant effect."
   ]
  },
  {
   "cell_type": "markdown",
   "id": "a751f73d",
   "metadata": {},
   "source": [
    "## Ride Time Prediction"
   ]
  },
  {
   "cell_type": "markdown",
   "id": "60f489a4",
   "metadata": {},
   "source": [
    "Last step is to predict ride time based on inital data. As data does not have linear relationships, a machine learning algorithm - Random Forest - will be used."
   ]
  },
  {
   "cell_type": "code",
   "execution_count": null,
   "id": "c11d6bc1",
   "metadata": {},
   "outputs": [],
   "source": [
    "query = f\"\"\"\n",
    "    SELECT \n",
    "        ride_time,\n",
    "        start_station_name,\n",
    "        EXTRACT(HOUR FROM started_at) as start_hour,\n",
    "        day_of_week,\n",
    "        member_casual,\n",
    "        rideable_type,\n",
    "    FROM {cleaned_table_ref}\n",
    "    LIMIT 1000000\n",
    "\"\"\"\n",
    "\n",
    "df = client.query(query).to_dataframe()"
   ]
  },
  {
   "cell_type": "code",
   "execution_count": 22,
   "id": "095de092",
   "metadata": {},
   "outputs": [
    {
     "name": "stdout",
     "output_type": "stream",
     "text": [
      "MSE: 154.14\n",
      "R² Score: 0.03\n"
     ]
    }
   ],
   "source": [
    "x = df.drop(columns=['ride_time'])\n",
    "y = df['ride_time']\n",
    "\n",
    "label_encoder = LabelEncoder()\n",
    "X_categorical = x.select_dtypes(include=['object']).apply(label_encoder.fit_transform)\n",
    "X_numerical = x.select_dtypes(exclude=['object'])\n",
    "\n",
    "X = pd.concat([pd.DataFrame(X_numerical), X_categorical], axis=1)\n",
    "\n",
    "X_train, X_test, y_train, y_test = train_test_split(X, y, test_size=0.2, random_state=42)\n",
    "\n",
    "rf = RandomForestRegressor(n_estimators=100, n_jobs=-1, random_state=42)\n",
    "rf.fit(X_train, y_train)\n",
    "\n",
    "y_pred = rf.predict(X_test)\n",
    "\n",
    "print(f\"MSE: {mean_squared_error(y_test, y_pred):.2f}\")\n",
    "print(f\"R² Score: {r2_score(y_test, y_pred):.2f}\")"
   ]
  },
  {
   "cell_type": "markdown",
   "id": "8cf695c8",
   "metadata": {},
   "source": [
    "RMSE (√MSE) = ~12.41 minutes, which is almost equal to the average ride time (12.5 minutes). Model is not doing much better than simply predicting the mean ride time for every case. \n",
    "\n",
    "R² Score is 0.03. Model explains only 3% of variability."
   ]
  },
  {
   "cell_type": "markdown",
   "id": "e56f5e85",
   "metadata": {},
   "source": [
    "Initial data that provided by Citi Bike is insufficient to predict ride time. Model needs larger set of features to improve accuracy."
   ]
  },
  {
   "cell_type": "markdown",
   "id": "11174807",
   "metadata": {},
   "source": [
    "Weather data can give some of them."
   ]
  },
  {
   "cell_type": "code",
   "execution_count": 48,
   "id": "38df3f19",
   "metadata": {},
   "outputs": [
    {
     "data": {
      "text/plain": [
       "LoadJob<project=nyc-transportation-462009, location=EU, id=ad0b6b33-fc99-4a1b-aca6-8619a70feb8c>"
      ]
     },
     "execution_count": 48,
     "metadata": {},
     "output_type": "execute_result"
    }
   ],
   "source": [
    "job_config = bigquery.LoadJobConfig(\n",
    "    source_format=bigquery.SourceFormat.CSV,\n",
    "    skip_leading_rows=1,\n",
    "    autodetect=True,\n",
    "    write_disposition=bigquery.WriteDisposition.WRITE_TRUNCATE\n",
    ")\n",
    "\n",
    "with open('./weather_nyc.csv', 'rb') as weather_file:\n",
    "    load_job = client.load_table_from_file(\n",
    "        weather_file,\n",
    "        weather_table_ref,\n",
    "        job_config=job_config\n",
    "    )\n",
    "    \n",
    "load_job.result()"
   ]
  },
  {
   "cell_type": "code",
   "execution_count": 4,
   "id": "b68abb46",
   "metadata": {},
   "outputs": [
    {
     "name": "stderr",
     "output_type": "stream",
     "text": [
      "/home/olshe/pers/eu-climate-economic-resilience/.venv/lib/python3.12/site-packages/google/cloud/bigquery/table.py:1957: UserWarning: BigQuery Storage module not found, fetch data with the REST endpoint instead.\n",
      "  warnings.warn(\n"
     ]
    },
    {
     "data": {
      "text/html": [
       "<div>\n",
       "<style scoped>\n",
       "    .dataframe tbody tr th:only-of-type {\n",
       "        vertical-align: middle;\n",
       "    }\n",
       "\n",
       "    .dataframe tbody tr th {\n",
       "        vertical-align: top;\n",
       "    }\n",
       "\n",
       "    .dataframe thead th {\n",
       "        text-align: right;\n",
       "    }\n",
       "</style>\n",
       "<table border=\"1\" class=\"dataframe\">\n",
       "  <thead>\n",
       "    <tr style=\"text-align: right;\">\n",
       "      <th></th>\n",
       "      <th>dt</th>\n",
       "      <th>dt_iso</th>\n",
       "      <th>timezone</th>\n",
       "      <th>city_name</th>\n",
       "      <th>lat</th>\n",
       "      <th>lon</th>\n",
       "      <th>temp</th>\n",
       "      <th>visibility</th>\n",
       "      <th>dew_point</th>\n",
       "      <th>feels_like</th>\n",
       "      <th>...</th>\n",
       "      <th>wind_gust</th>\n",
       "      <th>rain_1h</th>\n",
       "      <th>rain_3h</th>\n",
       "      <th>snow_1h</th>\n",
       "      <th>snow_3h</th>\n",
       "      <th>clouds_all</th>\n",
       "      <th>weather_id</th>\n",
       "      <th>weather_main</th>\n",
       "      <th>weather_description</th>\n",
       "      <th>weather_icon</th>\n",
       "    </tr>\n",
       "  </thead>\n",
       "  <tbody>\n",
       "    <tr>\n",
       "      <th>0</th>\n",
       "      <td>1704067200</td>\n",
       "      <td>2024-01-01 00:00:00 +0000 UTC</td>\n",
       "      <td>-18000</td>\n",
       "      <td>New York</td>\n",
       "      <td>40.712775</td>\n",
       "      <td>-74.005973</td>\n",
       "      <td>5.61</td>\n",
       "      <td>10000</td>\n",
       "      <td>-2.18</td>\n",
       "      <td>2.29</td>\n",
       "      <td>...</td>\n",
       "      <td>0.0</td>\n",
       "      <td>NaN</td>\n",
       "      <td>NaN</td>\n",
       "      <td>NaN</td>\n",
       "      <td>NaN</td>\n",
       "      <td>100</td>\n",
       "      <td>804</td>\n",
       "      <td>Clouds</td>\n",
       "      <td>overcast clouds</td>\n",
       "      <td>04n</td>\n",
       "    </tr>\n",
       "    <tr>\n",
       "      <th>1</th>\n",
       "      <td>1704070800</td>\n",
       "      <td>2024-01-01 01:00:00 +0000 UTC</td>\n",
       "      <td>-18000</td>\n",
       "      <td>New York</td>\n",
       "      <td>40.712775</td>\n",
       "      <td>-74.005973</td>\n",
       "      <td>5.70</td>\n",
       "      <td>10000</td>\n",
       "      <td>-1.90</td>\n",
       "      <td>2.95</td>\n",
       "      <td>...</td>\n",
       "      <td>0.0</td>\n",
       "      <td>NaN</td>\n",
       "      <td>NaN</td>\n",
       "      <td>NaN</td>\n",
       "      <td>NaN</td>\n",
       "      <td>100</td>\n",
       "      <td>804</td>\n",
       "      <td>Clouds</td>\n",
       "      <td>overcast clouds</td>\n",
       "      <td>04n</td>\n",
       "    </tr>\n",
       "    <tr>\n",
       "      <th>2</th>\n",
       "      <td>1704074400</td>\n",
       "      <td>2024-01-01 02:00:00 +0000 UTC</td>\n",
       "      <td>-18000</td>\n",
       "      <td>New York</td>\n",
       "      <td>40.712775</td>\n",
       "      <td>-74.005973</td>\n",
       "      <td>5.54</td>\n",
       "      <td>10000</td>\n",
       "      <td>-1.41</td>\n",
       "      <td>2.20</td>\n",
       "      <td>...</td>\n",
       "      <td>0.0</td>\n",
       "      <td>NaN</td>\n",
       "      <td>NaN</td>\n",
       "      <td>NaN</td>\n",
       "      <td>NaN</td>\n",
       "      <td>100</td>\n",
       "      <td>804</td>\n",
       "      <td>Clouds</td>\n",
       "      <td>overcast clouds</td>\n",
       "      <td>04n</td>\n",
       "    </tr>\n",
       "    <tr>\n",
       "      <th>3</th>\n",
       "      <td>1704078000</td>\n",
       "      <td>2024-01-01 03:00:00 +0000 UTC</td>\n",
       "      <td>-18000</td>\n",
       "      <td>New York</td>\n",
       "      <td>40.712775</td>\n",
       "      <td>-74.005973</td>\n",
       "      <td>5.71</td>\n",
       "      <td>10000</td>\n",
       "      <td>-1.07</td>\n",
       "      <td>2.96</td>\n",
       "      <td>...</td>\n",
       "      <td>0.0</td>\n",
       "      <td>NaN</td>\n",
       "      <td>NaN</td>\n",
       "      <td>NaN</td>\n",
       "      <td>NaN</td>\n",
       "      <td>100</td>\n",
       "      <td>804</td>\n",
       "      <td>Clouds</td>\n",
       "      <td>overcast clouds</td>\n",
       "      <td>04n</td>\n",
       "    </tr>\n",
       "    <tr>\n",
       "      <th>4</th>\n",
       "      <td>1704081600</td>\n",
       "      <td>2024-01-01 04:00:00 +0000 UTC</td>\n",
       "      <td>-18000</td>\n",
       "      <td>New York</td>\n",
       "      <td>40.712775</td>\n",
       "      <td>-74.005973</td>\n",
       "      <td>5.65</td>\n",
       "      <td>10000</td>\n",
       "      <td>-0.93</td>\n",
       "      <td>2.89</td>\n",
       "      <td>...</td>\n",
       "      <td>0.0</td>\n",
       "      <td>NaN</td>\n",
       "      <td>NaN</td>\n",
       "      <td>NaN</td>\n",
       "      <td>NaN</td>\n",
       "      <td>100</td>\n",
       "      <td>804</td>\n",
       "      <td>Clouds</td>\n",
       "      <td>overcast clouds</td>\n",
       "      <td>04n</td>\n",
       "    </tr>\n",
       "  </tbody>\n",
       "</table>\n",
       "<p>5 rows × 28 columns</p>\n",
       "</div>"
      ],
      "text/plain": [
       "           dt                         dt_iso  timezone city_name        lat  \\\n",
       "0  1704067200  2024-01-01 00:00:00 +0000 UTC    -18000  New York  40.712775   \n",
       "1  1704070800  2024-01-01 01:00:00 +0000 UTC    -18000  New York  40.712775   \n",
       "2  1704074400  2024-01-01 02:00:00 +0000 UTC    -18000  New York  40.712775   \n",
       "3  1704078000  2024-01-01 03:00:00 +0000 UTC    -18000  New York  40.712775   \n",
       "4  1704081600  2024-01-01 04:00:00 +0000 UTC    -18000  New York  40.712775   \n",
       "\n",
       "         lon  temp  visibility  dew_point  feels_like  ...  wind_gust  \\\n",
       "0 -74.005973  5.61       10000      -2.18        2.29  ...        0.0   \n",
       "1 -74.005973  5.70       10000      -1.90        2.95  ...        0.0   \n",
       "2 -74.005973  5.54       10000      -1.41        2.20  ...        0.0   \n",
       "3 -74.005973  5.71       10000      -1.07        2.96  ...        0.0   \n",
       "4 -74.005973  5.65       10000      -0.93        2.89  ...        0.0   \n",
       "\n",
       "   rain_1h  rain_3h snow_1h snow_3h  clouds_all  weather_id  weather_main  \\\n",
       "0      NaN      NaN     NaN     NaN         100         804        Clouds   \n",
       "1      NaN      NaN     NaN     NaN         100         804        Clouds   \n",
       "2      NaN      NaN     NaN     NaN         100         804        Clouds   \n",
       "3      NaN      NaN     NaN     NaN         100         804        Clouds   \n",
       "4      NaN      NaN     NaN     NaN         100         804        Clouds   \n",
       "\n",
       "   weather_description  weather_icon  \n",
       "0      overcast clouds           04n  \n",
       "1      overcast clouds           04n  \n",
       "2      overcast clouds           04n  \n",
       "3      overcast clouds           04n  \n",
       "4      overcast clouds           04n  \n",
       "\n",
       "[5 rows x 28 columns]"
      ]
     },
     "execution_count": 4,
     "metadata": {},
     "output_type": "execute_result"
    }
   ],
   "source": [
    "query = f\"\"\"\n",
    "    SELECT * FROM {weather_table_ref}\n",
    "    LIMIT 5\n",
    "\"\"\"\n",
    "\n",
    "df = client.query(query).to_dataframe()\n",
    "df"
   ]
  },
  {
   "cell_type": "code",
   "execution_count": 6,
   "id": "d7445425",
   "metadata": {},
   "outputs": [
    {
     "data": {
      "text/plain": [
       "Index(['dt', 'dt_iso', 'timezone', 'city_name', 'lat', 'lon', 'temp',\n",
       "       'visibility', 'dew_point', 'feels_like', 'temp_min', 'temp_max',\n",
       "       'pressure', 'sea_level', 'grnd_level', 'humidity', 'wind_speed',\n",
       "       'wind_deg', 'wind_gust', 'rain_1h', 'rain_3h', 'snow_1h', 'snow_3h',\n",
       "       'clouds_all', 'weather_id', 'weather_main', 'weather_description',\n",
       "       'weather_icon'],\n",
       "      dtype='object')"
      ]
     },
     "execution_count": 6,
     "metadata": {},
     "output_type": "execute_result"
    }
   ],
   "source": [
    "df.columns"
   ]
  },
  {
   "cell_type": "markdown",
   "id": "34a3575f",
   "metadata": {},
   "source": [
    "*temp*, *visibility*, *humidity*, *wind_speed*, *rain_1h*, *snow_1h*, *weather_main* can potentially be important features."
   ]
  },
  {
   "cell_type": "code",
   "execution_count": 14,
   "id": "1126e517",
   "metadata": {},
   "outputs": [
    {
     "data": {
      "text/plain": [
       "<google.cloud.bigquery.table._EmptyRowIterator at 0x746bfc234260>"
      ]
     },
     "execution_count": 14,
     "metadata": {},
     "output_type": "execute_result"
    }
   ],
   "source": [
    "query = f\"\"\"\n",
    "    CREATE OR REPLACE VIEW {cleaned_weather_table_ref} AS\n",
    "        SELECT\n",
    "        *,\n",
    "        TIMESTAMP(REPLACE(dt_iso, ' +0000 UTC', '')) AS dt_iso_ts\n",
    "        FROM {weather_table_ref}\n",
    "\"\"\"\n",
    "\n",
    "job = client.query(query)\n",
    "job.result()"
   ]
  },
  {
   "cell_type": "markdown",
   "id": "2d632764",
   "metadata": {},
   "source": [
    "List average time by weather types."
   ]
  },
  {
   "cell_type": "code",
   "execution_count": 41,
   "id": "d62185f3",
   "metadata": {},
   "outputs": [
    {
     "data": {
      "text/html": [
       "<div>\n",
       "<style scoped>\n",
       "    .dataframe tbody tr th:only-of-type {\n",
       "        vertical-align: middle;\n",
       "    }\n",
       "\n",
       "    .dataframe tbody tr th {\n",
       "        vertical-align: top;\n",
       "    }\n",
       "\n",
       "    .dataframe thead th {\n",
       "        text-align: right;\n",
       "    }\n",
       "</style>\n",
       "<table border=\"1\" class=\"dataframe\">\n",
       "  <thead>\n",
       "    <tr style=\"text-align: right;\">\n",
       "      <th></th>\n",
       "      <th>avg_time</th>\n",
       "    </tr>\n",
       "  </thead>\n",
       "  <tbody>\n",
       "    <tr>\n",
       "      <th>count</th>\n",
       "      <td>9.000000</td>\n",
       "    </tr>\n",
       "    <tr>\n",
       "      <th>mean</th>\n",
       "      <td>10.896673</td>\n",
       "    </tr>\n",
       "    <tr>\n",
       "      <th>std</th>\n",
       "      <td>1.088047</td>\n",
       "    </tr>\n",
       "    <tr>\n",
       "      <th>min</th>\n",
       "      <td>9.257573</td>\n",
       "    </tr>\n",
       "    <tr>\n",
       "      <th>25%</th>\n",
       "      <td>10.095436</td>\n",
       "    </tr>\n",
       "    <tr>\n",
       "      <th>50%</th>\n",
       "      <td>11.010293</td>\n",
       "    </tr>\n",
       "    <tr>\n",
       "      <th>75%</th>\n",
       "      <td>12.037056</td>\n",
       "    </tr>\n",
       "    <tr>\n",
       "      <th>max</th>\n",
       "      <td>12.166578</td>\n",
       "    </tr>\n",
       "  </tbody>\n",
       "</table>\n",
       "</div>"
      ],
      "text/plain": [
       "        avg_time\n",
       "count   9.000000\n",
       "mean   10.896673\n",
       "std     1.088047\n",
       "min     9.257573\n",
       "25%    10.095436\n",
       "50%    11.010293\n",
       "75%    12.037056\n",
       "max    12.166578"
      ]
     },
     "execution_count": 41,
     "metadata": {},
     "output_type": "execute_result"
    }
   ],
   "source": [
    "query = f\"\"\"\n",
    "    SELECT\n",
    "        weather.weather_main, AVG(trips.ride_time) AS avg_time\n",
    "    FROM\n",
    "        {cleaned_table_ref} AS trips\n",
    "    LEFT JOIN\n",
    "        {cleaned_weather_table_ref} AS weather\n",
    "    ON DATETIME_TRUNC(DATETIME(trips.started_at), HOUR) =\n",
    "        DATETIME_TRUNC(DATETIME(weather.dt_iso_ts, 'America/New_York'), HOUR)\n",
    "    WHERE weather.weather_main IS NOT NULL\n",
    "    GROUP BY weather.weather_main\n",
    "\"\"\"\n",
    "\n",
    "df = client.query(query).to_dataframe()\n",
    "df.describe()"
   ]
  },
  {
   "cell_type": "markdown",
   "id": "0963e77b",
   "metadata": {},
   "source": [
    "IQR is only 2 minutes, which shows small deviation, though it is still 20% of the mean and can be used for prediction."
   ]
  },
  {
   "cell_type": "markdown",
   "id": "e894d034",
   "metadata": {},
   "source": [
    "Count trips for all weather types."
   ]
  },
  {
   "cell_type": "code",
   "execution_count": 44,
   "id": "e89e6b19",
   "metadata": {},
   "outputs": [
    {
     "data": {
      "text/html": [
       "<div>\n",
       "<style scoped>\n",
       "    .dataframe tbody tr th:only-of-type {\n",
       "        vertical-align: middle;\n",
       "    }\n",
       "\n",
       "    .dataframe tbody tr th {\n",
       "        vertical-align: top;\n",
       "    }\n",
       "\n",
       "    .dataframe thead th {\n",
       "        text-align: right;\n",
       "    }\n",
       "</style>\n",
       "<table border=\"1\" class=\"dataframe\">\n",
       "  <thead>\n",
       "    <tr style=\"text-align: right;\">\n",
       "      <th></th>\n",
       "      <th>weather_main</th>\n",
       "      <th>cnt</th>\n",
       "    </tr>\n",
       "  </thead>\n",
       "  <tbody>\n",
       "    <tr>\n",
       "      <th>0</th>\n",
       "      <td>Clouds</td>\n",
       "      <td>19361079</td>\n",
       "    </tr>\n",
       "    <tr>\n",
       "      <th>1</th>\n",
       "      <td>Mist</td>\n",
       "      <td>2357861</td>\n",
       "    </tr>\n",
       "    <tr>\n",
       "      <th>2</th>\n",
       "      <td>Drizzle</td>\n",
       "      <td>59087</td>\n",
       "    </tr>\n",
       "    <tr>\n",
       "      <th>3</th>\n",
       "      <td>Rain</td>\n",
       "      <td>6995654</td>\n",
       "    </tr>\n",
       "    <tr>\n",
       "      <th>4</th>\n",
       "      <td>Thunderstorm</td>\n",
       "      <td>42260</td>\n",
       "    </tr>\n",
       "    <tr>\n",
       "      <th>5</th>\n",
       "      <td>Fog</td>\n",
       "      <td>10654</td>\n",
       "    </tr>\n",
       "    <tr>\n",
       "      <th>6</th>\n",
       "      <td>Clear</td>\n",
       "      <td>29412601</td>\n",
       "    </tr>\n",
       "    <tr>\n",
       "      <th>7</th>\n",
       "      <td>Haze</td>\n",
       "      <td>541184</td>\n",
       "    </tr>\n",
       "    <tr>\n",
       "      <th>8</th>\n",
       "      <td>Snow</td>\n",
       "      <td>208609</td>\n",
       "    </tr>\n",
       "  </tbody>\n",
       "</table>\n",
       "</div>"
      ],
      "text/plain": [
       "   weather_main       cnt\n",
       "0        Clouds  19361079\n",
       "1          Mist   2357861\n",
       "2       Drizzle     59087\n",
       "3          Rain   6995654\n",
       "4  Thunderstorm     42260\n",
       "5           Fog     10654\n",
       "6         Clear  29412601\n",
       "7          Haze    541184\n",
       "8          Snow    208609"
      ]
     },
     "execution_count": 44,
     "metadata": {},
     "output_type": "execute_result"
    }
   ],
   "source": [
    "query = f\"\"\"\n",
    "    SELECT\n",
    "        weather.weather_main, COUNT(*) AS cnt\n",
    "    FROM\n",
    "        {cleaned_table_ref} AS trips\n",
    "    LEFT JOIN\n",
    "        {cleaned_weather_table_ref} AS weather\n",
    "    ON DATETIME_TRUNC(DATETIME(trips.started_at), HOUR) =\n",
    "        DATETIME_TRUNC(DATETIME(weather.dt_iso_ts, 'America/New_York'), HOUR)\n",
    "    WHERE weather.weather_main IS NOT NULL\n",
    "    GROUP BY weather.weather_main\n",
    "\"\"\"\n",
    "\n",
    "df = client.query(query).to_dataframe()\n",
    "df"
   ]
  },
  {
   "cell_type": "markdown",
   "id": "019df9a4",
   "metadata": {},
   "source": [
    "Some categories like Fog are rare, <0.1% of data. It is important to group them into broader categories before retraining model, as they can cause overfitting."
   ]
  },
  {
   "cell_type": "markdown",
   "id": "32f7b5ef",
   "metadata": {},
   "source": [
    "Condact one-way ANOVA test for weather type with 95% confidence."
   ]
  },
  {
   "cell_type": "code",
   "execution_count": null,
   "id": "8725940a",
   "metadata": {},
   "outputs": [],
   "source": [
    "query = f\"\"\"\n",
    "\n",
    "    WITH weather_type_ride AS (\n",
    "        SELECT \n",
    "            weather.weather_main,\n",
    "            trips.ride_time\n",
    "        FROM {cleaned_table_ref} AS trips\n",
    "        LEFT JOIN {cleaned_weather_table_ref} AS weather\n",
    "        ON CAST(DATETIME_TRUNC(DATETIME(trips.started_at), HOUR) AS STRING) =\n",
    "            CAST(DATETIME_TRUNC(DATETIME(TIMESTAMP(weather.dt_iso_ts), 'America/New_York'), HOUR) AS STRING)\n",
    "    ),\n",
    "\n",
    "    ranked AS (\n",
    "        SELECT *,\n",
    "            ROW_NUMBER() OVER (PARTITION BY weather_main ORDER BY RAND()) as rn,\n",
    "        FROM weather_type_ride\n",
    "    )\n",
    "\n",
    "    SELECT * \n",
    "    FROM ranked\n",
    "    WHERE rn <= 500\n",
    "\"\"\"\n",
    "\n",
    "df = client.query(query).to_dataframe()"
   ]
  },
  {
   "cell_type": "code",
   "execution_count": 64,
   "id": "083774e6",
   "metadata": {},
   "outputs": [
    {
     "name": "stdout",
     "output_type": "stream",
     "text": [
      "F = 5.697855929708082 , p = 3.1127861759242917e-07\n"
     ]
    }
   ],
   "source": [
    "weather_groups = [group['ride_time'].values for _, group in df.groupby('weather_main')]\n",
    "\n",
    "f_stat, p_val = f_oneway(*weather_groups)\n",
    "\n",
    "print(\"F =\", f_stat, \", p =\", p_val)"
   ]
  },
  {
   "cell_type": "markdown",
   "id": "16e5a32f",
   "metadata": {},
   "source": [
    "p-values is smaller than 0.05. Weather type has a statistically significant difference on ride time."
   ]
  },
  {
   "cell_type": "markdown",
   "id": "4e9b92d1",
   "metadata": {},
   "source": [
    "Next, check if *temp*, *visibility*, *humidity*, *wind_speed*, *rain_1h* and *snow_1h* have linear correlation with ride time."
   ]
  },
  {
   "cell_type": "code",
   "execution_count": 12,
   "id": "a9139296",
   "metadata": {},
   "outputs": [],
   "source": [
    "def check_correlation(param):\n",
    "    query = f\"\"\"\n",
    "        SELECT\n",
    "            trips.ride_time,\n",
    "            weather.{param}\n",
    "        FROM\n",
    "            {cleaned_table_ref} AS trips\n",
    "        LEFT JOIN\n",
    "            {cleaned_weather_table_ref} AS weather\n",
    "        ON DATETIME_TRUNC(DATETIME(trips.started_at), HOUR) =\n",
    "            DATETIME_TRUNC(DATETIME(weather.dt_iso_ts, 'America/New_York'), HOUR)\n",
    "        WHERE \n",
    "            trips.ride_time IS NOT NULL\n",
    "            AND weather.{param} IS NOT NULL\n",
    "        LIMIT 1000000\n",
    "    \"\"\"\n",
    "\n",
    "    df = client.query(query).to_dataframe()\n",
    "    return df.corr()['ride_time']"
   ]
  },
  {
   "cell_type": "markdown",
   "id": "c9e0e02b",
   "metadata": {},
   "source": [
    "Temperature"
   ]
  },
  {
   "cell_type": "code",
   "execution_count": 13,
   "id": "26c4883d",
   "metadata": {},
   "outputs": [
    {
     "data": {
      "text/plain": [
       "ride_time    1.000000\n",
       "temp         0.241459\n",
       "Name: ride_time, dtype: float64"
      ]
     },
     "execution_count": 13,
     "metadata": {},
     "output_type": "execute_result"
    }
   ],
   "source": [
    "df = check_correlation('temp')\n",
    "df"
   ]
  },
  {
   "cell_type": "markdown",
   "id": "4054b07f",
   "metadata": {},
   "source": [
    "Though 0.24 is a relatively small positive correlation, *temp* can be used as additional feature for model."
   ]
  },
  {
   "cell_type": "markdown",
   "id": "7a66ff58",
   "metadata": {},
   "source": [
    "Check for *visibility*"
   ]
  },
  {
   "cell_type": "code",
   "execution_count": 14,
   "id": "b5b682ff",
   "metadata": {},
   "outputs": [
    {
     "data": {
      "text/plain": [
       "ride_time     1.000000\n",
       "visibility    0.035441\n",
       "Name: ride_time, dtype: float64"
      ]
     },
     "execution_count": 14,
     "metadata": {},
     "output_type": "execute_result"
    }
   ],
   "source": [
    "df = check_correlation('visibility')\n",
    "df"
   ]
  },
  {
   "cell_type": "markdown",
   "id": "622e5166",
   "metadata": {},
   "source": [
    "No correlation."
   ]
  },
  {
   "cell_type": "markdown",
   "id": "387d169c",
   "metadata": {},
   "source": [
    "Now *humidity*."
   ]
  },
  {
   "cell_type": "code",
   "execution_count": 15,
   "id": "dba02d43",
   "metadata": {},
   "outputs": [
    {
     "data": {
      "text/plain": [
       "ride_time    1.000000\n",
       "humidity    -0.080936\n",
       "Name: ride_time, dtype: float64"
      ]
     },
     "execution_count": 15,
     "metadata": {},
     "output_type": "execute_result"
    }
   ],
   "source": [
    "df = check_correlation('humidity')\n",
    "df"
   ]
  },
  {
   "cell_type": "markdown",
   "id": "dcf92ef3",
   "metadata": {},
   "source": [
    "No correlation."
   ]
  },
  {
   "cell_type": "markdown",
   "id": "44977e1d",
   "metadata": {},
   "source": [
    "Wind speed."
   ]
  },
  {
   "cell_type": "code",
   "execution_count": 16,
   "id": "238a33c3",
   "metadata": {},
   "outputs": [
    {
     "data": {
      "text/plain": [
       "ride_time     1.000000\n",
       "wind_speed    0.035381\n",
       "Name: ride_time, dtype: float64"
      ]
     },
     "execution_count": 16,
     "metadata": {},
     "output_type": "execute_result"
    }
   ],
   "source": [
    "df = check_correlation('wind_speed')\n",
    "df"
   ]
  },
  {
   "cell_type": "markdown",
   "id": "4656ffda",
   "metadata": {},
   "source": [
    "No correlation."
   ]
  },
  {
   "cell_type": "markdown",
   "id": "b792ec4a",
   "metadata": {},
   "source": [
    "Check correlation with *rain_1h*, rain volume for the last hour."
   ]
  },
  {
   "cell_type": "code",
   "execution_count": 17,
   "id": "7fd0e9d6",
   "metadata": {},
   "outputs": [
    {
     "data": {
      "text/plain": [
       "ride_time    1.000000\n",
       "rain_1h      0.007422\n",
       "Name: ride_time, dtype: float64"
      ]
     },
     "execution_count": 17,
     "metadata": {},
     "output_type": "execute_result"
    }
   ],
   "source": [
    "df = check_correlation('rain_1h')\n",
    "df"
   ]
  },
  {
   "cell_type": "markdown",
   "id": "cffe3a6c",
   "metadata": {},
   "source": [
    "No correlation."
   ]
  },
  {
   "cell_type": "markdown",
   "id": "ef00675b",
   "metadata": {},
   "source": [
    "Same for *snow_1h*, snow volume for the last hour."
   ]
  },
  {
   "cell_type": "code",
   "execution_count": 18,
   "id": "7958e496",
   "metadata": {},
   "outputs": [
    {
     "data": {
      "text/plain": [
       "ride_time    1.000000\n",
       "snow_1h      0.010707\n",
       "Name: ride_time, dtype: float64"
      ]
     },
     "execution_count": 18,
     "metadata": {},
     "output_type": "execute_result"
    }
   ],
   "source": [
    "df = check_correlation('snow_1h')\n",
    "df"
   ]
  },
  {
   "cell_type": "markdown",
   "id": "ecb5c2be",
   "metadata": {},
   "source": [
    "No correlation."
   ]
  },
  {
   "cell_type": "markdown",
   "id": "280281bb",
   "metadata": {},
   "source": [
    "Only *weather_main* and *temp* show influence on tide time."
   ]
  },
  {
   "cell_type": "code",
   "execution_count": 45,
   "id": "d3f03869",
   "metadata": {},
   "outputs": [],
   "source": [
    "query = f\"\"\"\n",
    "    SELECT\n",
    "        trips.ride_time,\n",
    "        weather.temp,\n",
    "        weather.weather_main,\n",
    "        trips.start_station_name,\n",
    "        EXTRACT(HOUR FROM trips.started_at) as start_hour,\n",
    "        trips.day_of_week,\n",
    "        trips.member_casual,\n",
    "        trips.rideable_type\n",
    "    FROM\n",
    "        {cleaned_table_ref} AS trips\n",
    "    LEFT JOIN\n",
    "        {cleaned_weather_table_ref} AS weather\n",
    "    ON DATETIME_TRUNC(DATETIME(trips.started_at), HOUR) =\n",
    "        DATETIME_TRUNC(DATETIME(weather.dt_iso_ts, 'America/New_York'), HOUR)\n",
    "    WHERE \n",
    "        trips.ride_time IS NOT NULL\n",
    "        AND weather.temp IS NOT NULL\n",
    "        AND weather.weather_main IS NOT NULL\n",
    "    LIMIT 1000000\n",
    "\"\"\"\n",
    "\n",
    "df = client.query(query).to_dataframe()"
   ]
  },
  {
   "cell_type": "markdown",
   "id": "8f6f462a",
   "metadata": {},
   "source": [
    "Group weather categories."
   ]
  },
  {
   "cell_type": "code",
   "execution_count": 46,
   "id": "252a8b7d",
   "metadata": {},
   "outputs": [],
   "source": [
    "def group_weather(type):\n",
    "    if type in ['Clear']:\n",
    "        return 'Clear'\n",
    "    elif type in ['Clouds']:\n",
    "        return 'Cloudy'\n",
    "    elif type in ['Rain', 'Drizzle', 'Thunderstorm']:\n",
    "        return 'Rainy'\n",
    "    elif type in ['Mist', 'Haze', 'Fog']:\n",
    "        return 'Foggy/Misty'\n",
    "    elif type in ['Snow']:\n",
    "        return 'Snowy'\n",
    "    else:\n",
    "        return 'Other'\n",
    "    \n",
    "df['weather_main_grouped'] = df['weather_main'].apply(group_weather)"
   ]
  },
  {
   "cell_type": "code",
   "execution_count": 47,
   "id": "0a4dee65",
   "metadata": {},
   "outputs": [
    {
     "name": "stdout",
     "output_type": "stream",
     "text": [
      "MSE: 202.53\n",
      "R² Score: 0.15\n"
     ]
    }
   ],
   "source": [
    "x = df.drop(columns=['ride_time', 'weather_main'])\n",
    "y = df['ride_time']\n",
    "\n",
    "label_encoder = LabelEncoder()\n",
    "X_categorical = x.select_dtypes(include=['object']).apply(label_encoder.fit_transform)\n",
    "X_numerical = x.select_dtypes(exclude=['object'])\n",
    "\n",
    "X = pd.concat([pd.DataFrame(X_numerical), X_categorical], axis=1)\n",
    "\n",
    "X_train, X_test, y_train, y_test = train_test_split(X, y, test_size=0.2, random_state=42)\n",
    "\n",
    "rf = RandomForestRegressor(n_estimators=100, n_jobs=-1, random_state=42)\n",
    "rf.fit(X_train, y_train)\n",
    "\n",
    "y_pred = rf.predict(X_test)\n",
    "\n",
    "print(f\"MSE: {mean_squared_error(y_test, y_pred):.2f}\")\n",
    "print(f\"R² Score: {r2_score(y_test, y_pred):.2f}\")"
   ]
  },
  {
   "cell_type": "markdown",
   "id": "fd80e6dd",
   "metadata": {},
   "source": [
    "Adding temperature and weather conditions improved the model’s ability to explain variability (R²), but increased prediction error (MSE), possibly due to overfitting."
   ]
  },
  {
   "cell_type": "markdown",
   "id": "2d16d484",
   "metadata": {},
   "source": [
    "In conclusion, data provided by Citi Bike combined with weather data are insufficient to create an accurate prediction. To improve performance, model needs additional features, such as age, gender, and occupation"
   ]
  }
 ],
 "metadata": {
  "kernelspec": {
   "display_name": ".venv",
   "language": "python",
   "name": "python3"
  },
  "language_info": {
   "codemirror_mode": {
    "name": "ipython",
    "version": 3
   },
   "file_extension": ".py",
   "mimetype": "text/x-python",
   "name": "python",
   "nbconvert_exporter": "python",
   "pygments_lexer": "ipython3",
   "version": "3.12.3"
  }
 },
 "nbformat": 4,
 "nbformat_minor": 5
}
